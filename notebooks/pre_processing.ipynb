{
 "cells": [
  {
   "source": [
    "# Pre-Procesamiento de datos: Desercion Universidad de Boyaca"
   ],
   "cell_type": "markdown",
   "metadata": {}
  },
  {
   "source": [
    "# 1. Cargando tablas e informacion general"
   ],
   "cell_type": "markdown",
   "metadata": {}
  },
  {
   "cell_type": "code",
   "execution_count": 1,
   "id": "718dbb6c",
   "metadata": {},
   "outputs": [],
   "source": [
    "# importar pandas\n",
    "import pandas as pd"
   ]
  },
  {
   "cell_type": "code",
   "execution_count": 2,
   "id": "9d7ac7b8",
   "metadata": {},
   "outputs": [],
   "source": [
    "# Cargar datos como Strings\n",
    "docentes_periodo_df = pd.read_csv('../data/raw/docentes_periodo.csv', ';')\n",
    "eval_docentes_periodo_df = pd.read_csv('../data/raw/eval_docentes_periodo.csv', ';')\n",
    "mat_cursadas_df = pd.read_csv('../data/raw/mat_cursadas_rend_academico.csv', ';')\n",
    "perfil_ingreso_df = pd.read_csv('../data/raw/perfil_ingreso.csv', ';')\n",
    "rendimiento_academico_df = pd.read_csv('../data/raw/rendimiento_academico.csv', ';')\n"
   ]
  },
  {
   "source": [
    "print(\"\\n\"+\"docentes_periodo\".center(90))\n",
    "display(docentes_periodo_df.head(3))\n",
    "print(\"\\n\"+\"eval_docentes_periodo\".center(90))\n",
    "display(eval_docentes_periodo_df.head(3))\n",
    "print(\"\\n\"+\"mat_cursadas\".center(90))\n",
    "display(mat_cursadas_df.head(3))\n",
    "print(\"\\n\"+\"perfil_ingreso_df\".center(90))\n",
    "display(perfil_ingreso_df.head(3))\n",
    "print(\"\\n\"+\"eval_docentes_periodo\".center(90))\n",
    "display(rendimiento_academico_df.head(3))"
   ],
   "cell_type": "code",
   "metadata": {
    "collapsed": true
   },
   "execution_count": 8,
   "outputs": [
    {
     "output_type": "stream",
     "name": "stdout",
     "text": [
      "\n                                     docentes_periodo                                     \n"
     ]
    },
    {
     "output_type": "display_data",
     "data": {
      "text/plain": "   PERIODO  COD_MAT  COD_DOCENTE\n0   201210    11303         1329\n1   201210    11304         3111\n2   201210    11305          622",
      "text/html": "<div>\n<style scoped>\n    .dataframe tbody tr th:only-of-type {\n        vertical-align: middle;\n    }\n\n    .dataframe tbody tr th {\n        vertical-align: top;\n    }\n\n    .dataframe thead th {\n        text-align: right;\n    }\n</style>\n<table border=\"1\" class=\"dataframe\">\n  <thead>\n    <tr style=\"text-align: right;\">\n      <th></th>\n      <th>PERIODO</th>\n      <th>COD_MAT</th>\n      <th>COD_DOCENTE</th>\n    </tr>\n  </thead>\n  <tbody>\n    <tr>\n      <th>0</th>\n      <td>201210</td>\n      <td>11303</td>\n      <td>1329</td>\n    </tr>\n    <tr>\n      <th>1</th>\n      <td>201210</td>\n      <td>11304</td>\n      <td>3111</td>\n    </tr>\n    <tr>\n      <th>2</th>\n      <td>201210</td>\n      <td>11305</td>\n      <td>622</td>\n    </tr>\n  </tbody>\n</table>\n</div>"
     },
     "metadata": {}
    },
    {
     "output_type": "stream",
     "name": "stdout",
     "text": [
      "\n                                  eval_docentes_periodo                                   \n"
     ]
    },
    {
     "output_type": "display_data",
     "data": {
      "text/plain": "   PERIODO  COD_DOCENTE  COD_MAT  COD_FACTOR  \\\n0   201210         1008    66410           1   \n1   201210         1008    66410           2   \n2   201210         1008    66410           3   \n\n                             NOM_FACTOR CALIFICACION  \n0              Asistencia y Puntualidad         4,63  \n1              Relaci�n profesor alumno         4,65  \n2  Orientaci�n del proceso de formaci�n         4,58  ",
      "text/html": "<div>\n<style scoped>\n    .dataframe tbody tr th:only-of-type {\n        vertical-align: middle;\n    }\n\n    .dataframe tbody tr th {\n        vertical-align: top;\n    }\n\n    .dataframe thead th {\n        text-align: right;\n    }\n</style>\n<table border=\"1\" class=\"dataframe\">\n  <thead>\n    <tr style=\"text-align: right;\">\n      <th></th>\n      <th>PERIODO</th>\n      <th>COD_DOCENTE</th>\n      <th>COD_MAT</th>\n      <th>COD_FACTOR</th>\n      <th>NOM_FACTOR</th>\n      <th>CALIFICACION</th>\n    </tr>\n  </thead>\n  <tbody>\n    <tr>\n      <th>0</th>\n      <td>201210</td>\n      <td>1008</td>\n      <td>66410</td>\n      <td>1</td>\n      <td>Asistencia y Puntualidad</td>\n      <td>4,63</td>\n    </tr>\n    <tr>\n      <th>1</th>\n      <td>201210</td>\n      <td>1008</td>\n      <td>66410</td>\n      <td>2</td>\n      <td>Relaci�n profesor alumno</td>\n      <td>4,65</td>\n    </tr>\n    <tr>\n      <th>2</th>\n      <td>201210</td>\n      <td>1008</td>\n      <td>66410</td>\n      <td>3</td>\n      <td>Orientaci�n del proceso de formaci�n</td>\n      <td>4,58</td>\n    </tr>\n  </tbody>\n</table>\n</div>"
     },
     "metadata": {}
    },
    {
     "output_type": "stream",
     "name": "stdout",
     "text": [
      "\n                                       mat_cursadas                                       \n"
     ]
    },
    {
     "output_type": "display_data",
     "data": {
      "text/plain": "   PERIODO_COHORTE  PERIODO_ACADEMICO    CODIGO  TOT_MAT_INSCRITAS  \\\n0           201210             201210  11312001                  8   \n1           201210             201210  11312002                  8   \n2           201210             201210  11312003                  8   \n\n   MAT_APROBADAS  \n0              7  \n1              7  \n2              7  ",
      "text/html": "<div>\n<style scoped>\n    .dataframe tbody tr th:only-of-type {\n        vertical-align: middle;\n    }\n\n    .dataframe tbody tr th {\n        vertical-align: top;\n    }\n\n    .dataframe thead th {\n        text-align: right;\n    }\n</style>\n<table border=\"1\" class=\"dataframe\">\n  <thead>\n    <tr style=\"text-align: right;\">\n      <th></th>\n      <th>PERIODO_COHORTE</th>\n      <th>PERIODO_ACADEMICO</th>\n      <th>CODIGO</th>\n      <th>TOT_MAT_INSCRITAS</th>\n      <th>MAT_APROBADAS</th>\n    </tr>\n  </thead>\n  <tbody>\n    <tr>\n      <th>0</th>\n      <td>201210</td>\n      <td>201210</td>\n      <td>11312001</td>\n      <td>8</td>\n      <td>7</td>\n    </tr>\n    <tr>\n      <th>1</th>\n      <td>201210</td>\n      <td>201210</td>\n      <td>11312002</td>\n      <td>8</td>\n      <td>7</td>\n    </tr>\n    <tr>\n      <th>2</th>\n      <td>201210</td>\n      <td>201210</td>\n      <td>11312003</td>\n      <td>8</td>\n      <td>7</td>\n    </tr>\n  </tbody>\n</table>\n</div>"
     },
     "metadata": {}
    },
    {
     "output_type": "stream",
     "name": "stdout",
     "text": [
      "\n                                    perfil_ingreso_df                                     \n"
     ]
    },
    {
     "output_type": "display_data",
     "data": {
      "text/plain": "   PERIODO_COHORTE    CODIGO GENERO  EDAD  \\\n0           201210  11312001      M  22.0   \n1           201210  11312002      M  23.0   \n2           201210  11312003      F  22.0   \n\n                                 COLEGIO_PROCEDENCIA  PUNT_TOTAL  PUNT_AREA  \\\n0                              COL COOP COOSERVICIOS         438         49   \n1  INSTITUTO DE EDUCACION MEDIA DIVERSIFICADA INE...         386         48   \n2                                I.E. ANTONIO NARI�O         460         51   \n\n  ES_DESERTOR  \n0          NO  \n1          NO  \n2          NO  ",
      "text/html": "<div>\n<style scoped>\n    .dataframe tbody tr th:only-of-type {\n        vertical-align: middle;\n    }\n\n    .dataframe tbody tr th {\n        vertical-align: top;\n    }\n\n    .dataframe thead th {\n        text-align: right;\n    }\n</style>\n<table border=\"1\" class=\"dataframe\">\n  <thead>\n    <tr style=\"text-align: right;\">\n      <th></th>\n      <th>PERIODO_COHORTE</th>\n      <th>CODIGO</th>\n      <th>GENERO</th>\n      <th>EDAD</th>\n      <th>COLEGIO_PROCEDENCIA</th>\n      <th>PUNT_TOTAL</th>\n      <th>PUNT_AREA</th>\n      <th>ES_DESERTOR</th>\n    </tr>\n  </thead>\n  <tbody>\n    <tr>\n      <th>0</th>\n      <td>201210</td>\n      <td>11312001</td>\n      <td>M</td>\n      <td>22.0</td>\n      <td>COL COOP COOSERVICIOS</td>\n      <td>438</td>\n      <td>49</td>\n      <td>NO</td>\n    </tr>\n    <tr>\n      <th>1</th>\n      <td>201210</td>\n      <td>11312002</td>\n      <td>M</td>\n      <td>23.0</td>\n      <td>INSTITUTO DE EDUCACION MEDIA DIVERSIFICADA INE...</td>\n      <td>386</td>\n      <td>48</td>\n      <td>NO</td>\n    </tr>\n    <tr>\n      <th>2</th>\n      <td>201210</td>\n      <td>11312003</td>\n      <td>F</td>\n      <td>22.0</td>\n      <td>I.E. ANTONIO NARI�O</td>\n      <td>460</td>\n      <td>51</td>\n      <td>NO</td>\n    </tr>\n  </tbody>\n</table>\n</div>"
     },
     "metadata": {}
    },
    {
     "output_type": "stream",
     "name": "stdout",
     "text": [
      "\n                                  eval_docentes_periodo                                   \n"
     ]
    },
    {
     "output_type": "display_data",
     "data": {
      "text/plain": "   PERIODO_COHORTE  PERIODO_ACADEMICO    CODIGO  COD_MAT         NOMBRE_MAT  \\\n0           201210             201210  11312001    11305  EXP. ORAL ESCRITA   \n1           201210             201210  11312001    11312  INICIATIVA EMPRES   \n2           201210             201210  11312001    11310      MICROECONOM�A   \n\n  NOTA_DEF    ESTADO  \n0     3,50  APROBADA  \n1     4,00  APROBADA  \n2     3,60  APROBADA  ",
      "text/html": "<div>\n<style scoped>\n    .dataframe tbody tr th:only-of-type {\n        vertical-align: middle;\n    }\n\n    .dataframe tbody tr th {\n        vertical-align: top;\n    }\n\n    .dataframe thead th {\n        text-align: right;\n    }\n</style>\n<table border=\"1\" class=\"dataframe\">\n  <thead>\n    <tr style=\"text-align: right;\">\n      <th></th>\n      <th>PERIODO_COHORTE</th>\n      <th>PERIODO_ACADEMICO</th>\n      <th>CODIGO</th>\n      <th>COD_MAT</th>\n      <th>NOMBRE_MAT</th>\n      <th>NOTA_DEF</th>\n      <th>ESTADO</th>\n    </tr>\n  </thead>\n  <tbody>\n    <tr>\n      <th>0</th>\n      <td>201210</td>\n      <td>201210</td>\n      <td>11312001</td>\n      <td>11305</td>\n      <td>EXP. ORAL ESCRITA</td>\n      <td>3,50</td>\n      <td>APROBADA</td>\n    </tr>\n    <tr>\n      <th>1</th>\n      <td>201210</td>\n      <td>201210</td>\n      <td>11312001</td>\n      <td>11312</td>\n      <td>INICIATIVA EMPRES</td>\n      <td>4,00</td>\n      <td>APROBADA</td>\n    </tr>\n    <tr>\n      <th>2</th>\n      <td>201210</td>\n      <td>201210</td>\n      <td>11312001</td>\n      <td>11310</td>\n      <td>MICROECONOM�A</td>\n      <td>3,60</td>\n      <td>APROBADA</td>\n    </tr>\n  </tbody>\n</table>\n</div>"
     },
     "metadata": {}
    }
   ]
  },
  {
   "source": [
    "## 2. Tabla \"docentes_periodo\""
   ],
   "cell_type": "markdown",
   "metadata": {}
  },
  {
   "source": [
    "### Tipos de datos:"
   ],
   "cell_type": "markdown",
   "metadata": {}
  },
  {
   "cell_type": "code",
   "execution_count": 26,
   "id": "115eed22",
   "metadata": {
    "collapsed": true
   },
   "outputs": [
    {
     "output_type": "stream",
     "name": "stdout",
     "text": [
      "<class 'pandas.core.frame.DataFrame'>\nRangeIndex: 32537 entries, 0 to 32536\nData columns (total 3 columns):\n #   Column       Non-Null Count  Dtype\n---  ------       --------------  -----\n 0   PERIODO      32537 non-null  int64\n 1   COD_MAT      32537 non-null  int64\n 2   COD_DOCENTE  32537 non-null  int64\ndtypes: int64(3)\nmemory usage: 762.7 KB\n"
     ]
    }
   ],
   "source": [
    "docentes_periodo_df.info()"
   ]
  },
  {
   "source": [
    "> los codigos deben ser variables categoricas no enteros, asi que debemos convertirlos a strings:\n"
   ],
   "cell_type": "markdown",
   "metadata": {}
  },
  {
   "cell_type": "code",
   "execution_count": 8,
   "metadata": {},
   "outputs": [
    {
     "output_type": "stream",
     "name": "stdout",
     "text": [
      "<class 'pandas.core.frame.DataFrame'>\nRangeIndex: 32537 entries, 0 to 32536\nData columns (total 3 columns):\n #   Column       Non-Null Count  Dtype \n---  ------       --------------  ----- \n 0   PERIODO      32537 non-null  int64 \n 1   COD_MAT      32537 non-null  object\n 2   COD_DOCENTE  32537 non-null  object\ndtypes: int64(1), object(2)\nmemory usage: 762.7+ KB\n"
     ]
    }
   ],
   "source": [
    "docentes_periodo_df['COD_MAT'] = docentes_periodo_df['COD_MAT'].astype(str)\n",
    "docentes_periodo_df['COD_DOCENTE'] = docentes_periodo_df['COD_DOCENTE'].astype(str)\n",
    "\n",
    "docentes_periodo_df.info()"
   ]
  },
  {
   "cell_type": "code",
   "execution_count": 12,
   "id": "8ecc4ce0",
   "metadata": {
    "collapsed": true
   },
   "outputs": [
    {
     "output_type": "stream",
     "name": "stdout",
     "text": [
      "\nnumero de filas = 32537\nnumero de columnas = 3\n"
     ]
    },
    {
     "output_type": "execute_result",
     "data": {
      "text/plain": [
       "              PERIODO COD_MAT COD_DOCENTE\n",
       "count    32537.000000   32537       32537\n",
       "unique            NaN    2275        2220\n",
       "top               NaN   77224        2442\n",
       "freq              NaN     264         158\n",
       "mean    201633.474567     NaN         NaN\n",
       "std        256.952354     NaN         NaN\n",
       "min     201210.000000     NaN         NaN\n",
       "25%     201420.000000     NaN         NaN\n",
       "50%     201620.000000     NaN         NaN\n",
       "75%     201820.000000     NaN         NaN\n",
       "max     202110.000000     NaN         NaN"
      ],
      "text/html": "<div>\n<style scoped>\n    .dataframe tbody tr th:only-of-type {\n        vertical-align: middle;\n    }\n\n    .dataframe tbody tr th {\n        vertical-align: top;\n    }\n\n    .dataframe thead th {\n        text-align: right;\n    }\n</style>\n<table border=\"1\" class=\"dataframe\">\n  <thead>\n    <tr style=\"text-align: right;\">\n      <th></th>\n      <th>PERIODO</th>\n      <th>COD_MAT</th>\n      <th>COD_DOCENTE</th>\n    </tr>\n  </thead>\n  <tbody>\n    <tr>\n      <th>count</th>\n      <td>32537.000000</td>\n      <td>32537</td>\n      <td>32537</td>\n    </tr>\n    <tr>\n      <th>unique</th>\n      <td>NaN</td>\n      <td>2275</td>\n      <td>2220</td>\n    </tr>\n    <tr>\n      <th>top</th>\n      <td>NaN</td>\n      <td>77224</td>\n      <td>2442</td>\n    </tr>\n    <tr>\n      <th>freq</th>\n      <td>NaN</td>\n      <td>264</td>\n      <td>158</td>\n    </tr>\n    <tr>\n      <th>mean</th>\n      <td>201633.474567</td>\n      <td>NaN</td>\n      <td>NaN</td>\n    </tr>\n    <tr>\n      <th>std</th>\n      <td>256.952354</td>\n      <td>NaN</td>\n      <td>NaN</td>\n    </tr>\n    <tr>\n      <th>min</th>\n      <td>201210.000000</td>\n      <td>NaN</td>\n      <td>NaN</td>\n    </tr>\n    <tr>\n      <th>25%</th>\n      <td>201420.000000</td>\n      <td>NaN</td>\n      <td>NaN</td>\n    </tr>\n    <tr>\n      <th>50%</th>\n      <td>201620.000000</td>\n      <td>NaN</td>\n      <td>NaN</td>\n    </tr>\n    <tr>\n      <th>75%</th>\n      <td>201820.000000</td>\n      <td>NaN</td>\n      <td>NaN</td>\n    </tr>\n    <tr>\n      <th>max</th>\n      <td>202110.000000</td>\n      <td>NaN</td>\n      <td>NaN</td>\n    </tr>\n  </tbody>\n</table>\n</div>"
     },
     "metadata": {},
     "execution_count": 12
    }
   ],
   "source": [
    "# Dimensiones del dataframe:\n",
    "print(f'\\nnumero de filas = {docentes_periodo_df.shape[0]}\\nnumero de columnas = {docentes_periodo_df.shape[1]}')\n",
    "# describcion general del dataframe:\n",
    "docentes_periodo_df.describe(include='all')"
   ]
  },
  {
   "source": [
    "### Parece que los valores de \"COD_DOCENTE\" deben ser de 4 digitos, tenemos que verificarlo"
   ],
   "cell_type": "markdown",
   "metadata": {}
  },
  {
   "cell_type": "code",
   "execution_count": 8,
   "id": "2b90ab0c",
   "metadata": {},
   "outputs": [
    {
     "output_type": "stream",
     "name": "stdout",
     "text": [
      "Numero de COD_DOCENTE con menos de 4 digitos: 3404\nNumero de COD_DOCENTE con mas de 4 digitos: 0\nNumero de COD_DOCENTE con exactamente 4 digitos: 29133\n"
     ]
    }
   ],
   "source": [
    "print(f'Numero de COD_DOCENTE con menos de 4 digitos: {len(df.COD_DOCENTE[df.COD_DOCENTE.apply(len)<4])}')\n",
    "print(f'Numero de COD_DOCENTE con mas de 4 digitos: {len(df.COD_DOCENTE[df.COD_DOCENTE.apply(len)>4])}')\n",
    "print(f'Numero de COD_DOCENTE con exactamente 4 digitos: {len(df.COD_DOCENTE[df.COD_DOCENTE.apply(len)==4])}')"
   ]
  },
  {
   "source": [
    "> La mayoria tienen 4 digitos, unos pocos tienen menos"
   ],
   "cell_type": "markdown",
   "metadata": {}
  },
  {
   "cell_type": "code",
   "execution_count": 9,
   "metadata": {},
   "outputs": [
    {
     "output_type": "execute_result",
     "data": {
      "text/plain": [
       "2220"
      ]
     },
     "metadata": {},
     "execution_count": 9
    }
   ],
   "source": [
    "len(df.COD_DOCENTE.unique())"
   ]
  },
  {
   "source": [
    "> Hay 2200 valores unicos para \"COD_DOCENTE\"\n",
    "\n",
    "Rellenamos con ceros a la izquierda para tener consistencia en cuanto a el numero de digitos, ademas verificamos que se mantiene el mismo numero de valores unicos:"
   ],
   "cell_type": "markdown",
   "metadata": {}
  },
  {
   "cell_type": "code",
   "execution_count": 11,
   "id": "f2c1af5c",
   "metadata": {},
   "outputs": [
    {
     "output_type": "stream",
     "name": "stdout",
     "text": [
      "Numero de COD_DOCENTE con exactamente 4 digitos: 32537\n"
     ]
    },
    {
     "output_type": "execute_result",
     "data": {
      "text/plain": [
       "2220"
      ]
     },
     "metadata": {},
     "execution_count": 11
    }
   ],
   "source": [
    "df.COD_DOCENTE = df.COD_DOCENTE.str.zfill(4)\n",
    "print(f'Numero de COD_DOCENTE con exactamente 4 digitos: {len(df.COD_DOCENTE[df.COD_DOCENTE.apply(len)==4])}')\n",
    "len(df.COD_DOCENTE.unique())"
   ]
  },
  {
   "cell_type": "code",
   "execution_count": 7,
   "id": "aa86581e",
   "metadata": {},
   "outputs": [
    {
     "output_type": "stream",
     "name": "stdout",
     "text": [
      "Codigo de PERIODO con menos de 6 digitos: 0\nCodigo de PERIODO con mas de 6 digitos: 0\nCodigo de PERIODO con exactamente 6 digitos: 32537\n"
     ]
    }
   ],
   "source": [
    "# Parece que los peirodos deben ser de 6 digitos, tenemos que verificarlo\n",
    "print(f'Codigo de PERIODO con menos de 6 digitos: {len(df.PERIODO[df.PERIODO.apply(len)<6])}')\n",
    "print(f'Codigo de PERIODO con mas de 6 digitos: {len(df.PERIODO[df.PERIODO.apply(len)>6])}')\n",
    "print(f'Codigo de PERIODO con exactamente 6 digitos: {len(df.PERIODO[df.PERIODO.apply(len)==6])}') # estan todos bien"
   ]
  },
  {
   "cell_type": "code",
   "execution_count": 101,
   "id": "0e2e2e89",
   "metadata": {},
   "outputs": [
    {
     "data": {
      "text/plain": [
       "32537"
      ]
     },
     "execution_count": 101,
     "metadata": {},
     "output_type": "execute_result"
    }
   ],
   "source": [
    "len(df.COD_MAT[df.COD_MAT.apply(len)==6])"
   ]
  },
  {
   "cell_type": "code",
   "execution_count": 99,
   "id": "32772cef",
   "metadata": {},
   "outputs": [
    {
     "data": {
      "text/plain": [
       "Series([], Name: COD_MAT, dtype: object)"
      ]
     },
     "execution_count": 99,
     "metadata": {},
     "output_type": "execute_result"
    }
   ],
   "source": [
    "filtro_6_digitos = df.COD_MAT.apply(len) == 6 # lista de falsos y verdaderos\n",
    "cod_6_digitos = df.COD_MAT[filtro_6_digitos] # aplicar filtro (obtenemos las filas correspondientes a los verdaderos)\n",
    "filt_starts_0 = cod_6_digitos.str.startswith('0')\n",
    "cod_6_digitos[filt_starts_0]"
   ]
  },
  {
   "cell_type": "code",
   "execution_count": 100,
   "id": "48a1258d",
   "metadata": {},
   "outputs": [],
   "source": [
    "df.COD_MAT = df.COD_MAT.str.zfill(6)"
   ]
  },
  {
   "cell_type": "code",
   "execution_count": 6,
   "id": "75d94c5d",
   "metadata": {
    "collapsed": true
   },
   "outputs": [
    {
     "data": {
      "text/plain": [
       "201620    1986\n",
       "201710    1983\n",
       "201810    1932\n",
       "201520    1905\n",
       "201820    1897\n",
       "201720    1896\n",
       "201610    1887\n",
       "201510    1884\n",
       "201420    1774\n",
       "201410    1731\n",
       "201910    1702\n",
       "201920    1675\n",
       "202010    1663\n",
       "201320    1618\n",
       "201310    1564\n",
       "201220    1503\n",
       "201210    1407\n",
       "202020    1129\n",
       "202110    1089\n",
       "201311      35\n",
       "201511      32\n",
       "201321      32\n",
       "201411      31\n",
       "201911      26\n",
       "201221      23\n",
       "201421      19\n",
       "202011      16\n",
       "201711      13\n",
       "201611      12\n",
       "201811      11\n",
       "201211      11\n",
       "202021      10\n",
       "201921      10\n",
       "201721       9\n",
       "201521       9\n",
       "201621       8\n",
       "201821       5\n",
       "Name: PERIODO, dtype: int64"
      ]
     },
     "execution_count": 6,
     "metadata": {},
     "output_type": "execute_result"
    }
   ],
   "source": [
    "df.PERIODO.value_counts()"
   ]
  },
  {
   "cell_type": "code",
   "execution_count": 9,
   "id": "329a98ce",
   "metadata": {
    "collapsed": true
   },
   "outputs": [
    {
     "data": {
      "text/plain": [
       "77224    264\n",
       "66453    260\n",
       "66465    256\n",
       "66441    225\n",
       "66443    197\n",
       "Name: COD_MAT, dtype: int64"
      ]
     },
     "execution_count": 9,
     "metadata": {},
     "output_type": "execute_result"
    }
   ],
   "source": [
    "df.COD_MAT.value_counts()"
   ]
  },
  {
   "cell_type": "code",
   "execution_count": 32,
   "id": "324ec930",
   "metadata": {},
   "outputs": [],
   "source": [
    "num_filas = df.shape[0]"
   ]
  },
  {
   "cell_type": "code",
   "execution_count": 36,
   "id": "3e09e0de",
   "metadata": {},
   "outputs": [
    {
     "name": "stdout",
     "output_type": "stream",
     "text": [
      "PERIODO: Numero Total de filas: 32537, filas no vacias: 32537\n",
      "COD_MAT: Numero Total de filas: 32537, filas no vacias: 32537\n",
      "COD_DOCENTE: Numero Total de filas: 32537, filas no vacias: 32537\n"
     ]
    }
   ],
   "source": [
    "print(f'PERIODO: Numero Total de filas: {num_filas}, filas no vacias: {df.PERIODO.count()}')\n",
    "print(f'COD_MAT: Numero Total de filas: {num_filas}, filas no vacias: {df.COD_MAT.count()}')\n",
    "print(f'COD_DOCENTE: Numero Total de filas: {num_filas}, filas no vacias: {df.COD_DOCENTE.count()}')"
   ]
  },
  {
   "cell_type": "code",
   "execution_count": 80,
   "id": "bc3f022a",
   "metadata": {},
   "outputs": [
    {
     "data": {
      "text/plain": [
       "2926     0000\n",
       "2925     0000\n",
       "2923     0000\n",
       "2922     0000\n",
       "1676     0000\n",
       "         ... \n",
       "31794    5708\n",
       "31835    5708\n",
       "31875    5711\n",
       "31937    5713\n",
       "31938    5714\n",
       "Name: COD_DOCENTE, Length: 32537, dtype: object"
      ]
     },
     "execution_count": 80,
     "metadata": {},
     "output_type": "execute_result"
    }
   ],
   "source": [
    "df.COD_DOCENTE.sort_values()"
   ]
  },
  {
   "cell_type": "code",
   "execution_count": 83,
   "id": "ed800dd7",
   "metadata": {},
   "outputs": [
    {
     "data": {
      "text/plain": [
       "2220"
      ]
     },
     "execution_count": 83,
     "metadata": {},
     "output_type": "execute_result"
    }
   ],
   "source": [
    "len(df.COD_DOCENTE.unique())"
   ]
  },
  {
   "cell_type": "code",
   "execution_count": 48,
   "id": "1c0a835b",
   "metadata": {},
   "outputs": [
    {
     "data": {
      "text/html": [
       "<div>\n",
       "<style scoped>\n",
       "    .dataframe tbody tr th:only-of-type {\n",
       "        vertical-align: middle;\n",
       "    }\n",
       "\n",
       "    .dataframe tbody tr th {\n",
       "        vertical-align: top;\n",
       "    }\n",
       "\n",
       "    .dataframe thead th {\n",
       "        text-align: right;\n",
       "    }\n",
       "</style>\n",
       "<table border=\"1\" class=\"dataframe\">\n",
       "  <thead>\n",
       "    <tr style=\"text-align: right;\">\n",
       "      <th></th>\n",
       "      <th></th>\n",
       "      <th>COD_DOCENTE</th>\n",
       "    </tr>\n",
       "    <tr>\n",
       "      <th>PERIODO</th>\n",
       "      <th>COD_MAT</th>\n",
       "      <th></th>\n",
       "    </tr>\n",
       "  </thead>\n",
       "  <tbody>\n",
       "    <tr>\n",
       "      <th>201210</th>\n",
       "      <th>11303</th>\n",
       "      <td>1</td>\n",
       "    </tr>\n",
       "    <tr>\n",
       "      <th rowspan=\"6\" valign=\"top\">201720</th>\n",
       "      <th>66365</th>\n",
       "      <td>1</td>\n",
       "    </tr>\n",
       "    <tr>\n",
       "      <th>66364</th>\n",
       "      <td>1</td>\n",
       "    </tr>\n",
       "    <tr>\n",
       "      <th>66363</th>\n",
       "      <td>1</td>\n",
       "    </tr>\n",
       "    <tr>\n",
       "      <th>66362</th>\n",
       "      <td>1</td>\n",
       "    </tr>\n",
       "    <tr>\n",
       "      <th>...</th>\n",
       "      <td>...</td>\n",
       "    </tr>\n",
       "    <tr>\n",
       "      <th>88146</th>\n",
       "      <td>18</td>\n",
       "    </tr>\n",
       "    <tr>\n",
       "      <th>201910</th>\n",
       "      <th>66441</th>\n",
       "      <td>18</td>\n",
       "    </tr>\n",
       "    <tr>\n",
       "      <th>201820</th>\n",
       "      <th>66441</th>\n",
       "      <td>18</td>\n",
       "    </tr>\n",
       "    <tr>\n",
       "      <th>201810</th>\n",
       "      <th>66441</th>\n",
       "      <td>18</td>\n",
       "    </tr>\n",
       "    <tr>\n",
       "      <th>202010</th>\n",
       "      <th>88146</th>\n",
       "      <td>20</td>\n",
       "    </tr>\n",
       "  </tbody>\n",
       "</table>\n",
       "<p>23971 rows × 1 columns</p>\n",
       "</div>"
      ],
      "text/plain": [
       "                 COD_DOCENTE\n",
       "PERIODO COD_MAT             \n",
       "201210  11303              1\n",
       "201720  66365              1\n",
       "        66364              1\n",
       "        66363              1\n",
       "        66362              1\n",
       "...                      ...\n",
       "        88146             18\n",
       "201910  66441             18\n",
       "201820  66441             18\n",
       "201810  66441             18\n",
       "202010  88146             20\n",
       "\n",
       "[23971 rows x 1 columns]"
      ]
     },
     "execution_count": 48,
     "metadata": {},
     "output_type": "execute_result"
    }
   ],
   "source": [
    "df.groupby(['PERIODO','COD_MAT']).count().sort_values(by = 'COD_DOCENTE')"
   ]
  },
  {
   "cell_type": "code",
   "execution_count": 57,
   "id": "0c6760c3",
   "metadata": {},
   "outputs": [
    {
     "data": {
      "text/plain": [
       "11"
      ]
     },
     "execution_count": 57,
     "metadata": {},
     "output_type": "execute_result"
    }
   ],
   "source": [
    "dato = int('0011')\n",
    "dato"
   ]
  },
  {
   "cell_type": "code",
   "execution_count": 58,
   "id": "239828cd",
   "metadata": {},
   "outputs": [
    {
     "data": {
      "text/plain": [
       "'11'"
      ]
     },
     "execution_count": 58,
     "metadata": {},
     "output_type": "execute_result"
    }
   ],
   "source": [
    "str(dato)"
   ]
  },
  {
   "cell_type": "code",
   "execution_count": null,
   "id": "9f92bcc2",
   "metadata": {},
   "outputs": [],
   "source": []
  }
 ],
 "metadata": {
  "kernelspec": {
   "name": "python3",
   "display_name": "Python 3.9.1 64-bit ('.venv': venv)"
  },
  "language_info": {
   "codemirror_mode": {
    "name": "ipython",
    "version": 3
   },
   "file_extension": ".py",
   "mimetype": "text/x-python",
   "name": "python",
   "nbconvert_exporter": "python",
   "pygments_lexer": "ipython3",
   "version": "3.9.1"
  },
  "interpreter": {
   "hash": "d8b8044b3f60dbc589767deccfec2ff1ed5225ebd8bc91aed3a6ab549515ddca"
  }
 },
 "nbformat": 4,
 "nbformat_minor": 5
}