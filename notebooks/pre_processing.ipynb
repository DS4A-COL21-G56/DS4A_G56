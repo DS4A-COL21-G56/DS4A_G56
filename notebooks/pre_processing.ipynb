{
 "cells": [
  {
   "cell_type": "markdown",
   "metadata": {},
   "source": [
    "# Pre-Procesamiento de datos: Desercion Universidad de Boyaca"
   ]
  },
  {
   "cell_type": "markdown",
   "metadata": {},
   "source": [
    "# 1. Cargando tablas e informacion general"
   ]
  },
  {
   "cell_type": "code",
   "execution_count": 13,
   "metadata": {},
   "outputs": [],
   "source": [
    "# importar pandas\n",
    "import pandas as pd"
   ]
  },
  {
   "cell_type": "code",
   "execution_count": 39,
   "metadata": {},
   "outputs": [],
   "source": [
    "docentes_periodo_df = pd.read_csv('../data/raw/docentes_periodo.csv', ';', encoding='ISO-8859-1')\n",
    "eval_docentes_periodo_df = pd.read_csv('../data/raw/eval_docentes_periodo.csv', ';', encoding='ISO-8859-1')\n",
    "mat_cursadas_df = pd.read_csv('../data/raw/mat_cursadas_rend_academico.csv', ';', encoding='ISO-8859-1')\n",
    "perfil_ingreso_df = pd.read_csv('../data/raw/perfil_ingreso.csv', ';')\n",
    "rendimiento_academico_df = pd.read_csv('../data/raw/rendimiento_academico.csv', ';', encoding='ISO-8859-1')\n",
    "rendimiento_academico_df = pd.read_csv('../data/raw/rendimiento_academico.csv', ';', encoding='ISO-8859-1')\n",
    "\n",
    "area_icfes_df = pd.read_excel('../data/raw/area_icfes.xlsx')\n",
    "creditos_periodo_df = pd.read_excel('../data/raw/CREDITOS_PERIODO.xlsx')\n",
    "perfil_ingreso_v2_df = pd.read_excel('../data/raw/perfil_ingreso_v2.xlsx')\n",
    "materias_por_programa_df = pd.read_excel('../data/raw/materias_por_programa.xlsx')\n",
    "pre_correquisito_df = pd.read_excel('../data/raw/pre_correquisito.xlsx')\n",
    "mat_cursadas_v2_df = pd.read_excel('../data/raw/mat_cursadas_rend_academico_v2.xlsx')\n",
    "reingreso_aplazamiento_df = pd.read_excel('../data/raw/reingreso_aplazamiento.xlsx')\n",
    "\n",
    "\n",
    "\n"
   ]
  },
  {
   "cell_type": "code",
   "execution_count": 25,
   "metadata": {
    "collapsed": true
   },
   "outputs": [
    {
     "name": "stdout",
     "output_type": "stream",
     "text": [
      "\n",
      "                                     docentes_periodo                                     \n"
     ]
    },
    {
     "data": {
      "text/html": [
       "<div>\n",
       "<style scoped>\n",
       "    .dataframe tbody tr th:only-of-type {\n",
       "        vertical-align: middle;\n",
       "    }\n",
       "\n",
       "    .dataframe tbody tr th {\n",
       "        vertical-align: top;\n",
       "    }\n",
       "\n",
       "    .dataframe thead th {\n",
       "        text-align: right;\n",
       "    }\n",
       "</style>\n",
       "<table border=\"1\" class=\"dataframe\">\n",
       "  <thead>\n",
       "    <tr style=\"text-align: right;\">\n",
       "      <th></th>\n",
       "      <th>PERIODO</th>\n",
       "      <th>COD_MAT</th>\n",
       "      <th>COD_DOCENTE</th>\n",
       "    </tr>\n",
       "  </thead>\n",
       "  <tbody>\n",
       "    <tr>\n",
       "      <th>0</th>\n",
       "      <td>201210</td>\n",
       "      <td>11303</td>\n",
       "      <td>1329</td>\n",
       "    </tr>\n",
       "    <tr>\n",
       "      <th>1</th>\n",
       "      <td>201210</td>\n",
       "      <td>11304</td>\n",
       "      <td>3111</td>\n",
       "    </tr>\n",
       "    <tr>\n",
       "      <th>2</th>\n",
       "      <td>201210</td>\n",
       "      <td>11305</td>\n",
       "      <td>622</td>\n",
       "    </tr>\n",
       "  </tbody>\n",
       "</table>\n",
       "</div>"
      ],
      "text/plain": [
       "   PERIODO  COD_MAT  COD_DOCENTE\n",
       "0   201210    11303         1329\n",
       "1   201210    11304         3111\n",
       "2   201210    11305          622"
      ]
     },
     "metadata": {},
     "output_type": "display_data"
    },
    {
     "name": "stdout",
     "output_type": "stream",
     "text": [
      "\n",
      "                                  eval_docentes_periodo                                   \n"
     ]
    },
    {
     "data": {
      "text/html": [
       "<div>\n",
       "<style scoped>\n",
       "    .dataframe tbody tr th:only-of-type {\n",
       "        vertical-align: middle;\n",
       "    }\n",
       "\n",
       "    .dataframe tbody tr th {\n",
       "        vertical-align: top;\n",
       "    }\n",
       "\n",
       "    .dataframe thead th {\n",
       "        text-align: right;\n",
       "    }\n",
       "</style>\n",
       "<table border=\"1\" class=\"dataframe\">\n",
       "  <thead>\n",
       "    <tr style=\"text-align: right;\">\n",
       "      <th></th>\n",
       "      <th>PERIODO</th>\n",
       "      <th>COD_DOCENTE</th>\n",
       "      <th>COD_MAT</th>\n",
       "      <th>COD_FACTOR</th>\n",
       "      <th>NOM_FACTOR</th>\n",
       "      <th>CALIFICACION</th>\n",
       "    </tr>\n",
       "  </thead>\n",
       "  <tbody>\n",
       "    <tr>\n",
       "      <th>0</th>\n",
       "      <td>201210</td>\n",
       "      <td>1008</td>\n",
       "      <td>66410</td>\n",
       "      <td>1</td>\n",
       "      <td>Asistencia y Puntualidad</td>\n",
       "      <td>4,63</td>\n",
       "    </tr>\n",
       "    <tr>\n",
       "      <th>1</th>\n",
       "      <td>201210</td>\n",
       "      <td>1008</td>\n",
       "      <td>66410</td>\n",
       "      <td>2</td>\n",
       "      <td>Relación profesor alumno</td>\n",
       "      <td>4,65</td>\n",
       "    </tr>\n",
       "    <tr>\n",
       "      <th>2</th>\n",
       "      <td>201210</td>\n",
       "      <td>1008</td>\n",
       "      <td>66410</td>\n",
       "      <td>3</td>\n",
       "      <td>Orientación del proceso de formación</td>\n",
       "      <td>4,58</td>\n",
       "    </tr>\n",
       "  </tbody>\n",
       "</table>\n",
       "</div>"
      ],
      "text/plain": [
       "   PERIODO  COD_DOCENTE  COD_MAT  COD_FACTOR  \\\n",
       "0   201210         1008    66410           1   \n",
       "1   201210         1008    66410           2   \n",
       "2   201210         1008    66410           3   \n",
       "\n",
       "                             NOM_FACTOR CALIFICACION  \n",
       "0              Asistencia y Puntualidad         4,63  \n",
       "1              Relación profesor alumno         4,65  \n",
       "2  Orientación del proceso de formación         4,58  "
      ]
     },
     "metadata": {},
     "output_type": "display_data"
    },
    {
     "name": "stdout",
     "output_type": "stream",
     "text": [
      "\n",
      "                                       mat_cursadas                                       \n"
     ]
    },
    {
     "data": {
      "text/html": [
       "<div>\n",
       "<style scoped>\n",
       "    .dataframe tbody tr th:only-of-type {\n",
       "        vertical-align: middle;\n",
       "    }\n",
       "\n",
       "    .dataframe tbody tr th {\n",
       "        vertical-align: top;\n",
       "    }\n",
       "\n",
       "    .dataframe thead th {\n",
       "        text-align: right;\n",
       "    }\n",
       "</style>\n",
       "<table border=\"1\" class=\"dataframe\">\n",
       "  <thead>\n",
       "    <tr style=\"text-align: right;\">\n",
       "      <th></th>\n",
       "      <th>PERIODO_COHORTE</th>\n",
       "      <th>PERIODO_ACADEMICO</th>\n",
       "      <th>CODIGO</th>\n",
       "      <th>TOT_MAT_INSCRITAS</th>\n",
       "      <th>MAT_APROBADAS</th>\n",
       "    </tr>\n",
       "  </thead>\n",
       "  <tbody>\n",
       "    <tr>\n",
       "      <th>0</th>\n",
       "      <td>201210</td>\n",
       "      <td>201210</td>\n",
       "      <td>11312001</td>\n",
       "      <td>8</td>\n",
       "      <td>7</td>\n",
       "    </tr>\n",
       "    <tr>\n",
       "      <th>1</th>\n",
       "      <td>201210</td>\n",
       "      <td>201210</td>\n",
       "      <td>11312002</td>\n",
       "      <td>8</td>\n",
       "      <td>7</td>\n",
       "    </tr>\n",
       "    <tr>\n",
       "      <th>2</th>\n",
       "      <td>201210</td>\n",
       "      <td>201210</td>\n",
       "      <td>11312003</td>\n",
       "      <td>8</td>\n",
       "      <td>7</td>\n",
       "    </tr>\n",
       "  </tbody>\n",
       "</table>\n",
       "</div>"
      ],
      "text/plain": [
       "   PERIODO_COHORTE  PERIODO_ACADEMICO    CODIGO  TOT_MAT_INSCRITAS  \\\n",
       "0           201210             201210  11312001                  8   \n",
       "1           201210             201210  11312002                  8   \n",
       "2           201210             201210  11312003                  8   \n",
       "\n",
       "   MAT_APROBADAS  \n",
       "0              7  \n",
       "1              7  \n",
       "2              7  "
      ]
     },
     "metadata": {},
     "output_type": "display_data"
    },
    {
     "name": "stdout",
     "output_type": "stream",
     "text": [
      "\n",
      "                                    perfil_ingreso_df                                     \n"
     ]
    },
    {
     "data": {
      "text/html": [
       "<div>\n",
       "<style scoped>\n",
       "    .dataframe tbody tr th:only-of-type {\n",
       "        vertical-align: middle;\n",
       "    }\n",
       "\n",
       "    .dataframe tbody tr th {\n",
       "        vertical-align: top;\n",
       "    }\n",
       "\n",
       "    .dataframe thead th {\n",
       "        text-align: right;\n",
       "    }\n",
       "</style>\n",
       "<table border=\"1\" class=\"dataframe\">\n",
       "  <thead>\n",
       "    <tr style=\"text-align: right;\">\n",
       "      <th></th>\n",
       "      <th>PERIODO_COHORTE</th>\n",
       "      <th>CODIGO</th>\n",
       "      <th>GENERO</th>\n",
       "      <th>EDAD</th>\n",
       "      <th>COLEGIO_PROCEDENCIA</th>\n",
       "      <th>PUNT_TOTAL</th>\n",
       "      <th>PUNT_AREA</th>\n",
       "      <th>ES_DESERTOR</th>\n",
       "    </tr>\n",
       "  </thead>\n",
       "  <tbody>\n",
       "    <tr>\n",
       "      <th>0</th>\n",
       "      <td>201210</td>\n",
       "      <td>11312001</td>\n",
       "      <td>M</td>\n",
       "      <td>22.0</td>\n",
       "      <td>COL COOP COOSERVICIOS</td>\n",
       "      <td>438</td>\n",
       "      <td>49</td>\n",
       "      <td>NO</td>\n",
       "    </tr>\n",
       "    <tr>\n",
       "      <th>1</th>\n",
       "      <td>201210</td>\n",
       "      <td>11312002</td>\n",
       "      <td>M</td>\n",
       "      <td>23.0</td>\n",
       "      <td>INSTITUTO DE EDUCACION MEDIA DIVERSIFICADA INE...</td>\n",
       "      <td>386</td>\n",
       "      <td>48</td>\n",
       "      <td>NO</td>\n",
       "    </tr>\n",
       "    <tr>\n",
       "      <th>2</th>\n",
       "      <td>201210</td>\n",
       "      <td>11312003</td>\n",
       "      <td>F</td>\n",
       "      <td>22.0</td>\n",
       "      <td>I.E. ANTONIO NARI�O</td>\n",
       "      <td>460</td>\n",
       "      <td>51</td>\n",
       "      <td>NO</td>\n",
       "    </tr>\n",
       "  </tbody>\n",
       "</table>\n",
       "</div>"
      ],
      "text/plain": [
       "   PERIODO_COHORTE    CODIGO GENERO  EDAD  \\\n",
       "0           201210  11312001      M  22.0   \n",
       "1           201210  11312002      M  23.0   \n",
       "2           201210  11312003      F  22.0   \n",
       "\n",
       "                                 COLEGIO_PROCEDENCIA  PUNT_TOTAL  PUNT_AREA  \\\n",
       "0                              COL COOP COOSERVICIOS         438         49   \n",
       "1  INSTITUTO DE EDUCACION MEDIA DIVERSIFICADA INE...         386         48   \n",
       "2                                I.E. ANTONIO NARI�O         460         51   \n",
       "\n",
       "  ES_DESERTOR  \n",
       "0          NO  \n",
       "1          NO  \n",
       "2          NO  "
      ]
     },
     "metadata": {},
     "output_type": "display_data"
    },
    {
     "name": "stdout",
     "output_type": "stream",
     "text": [
      "\n",
      "                                  rendimiento_academico                                   \n"
     ]
    },
    {
     "data": {
      "text/html": [
       "<div>\n",
       "<style scoped>\n",
       "    .dataframe tbody tr th:only-of-type {\n",
       "        vertical-align: middle;\n",
       "    }\n",
       "\n",
       "    .dataframe tbody tr th {\n",
       "        vertical-align: top;\n",
       "    }\n",
       "\n",
       "    .dataframe thead th {\n",
       "        text-align: right;\n",
       "    }\n",
       "</style>\n",
       "<table border=\"1\" class=\"dataframe\">\n",
       "  <thead>\n",
       "    <tr style=\"text-align: right;\">\n",
       "      <th></th>\n",
       "      <th>PERIODO_COHORTE</th>\n",
       "      <th>PERIODO_ACADEMICO</th>\n",
       "      <th>CODIGO</th>\n",
       "      <th>COD_MAT</th>\n",
       "      <th>NOMBRE_MAT</th>\n",
       "      <th>NOTA_DEF</th>\n",
       "      <th>ESTADO</th>\n",
       "    </tr>\n",
       "  </thead>\n",
       "  <tbody>\n",
       "    <tr>\n",
       "      <th>0</th>\n",
       "      <td>201210</td>\n",
       "      <td>201210</td>\n",
       "      <td>11312001</td>\n",
       "      <td>11305</td>\n",
       "      <td>EXP. ORAL ESCRITA</td>\n",
       "      <td>3,50</td>\n",
       "      <td>APROBADA</td>\n",
       "    </tr>\n",
       "    <tr>\n",
       "      <th>1</th>\n",
       "      <td>201210</td>\n",
       "      <td>201210</td>\n",
       "      <td>11312001</td>\n",
       "      <td>11312</td>\n",
       "      <td>INICIATIVA EMPRES</td>\n",
       "      <td>4,00</td>\n",
       "      <td>APROBADA</td>\n",
       "    </tr>\n",
       "    <tr>\n",
       "      <th>2</th>\n",
       "      <td>201210</td>\n",
       "      <td>201210</td>\n",
       "      <td>11312001</td>\n",
       "      <td>11310</td>\n",
       "      <td>MICROECONOMÍA</td>\n",
       "      <td>3,60</td>\n",
       "      <td>APROBADA</td>\n",
       "    </tr>\n",
       "  </tbody>\n",
       "</table>\n",
       "</div>"
      ],
      "text/plain": [
       "   PERIODO_COHORTE  PERIODO_ACADEMICO    CODIGO  COD_MAT         NOMBRE_MAT  \\\n",
       "0           201210             201210  11312001    11305  EXP. ORAL ESCRITA   \n",
       "1           201210             201210  11312001    11312  INICIATIVA EMPRES   \n",
       "2           201210             201210  11312001    11310      MICROECONOMÍA   \n",
       "\n",
       "  NOTA_DEF    ESTADO  \n",
       "0     3,50  APROBADA  \n",
       "1     4,00  APROBADA  \n",
       "2     3,60  APROBADA  "
      ]
     },
     "metadata": {},
     "output_type": "display_data"
    },
    {
     "name": "stdout",
     "output_type": "stream",
     "text": [
      "\n",
      "                                        area_icfes                                        \n"
     ]
    },
    {
     "data": {
      "text/html": [
       "<div>\n",
       "<style scoped>\n",
       "    .dataframe tbody tr th:only-of-type {\n",
       "        vertical-align: middle;\n",
       "    }\n",
       "\n",
       "    .dataframe tbody tr th {\n",
       "        vertical-align: top;\n",
       "    }\n",
       "\n",
       "    .dataframe thead th {\n",
       "        text-align: right;\n",
       "    }\n",
       "</style>\n",
       "<table border=\"1\" class=\"dataframe\">\n",
       "  <thead>\n",
       "    <tr style=\"text-align: right;\">\n",
       "      <th></th>\n",
       "      <th>FECHA_INI_EX</th>\n",
       "      <th>FECHA_FIN_EX</th>\n",
       "      <th>COD_MEN</th>\n",
       "      <th>AREA_ICFES</th>\n",
       "    </tr>\n",
       "  </thead>\n",
       "  <tbody>\n",
       "    <tr>\n",
       "      <th>0</th>\n",
       "      <td>1980-05-01</td>\n",
       "      <td>1999-12-31</td>\n",
       "      <td>20697</td>\n",
       "      <td>CIENCIAS NATURALES</td>\n",
       "    </tr>\n",
       "    <tr>\n",
       "      <th>1</th>\n",
       "      <td>1980-05-01</td>\n",
       "      <td>1999-12-31</td>\n",
       "      <td>20697</td>\n",
       "      <td>LENGUAJE</td>\n",
       "    </tr>\n",
       "    <tr>\n",
       "      <th>2</th>\n",
       "      <td>1980-05-01</td>\n",
       "      <td>1999-12-31</td>\n",
       "      <td>20697</td>\n",
       "      <td>MATEMÁTICA</td>\n",
       "    </tr>\n",
       "  </tbody>\n",
       "</table>\n",
       "</div>"
      ],
      "text/plain": [
       "  FECHA_INI_EX FECHA_FIN_EX  COD_MEN          AREA_ICFES\n",
       "0   1980-05-01   1999-12-31    20697  CIENCIAS NATURALES\n",
       "1   1980-05-01   1999-12-31    20697            LENGUAJE\n",
       "2   1980-05-01   1999-12-31    20697          MATEMÁTICA"
      ]
     },
     "metadata": {},
     "output_type": "display_data"
    },
    {
     "name": "stdout",
     "output_type": "stream",
     "text": [
      "\n",
      "                                     creditos_periodo                                     \n"
     ]
    },
    {
     "data": {
      "text/html": [
       "<div>\n",
       "<style scoped>\n",
       "    .dataframe tbody tr th:only-of-type {\n",
       "        vertical-align: middle;\n",
       "    }\n",
       "\n",
       "    .dataframe tbody tr th {\n",
       "        vertical-align: top;\n",
       "    }\n",
       "\n",
       "    .dataframe thead th {\n",
       "        text-align: right;\n",
       "    }\n",
       "</style>\n",
       "<table border=\"1\" class=\"dataframe\">\n",
       "  <thead>\n",
       "    <tr style=\"text-align: right;\">\n",
       "      <th></th>\n",
       "      <th>CODIGO</th>\n",
       "      <th>PERIODO</th>\n",
       "    </tr>\n",
       "  </thead>\n",
       "  <tbody>\n",
       "    <tr>\n",
       "      <th>0</th>\n",
       "      <td>33111541</td>\n",
       "      <td>201210</td>\n",
       "    </tr>\n",
       "    <tr>\n",
       "      <th>1</th>\n",
       "      <td>66411591</td>\n",
       "      <td>201210</td>\n",
       "    </tr>\n",
       "    <tr>\n",
       "      <th>2</th>\n",
       "      <td>33103565</td>\n",
       "      <td>201210</td>\n",
       "    </tr>\n",
       "  </tbody>\n",
       "</table>\n",
       "</div>"
      ],
      "text/plain": [
       "     CODIGO  PERIODO\n",
       "0  33111541   201210\n",
       "1  66411591   201210\n",
       "2  33103565   201210"
      ]
     },
     "metadata": {},
     "output_type": "display_data"
    },
    {
     "name": "stdout",
     "output_type": "stream",
     "text": [
      "\n",
      "                                    perfil_ingreso_v2                                     \n"
     ]
    },
    {
     "data": {
      "text/html": [
       "<div>\n",
       "<style scoped>\n",
       "    .dataframe tbody tr th:only-of-type {\n",
       "        vertical-align: middle;\n",
       "    }\n",
       "\n",
       "    .dataframe tbody tr th {\n",
       "        vertical-align: top;\n",
       "    }\n",
       "\n",
       "    .dataframe thead th {\n",
       "        text-align: right;\n",
       "    }\n",
       "</style>\n",
       "<table border=\"1\" class=\"dataframe\">\n",
       "  <thead>\n",
       "    <tr style=\"text-align: right;\">\n",
       "      <th></th>\n",
       "      <th>PERIODO_COHORTE</th>\n",
       "      <th>CODIGO</th>\n",
       "      <th>GENERO</th>\n",
       "      <th>EDAD</th>\n",
       "      <th>COLEGIO_PROCEDENCIA</th>\n",
       "      <th>PUNT_TOTAL</th>\n",
       "      <th>PUNT_AREA</th>\n",
       "      <th>ES_DESERTOR</th>\n",
       "      <th>ULTIMA_MATRICULA</th>\n",
       "      <th>COD_MEN</th>\n",
       "    </tr>\n",
       "  </thead>\n",
       "  <tbody>\n",
       "    <tr>\n",
       "      <th>0</th>\n",
       "      <td>201210</td>\n",
       "      <td>11312001</td>\n",
       "      <td>M</td>\n",
       "      <td>22.0</td>\n",
       "      <td>COL COOP COOSERVICIOS</td>\n",
       "      <td>438</td>\n",
       "      <td>49</td>\n",
       "      <td>NO</td>\n",
       "      <td>201710</td>\n",
       "      <td>20708</td>\n",
       "    </tr>\n",
       "    <tr>\n",
       "      <th>1</th>\n",
       "      <td>201210</td>\n",
       "      <td>11312002</td>\n",
       "      <td>M</td>\n",
       "      <td>23.0</td>\n",
       "      <td>INSTITUTO DE EDUCACION MEDIA DIVERSIFICADA INE...</td>\n",
       "      <td>386</td>\n",
       "      <td>48</td>\n",
       "      <td>NO</td>\n",
       "      <td>201420</td>\n",
       "      <td>20708</td>\n",
       "    </tr>\n",
       "    <tr>\n",
       "      <th>2</th>\n",
       "      <td>201210</td>\n",
       "      <td>11312003</td>\n",
       "      <td>F</td>\n",
       "      <td>22.0</td>\n",
       "      <td>I.E. ANTONIO NARIÑO</td>\n",
       "      <td>460</td>\n",
       "      <td>51</td>\n",
       "      <td>NO</td>\n",
       "      <td>201620</td>\n",
       "      <td>20708</td>\n",
       "    </tr>\n",
       "  </tbody>\n",
       "</table>\n",
       "</div>"
      ],
      "text/plain": [
       "   PERIODO_COHORTE    CODIGO GENERO  EDAD  \\\n",
       "0           201210  11312001      M  22.0   \n",
       "1           201210  11312002      M  23.0   \n",
       "2           201210  11312003      F  22.0   \n",
       "\n",
       "                                 COLEGIO_PROCEDENCIA  PUNT_TOTAL  PUNT_AREA  \\\n",
       "0                              COL COOP COOSERVICIOS         438         49   \n",
       "1  INSTITUTO DE EDUCACION MEDIA DIVERSIFICADA INE...         386         48   \n",
       "2                                I.E. ANTONIO NARIÑO         460         51   \n",
       "\n",
       "  ES_DESERTOR  ULTIMA_MATRICULA  COD_MEN  \n",
       "0          NO            201710    20708  \n",
       "1          NO            201420    20708  \n",
       "2          NO            201620    20708  "
      ]
     },
     "metadata": {},
     "output_type": "display_data"
    },
    {
     "name": "stdout",
     "output_type": "stream",
     "text": [
      "\n",
      "                                  materias_por_programa                                   \n"
     ]
    },
    {
     "data": {
      "text/html": [
       "<div>\n",
       "<style scoped>\n",
       "    .dataframe tbody tr th:only-of-type {\n",
       "        vertical-align: middle;\n",
       "    }\n",
       "\n",
       "    .dataframe tbody tr th {\n",
       "        vertical-align: top;\n",
       "    }\n",
       "\n",
       "    .dataframe thead th {\n",
       "        text-align: right;\n",
       "    }\n",
       "</style>\n",
       "<table border=\"1\" class=\"dataframe\">\n",
       "  <thead>\n",
       "    <tr style=\"text-align: right;\">\n",
       "      <th></th>\n",
       "      <th>COD_MEN</th>\n",
       "      <th>FACULTAD</th>\n",
       "      <th>NOMBRE_PROGRAMA</th>\n",
       "      <th>ACREDITADO</th>\n",
       "      <th>SEDE</th>\n",
       "      <th>COD_MAT</th>\n",
       "      <th>NUM_CREDITOS</th>\n",
       "      <th>INTRODUCCION</th>\n",
       "    </tr>\n",
       "  </thead>\n",
       "  <tbody>\n",
       "    <tr>\n",
       "      <th>0</th>\n",
       "      <td>20708</td>\n",
       "      <td>FACULTAD DE CIENCIAS ADMINISTRATIVAS Y CONTABLES</td>\n",
       "      <td>ADMINISTRACIÓN DE EMPRESAS</td>\n",
       "      <td>N.A.</td>\n",
       "      <td>SEDE TUNJA</td>\n",
       "      <td>11330</td>\n",
       "      <td>2</td>\n",
       "      <td>NO</td>\n",
       "    </tr>\n",
       "    <tr>\n",
       "      <th>1</th>\n",
       "      <td>20708</td>\n",
       "      <td>FACULTAD DE CIENCIAS ADMINISTRATIVAS Y CONTABLES</td>\n",
       "      <td>ADMINISTRACIÓN DE EMPRESAS</td>\n",
       "      <td>N.A.</td>\n",
       "      <td>SEDE TUNJA</td>\n",
       "      <td>11329</td>\n",
       "      <td>2</td>\n",
       "      <td>NO</td>\n",
       "    </tr>\n",
       "    <tr>\n",
       "      <th>2</th>\n",
       "      <td>20708</td>\n",
       "      <td>FACULTAD DE CIENCIAS ADMINISTRATIVAS Y CONTABLES</td>\n",
       "      <td>ADMINISTRACIÓN DE EMPRESAS</td>\n",
       "      <td>N.A.</td>\n",
       "      <td>SEDE TUNJA</td>\n",
       "      <td>11334</td>\n",
       "      <td>2</td>\n",
       "      <td>NO</td>\n",
       "    </tr>\n",
       "  </tbody>\n",
       "</table>\n",
       "</div>"
      ],
      "text/plain": [
       "   COD_MEN                                          FACULTAD  \\\n",
       "0    20708  FACULTAD DE CIENCIAS ADMINISTRATIVAS Y CONTABLES   \n",
       "1    20708  FACULTAD DE CIENCIAS ADMINISTRATIVAS Y CONTABLES   \n",
       "2    20708  FACULTAD DE CIENCIAS ADMINISTRATIVAS Y CONTABLES   \n",
       "\n",
       "              NOMBRE_PROGRAMA ACREDITADO        SEDE  COD_MAT  NUM_CREDITOS  \\\n",
       "0  ADMINISTRACIÓN DE EMPRESAS       N.A.  SEDE TUNJA    11330             2   \n",
       "1  ADMINISTRACIÓN DE EMPRESAS       N.A.  SEDE TUNJA    11329             2   \n",
       "2  ADMINISTRACIÓN DE EMPRESAS       N.A.  SEDE TUNJA    11334             2   \n",
       "\n",
       "  INTRODUCCION  \n",
       "0           NO  \n",
       "1           NO  \n",
       "2           NO  "
      ]
     },
     "metadata": {},
     "output_type": "display_data"
    },
    {
     "name": "stdout",
     "output_type": "stream",
     "text": [
      "\n",
      "                                     pre_correquisito                                     \n"
     ]
    },
    {
     "data": {
      "text/html": [
       "<div>\n",
       "<style scoped>\n",
       "    .dataframe tbody tr th:only-of-type {\n",
       "        vertical-align: middle;\n",
       "    }\n",
       "\n",
       "    .dataframe tbody tr th {\n",
       "        vertical-align: top;\n",
       "    }\n",
       "\n",
       "    .dataframe thead th {\n",
       "        text-align: right;\n",
       "    }\n",
       "</style>\n",
       "<table border=\"1\" class=\"dataframe\">\n",
       "  <thead>\n",
       "    <tr style=\"text-align: right;\">\n",
       "      <th></th>\n",
       "      <th>COD_BASE</th>\n",
       "      <th>NOMBRE_MAT</th>\n",
       "      <th>COD_PRECO</th>\n",
       "      <th>NOMBRE_PRECORREQUISITO</th>\n",
       "      <th>TIPO_REQUISITO</th>\n",
       "    </tr>\n",
       "  </thead>\n",
       "  <tbody>\n",
       "    <tr>\n",
       "      <th>0</th>\n",
       "      <td>11304</td>\n",
       "      <td>PLANEACIÓN Y CONTROL</td>\n",
       "      <td>11313</td>\n",
       "      <td>ADMINISTRACIÓN BÁSICA</td>\n",
       "      <td>PRERREQUISITO</td>\n",
       "    </tr>\n",
       "    <tr>\n",
       "      <th>1</th>\n",
       "      <td>11308</td>\n",
       "      <td>CÁLCULO DIFERENCIAL</td>\n",
       "      <td>11301</td>\n",
       "      <td>MATEMÁTICA BÁSICA</td>\n",
       "      <td>PRERREQUISITO</td>\n",
       "    </tr>\n",
       "    <tr>\n",
       "      <th>2</th>\n",
       "      <td>11309</td>\n",
       "      <td>CONTABILIDAD COMERCIAL</td>\n",
       "      <td>11311</td>\n",
       "      <td>CONTABILIDAD BÁSICA</td>\n",
       "      <td>PRERREQUISITO</td>\n",
       "    </tr>\n",
       "  </tbody>\n",
       "</table>\n",
       "</div>"
      ],
      "text/plain": [
       "   COD_BASE              NOMBRE_MAT  COD_PRECO NOMBRE_PRECORREQUISITO  \\\n",
       "0     11304    PLANEACIÓN Y CONTROL      11313  ADMINISTRACIÓN BÁSICA   \n",
       "1     11308     CÁLCULO DIFERENCIAL      11301      MATEMÁTICA BÁSICA   \n",
       "2     11309  CONTABILIDAD COMERCIAL      11311    CONTABILIDAD BÁSICA   \n",
       "\n",
       "  TIPO_REQUISITO  \n",
       "0  PRERREQUISITO  \n",
       "1  PRERREQUISITO  \n",
       "2  PRERREQUISITO  "
      ]
     },
     "metadata": {},
     "output_type": "display_data"
    },
    {
     "name": "stdout",
     "output_type": "stream",
     "text": [
      "\n",
      "                                     mat_cursadas_v2                                      \n"
     ]
    },
    {
     "data": {
      "text/html": [
       "<div>\n",
       "<style scoped>\n",
       "    .dataframe tbody tr th:only-of-type {\n",
       "        vertical-align: middle;\n",
       "    }\n",
       "\n",
       "    .dataframe tbody tr th {\n",
       "        vertical-align: top;\n",
       "    }\n",
       "\n",
       "    .dataframe thead th {\n",
       "        text-align: right;\n",
       "    }\n",
       "</style>\n",
       "<table border=\"1\" class=\"dataframe\">\n",
       "  <thead>\n",
       "    <tr style=\"text-align: right;\">\n",
       "      <th></th>\n",
       "      <th>PERIODO_COHORTE</th>\n",
       "      <th>PERIODO_ACADEMICO</th>\n",
       "      <th>CODIGO</th>\n",
       "      <th>TOT_MAT_INSCRITAS</th>\n",
       "      <th>CRED_INSCRITOS</th>\n",
       "      <th>MAT_APROBADAS</th>\n",
       "      <th>CRED_APROBADOS</th>\n",
       "    </tr>\n",
       "  </thead>\n",
       "  <tbody>\n",
       "    <tr>\n",
       "      <th>0</th>\n",
       "      <td>201210</td>\n",
       "      <td>201210</td>\n",
       "      <td>11312001</td>\n",
       "      <td>8</td>\n",
       "      <td>17.0</td>\n",
       "      <td>7</td>\n",
       "      <td>15.0</td>\n",
       "    </tr>\n",
       "    <tr>\n",
       "      <th>1</th>\n",
       "      <td>201210</td>\n",
       "      <td>201210</td>\n",
       "      <td>11312002</td>\n",
       "      <td>8</td>\n",
       "      <td>16.0</td>\n",
       "      <td>7</td>\n",
       "      <td>14.0</td>\n",
       "    </tr>\n",
       "    <tr>\n",
       "      <th>2</th>\n",
       "      <td>201210</td>\n",
       "      <td>201210</td>\n",
       "      <td>11312003</td>\n",
       "      <td>8</td>\n",
       "      <td>17.0</td>\n",
       "      <td>7</td>\n",
       "      <td>15.0</td>\n",
       "    </tr>\n",
       "  </tbody>\n",
       "</table>\n",
       "</div>"
      ],
      "text/plain": [
       "   PERIODO_COHORTE  PERIODO_ACADEMICO    CODIGO  TOT_MAT_INSCRITAS  \\\n",
       "0           201210             201210  11312001                  8   \n",
       "1           201210             201210  11312002                  8   \n",
       "2           201210             201210  11312003                  8   \n",
       "\n",
       "   CRED_INSCRITOS  MAT_APROBADAS  CRED_APROBADOS  \n",
       "0            17.0              7            15.0  \n",
       "1            16.0              7            14.0  \n",
       "2            17.0              7            15.0  "
      ]
     },
     "metadata": {},
     "output_type": "display_data"
    },
    {
     "name": "stdout",
     "output_type": "stream",
     "text": [
      "\n",
      "                                  reingreso_aplazamiento                                  \n"
     ]
    },
    {
     "data": {
      "text/html": [
       "<div>\n",
       "<style scoped>\n",
       "    .dataframe tbody tr th:only-of-type {\n",
       "        vertical-align: middle;\n",
       "    }\n",
       "\n",
       "    .dataframe tbody tr th {\n",
       "        vertical-align: top;\n",
       "    }\n",
       "\n",
       "    .dataframe thead th {\n",
       "        text-align: right;\n",
       "    }\n",
       "</style>\n",
       "<table border=\"1\" class=\"dataframe\">\n",
       "  <thead>\n",
       "    <tr style=\"text-align: right;\">\n",
       "      <th></th>\n",
       "      <th>CODIGO</th>\n",
       "      <th>FECHA_SOLICITUD</th>\n",
       "      <th>TIPO</th>\n",
       "    </tr>\n",
       "  </thead>\n",
       "  <tbody>\n",
       "    <tr>\n",
       "      <th>0</th>\n",
       "      <td>55110503</td>\n",
       "      <td>2012-01-10</td>\n",
       "      <td>REINGRESO</td>\n",
       "    </tr>\n",
       "    <tr>\n",
       "      <th>1</th>\n",
       "      <td>55510048</td>\n",
       "      <td>2012-01-10</td>\n",
       "      <td>REINGRESO</td>\n",
       "    </tr>\n",
       "    <tr>\n",
       "      <th>2</th>\n",
       "      <td>55510535</td>\n",
       "      <td>2012-01-10</td>\n",
       "      <td>REINGRESO</td>\n",
       "    </tr>\n",
       "  </tbody>\n",
       "</table>\n",
       "</div>"
      ],
      "text/plain": [
       "     CODIGO FECHA_SOLICITUD       TIPO\n",
       "0  55110503      2012-01-10  REINGRESO\n",
       "1  55510048      2012-01-10  REINGRESO\n",
       "2  55510535      2012-01-10  REINGRESO"
      ]
     },
     "metadata": {},
     "output_type": "display_data"
    }
   ],
   "source": [
    "# vistazo de las tablas\n",
    "print(\"\\n\"+\"docentes_periodo\".center(90))\n",
    "display(docentes_periodo_df.head(3))\n",
    "print(\"\\n\"+\"eval_docentes_periodo\".center(90))\n",
    "display(eval_docentes_periodo_df.head(3))\n",
    "print(\"\\n\"+\"mat_cursadas\".center(90))\n",
    "display(mat_cursadas_df.head(3))\n",
    "print(\"\\n\"+\"perfil_ingreso_df\".center(90))\n",
    "display(perfil_ingreso_df.head(3))\n",
    "print(\"\\n\"+\"rendimiento_academico\".center(90))\n",
    "display(rendimiento_academico_df.head(3))\n",
    "\n",
    "print(\"\\n\"+\"area_icfes\".center(90))\n",
    "display(area_icfes_df.head(3))\n",
    "print(\"\\n\"+\"creditos_periodo\".center(90))\n",
    "display(creditos_periodo_df.head(3))\n",
    "print(\"\\n\"+\"perfil_ingreso_v2\".center(90))\n",
    "display(perfil_ingreso_v2_df.head(3))\n",
    "print(\"\\n\"+\"materias_por_programa\".center(90))\n",
    "display(materias_por_programa_df.head(3))\n",
    "print(\"\\n\"+\"pre_correquisito\".center(90))\n",
    "display(pre_correquisito_df.head(3))\n",
    "print(\"\\n\"+\"mat_cursadas_v2\".center(90))\n",
    "display(mat_cursadas_v2_df.head(3))\n",
    "print(\"\\n\"+\"reingreso_aplazamiento\".center(90))\n",
    "display(reingreso_aplazamiento_df.head(3))\n",
    "\n"
   ]
  },
  {
   "cell_type": "markdown",
   "metadata": {},
   "source": [
    "## 2. Tabla \"docentes_periodo\""
   ]
  },
  {
   "cell_type": "markdown",
   "metadata": {},
   "source": [
    "### Tipos de datos:"
   ]
  },
  {
   "cell_type": "code",
   "execution_count": 26,
   "metadata": {
    "collapsed": true
   },
   "outputs": [
    {
     "name": "stdout",
     "output_type": "stream",
     "text": [
      "<class 'pandas.core.frame.DataFrame'>\n",
      "RangeIndex: 32537 entries, 0 to 32536\n",
      "Data columns (total 3 columns):\n",
      " #   Column       Non-Null Count  Dtype\n",
      "---  ------       --------------  -----\n",
      " 0   PERIODO      32537 non-null  int64\n",
      " 1   COD_MAT      32537 non-null  int64\n",
      " 2   COD_DOCENTE  32537 non-null  int64\n",
      "dtypes: int64(3)\n",
      "memory usage: 762.7 KB\n"
     ]
    }
   ],
   "source": [
    "docentes_periodo_df.info()"
   ]
  },
  {
   "cell_type": "markdown",
   "metadata": {},
   "source": [
    "> los codigos deben ser variables categoricas no enteros, asi que debemos convertirlos a strings:\n"
   ]
  },
  {
   "cell_type": "code",
   "execution_count": 46,
   "metadata": {},
   "outputs": [],
   "source": [
    "# funcion util convertir  a strings:\n",
    "\n",
    "def as_string(df, columns):\n",
    "    \"\"\"Convierte el tipo de dato de las columnas especificadas a string\n",
    "\n",
    "    Args:\n",
    "        df: el dataframe a modificar sus columnas\n",
    "        columns (list): lista de strings con el nombre de las columnas a convertir\n",
    "    \n",
    "    Return:\n",
    "        copia del dataframe modificado\n",
    "    \"\"\"\n",
    "    df = df[columns].astype(str)\n",
    "    \n",
    "    return df"
   ]
  },
  {
   "cell_type": "code",
   "execution_count": 48,
   "metadata": {},
   "outputs": [
    {
     "name": "stdout",
     "output_type": "stream",
     "text": [
      "<class 'pandas.core.frame.DataFrame'>\n",
      "RangeIndex: 32537 entries, 0 to 32536\n",
      "Data columns (total 3 columns):\n",
      " #   Column       Non-Null Count  Dtype \n",
      "---  ------       --------------  ----- \n",
      " 0   PERIODO      32537 non-null  object\n",
      " 1   COD_MAT      32537 non-null  object\n",
      " 2   COD_DOCENTE  32537 non-null  object\n",
      "dtypes: object(3)\n",
      "memory usage: 762.7+ KB\n"
     ]
    }
   ],
   "source": [
    "# docentes_periodo_df.astype({'PERIODO':str, 'COD_MAT':str, 'COD_DOCENTE':str})\n",
    "docentes_periodo_df = as_string(docentes_periodo_df, columns=['PERIODO', 'COD_MAT', 'COD_DOCENTE'])\n",
    "docentes_periodo_df.info()"
   ]
  },
  {
   "cell_type": "markdown",
   "metadata": {},
   "source": [
    "### Agregar columna año y semestre:"
   ]
  },
  {
   "cell_type": "code",
   "execution_count": 56,
   "metadata": {},
   "outputs": [
    {
     "data": {
      "text/html": [
       "<div>\n",
       "<style scoped>\n",
       "    .dataframe tbody tr th:only-of-type {\n",
       "        vertical-align: middle;\n",
       "    }\n",
       "\n",
       "    .dataframe tbody tr th {\n",
       "        vertical-align: top;\n",
       "    }\n",
       "\n",
       "    .dataframe thead th {\n",
       "        text-align: right;\n",
       "    }\n",
       "</style>\n",
       "<table border=\"1\" class=\"dataframe\">\n",
       "  <thead>\n",
       "    <tr style=\"text-align: right;\">\n",
       "      <th></th>\n",
       "      <th>PERIODO</th>\n",
       "      <th>COD_MAT</th>\n",
       "      <th>COD_DOCENTE</th>\n",
       "      <th>año</th>\n",
       "      <th>semestre</th>\n",
       "    </tr>\n",
       "  </thead>\n",
       "  <tbody>\n",
       "    <tr>\n",
       "      <th>0</th>\n",
       "      <td>201210</td>\n",
       "      <td>11303</td>\n",
       "      <td>1329</td>\n",
       "      <td>2012</td>\n",
       "      <td>semeste 1</td>\n",
       "    </tr>\n",
       "    <tr>\n",
       "      <th>1</th>\n",
       "      <td>201210</td>\n",
       "      <td>11304</td>\n",
       "      <td>3111</td>\n",
       "      <td>2012</td>\n",
       "      <td>semeste 1</td>\n",
       "    </tr>\n",
       "    <tr>\n",
       "      <th>2</th>\n",
       "      <td>201210</td>\n",
       "      <td>11305</td>\n",
       "      <td>622</td>\n",
       "      <td>2012</td>\n",
       "      <td>semeste 1</td>\n",
       "    </tr>\n",
       "  </tbody>\n",
       "</table>\n",
       "</div>"
      ],
      "text/plain": [
       "  PERIODO COD_MAT COD_DOCENTE   año   semestre\n",
       "0  201210   11303        1329  2012  semeste 1\n",
       "1  201210   11304        3111  2012  semeste 1\n",
       "2  201210   11305         622  2012  semeste 1"
      ]
     },
     "execution_count": 56,
     "metadata": {},
     "output_type": "execute_result"
    }
   ],
   "source": [
    "docentes_periodo_df['año'] = docentes_periodo_df.PERIODO.str.slice(0,4)\n",
    "docentes_periodo_df['semestre'] = docentes_periodo_df.PERIODO.str.slice(4).map({'10':'semeste 1',\n",
    "                                                                                '20':'semestre 2',\n",
    "                                                                                '11':'intersemestral 1',\n",
    "                                                                                '21':'intersemestral 2'})\n",
    "docentes_periodo_df.head(3)                                                                              "
   ]
  },
  {
   "cell_type": "markdown",
   "metadata": {},
   "source": [
    "### Mas informacion general"
   ]
  },
  {
   "cell_type": "code",
   "execution_count": 57,
   "metadata": {
    "collapsed": true
   },
   "outputs": [
    {
     "name": "stdout",
     "output_type": "stream",
     "text": [
      "\n",
      "numero de filas = 32537\n",
      "numero de columnas = 5\n"
     ]
    },
    {
     "data": {
      "text/html": [
       "<div>\n",
       "<style scoped>\n",
       "    .dataframe tbody tr th:only-of-type {\n",
       "        vertical-align: middle;\n",
       "    }\n",
       "\n",
       "    .dataframe tbody tr th {\n",
       "        vertical-align: top;\n",
       "    }\n",
       "\n",
       "    .dataframe thead th {\n",
       "        text-align: right;\n",
       "    }\n",
       "</style>\n",
       "<table border=\"1\" class=\"dataframe\">\n",
       "  <thead>\n",
       "    <tr style=\"text-align: right;\">\n",
       "      <th></th>\n",
       "      <th>PERIODO</th>\n",
       "      <th>COD_MAT</th>\n",
       "      <th>COD_DOCENTE</th>\n",
       "      <th>año</th>\n",
       "      <th>semestre</th>\n",
       "    </tr>\n",
       "  </thead>\n",
       "  <tbody>\n",
       "    <tr>\n",
       "      <th>count</th>\n",
       "      <td>32537</td>\n",
       "      <td>32537</td>\n",
       "      <td>32537</td>\n",
       "      <td>32537</td>\n",
       "      <td>32537</td>\n",
       "    </tr>\n",
       "    <tr>\n",
       "      <th>unique</th>\n",
       "      <td>37</td>\n",
       "      <td>2275</td>\n",
       "      <td>2220</td>\n",
       "      <td>10</td>\n",
       "      <td>4</td>\n",
       "    </tr>\n",
       "    <tr>\n",
       "      <th>top</th>\n",
       "      <td>201620</td>\n",
       "      <td>77224</td>\n",
       "      <td>2442</td>\n",
       "      <td>2017</td>\n",
       "      <td>semeste 1</td>\n",
       "    </tr>\n",
       "    <tr>\n",
       "      <th>freq</th>\n",
       "      <td>1986</td>\n",
       "      <td>264</td>\n",
       "      <td>158</td>\n",
       "      <td>3901</td>\n",
       "      <td>16842</td>\n",
       "    </tr>\n",
       "  </tbody>\n",
       "</table>\n",
       "</div>"
      ],
      "text/plain": [
       "       PERIODO COD_MAT COD_DOCENTE    año   semestre\n",
       "count    32537   32537       32537  32537      32537\n",
       "unique      37    2275        2220     10          4\n",
       "top     201620   77224        2442   2017  semeste 1\n",
       "freq      1986     264         158   3901      16842"
      ]
     },
     "execution_count": 57,
     "metadata": {},
     "output_type": "execute_result"
    }
   ],
   "source": [
    "# Dimensiones del dataframe:\n",
    "print(f'\\nnumero de filas = {docentes_periodo_df.shape[0]}\\nnumero de columnas = {docentes_periodo_df.shape[1]}')\n",
    "# describcion general del dataframe:\n",
    "docentes_periodo_df.describe(include='all')"
   ]
  },
  {
   "cell_type": "code",
   "execution_count": 65,
   "metadata": {},
   "outputs": [
    {
     "data": {
      "text/plain": [
       "False    32537\n",
       "Name: PERIODO, dtype: int64"
      ]
     },
     "metadata": {},
     "output_type": "display_data"
    },
    {
     "data": {
      "text/plain": [
       "False    32537\n",
       "Name: COD_DOCENTE, dtype: int64"
      ]
     },
     "metadata": {},
     "output_type": "display_data"
    },
    {
     "data": {
      "text/plain": [
       "False    32537\n",
       "Name: COD_MAT, dtype: int64"
      ]
     },
     "metadata": {},
     "output_type": "display_data"
    }
   ],
   "source": [
    "display(docentes_periodo_df.PERIODO.isna().value_counts())\n",
    "display(docentes_periodo_df.COD_DOCENTE.isna().value_counts())\n",
    "display(docentes_periodo_df.COD_MAT.isna().value_counts())"
   ]
  },
  {
   "cell_type": "markdown",
   "metadata": {},
   "source": [
    "### Parece que los valores de \"COD_DOCENTE\" deben ser de 4 digitos, tenemos que verificarlo"
   ]
  },
  {
   "cell_type": "code",
   "execution_count": 8,
   "metadata": {},
   "outputs": [
    {
     "name": "stdout",
     "output_type": "stream",
     "text": [
      "Numero de COD_DOCENTE con menos de 4 digitos: 3404\n",
      "Numero de COD_DOCENTE con mas de 4 digitos: 0\n",
      "Numero de COD_DOCENTE con exactamente 4 digitos: 29133\n"
     ]
    }
   ],
   "source": [
    "print(f'Numero de COD_DOCENTE con menos de 4 digitos: {len(df.COD_DOCENTE[df.COD_DOCENTE.apply(len)<4])}')\n",
    "print(f'Numero de COD_DOCENTE con mas de 4 digitos: {len(df.COD_DOCENTE[df.COD_DOCENTE.apply(len)>4])}')\n",
    "print(f'Numero de COD_DOCENTE con exactamente 4 digitos: {len(df.COD_DOCENTE[df.COD_DOCENTE.apply(len)==4])}')"
   ]
  },
  {
   "cell_type": "markdown",
   "metadata": {},
   "source": [
    "> La mayoria tienen 4 digitos, unos pocos tienen menos"
   ]
  },
  {
   "cell_type": "code",
   "execution_count": 9,
   "metadata": {},
   "outputs": [
    {
     "data": {
      "text/plain": [
       "2220"
      ]
     },
     "execution_count": 9,
     "metadata": {},
     "output_type": "execute_result"
    }
   ],
   "source": [
    "len(df.COD_DOCENTE.unique())"
   ]
  },
  {
   "cell_type": "markdown",
   "metadata": {},
   "source": [
    "> Hay 2200 valores unicos para \"COD_DOCENTE\"\n",
    "\n",
    "Rellenamos con ceros a la izquierda para tener consistencia en cuanto a el numero de digitos, ademas verificamos que se mantiene el mismo numero de valores unicos:"
   ]
  },
  {
   "cell_type": "code",
   "execution_count": 11,
   "metadata": {},
   "outputs": [
    {
     "name": "stdout",
     "output_type": "stream",
     "text": [
      "Numero de COD_DOCENTE con exactamente 4 digitos: 32537\n"
     ]
    },
    {
     "data": {
      "text/plain": [
       "2220"
      ]
     },
     "execution_count": 11,
     "metadata": {},
     "output_type": "execute_result"
    }
   ],
   "source": [
    "df.COD_DOCENTE = df.COD_DOCENTE.str.zfill(4)\n",
    "print(f'Numero de COD_DOCENTE con exactamente 4 digitos: {len(df.COD_DOCENTE[df.COD_DOCENTE.apply(len)==4])}')\n",
    "len(df.COD_DOCENTE.unique())"
   ]
  },
  {
   "cell_type": "code",
   "execution_count": 7,
   "metadata": {},
   "outputs": [
    {
     "name": "stdout",
     "output_type": "stream",
     "text": [
      "Codigo de PERIODO con menos de 6 digitos: 0\n",
      "Codigo de PERIODO con mas de 6 digitos: 0\n",
      "Codigo de PERIODO con exactamente 6 digitos: 32537\n"
     ]
    }
   ],
   "source": [
    "# Parece que los peirodos deben ser de 6 digitos, tenemos que verificarlo\n",
    "print(f'Codigo de PERIODO con menos de 6 digitos: {len(df.PERIODO[df.PERIODO.apply(len)<6])}')\n",
    "print(f'Codigo de PERIODO con mas de 6 digitos: {len(df.PERIODO[df.PERIODO.apply(len)>6])}')\n",
    "print(f'Codigo de PERIODO con exactamente 6 digitos: {len(df.PERIODO[df.PERIODO.apply(len)==6])}') # estan todos bien"
   ]
  },
  {
   "cell_type": "code",
   "execution_count": 101,
   "metadata": {},
   "outputs": [
    {
     "data": {
      "text/plain": [
       "32537"
      ]
     },
     "execution_count": 101,
     "metadata": {},
     "output_type": "execute_result"
    }
   ],
   "source": [
    "len(df.COD_MAT[df.COD_MAT.apply(len)==6])"
   ]
  },
  {
   "cell_type": "code",
   "execution_count": 99,
   "metadata": {},
   "outputs": [
    {
     "data": {
      "text/plain": [
       "Series([], Name: COD_MAT, dtype: object)"
      ]
     },
     "execution_count": 99,
     "metadata": {},
     "output_type": "execute_result"
    }
   ],
   "source": [
    "filtro_6_digitos = df.COD_MAT.apply(len) == 6 # lista de falsos y verdaderos\n",
    "cod_6_digitos = df.COD_MAT[filtro_6_digitos] # aplicar filtro (obtenemos las filas correspondientes a los verdaderos)\n",
    "filt_starts_0 = cod_6_digitos.str.startswith('0')\n",
    "cod_6_digitos[filt_starts_0]"
   ]
  },
  {
   "cell_type": "code",
   "execution_count": 100,
   "metadata": {},
   "outputs": [],
   "source": [
    "df.COD_MAT = df.COD_MAT.str.zfill(6)"
   ]
  },
  {
   "cell_type": "code",
   "execution_count": 32,
   "metadata": {},
   "outputs": [],
   "source": [
    "num_filas = df.shape[0]"
   ]
  },
  {
   "cell_type": "code",
   "execution_count": 36,
   "metadata": {},
   "outputs": [
    {
     "name": "stdout",
     "output_type": "stream",
     "text": [
      "PERIODO: Numero Total de filas: 32537, filas no vacias: 32537\n",
      "COD_MAT: Numero Total de filas: 32537, filas no vacias: 32537\n",
      "COD_DOCENTE: Numero Total de filas: 32537, filas no vacias: 32537\n"
     ]
    }
   ],
   "source": [
    "print(f'PERIODO: Numero Total de filas: {num_filas}, filas no vacias: {df.PERIODO.count()}')\n",
    "print(f'COD_MAT: Numero Total de filas: {num_filas}, filas no vacias: {df.COD_MAT.count()}')\n",
    "print(f'COD_DOCENTE: Numero Total de filas: {num_filas}, filas no vacias: {df.COD_DOCENTE.count()}')"
   ]
  },
  {
   "cell_type": "code",
   "execution_count": 80,
   "metadata": {},
   "outputs": [
    {
     "data": {
      "text/plain": [
       "2926     0000\n",
       "2925     0000\n",
       "2923     0000\n",
       "2922     0000\n",
       "1676     0000\n",
       "         ... \n",
       "31794    5708\n",
       "31835    5708\n",
       "31875    5711\n",
       "31937    5713\n",
       "31938    5714\n",
       "Name: COD_DOCENTE, Length: 32537, dtype: object"
      ]
     },
     "execution_count": 80,
     "metadata": {},
     "output_type": "execute_result"
    }
   ],
   "source": [
    "df.COD_DOCENTE.sort_values()"
   ]
  },
  {
   "cell_type": "code",
   "execution_count": 83,
   "metadata": {},
   "outputs": [
    {
     "data": {
      "text/plain": [
       "2220"
      ]
     },
     "execution_count": 83,
     "metadata": {},
     "output_type": "execute_result"
    }
   ],
   "source": [
    "len(df.COD_DOCENTE.unique())"
   ]
  },
  {
   "cell_type": "code",
   "execution_count": 48,
   "metadata": {},
   "outputs": [
    {
     "data": {
      "text/html": [
       "<div>\n",
       "<style scoped>\n",
       "    .dataframe tbody tr th:only-of-type {\n",
       "        vertical-align: middle;\n",
       "    }\n",
       "\n",
       "    .dataframe tbody tr th {\n",
       "        vertical-align: top;\n",
       "    }\n",
       "\n",
       "    .dataframe thead th {\n",
       "        text-align: right;\n",
       "    }\n",
       "</style>\n",
       "<table border=\"1\" class=\"dataframe\">\n",
       "  <thead>\n",
       "    <tr style=\"text-align: right;\">\n",
       "      <th></th>\n",
       "      <th></th>\n",
       "      <th>COD_DOCENTE</th>\n",
       "    </tr>\n",
       "    <tr>\n",
       "      <th>PERIODO</th>\n",
       "      <th>COD_MAT</th>\n",
       "      <th></th>\n",
       "    </tr>\n",
       "  </thead>\n",
       "  <tbody>\n",
       "    <tr>\n",
       "      <th>201210</th>\n",
       "      <th>11303</th>\n",
       "      <td>1</td>\n",
       "    </tr>\n",
       "    <tr>\n",
       "      <th rowspan=\"6\" valign=\"top\">201720</th>\n",
       "      <th>66365</th>\n",
       "      <td>1</td>\n",
       "    </tr>\n",
       "    <tr>\n",
       "      <th>66364</th>\n",
       "      <td>1</td>\n",
       "    </tr>\n",
       "    <tr>\n",
       "      <th>66363</th>\n",
       "      <td>1</td>\n",
       "    </tr>\n",
       "    <tr>\n",
       "      <th>66362</th>\n",
       "      <td>1</td>\n",
       "    </tr>\n",
       "    <tr>\n",
       "      <th>...</th>\n",
       "      <td>...</td>\n",
       "    </tr>\n",
       "    <tr>\n",
       "      <th>88146</th>\n",
       "      <td>18</td>\n",
       "    </tr>\n",
       "    <tr>\n",
       "      <th>201910</th>\n",
       "      <th>66441</th>\n",
       "      <td>18</td>\n",
       "    </tr>\n",
       "    <tr>\n",
       "      <th>201820</th>\n",
       "      <th>66441</th>\n",
       "      <td>18</td>\n",
       "    </tr>\n",
       "    <tr>\n",
       "      <th>201810</th>\n",
       "      <th>66441</th>\n",
       "      <td>18</td>\n",
       "    </tr>\n",
       "    <tr>\n",
       "      <th>202010</th>\n",
       "      <th>88146</th>\n",
       "      <td>20</td>\n",
       "    </tr>\n",
       "  </tbody>\n",
       "</table>\n",
       "<p>23971 rows × 1 columns</p>\n",
       "</div>"
      ],
      "text/plain": [
       "                 COD_DOCENTE\n",
       "PERIODO COD_MAT             \n",
       "201210  11303              1\n",
       "201720  66365              1\n",
       "        66364              1\n",
       "        66363              1\n",
       "        66362              1\n",
       "...                      ...\n",
       "        88146             18\n",
       "201910  66441             18\n",
       "201820  66441             18\n",
       "201810  66441             18\n",
       "202010  88146             20\n",
       "\n",
       "[23971 rows x 1 columns]"
      ]
     },
     "execution_count": 48,
     "metadata": {},
     "output_type": "execute_result"
    }
   ],
   "source": [
    "df.groupby(['PERIODO','COD_MAT']).count().sort_values(by = 'COD_DOCENTE')"
   ]
  },
  {
   "cell_type": "code",
   "execution_count": 57,
   "metadata": {},
   "outputs": [
    {
     "data": {
      "text/plain": [
       "11"
      ]
     },
     "execution_count": 57,
     "metadata": {},
     "output_type": "execute_result"
    }
   ],
   "source": [
    "dato = int('0011')\n",
    "dato"
   ]
  },
  {
   "cell_type": "code",
   "execution_count": 58,
   "metadata": {},
   "outputs": [
    {
     "data": {
      "text/plain": [
       "'11'"
      ]
     },
     "execution_count": 58,
     "metadata": {},
     "output_type": "execute_result"
    }
   ],
   "source": [
    "str(dato)"
   ]
  },
  {
   "cell_type": "markdown",
   "metadata": {},
   "source": [
    "## 2. Tabla \"eval_docentes_periodo\""
   ]
  },
  {
   "cell_type": "code",
   "execution_count": 66,
   "metadata": {},
   "outputs": [
    {
     "name": "stdout",
     "output_type": "stream",
     "text": [
      "<class 'pandas.core.frame.DataFrame'>\n",
      "RangeIndex: 253035 entries, 0 to 253034\n",
      "Data columns (total 6 columns):\n",
      " #   Column        Non-Null Count   Dtype \n",
      "---  ------        --------------   ----- \n",
      " 0   PERIODO       253035 non-null  int64 \n",
      " 1   COD_DOCENTE   253035 non-null  int64 \n",
      " 2   COD_MAT       253035 non-null  int64 \n",
      " 3   COD_FACTOR    253035 non-null  int64 \n",
      " 4   NOM_FACTOR    253035 non-null  object\n",
      " 5   CALIFICACION  253035 non-null  object\n",
      "dtypes: int64(4), object(2)\n",
      "memory usage: 11.6+ MB\n"
     ]
    }
   ],
   "source": [
    "eval_docentes_periodo_df.info()"
   ]
  },
  {
   "cell_type": "code",
   "execution_count": null,
   "metadata": {},
   "outputs": [],
   "source": []
  }
 ],
 "metadata": {
  "interpreter": {
   "hash": "d8b8044b3f60dbc589767deccfec2ff1ed5225ebd8bc91aed3a6ab549515ddca"
  },
  "kernelspec": {
   "display_name": "Python 3.9.1 64-bit ('.venv': venv)",
   "name": "python3"
  },
  "language_info": {
   "codemirror_mode": {
    "name": "ipython",
    "version": 3
   },
   "file_extension": ".py",
   "mimetype": "text/x-python",
   "name": "python",
   "nbconvert_exporter": "python",
   "pygments_lexer": "ipython3",
   "version": "3.9.1"
  }
 },
 "nbformat": 4,
 "nbformat_minor": 5
}