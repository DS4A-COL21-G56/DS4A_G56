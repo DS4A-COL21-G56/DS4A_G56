{
 "metadata": {
  "language_info": {
   "codemirror_mode": {
    "name": "ipython",
    "version": 3
   },
   "file_extension": ".py",
   "mimetype": "text/x-python",
   "name": "python",
   "nbconvert_exporter": "python",
   "pygments_lexer": "ipython3",
   "version": "3.9.1"
  },
  "orig_nbformat": 4,
  "kernelspec": {
   "name": "python3",
   "display_name": "Python 3.9.1 64-bit ('.venv': venv)"
  },
  "interpreter": {
   "hash": "d8b8044b3f60dbc589767deccfec2ff1ed5225ebd8bc91aed3a6ab549515ddca"
  }
 },
 "nbformat": 4,
 "nbformat_minor": 2,
 "cells": [
  {
   "cell_type": "code",
   "execution_count": 1,
   "metadata": {},
   "outputs": [],
   "source": [
    "import pandas as pd"
   ]
  },
  {
   "cell_type": "code",
   "execution_count": 7,
   "metadata": {},
   "outputs": [],
   "source": [
    "df = pd.read_csv('../data/raw/docentes_periodo.csv', sep=';')"
   ]
  },
  {
   "cell_type": "code",
   "execution_count": 8,
   "metadata": {},
   "outputs": [
    {
     "output_type": "execute_result",
     "data": {
      "text/plain": [
       "   PERIODO  COD_MAT  COD_DOCENTE\n",
       "0   201210    11303         1329\n",
       "1   201210    11304         3111\n",
       "2   201210    11305          622\n",
       "3   201210    11312         1329\n",
       "4   201210    11313         1329"
      ],
      "text/html": "<div>\n<style scoped>\n    .dataframe tbody tr th:only-of-type {\n        vertical-align: middle;\n    }\n\n    .dataframe tbody tr th {\n        vertical-align: top;\n    }\n\n    .dataframe thead th {\n        text-align: right;\n    }\n</style>\n<table border=\"1\" class=\"dataframe\">\n  <thead>\n    <tr style=\"text-align: right;\">\n      <th></th>\n      <th>PERIODO</th>\n      <th>COD_MAT</th>\n      <th>COD_DOCENTE</th>\n    </tr>\n  </thead>\n  <tbody>\n    <tr>\n      <th>0</th>\n      <td>201210</td>\n      <td>11303</td>\n      <td>1329</td>\n    </tr>\n    <tr>\n      <th>1</th>\n      <td>201210</td>\n      <td>11304</td>\n      <td>3111</td>\n    </tr>\n    <tr>\n      <th>2</th>\n      <td>201210</td>\n      <td>11305</td>\n      <td>622</td>\n    </tr>\n    <tr>\n      <th>3</th>\n      <td>201210</td>\n      <td>11312</td>\n      <td>1329</td>\n    </tr>\n    <tr>\n      <th>4</th>\n      <td>201210</td>\n      <td>11313</td>\n      <td>1329</td>\n    </tr>\n  </tbody>\n</table>\n</div>"
     },
     "metadata": {},
     "execution_count": 8
    }
   ],
   "source": [
    "df.head()"
   ]
  },
  {
   "cell_type": "code",
   "execution_count": null,
   "metadata": {},
   "outputs": [],
   "source": []
  }
 ]
}