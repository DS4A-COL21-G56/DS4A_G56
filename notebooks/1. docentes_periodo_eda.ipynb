{
 "cells": [
  {
   "cell_type": "code",
   "execution_count": 1,
   "id": "d4750cac",
   "metadata": {},
   "outputs": [],
   "source": [
    "#Import libraries\n",
    "import pandas as pd\n",
    "import numpy as np\n",
    "import matplotlib.pyplot as plt\n",
    "import seaborn as sns\n",
    "import matplotlib.ticker as mtick\n",
    "from datetime import datetime\n",
    "import math"
   ]
  },
  {
   "cell_type": "code",
   "execution_count": 2,
   "id": "2eb3240b",
   "metadata": {},
   "outputs": [],
   "source": [
    "docentes_file = '../data/docentes_periodo.csv'\n",
    "teachers_by_period = pd.read_csv(docentes_file, delimiter = ';', encoding = \"ISO-8859-1\")"
   ]
  },
  {
   "cell_type": "code",
   "execution_count": 3,
   "id": "725820e5",
   "metadata": {},
   "outputs": [
    {
     "data": {
      "text/html": [
       "<div>\n",
       "<style scoped>\n",
       "    .dataframe tbody tr th:only-of-type {\n",
       "        vertical-align: middle;\n",
       "    }\n",
       "\n",
       "    .dataframe tbody tr th {\n",
       "        vertical-align: top;\n",
       "    }\n",
       "\n",
       "    .dataframe thead th {\n",
       "        text-align: right;\n",
       "    }\n",
       "</style>\n",
       "<table border=\"1\" class=\"dataframe\">\n",
       "  <thead>\n",
       "    <tr style=\"text-align: right;\">\n",
       "      <th></th>\n",
       "      <th>PERIODO</th>\n",
       "      <th>COD_MAT</th>\n",
       "      <th>COD_DOCENTE</th>\n",
       "    </tr>\n",
       "  </thead>\n",
       "  <tbody>\n",
       "    <tr>\n",
       "      <th>0</th>\n",
       "      <td>201210</td>\n",
       "      <td>11303</td>\n",
       "      <td>1329</td>\n",
       "    </tr>\n",
       "    <tr>\n",
       "      <th>1</th>\n",
       "      <td>201210</td>\n",
       "      <td>11304</td>\n",
       "      <td>3111</td>\n",
       "    </tr>\n",
       "    <tr>\n",
       "      <th>2</th>\n",
       "      <td>201210</td>\n",
       "      <td>11305</td>\n",
       "      <td>622</td>\n",
       "    </tr>\n",
       "    <tr>\n",
       "      <th>3</th>\n",
       "      <td>201210</td>\n",
       "      <td>11312</td>\n",
       "      <td>1329</td>\n",
       "    </tr>\n",
       "    <tr>\n",
       "      <th>4</th>\n",
       "      <td>201210</td>\n",
       "      <td>11313</td>\n",
       "      <td>1329</td>\n",
       "    </tr>\n",
       "  </tbody>\n",
       "</table>\n",
       "</div>"
      ],
      "text/plain": [
       "   PERIODO  COD_MAT  COD_DOCENTE\n",
       "0   201210    11303         1329\n",
       "1   201210    11304         3111\n",
       "2   201210    11305          622\n",
       "3   201210    11312         1329\n",
       "4   201210    11313         1329"
      ]
     },
     "metadata": {},
     "output_type": "display_data"
    }
   ],
   "source": [
    "display(teachers_by_period.head())"
   ]
  },
  {
   "cell_type": "code",
   "execution_count": 4,
   "id": "e7840693",
   "metadata": {},
   "outputs": [
    {
     "name": "stdout",
     "output_type": "stream",
     "text": [
      "<class 'pandas.core.frame.DataFrame'>\n",
      "RangeIndex: 32537 entries, 0 to 32536\n",
      "Data columns (total 3 columns):\n",
      "PERIODO        32537 non-null int64\n",
      "COD_MAT        32537 non-null int64\n",
      "COD_DOCENTE    32537 non-null int64\n",
      "dtypes: int64(3)\n",
      "memory usage: 762.7 KB\n"
     ]
    },
    {
     "data": {
      "text/plain": [
       "None"
      ]
     },
     "metadata": {},
     "output_type": "display_data"
    }
   ],
   "source": [
    "display(teachers_by_period.info())"
   ]
  },
  {
   "cell_type": "code",
   "execution_count": 14,
   "id": "211898b1",
   "metadata": {},
   "outputs": [
    {
     "data": {
      "text/html": [
       "<div>\n",
       "<style scoped>\n",
       "    .dataframe tbody tr th:only-of-type {\n",
       "        vertical-align: middle;\n",
       "    }\n",
       "\n",
       "    .dataframe tbody tr th {\n",
       "        vertical-align: top;\n",
       "    }\n",
       "\n",
       "    .dataframe thead th {\n",
       "        text-align: right;\n",
       "    }\n",
       "</style>\n",
       "<table border=\"1\" class=\"dataframe\">\n",
       "  <thead>\n",
       "    <tr style=\"text-align: right;\">\n",
       "      <th></th>\n",
       "      <th>PERIODO</th>\n",
       "      <th>COD_MAT</th>\n",
       "      <th>COD_DOCENTE</th>\n",
       "    </tr>\n",
       "  </thead>\n",
       "  <tbody>\n",
       "    <tr>\n",
       "      <th>count</th>\n",
       "      <td>32537</td>\n",
       "      <td>32537</td>\n",
       "      <td>32537</td>\n",
       "    </tr>\n",
       "    <tr>\n",
       "      <th>unique</th>\n",
       "      <td>37</td>\n",
       "      <td>2275</td>\n",
       "      <td>2220</td>\n",
       "    </tr>\n",
       "    <tr>\n",
       "      <th>top</th>\n",
       "      <td>201620</td>\n",
       "      <td>77224</td>\n",
       "      <td>2442</td>\n",
       "    </tr>\n",
       "    <tr>\n",
       "      <th>freq</th>\n",
       "      <td>1986</td>\n",
       "      <td>264</td>\n",
       "      <td>158</td>\n",
       "    </tr>\n",
       "  </tbody>\n",
       "</table>\n",
       "</div>"
      ],
      "text/plain": [
       "       PERIODO COD_MAT COD_DOCENTE\n",
       "count    32537   32537       32537\n",
       "unique      37    2275        2220\n",
       "top     201620   77224        2442\n",
       "freq      1986     264         158"
      ]
     },
     "metadata": {},
     "output_type": "display_data"
    }
   ],
   "source": [
    "teachers_by_period['PERIODO'] = teachers_by_period['PERIODO'].astype(str)\n",
    "teachers_by_period['COD_MAT'] = teachers_by_period['COD_MAT'].astype(str)\n",
    "teachers_by_period['COD_DOCENTE'] = teachers_by_period['COD_DOCENTE'].astype(str)\n",
    "display(teachers_by_period.describe())"
   ]
  },
  {
   "cell_type": "code",
   "execution_count": 91,
   "id": "17e99f94",
   "metadata": {},
   "outputs": [
    {
     "data": {
      "text/html": [
       "<div>\n",
       "<style scoped>\n",
       "    .dataframe tbody tr th:only-of-type {\n",
       "        vertical-align: middle;\n",
       "    }\n",
       "\n",
       "    .dataframe tbody tr th {\n",
       "        vertical-align: top;\n",
       "    }\n",
       "\n",
       "    .dataframe thead th {\n",
       "        text-align: right;\n",
       "    }\n",
       "</style>\n",
       "<table border=\"1\" class=\"dataframe\">\n",
       "  <thead>\n",
       "    <tr style=\"text-align: right;\">\n",
       "      <th></th>\n",
       "      <th>periodo</th>\n",
       "      <th>count</th>\n",
       "    </tr>\n",
       "  </thead>\n",
       "  <tbody>\n",
       "    <tr>\n",
       "      <th>16</th>\n",
       "      <td>201210</td>\n",
       "      <td>1407</td>\n",
       "    </tr>\n",
       "    <tr>\n",
       "      <th>29</th>\n",
       "      <td>201211</td>\n",
       "      <td>11</td>\n",
       "    </tr>\n",
       "    <tr>\n",
       "      <th>15</th>\n",
       "      <td>201220</td>\n",
       "      <td>1503</td>\n",
       "    </tr>\n",
       "    <tr>\n",
       "      <th>24</th>\n",
       "      <td>201221</td>\n",
       "      <td>23</td>\n",
       "    </tr>\n",
       "    <tr>\n",
       "      <th>14</th>\n",
       "      <td>201310</td>\n",
       "      <td>1564</td>\n",
       "    </tr>\n",
       "  </tbody>\n",
       "</table>\n",
       "</div>"
      ],
      "text/plain": [
       "   periodo  count\n",
       "16  201210   1407\n",
       "29  201211     11\n",
       "15  201220   1503\n",
       "24  201221     23\n",
       "14  201310   1564"
      ]
     },
     "execution_count": 91,
     "metadata": {},
     "output_type": "execute_result"
    }
   ],
   "source": [
    "periodos = pd.DataFrame(teachers_by_period['PERIODO'].value_counts()).reset_index()\n",
    "periodos.columns = ['periodo', 'count']\n",
    "periodos = periodos.sort_values('periodo')\n",
    "periodos.head()"
   ]
  },
  {
   "cell_type": "code",
   "execution_count": 49,
   "id": "0b9ccf3f",
   "metadata": {},
   "outputs": [],
   "source": [
    "teachers_by_period['corte'] = [i[4:] for i in teachers_by_period['PERIODO']]\n",
    "teachers_by_period['year'] = [i[0:4] for i in teachers_by_period['PERIODO']]"
   ]
  },
  {
   "cell_type": "code",
   "execution_count": 50,
   "id": "c5f250d2",
   "metadata": {},
   "outputs": [
    {
     "data": {
      "text/html": [
       "<div>\n",
       "<style scoped>\n",
       "    .dataframe tbody tr th:only-of-type {\n",
       "        vertical-align: middle;\n",
       "    }\n",
       "\n",
       "    .dataframe tbody tr th {\n",
       "        vertical-align: top;\n",
       "    }\n",
       "\n",
       "    .dataframe thead th {\n",
       "        text-align: right;\n",
       "    }\n",
       "</style>\n",
       "<table border=\"1\" class=\"dataframe\">\n",
       "  <thead>\n",
       "    <tr style=\"text-align: right;\">\n",
       "      <th></th>\n",
       "      <th>PERIODO</th>\n",
       "      <th>COD_MAT</th>\n",
       "      <th>COD_DOCENTE</th>\n",
       "      <th>corte</th>\n",
       "      <th>year</th>\n",
       "    </tr>\n",
       "  </thead>\n",
       "  <tbody>\n",
       "    <tr>\n",
       "      <th>0</th>\n",
       "      <td>201210</td>\n",
       "      <td>11303</td>\n",
       "      <td>1329</td>\n",
       "      <td>10</td>\n",
       "      <td>2012</td>\n",
       "    </tr>\n",
       "    <tr>\n",
       "      <th>1</th>\n",
       "      <td>201210</td>\n",
       "      <td>11304</td>\n",
       "      <td>3111</td>\n",
       "      <td>10</td>\n",
       "      <td>2012</td>\n",
       "    </tr>\n",
       "    <tr>\n",
       "      <th>2</th>\n",
       "      <td>201210</td>\n",
       "      <td>11305</td>\n",
       "      <td>622</td>\n",
       "      <td>10</td>\n",
       "      <td>2012</td>\n",
       "    </tr>\n",
       "    <tr>\n",
       "      <th>3</th>\n",
       "      <td>201210</td>\n",
       "      <td>11312</td>\n",
       "      <td>1329</td>\n",
       "      <td>10</td>\n",
       "      <td>2012</td>\n",
       "    </tr>\n",
       "    <tr>\n",
       "      <th>4</th>\n",
       "      <td>201210</td>\n",
       "      <td>11313</td>\n",
       "      <td>1329</td>\n",
       "      <td>10</td>\n",
       "      <td>2012</td>\n",
       "    </tr>\n",
       "  </tbody>\n",
       "</table>\n",
       "</div>"
      ],
      "text/plain": [
       "  PERIODO COD_MAT COD_DOCENTE corte  year\n",
       "0  201210   11303        1329    10  2012\n",
       "1  201210   11304        3111    10  2012\n",
       "2  201210   11305         622    10  2012\n",
       "3  201210   11312        1329    10  2012\n",
       "4  201210   11313        1329    10  2012"
      ]
     },
     "execution_count": 50,
     "metadata": {},
     "output_type": "execute_result"
    }
   ],
   "source": [
    "teachers_by_period.head()"
   ]
  },
  {
   "cell_type": "code",
   "execution_count": 68,
   "id": "63aa6b5a",
   "metadata": {},
   "outputs": [
    {
     "data": {
      "text/plain": [
       "Text(0.5, 1.0, 'Bar plot')"
      ]
     },
     "execution_count": 68,
     "metadata": {},
     "output_type": "execute_result"
    },
    {
     "data": {
      "image/png": "[encoded data removed]",
      "text/plain": [
       "<Figure size 1152x576 with 1 Axes>"
      ]
     },
     "metadata": {
      "needs_background": "light"
     },
     "output_type": "display_data"
    }
   ],
   "source": [
    "groupued_by_year = pd.DataFrame(teachers_by_period.groupby('year')['COD_DOCENTE'].count()).reset_index()\n",
    "groupued_by_year.columns = ['year', 'count']\n",
    "\n",
    "fig, ax = plt.subplots(figsize = (16,8))\n",
    "plt.bar(groupued_by_year['year'], groupued_by_year['count'])\n",
    "plt.ylim((0,5000))\n",
    "ax.grid(True)\n",
    "ax.set_xlabel('year')\n",
    "ax.set_ylabel('number of subjects')\n",
    "ax.set_title('Bar plot')"
   ]
  },
  {
   "cell_type": "code",
   "execution_count": 71,
   "id": "c15ed791",
   "metadata": {},
   "outputs": [
    {
     "data": {
      "text/plain": [
       "Text(0.5, 1.0, 'Bar plot')"
      ]
     },
     "execution_count": 71,
     "metadata": {},
     "output_type": "execute_result"
    },
    {
     "data": {
      "image/png": "[encoded data removed]",
      "text/plain": [
       "<Figure size 864x432 with 1 Axes>"
      ]
     },
     "metadata": {
      "needs_background": "light"
     },
     "output_type": "display_data"
    }
   ],
   "source": [
    "groupued_by_corte = pd.DataFrame(teachers_by_period.groupby('corte')['COD_DOCENTE'].count()).reset_index()\n",
    "groupued_by_corte.columns = ['corte', 'count']\n",
    "\n",
    "fig, ax = plt.subplots(figsize = (12,6))\n",
    "plt.bar(groupued_by_corte['corte'], groupued_by_corte['count'])\n",
    "#plt.ylim((0,5000))\n",
    "ax.grid(True)\n",
    "ax.set_xlabel('corte')\n",
    "ax.set_ylabel('number of subjects')\n",
    "ax.set_title('Bar plot')"
   ]
  },
  {
   "cell_type": "code",
   "execution_count": 118,
   "id": "d8ab8124",
   "metadata": {},
   "outputs": [
    {
     "data": {
      "image/png": "[encoded data removed]",
      "text/plain": [
       "<Figure size 1152x576 with 1 Axes>"
      ]
     },
     "metadata": {
      "needs_background": "light"
     },
     "output_type": "display_data"
    }
   ],
   "source": [
    "groupued_by_PERIODO = pd.DataFrame(teachers_by_period.groupby('PERIODO')['COD_DOCENTE'].count()).reset_index()\n",
    "groupued_by_PERIODO.columns = ['PERIODO', 'count']\n",
    "\n",
    "fig, ax = plt.subplots(figsize = (16,8))\n",
    "plt.bar(groupued_by_PERIODO['PERIODO'], groupued_by_PERIODO['count'])\n",
    "#plt.ylim((0,5000))\n",
    "ax.grid(True)\n",
    "ax.set_xlabel('PERIODO')\n",
    "ax.set_ylabel('number of subjects')\n",
    "ax.set_title('Bar plot')\n",
    "plt.xticks(rotation=45)\n",
    "pass"
   ]
  },
  {
   "cell_type": "code",
   "execution_count": 83,
   "id": "195e11b0",
   "metadata": {},
   "outputs": [
    {
     "data": {
      "text/html": [
       "<div>\n",
       "<style scoped>\n",
       "    .dataframe tbody tr th:only-of-type {\n",
       "        vertical-align: middle;\n",
       "    }\n",
       "\n",
       "    .dataframe tbody tr th {\n",
       "        vertical-align: top;\n",
       "    }\n",
       "\n",
       "    .dataframe thead th {\n",
       "        text-align: right;\n",
       "    }\n",
       "</style>\n",
       "<table border=\"1\" class=\"dataframe\">\n",
       "  <thead>\n",
       "    <tr style=\"text-align: right;\">\n",
       "      <th></th>\n",
       "      <th>teacher</th>\n",
       "      <th>COD_MAT</th>\n",
       "      <th>count</th>\n",
       "    </tr>\n",
       "  </thead>\n",
       "  <tbody>\n",
       "    <tr>\n",
       "      <th>5992</th>\n",
       "      <td>398</td>\n",
       "      <td>66443</td>\n",
       "      <td>25</td>\n",
       "    </tr>\n",
       "    <tr>\n",
       "      <th>2404</th>\n",
       "      <td>3010</td>\n",
       "      <td>66443</td>\n",
       "      <td>23</td>\n",
       "    </tr>\n",
       "    <tr>\n",
       "      <th>1854</th>\n",
       "      <td>2594</td>\n",
       "      <td>66443</td>\n",
       "      <td>23</td>\n",
       "    </tr>\n",
       "    <tr>\n",
       "      <th>1059</th>\n",
       "      <td>2113</td>\n",
       "      <td>66441</td>\n",
       "      <td>22</td>\n",
       "    </tr>\n",
       "    <tr>\n",
       "      <th>4293</th>\n",
       "      <td>352</td>\n",
       "      <td>66441</td>\n",
       "      <td>22</td>\n",
       "    </tr>\n",
       "  </tbody>\n",
       "</table>\n",
       "</div>"
      ],
      "text/plain": [
       "     teacher COD_MAT  count\n",
       "5992     398   66443     25\n",
       "2404    3010   66443     23\n",
       "1854    2594   66443     23\n",
       "1059    2113   66441     22\n",
       "4293     352   66441     22"
      ]
     },
     "execution_count": 83,
     "metadata": {},
     "output_type": "execute_result"
    }
   ],
   "source": [
    "groupued_by_teacher = pd.DataFrame(teachers_by_period.groupby(['COD_DOCENTE', 'COD_MAT'])['PERIODO'].count()).reset_index()\n",
    "groupued_by_teacher.columns = ['teacher', 'COD_MAT', 'count']\n",
    "groupued_by_teacher.sort_values('count', ascending = False, inplace = True)\n",
    "groupued_by_teacher.head(5)"
   ]
  },
  {
   "cell_type": "code",
   "execution_count": 86,
   "id": "ccfd5c9c",
   "metadata": {},
   "outputs": [
    {
     "data": {
      "text/plain": [
       "0       38\n",
       "3080    38\n",
       "3195    30\n",
       "1329    30\n",
       "3438    29\n",
       "Name: teacher, dtype: int64"
      ]
     },
     "execution_count": 86,
     "metadata": {},
     "output_type": "execute_result"
    }
   ],
   "source": [
    "groupued_by_teacher['teacher'].value_counts().head()"
   ]
  },
  {
   "cell_type": "code",
   "execution_count": 89,
   "id": "c8df7856",
   "metadata": {},
   "outputs": [
    {
     "data": {
      "text/html": [
       "<div>\n",
       "<style scoped>\n",
       "    .dataframe tbody tr th:only-of-type {\n",
       "        vertical-align: middle;\n",
       "    }\n",
       "\n",
       "    .dataframe tbody tr th {\n",
       "        vertical-align: top;\n",
       "    }\n",
       "\n",
       "    .dataframe thead th {\n",
       "        text-align: right;\n",
       "    }\n",
       "</style>\n",
       "<table border=\"1\" class=\"dataframe\">\n",
       "  <thead>\n",
       "    <tr style=\"text-align: right;\">\n",
       "      <th></th>\n",
       "      <th>teacher</th>\n",
       "      <th>COD_MAT</th>\n",
       "      <th>count</th>\n",
       "    </tr>\n",
       "  </thead>\n",
       "  <tbody>\n",
       "    <tr>\n",
       "      <th>1526</th>\n",
       "      <td>2442</td>\n",
       "      <td>66230</td>\n",
       "      <td>19</td>\n",
       "    </tr>\n",
       "    <tr>\n",
       "      <th>1534</th>\n",
       "      <td>2442</td>\n",
       "      <td>66257</td>\n",
       "      <td>18</td>\n",
       "    </tr>\n",
       "    <tr>\n",
       "      <th>1527</th>\n",
       "      <td>2442</td>\n",
       "      <td>66236</td>\n",
       "      <td>17</td>\n",
       "    </tr>\n",
       "    <tr>\n",
       "      <th>1524</th>\n",
       "      <td>2442</td>\n",
       "      <td>66219</td>\n",
       "      <td>17</td>\n",
       "    </tr>\n",
       "    <tr>\n",
       "      <th>1523</th>\n",
       "      <td>2442</td>\n",
       "      <td>66217</td>\n",
       "      <td>17</td>\n",
       "    </tr>\n",
       "    <tr>\n",
       "      <th>1522</th>\n",
       "      <td>2442</td>\n",
       "      <td>66203</td>\n",
       "      <td>15</td>\n",
       "    </tr>\n",
       "    <tr>\n",
       "      <th>1535</th>\n",
       "      <td>2442</td>\n",
       "      <td>66259</td>\n",
       "      <td>10</td>\n",
       "    </tr>\n",
       "    <tr>\n",
       "      <th>1532</th>\n",
       "      <td>2442</td>\n",
       "      <td>66252</td>\n",
       "      <td>10</td>\n",
       "    </tr>\n",
       "    <tr>\n",
       "      <th>1531</th>\n",
       "      <td>2442</td>\n",
       "      <td>66250</td>\n",
       "      <td>10</td>\n",
       "    </tr>\n",
       "    <tr>\n",
       "      <th>1529</th>\n",
       "      <td>2442</td>\n",
       "      <td>66246</td>\n",
       "      <td>10</td>\n",
       "    </tr>\n",
       "    <tr>\n",
       "      <th>1528</th>\n",
       "      <td>2442</td>\n",
       "      <td>66241</td>\n",
       "      <td>6</td>\n",
       "    </tr>\n",
       "    <tr>\n",
       "      <th>1530</th>\n",
       "      <td>2442</td>\n",
       "      <td>66249</td>\n",
       "      <td>4</td>\n",
       "    </tr>\n",
       "    <tr>\n",
       "      <th>1538</th>\n",
       "      <td>2442</td>\n",
       "      <td>66453</td>\n",
       "      <td>1</td>\n",
       "    </tr>\n",
       "    <tr>\n",
       "      <th>1537</th>\n",
       "      <td>2442</td>\n",
       "      <td>66264</td>\n",
       "      <td>1</td>\n",
       "    </tr>\n",
       "    <tr>\n",
       "      <th>1536</th>\n",
       "      <td>2442</td>\n",
       "      <td>66261</td>\n",
       "      <td>1</td>\n",
       "    </tr>\n",
       "    <tr>\n",
       "      <th>1533</th>\n",
       "      <td>2442</td>\n",
       "      <td>66256</td>\n",
       "      <td>1</td>\n",
       "    </tr>\n",
       "    <tr>\n",
       "      <th>1525</th>\n",
       "      <td>2442</td>\n",
       "      <td>66225</td>\n",
       "      <td>1</td>\n",
       "    </tr>\n",
       "  </tbody>\n",
       "</table>\n",
       "</div>"
      ],
      "text/plain": [
       "     teacher COD_MAT  count\n",
       "1526    2442   66230     19\n",
       "1534    2442   66257     18\n",
       "1527    2442   66236     17\n",
       "1524    2442   66219     17\n",
       "1523    2442   66217     17\n",
       "1522    2442   66203     15\n",
       "1535    2442   66259     10\n",
       "1532    2442   66252     10\n",
       "1531    2442   66250     10\n",
       "1529    2442   66246     10\n",
       "1528    2442   66241      6\n",
       "1530    2442   66249      4\n",
       "1538    2442   66453      1\n",
       "1537    2442   66264      1\n",
       "1536    2442   66261      1\n",
       "1533    2442   66256      1\n",
       "1525    2442   66225      1"
      ]
     },
     "execution_count": 89,
     "metadata": {},
     "output_type": "execute_result"
    }
   ],
   "source": [
    "groupued_by_teacher[groupued_by_teacher['teacher']=='2442']"
   ]
  },
  {
   "cell_type": "code",
   "execution_count": 117,
   "id": "9f86f20a",
   "metadata": {},
   "outputs": [
    {
     "data": {
      "text/html": [
       "<div>\n",
       "<style scoped>\n",
       "    .dataframe tbody tr th:only-of-type {\n",
       "        vertical-align: middle;\n",
       "    }\n",
       "\n",
       "    .dataframe tbody tr th {\n",
       "        vertical-align: top;\n",
       "    }\n",
       "\n",
       "    .dataframe thead th {\n",
       "        text-align: right;\n",
       "    }\n",
       "</style>\n",
       "<table border=\"1\" class=\"dataframe\">\n",
       "  <thead>\n",
       "    <tr style=\"text-align: right;\">\n",
       "      <th></th>\n",
       "      <th>teacher</th>\n",
       "      <th>count</th>\n",
       "    </tr>\n",
       "  </thead>\n",
       "  <tbody>\n",
       "    <tr>\n",
       "      <th>257</th>\n",
       "      <td>2442</td>\n",
       "      <td>158</td>\n",
       "    </tr>\n",
       "    <tr>\n",
       "      <th>117</th>\n",
       "      <td>1732</td>\n",
       "      <td>108</td>\n",
       "    </tr>\n",
       "    <tr>\n",
       "      <th>134</th>\n",
       "      <td>1819</td>\n",
       "      <td>98</td>\n",
       "    </tr>\n",
       "    <tr>\n",
       "      <th>2204</th>\n",
       "      <td>857</td>\n",
       "      <td>95</td>\n",
       "    </tr>\n",
       "    <tr>\n",
       "      <th>267</th>\n",
       "      <td>2474</td>\n",
       "      <td>94</td>\n",
       "    </tr>\n",
       "  </tbody>\n",
       "</table>\n",
       "</div>"
      ],
      "text/plain": [
       "     teacher  count\n",
       "257     2442    158\n",
       "117     1732    108\n",
       "134     1819     98\n",
       "2204     857     95\n",
       "267     2474     94"
      ]
     },
     "execution_count": 117,
     "metadata": {},
     "output_type": "execute_result"
    }
   ],
   "source": [
    "groupued_by_teacher = pd.DataFrame(teachers_by_period.groupby('COD_DOCENTE')['PERIODO'].count()).reset_index()\n",
    "groupued_by_teacher.columns = ['teacher', 'count']\n",
    "groupued_by_teacher.sort_values('count', ascending = False, inplace = True)\n",
    "groupued_by_teacher.head(5)"
   ]
  },
  {
   "cell_type": "code",
   "execution_count": 92,
   "id": "445d1ecc",
   "metadata": {},
   "outputs": [
    {
     "data": {
      "text/html": [
       "<div>\n",
       "<style scoped>\n",
       "    .dataframe tbody tr th:only-of-type {\n",
       "        vertical-align: middle;\n",
       "    }\n",
       "\n",
       "    .dataframe tbody tr th {\n",
       "        vertical-align: top;\n",
       "    }\n",
       "\n",
       "    .dataframe thead th {\n",
       "        text-align: right;\n",
       "    }\n",
       "</style>\n",
       "<table border=\"1\" class=\"dataframe\">\n",
       "  <thead>\n",
       "    <tr style=\"text-align: right;\">\n",
       "      <th></th>\n",
       "      <th>PERIODO</th>\n",
       "      <th>COD_MAT</th>\n",
       "      <th>COD_DOCENTE</th>\n",
       "      <th>corte</th>\n",
       "      <th>year</th>\n",
       "      <th>subjects_by_teacher</th>\n",
       "    </tr>\n",
       "  </thead>\n",
       "  <tbody>\n",
       "    <tr>\n",
       "      <th>0</th>\n",
       "      <td>201210</td>\n",
       "      <td>11303</td>\n",
       "      <td>1329</td>\n",
       "      <td>10</td>\n",
       "      <td>2012</td>\n",
       "      <td>NaN</td>\n",
       "    </tr>\n",
       "    <tr>\n",
       "      <th>1</th>\n",
       "      <td>201210</td>\n",
       "      <td>11304</td>\n",
       "      <td>3111</td>\n",
       "      <td>10</td>\n",
       "      <td>2012</td>\n",
       "      <td>NaN</td>\n",
       "    </tr>\n",
       "    <tr>\n",
       "      <th>2</th>\n",
       "      <td>201210</td>\n",
       "      <td>11305</td>\n",
       "      <td>622</td>\n",
       "      <td>10</td>\n",
       "      <td>2012</td>\n",
       "      <td>NaN</td>\n",
       "    </tr>\n",
       "    <tr>\n",
       "      <th>3</th>\n",
       "      <td>201210</td>\n",
       "      <td>11312</td>\n",
       "      <td>1329</td>\n",
       "      <td>10</td>\n",
       "      <td>2012</td>\n",
       "      <td>NaN</td>\n",
       "    </tr>\n",
       "    <tr>\n",
       "      <th>4</th>\n",
       "      <td>201210</td>\n",
       "      <td>11313</td>\n",
       "      <td>1329</td>\n",
       "      <td>10</td>\n",
       "      <td>2012</td>\n",
       "      <td>NaN</td>\n",
       "    </tr>\n",
       "  </tbody>\n",
       "</table>\n",
       "</div>"
      ],
      "text/plain": [
       "  PERIODO COD_MAT COD_DOCENTE corte  year  subjects_by_teacher\n",
       "0  201210   11303        1329    10  2012                  NaN\n",
       "1  201210   11304        3111    10  2012                  NaN\n",
       "2  201210   11305         622    10  2012                  NaN\n",
       "3  201210   11312        1329    10  2012                  NaN\n",
       "4  201210   11313        1329    10  2012                  NaN"
      ]
     },
     "execution_count": 92,
     "metadata": {},
     "output_type": "execute_result"
    }
   ],
   "source": [
    "teachers_by_period['subjects_by_teacher'] = np.nan\n",
    "teachers_by_period.head()"
   ]
  },
  {
   "cell_type": "code",
   "execution_count": 94,
   "id": "7b437fa4",
   "metadata": {},
   "outputs": [],
   "source": [
    "for idx in range(0, len(teachers_by_period)):\n",
    "    \n",
    "    teacher_id = teachers_by_period.loc[idx, 'COD_DOCENTE']\n",
    "    \n",
    "    try:\n",
    "        subjects = groupued_by_teacher[(groupued_by_teacher['teacher'] == teacher_id)]['count'].values[0]\n",
    "        \n",
    "    except:\n",
    "        subjects = np.nan\n",
    "        \n",
    "    teachers_by_period.loc[idx, 'subjects_by_teacher'] = subjects"
   ]
  },
  {
   "cell_type": "code",
   "execution_count": 106,
   "id": "dcae0cf0",
   "metadata": {},
   "outputs": [
    {
     "data": {
      "text/html": [
       "<div>\n",
       "<style scoped>\n",
       "    .dataframe tbody tr th:only-of-type {\n",
       "        vertical-align: middle;\n",
       "    }\n",
       "\n",
       "    .dataframe tbody tr th {\n",
       "        vertical-align: top;\n",
       "    }\n",
       "\n",
       "    .dataframe thead th {\n",
       "        text-align: right;\n",
       "    }\n",
       "</style>\n",
       "<table border=\"1\" class=\"dataframe\">\n",
       "  <thead>\n",
       "    <tr style=\"text-align: right;\">\n",
       "      <th></th>\n",
       "      <th>PERIODO</th>\n",
       "      <th>COD_MAT</th>\n",
       "      <th>COD_DOCENTE</th>\n",
       "      <th>corte</th>\n",
       "      <th>year</th>\n",
       "      <th>subjects_by_teacher</th>\n",
       "    </tr>\n",
       "  </thead>\n",
       "  <tbody>\n",
       "    <tr>\n",
       "      <th>0</th>\n",
       "      <td>201210</td>\n",
       "      <td>11303</td>\n",
       "      <td>1329</td>\n",
       "      <td>10</td>\n",
       "      <td>2012</td>\n",
       "      <td>79.0</td>\n",
       "    </tr>\n",
       "    <tr>\n",
       "      <th>1</th>\n",
       "      <td>201210</td>\n",
       "      <td>11304</td>\n",
       "      <td>3111</td>\n",
       "      <td>10</td>\n",
       "      <td>2012</td>\n",
       "      <td>4.0</td>\n",
       "    </tr>\n",
       "    <tr>\n",
       "      <th>2</th>\n",
       "      <td>201210</td>\n",
       "      <td>11305</td>\n",
       "      <td>622</td>\n",
       "      <td>10</td>\n",
       "      <td>2012</td>\n",
       "      <td>29.0</td>\n",
       "    </tr>\n",
       "    <tr>\n",
       "      <th>3</th>\n",
       "      <td>201210</td>\n",
       "      <td>11312</td>\n",
       "      <td>1329</td>\n",
       "      <td>10</td>\n",
       "      <td>2012</td>\n",
       "      <td>79.0</td>\n",
       "    </tr>\n",
       "    <tr>\n",
       "      <th>4</th>\n",
       "      <td>201210</td>\n",
       "      <td>11313</td>\n",
       "      <td>1329</td>\n",
       "      <td>10</td>\n",
       "      <td>2012</td>\n",
       "      <td>79.0</td>\n",
       "    </tr>\n",
       "  </tbody>\n",
       "</table>\n",
       "</div>"
      ],
      "text/plain": [
       "  PERIODO COD_MAT COD_DOCENTE corte  year  subjects_by_teacher\n",
       "0  201210   11303        1329    10  2012                 79.0\n",
       "1  201210   11304        3111    10  2012                  4.0\n",
       "2  201210   11305         622    10  2012                 29.0\n",
       "3  201210   11312        1329    10  2012                 79.0\n",
       "4  201210   11313        1329    10  2012                 79.0"
      ]
     },
     "execution_count": 106,
     "metadata": {},
     "output_type": "execute_result"
    }
   ],
   "source": [
    "teachers_by_period.head()"
   ]
  },
  {
   "cell_type": "code",
   "execution_count": null,
   "id": "df5f98cb",
   "metadata": {},
   "outputs": [],
   "source": []
  },
  {
   "cell_type": "code",
   "execution_count": null,
   "id": "6bba8194",
   "metadata": {},
   "outputs": [],
   "source": []
  }
 ],
 "metadata": {
  "kernelspec": {
   "display_name": "Python 3",
   "language": "python",
   "name": "python3"
  },
  "language_info": {
   "codemirror_mode": {
    "name": "ipython",
    "version": 3
   },
   "file_extension": ".py",
   "mimetype": "text/x-python",
   "name": "python",
   "nbconvert_exporter": "python",
   "pygments_lexer": "ipython3",
   "version": "3.7.3"
  }
 },
 "nbformat": 4,
 "nbformat_minor": 5
}
