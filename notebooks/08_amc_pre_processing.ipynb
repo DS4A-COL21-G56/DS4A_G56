{
 "cells": [
  {
   "cell_type": "markdown",
   "id": "99830320",
   "metadata": {},
   "source": [
    "# Pre-Procesamiento de datos: Desercion Universidad de Boyaca"
   ]
  },
  {
   "cell_type": "markdown",
   "id": "d7b7fe8a",
   "metadata": {},
   "source": [
    "# 1. Cargando tablas e informacion general"
   ]
  },
  {
   "cell_type": "code",
   "execution_count": 1,
   "id": "718dbb6c",
   "metadata": {
    "collapsed": true
   },
   "outputs": [],
   "source": [
    "# importar pandas\n",
    "import pandas as pd"
   ]
  },
  {
   "cell_type": "code",
   "execution_count": 2,
   "id": "9d7ac7b8",
   "metadata": {
    "collapsed": true
   },
   "outputs": [],
   "source": [
    "docentes_periodo_df = pd.read_csv('../data/raw/docentes_periodo.csv', ';', encoding='ISO-8859-1')\n",
    "eval_docentes_periodo_df = pd.read_csv('../data/raw/eval_docentes_periodo.csv', ';', encoding='ISO-8859-1')\n",
    "mat_cursadas_df = pd.read_csv('../data/raw/mat_cursadas_rend_academico.csv', ';', encoding='ISO-8859-1')\n",
    "perfil_ingreso_df = pd.read_csv('../data/raw/perfil_ingreso.csv', ';')\n",
    "rendimiento_academico_df = pd.read_csv('../data/raw/rendimiento_academico.csv', ';', encoding='ISO-8859-1')\n",
    "\n",
    "area_icfes_df = pd.read_excel('../data/raw/area_icfes.xlsx')\n",
    "creditos_periodo_df = pd.read_excel('../data/raw/CREDITOS_PERIODO.xlsx')\n",
    "perfil_ingreso_v2_df = pd.read_excel('../data/raw/perfil_ingreso_v2.xlsx')\n",
    "materias_por_programa_df = pd.read_excel('../data/raw/materias_por_programa.xlsx')\n",
    "pre_correquisito_df = pd.read_excel('../data/raw/pre_correquisito.xlsx')\n",
    "mat_cursadas_v2_df = pd.read_excel('../data/raw/mat_cursadas_rend_academico_v2.xlsx')\n",
    "reingreso_aplazamiento_df = pd.read_excel('../data/raw/reingreso_aplazamiento.xlsx')"
   ]
  },
  {
   "cell_type": "code",
   "execution_count": 3,
   "id": "69ed0526",
   "metadata": {
    "collapsed": true,
    "jupyter": {
     "outputs_hidden": true
    }
   },
   "outputs": [
    {
     "name": "stdout",
     "output_type": "stream",
     "text": [
      "\n",
      "                                     docentes_periodo                                     \n"
     ]
    },
    {
     "data": {
      "text/html": [
       "<div>\n",
       "<style scoped>\n",
       "    .dataframe tbody tr th:only-of-type {\n",
       "        vertical-align: middle;\n",
       "    }\n",
       "\n",
       "    .dataframe tbody tr th {\n",
       "        vertical-align: top;\n",
       "    }\n",
       "\n",
       "    .dataframe thead th {\n",
       "        text-align: right;\n",
       "    }\n",
       "</style>\n",
       "<table border=\"1\" class=\"dataframe\">\n",
       "  <thead>\n",
       "    <tr style=\"text-align: right;\">\n",
       "      <th></th>\n",
       "      <th>PERIODO</th>\n",
       "      <th>COD_MAT</th>\n",
       "      <th>COD_DOCENTE</th>\n",
       "    </tr>\n",
       "  </thead>\n",
       "  <tbody>\n",
       "    <tr>\n",
       "      <th>0</th>\n",
       "      <td>201210</td>\n",
       "      <td>11303</td>\n",
       "      <td>1329</td>\n",
       "    </tr>\n",
       "    <tr>\n",
       "      <th>1</th>\n",
       "      <td>201210</td>\n",
       "      <td>11304</td>\n",
       "      <td>3111</td>\n",
       "    </tr>\n",
       "    <tr>\n",
       "      <th>2</th>\n",
       "      <td>201210</td>\n",
       "      <td>11305</td>\n",
       "      <td>622</td>\n",
       "    </tr>\n",
       "  </tbody>\n",
       "</table>\n",
       "</div>"
      ],
      "text/plain": [
       "   PERIODO  COD_MAT  COD_DOCENTE\n",
       "0   201210    11303         1329\n",
       "1   201210    11304         3111\n",
       "2   201210    11305          622"
      ]
     },
     "metadata": {},
     "output_type": "display_data"
    },
    {
     "name": "stdout",
     "output_type": "stream",
     "text": [
      "\n",
      "                                  eval_docentes_periodo                                   \n"
     ]
    },
    {
     "data": {
      "text/html": [
       "<div>\n",
       "<style scoped>\n",
       "    .dataframe tbody tr th:only-of-type {\n",
       "        vertical-align: middle;\n",
       "    }\n",
       "\n",
       "    .dataframe tbody tr th {\n",
       "        vertical-align: top;\n",
       "    }\n",
       "\n",
       "    .dataframe thead th {\n",
       "        text-align: right;\n",
       "    }\n",
       "</style>\n",
       "<table border=\"1\" class=\"dataframe\">\n",
       "  <thead>\n",
       "    <tr style=\"text-align: right;\">\n",
       "      <th></th>\n",
       "      <th>PERIODO</th>\n",
       "      <th>COD_DOCENTE</th>\n",
       "      <th>COD_MAT</th>\n",
       "      <th>COD_FACTOR</th>\n",
       "      <th>NOM_FACTOR</th>\n",
       "      <th>CALIFICACION</th>\n",
       "    </tr>\n",
       "  </thead>\n",
       "  <tbody>\n",
       "    <tr>\n",
       "      <th>0</th>\n",
       "      <td>201210</td>\n",
       "      <td>1008</td>\n",
       "      <td>66410</td>\n",
       "      <td>1</td>\n",
       "      <td>Asistencia y Puntualidad</td>\n",
       "      <td>4,63</td>\n",
       "    </tr>\n",
       "    <tr>\n",
       "      <th>1</th>\n",
       "      <td>201210</td>\n",
       "      <td>1008</td>\n",
       "      <td>66410</td>\n",
       "      <td>2</td>\n",
       "      <td>Relación profesor alumno</td>\n",
       "      <td>4,65</td>\n",
       "    </tr>\n",
       "    <tr>\n",
       "      <th>2</th>\n",
       "      <td>201210</td>\n",
       "      <td>1008</td>\n",
       "      <td>66410</td>\n",
       "      <td>3</td>\n",
       "      <td>Orientación del proceso de formación</td>\n",
       "      <td>4,58</td>\n",
       "    </tr>\n",
       "  </tbody>\n",
       "</table>\n",
       "</div>"
      ],
      "text/plain": [
       "   PERIODO  COD_DOCENTE  COD_MAT  COD_FACTOR  \\\n",
       "0   201210         1008    66410           1   \n",
       "1   201210         1008    66410           2   \n",
       "2   201210         1008    66410           3   \n",
       "\n",
       "                             NOM_FACTOR CALIFICACION  \n",
       "0              Asistencia y Puntualidad         4,63  \n",
       "1              Relación profesor alumno         4,65  \n",
       "2  Orientación del proceso de formación         4,58  "
      ]
     },
     "metadata": {},
     "output_type": "display_data"
    },
    {
     "name": "stdout",
     "output_type": "stream",
     "text": [
      "\n",
      "                                       mat_cursadas                                       \n"
     ]
    },
    {
     "data": {
      "text/html": [
       "<div>\n",
       "<style scoped>\n",
       "    .dataframe tbody tr th:only-of-type {\n",
       "        vertical-align: middle;\n",
       "    }\n",
       "\n",
       "    .dataframe tbody tr th {\n",
       "        vertical-align: top;\n",
       "    }\n",
       "\n",
       "    .dataframe thead th {\n",
       "        text-align: right;\n",
       "    }\n",
       "</style>\n",
       "<table border=\"1\" class=\"dataframe\">\n",
       "  <thead>\n",
       "    <tr style=\"text-align: right;\">\n",
       "      <th></th>\n",
       "      <th>PERIODO_COHORTE</th>\n",
       "      <th>PERIODO_ACADEMICO</th>\n",
       "      <th>CODIGO</th>\n",
       "      <th>TOT_MAT_INSCRITAS</th>\n",
       "      <th>MAT_APROBADAS</th>\n",
       "    </tr>\n",
       "  </thead>\n",
       "  <tbody>\n",
       "    <tr>\n",
       "      <th>0</th>\n",
       "      <td>201210</td>\n",
       "      <td>201210</td>\n",
       "      <td>11312001</td>\n",
       "      <td>8</td>\n",
       "      <td>7</td>\n",
       "    </tr>\n",
       "    <tr>\n",
       "      <th>1</th>\n",
       "      <td>201210</td>\n",
       "      <td>201210</td>\n",
       "      <td>11312002</td>\n",
       "      <td>8</td>\n",
       "      <td>7</td>\n",
       "    </tr>\n",
       "    <tr>\n",
       "      <th>2</th>\n",
       "      <td>201210</td>\n",
       "      <td>201210</td>\n",
       "      <td>11312003</td>\n",
       "      <td>8</td>\n",
       "      <td>7</td>\n",
       "    </tr>\n",
       "  </tbody>\n",
       "</table>\n",
       "</div>"
      ],
      "text/plain": [
       "   PERIODO_COHORTE  PERIODO_ACADEMICO    CODIGO  TOT_MAT_INSCRITAS  \\\n",
       "0           201210             201210  11312001                  8   \n",
       "1           201210             201210  11312002                  8   \n",
       "2           201210             201210  11312003                  8   \n",
       "\n",
       "   MAT_APROBADAS  \n",
       "0              7  \n",
       "1              7  \n",
       "2              7  "
      ]
     },
     "metadata": {},
     "output_type": "display_data"
    },
    {
     "name": "stdout",
     "output_type": "stream",
     "text": [
      "\n",
      "                                    perfil_ingreso_df                                     \n"
     ]
    },
    {
     "data": {
      "text/html": [
       "<div>\n",
       "<style scoped>\n",
       "    .dataframe tbody tr th:only-of-type {\n",
       "        vertical-align: middle;\n",
       "    }\n",
       "\n",
       "    .dataframe tbody tr th {\n",
       "        vertical-align: top;\n",
       "    }\n",
       "\n",
       "    .dataframe thead th {\n",
       "        text-align: right;\n",
       "    }\n",
       "</style>\n",
       "<table border=\"1\" class=\"dataframe\">\n",
       "  <thead>\n",
       "    <tr style=\"text-align: right;\">\n",
       "      <th></th>\n",
       "      <th>PERIODO_COHORTE</th>\n",
       "      <th>CODIGO</th>\n",
       "      <th>GENERO</th>\n",
       "      <th>EDAD</th>\n",
       "      <th>COLEGIO_PROCEDENCIA</th>\n",
       "      <th>PUNT_TOTAL</th>\n",
       "      <th>PUNT_AREA</th>\n",
       "      <th>ES_DESERTOR</th>\n",
       "    </tr>\n",
       "  </thead>\n",
       "  <tbody>\n",
       "    <tr>\n",
       "      <th>0</th>\n",
       "      <td>201210</td>\n",
       "      <td>11312001</td>\n",
       "      <td>M</td>\n",
       "      <td>22.0</td>\n",
       "      <td>COL COOP COOSERVICIOS</td>\n",
       "      <td>438</td>\n",
       "      <td>49</td>\n",
       "      <td>NO</td>\n",
       "    </tr>\n",
       "    <tr>\n",
       "      <th>1</th>\n",
       "      <td>201210</td>\n",
       "      <td>11312002</td>\n",
       "      <td>M</td>\n",
       "      <td>23.0</td>\n",
       "      <td>INSTITUTO DE EDUCACION MEDIA DIVERSIFICADA INE...</td>\n",
       "      <td>386</td>\n",
       "      <td>48</td>\n",
       "      <td>NO</td>\n",
       "    </tr>\n",
       "    <tr>\n",
       "      <th>2</th>\n",
       "      <td>201210</td>\n",
       "      <td>11312003</td>\n",
       "      <td>F</td>\n",
       "      <td>22.0</td>\n",
       "      <td>I.E. ANTONIO NARI�O</td>\n",
       "      <td>460</td>\n",
       "      <td>51</td>\n",
       "      <td>NO</td>\n",
       "    </tr>\n",
       "  </tbody>\n",
       "</table>\n",
       "</div>"
      ],
      "text/plain": [
       "   PERIODO_COHORTE    CODIGO GENERO  EDAD  \\\n",
       "0           201210  11312001      M  22.0   \n",
       "1           201210  11312002      M  23.0   \n",
       "2           201210  11312003      F  22.0   \n",
       "\n",
       "                                 COLEGIO_PROCEDENCIA  PUNT_TOTAL  PUNT_AREA  \\\n",
       "0                              COL COOP COOSERVICIOS         438         49   \n",
       "1  INSTITUTO DE EDUCACION MEDIA DIVERSIFICADA INE...         386         48   \n",
       "2                                I.E. ANTONIO NARI�O         460         51   \n",
       "\n",
       "  ES_DESERTOR  \n",
       "0          NO  \n",
       "1          NO  \n",
       "2          NO  "
      ]
     },
     "metadata": {},
     "output_type": "display_data"
    },
    {
     "name": "stdout",
     "output_type": "stream",
     "text": [
      "\n",
      "                                  rendimiento_academico                                   \n"
     ]
    },
    {
     "data": {
      "text/html": [
       "<div>\n",
       "<style scoped>\n",
       "    .dataframe tbody tr th:only-of-type {\n",
       "        vertical-align: middle;\n",
       "    }\n",
       "\n",
       "    .dataframe tbody tr th {\n",
       "        vertical-align: top;\n",
       "    }\n",
       "\n",
       "    .dataframe thead th {\n",
       "        text-align: right;\n",
       "    }\n",
       "</style>\n",
       "<table border=\"1\" class=\"dataframe\">\n",
       "  <thead>\n",
       "    <tr style=\"text-align: right;\">\n",
       "      <th></th>\n",
       "      <th>PERIODO_COHORTE</th>\n",
       "      <th>PERIODO_ACADEMICO</th>\n",
       "      <th>CODIGO</th>\n",
       "      <th>COD_MAT</th>\n",
       "      <th>NOMBRE_MAT</th>\n",
       "      <th>NOTA_DEF</th>\n",
       "      <th>ESTADO</th>\n",
       "    </tr>\n",
       "  </thead>\n",
       "  <tbody>\n",
       "    <tr>\n",
       "      <th>0</th>\n",
       "      <td>201210</td>\n",
       "      <td>201210</td>\n",
       "      <td>11312001</td>\n",
       "      <td>11305</td>\n",
       "      <td>EXP. ORAL ESCRITA</td>\n",
       "      <td>3,50</td>\n",
       "      <td>APROBADA</td>\n",
       "    </tr>\n",
       "    <tr>\n",
       "      <th>1</th>\n",
       "      <td>201210</td>\n",
       "      <td>201210</td>\n",
       "      <td>11312001</td>\n",
       "      <td>11312</td>\n",
       "      <td>INICIATIVA EMPRES</td>\n",
       "      <td>4,00</td>\n",
       "      <td>APROBADA</td>\n",
       "    </tr>\n",
       "    <tr>\n",
       "      <th>2</th>\n",
       "      <td>201210</td>\n",
       "      <td>201210</td>\n",
       "      <td>11312001</td>\n",
       "      <td>11310</td>\n",
       "      <td>MICROECONOMÍA</td>\n",
       "      <td>3,60</td>\n",
       "      <td>APROBADA</td>\n",
       "    </tr>\n",
       "  </tbody>\n",
       "</table>\n",
       "</div>"
      ],
      "text/plain": [
       "   PERIODO_COHORTE  PERIODO_ACADEMICO    CODIGO  COD_MAT         NOMBRE_MAT  \\\n",
       "0           201210             201210  11312001    11305  EXP. ORAL ESCRITA   \n",
       "1           201210             201210  11312001    11312  INICIATIVA EMPRES   \n",
       "2           201210             201210  11312001    11310      MICROECONOMÍA   \n",
       "\n",
       "  NOTA_DEF    ESTADO  \n",
       "0     3,50  APROBADA  \n",
       "1     4,00  APROBADA  \n",
       "2     3,60  APROBADA  "
      ]
     },
     "metadata": {},
     "output_type": "display_data"
    },
    {
     "name": "stdout",
     "output_type": "stream",
     "text": [
      "\n",
      "                                        area_icfes                                        \n"
     ]
    },
    {
     "data": {
      "text/html": [
       "<div>\n",
       "<style scoped>\n",
       "    .dataframe tbody tr th:only-of-type {\n",
       "        vertical-align: middle;\n",
       "    }\n",
       "\n",
       "    .dataframe tbody tr th {\n",
       "        vertical-align: top;\n",
       "    }\n",
       "\n",
       "    .dataframe thead th {\n",
       "        text-align: right;\n",
       "    }\n",
       "</style>\n",
       "<table border=\"1\" class=\"dataframe\">\n",
       "  <thead>\n",
       "    <tr style=\"text-align: right;\">\n",
       "      <th></th>\n",
       "      <th>FECHA_INI_EX</th>\n",
       "      <th>FECHA_FIN_EX</th>\n",
       "      <th>COD_MEN</th>\n",
       "      <th>AREA_ICFES</th>\n",
       "    </tr>\n",
       "  </thead>\n",
       "  <tbody>\n",
       "    <tr>\n",
       "      <th>0</th>\n",
       "      <td>1980-05-01</td>\n",
       "      <td>1999-12-31</td>\n",
       "      <td>20697</td>\n",
       "      <td>CIENCIAS NATURALES</td>\n",
       "    </tr>\n",
       "    <tr>\n",
       "      <th>1</th>\n",
       "      <td>1980-05-01</td>\n",
       "      <td>1999-12-31</td>\n",
       "      <td>20697</td>\n",
       "      <td>LENGUAJE</td>\n",
       "    </tr>\n",
       "    <tr>\n",
       "      <th>2</th>\n",
       "      <td>1980-05-01</td>\n",
       "      <td>1999-12-31</td>\n",
       "      <td>20697</td>\n",
       "      <td>MATEMÁTICA</td>\n",
       "    </tr>\n",
       "  </tbody>\n",
       "</table>\n",
       "</div>"
      ],
      "text/plain": [
       "  FECHA_INI_EX FECHA_FIN_EX  COD_MEN          AREA_ICFES\n",
       "0   1980-05-01   1999-12-31    20697  CIENCIAS NATURALES\n",
       "1   1980-05-01   1999-12-31    20697            LENGUAJE\n",
       "2   1980-05-01   1999-12-31    20697          MATEMÁTICA"
      ]
     },
     "metadata": {},
     "output_type": "display_data"
    },
    {
     "name": "stdout",
     "output_type": "stream",
     "text": [
      "\n",
      "                                     creditos_periodo                                     \n"
     ]
    },
    {
     "data": {
      "text/html": [
       "<div>\n",
       "<style scoped>\n",
       "    .dataframe tbody tr th:only-of-type {\n",
       "        vertical-align: middle;\n",
       "    }\n",
       "\n",
       "    .dataframe tbody tr th {\n",
       "        vertical-align: top;\n",
       "    }\n",
       "\n",
       "    .dataframe thead th {\n",
       "        text-align: right;\n",
       "    }\n",
       "</style>\n",
       "<table border=\"1\" class=\"dataframe\">\n",
       "  <thead>\n",
       "    <tr style=\"text-align: right;\">\n",
       "      <th></th>\n",
       "      <th>CODIGO</th>\n",
       "      <th>PERIODO</th>\n",
       "    </tr>\n",
       "  </thead>\n",
       "  <tbody>\n",
       "    <tr>\n",
       "      <th>0</th>\n",
       "      <td>33111541</td>\n",
       "      <td>201210</td>\n",
       "    </tr>\n",
       "    <tr>\n",
       "      <th>1</th>\n",
       "      <td>66411591</td>\n",
       "      <td>201210</td>\n",
       "    </tr>\n",
       "    <tr>\n",
       "      <th>2</th>\n",
       "      <td>33103565</td>\n",
       "      <td>201210</td>\n",
       "    </tr>\n",
       "  </tbody>\n",
       "</table>\n",
       "</div>"
      ],
      "text/plain": [
       "     CODIGO  PERIODO\n",
       "0  33111541   201210\n",
       "1  66411591   201210\n",
       "2  33103565   201210"
      ]
     },
     "metadata": {},
     "output_type": "display_data"
    },
    {
     "name": "stdout",
     "output_type": "stream",
     "text": [
      "\n",
      "                                    perfil_ingreso_v2                                     \n"
     ]
    },
    {
     "data": {
      "text/html": [
       "<div>\n",
       "<style scoped>\n",
       "    .dataframe tbody tr th:only-of-type {\n",
       "        vertical-align: middle;\n",
       "    }\n",
       "\n",
       "    .dataframe tbody tr th {\n",
       "        vertical-align: top;\n",
       "    }\n",
       "\n",
       "    .dataframe thead th {\n",
       "        text-align: right;\n",
       "    }\n",
       "</style>\n",
       "<table border=\"1\" class=\"dataframe\">\n",
       "  <thead>\n",
       "    <tr style=\"text-align: right;\">\n",
       "      <th></th>\n",
       "      <th>PERIODO_COHORTE</th>\n",
       "      <th>CODIGO</th>\n",
       "      <th>GENERO</th>\n",
       "      <th>EDAD</th>\n",
       "      <th>COLEGIO_PROCEDENCIA</th>\n",
       "      <th>PUNT_TOTAL</th>\n",
       "      <th>PUNT_AREA</th>\n",
       "      <th>ES_DESERTOR</th>\n",
       "      <th>ULTIMA_MATRICULA</th>\n",
       "      <th>COD_MEN</th>\n",
       "    </tr>\n",
       "  </thead>\n",
       "  <tbody>\n",
       "    <tr>\n",
       "      <th>0</th>\n",
       "      <td>201210</td>\n",
       "      <td>11312001</td>\n",
       "      <td>M</td>\n",
       "      <td>22.0</td>\n",
       "      <td>COL COOP COOSERVICIOS</td>\n",
       "      <td>438</td>\n",
       "      <td>49</td>\n",
       "      <td>NO</td>\n",
       "      <td>201710</td>\n",
       "      <td>20708</td>\n",
       "    </tr>\n",
       "    <tr>\n",
       "      <th>1</th>\n",
       "      <td>201210</td>\n",
       "      <td>11312002</td>\n",
       "      <td>M</td>\n",
       "      <td>23.0</td>\n",
       "      <td>INSTITUTO DE EDUCACION MEDIA DIVERSIFICADA INE...</td>\n",
       "      <td>386</td>\n",
       "      <td>48</td>\n",
       "      <td>NO</td>\n",
       "      <td>201420</td>\n",
       "      <td>20708</td>\n",
       "    </tr>\n",
       "    <tr>\n",
       "      <th>2</th>\n",
       "      <td>201210</td>\n",
       "      <td>11312003</td>\n",
       "      <td>F</td>\n",
       "      <td>22.0</td>\n",
       "      <td>I.E. ANTONIO NARIÑO</td>\n",
       "      <td>460</td>\n",
       "      <td>51</td>\n",
       "      <td>NO</td>\n",
       "      <td>201620</td>\n",
       "      <td>20708</td>\n",
       "    </tr>\n",
       "  </tbody>\n",
       "</table>\n",
       "</div>"
      ],
      "text/plain": [
       "   PERIODO_COHORTE    CODIGO GENERO  EDAD  \\\n",
       "0           201210  11312001      M  22.0   \n",
       "1           201210  11312002      M  23.0   \n",
       "2           201210  11312003      F  22.0   \n",
       "\n",
       "                                 COLEGIO_PROCEDENCIA  PUNT_TOTAL  PUNT_AREA  \\\n",
       "0                              COL COOP COOSERVICIOS         438         49   \n",
       "1  INSTITUTO DE EDUCACION MEDIA DIVERSIFICADA INE...         386         48   \n",
       "2                                I.E. ANTONIO NARIÑO         460         51   \n",
       "\n",
       "  ES_DESERTOR  ULTIMA_MATRICULA  COD_MEN  \n",
       "0          NO            201710    20708  \n",
       "1          NO            201420    20708  \n",
       "2          NO            201620    20708  "
      ]
     },
     "metadata": {},
     "output_type": "display_data"
    },
    {
     "name": "stdout",
     "output_type": "stream",
     "text": [
      "\n",
      "                                  materias_por_programa                                   \n"
     ]
    },
    {
     "data": {
      "text/html": [
       "<div>\n",
       "<style scoped>\n",
       "    .dataframe tbody tr th:only-of-type {\n",
       "        vertical-align: middle;\n",
       "    }\n",
       "\n",
       "    .dataframe tbody tr th {\n",
       "        vertical-align: top;\n",
       "    }\n",
       "\n",
       "    .dataframe thead th {\n",
       "        text-align: right;\n",
       "    }\n",
       "</style>\n",
       "<table border=\"1\" class=\"dataframe\">\n",
       "  <thead>\n",
       "    <tr style=\"text-align: right;\">\n",
       "      <th></th>\n",
       "      <th>COD_MEN</th>\n",
       "      <th>FACULTAD</th>\n",
       "      <th>NOMBRE_PROGRAMA</th>\n",
       "      <th>ACREDITADO</th>\n",
       "      <th>SEDE</th>\n",
       "      <th>COD_MAT</th>\n",
       "      <th>NUM_CREDITOS</th>\n",
       "      <th>INTRODUCCION</th>\n",
       "    </tr>\n",
       "  </thead>\n",
       "  <tbody>\n",
       "    <tr>\n",
       "      <th>0</th>\n",
       "      <td>20708</td>\n",
       "      <td>FACULTAD DE CIENCIAS ADMINISTRATIVAS Y CONTABLES</td>\n",
       "      <td>ADMINISTRACIÓN DE EMPRESAS</td>\n",
       "      <td>N.A.</td>\n",
       "      <td>SEDE TUNJA</td>\n",
       "      <td>11330</td>\n",
       "      <td>2</td>\n",
       "      <td>NO</td>\n",
       "    </tr>\n",
       "    <tr>\n",
       "      <th>1</th>\n",
       "      <td>20708</td>\n",
       "      <td>FACULTAD DE CIENCIAS ADMINISTRATIVAS Y CONTABLES</td>\n",
       "      <td>ADMINISTRACIÓN DE EMPRESAS</td>\n",
       "      <td>N.A.</td>\n",
       "      <td>SEDE TUNJA</td>\n",
       "      <td>11329</td>\n",
       "      <td>2</td>\n",
       "      <td>NO</td>\n",
       "    </tr>\n",
       "    <tr>\n",
       "      <th>2</th>\n",
       "      <td>20708</td>\n",
       "      <td>FACULTAD DE CIENCIAS ADMINISTRATIVAS Y CONTABLES</td>\n",
       "      <td>ADMINISTRACIÓN DE EMPRESAS</td>\n",
       "      <td>N.A.</td>\n",
       "      <td>SEDE TUNJA</td>\n",
       "      <td>11334</td>\n",
       "      <td>2</td>\n",
       "      <td>NO</td>\n",
       "    </tr>\n",
       "  </tbody>\n",
       "</table>\n",
       "</div>"
      ],
      "text/plain": [
       "   COD_MEN                                          FACULTAD  \\\n",
       "0    20708  FACULTAD DE CIENCIAS ADMINISTRATIVAS Y CONTABLES   \n",
       "1    20708  FACULTAD DE CIENCIAS ADMINISTRATIVAS Y CONTABLES   \n",
       "2    20708  FACULTAD DE CIENCIAS ADMINISTRATIVAS Y CONTABLES   \n",
       "\n",
       "              NOMBRE_PROGRAMA ACREDITADO        SEDE  COD_MAT  NUM_CREDITOS  \\\n",
       "0  ADMINISTRACIÓN DE EMPRESAS       N.A.  SEDE TUNJA    11330             2   \n",
       "1  ADMINISTRACIÓN DE EMPRESAS       N.A.  SEDE TUNJA    11329             2   \n",
       "2  ADMINISTRACIÓN DE EMPRESAS       N.A.  SEDE TUNJA    11334             2   \n",
       "\n",
       "  INTRODUCCION  \n",
       "0           NO  \n",
       "1           NO  \n",
       "2           NO  "
      ]
     },
     "metadata": {},
     "output_type": "display_data"
    },
    {
     "name": "stdout",
     "output_type": "stream",
     "text": [
      "\n",
      "                                     pre_correquisito                                     \n"
     ]
    },
    {
     "data": {
      "text/html": [
       "<div>\n",
       "<style scoped>\n",
       "    .dataframe tbody tr th:only-of-type {\n",
       "        vertical-align: middle;\n",
       "    }\n",
       "\n",
       "    .dataframe tbody tr th {\n",
       "        vertical-align: top;\n",
       "    }\n",
       "\n",
       "    .dataframe thead th {\n",
       "        text-align: right;\n",
       "    }\n",
       "</style>\n",
       "<table border=\"1\" class=\"dataframe\">\n",
       "  <thead>\n",
       "    <tr style=\"text-align: right;\">\n",
       "      <th></th>\n",
       "      <th>COD_BASE</th>\n",
       "      <th>NOMBRE_MAT</th>\n",
       "      <th>COD_PRECO</th>\n",
       "      <th>NOMBRE_PRECORREQUISITO</th>\n",
       "      <th>TIPO_REQUISITO</th>\n",
       "    </tr>\n",
       "  </thead>\n",
       "  <tbody>\n",
       "    <tr>\n",
       "      <th>0</th>\n",
       "      <td>11304</td>\n",
       "      <td>PLANEACIÓN Y CONTROL</td>\n",
       "      <td>11313</td>\n",
       "      <td>ADMINISTRACIÓN BÁSICA</td>\n",
       "      <td>PRERREQUISITO</td>\n",
       "    </tr>\n",
       "    <tr>\n",
       "      <th>1</th>\n",
       "      <td>11308</td>\n",
       "      <td>CÁLCULO DIFERENCIAL</td>\n",
       "      <td>11301</td>\n",
       "      <td>MATEMÁTICA BÁSICA</td>\n",
       "      <td>PRERREQUISITO</td>\n",
       "    </tr>\n",
       "    <tr>\n",
       "      <th>2</th>\n",
       "      <td>11309</td>\n",
       "      <td>CONTABILIDAD COMERCIAL</td>\n",
       "      <td>11311</td>\n",
       "      <td>CONTABILIDAD BÁSICA</td>\n",
       "      <td>PRERREQUISITO</td>\n",
       "    </tr>\n",
       "  </tbody>\n",
       "</table>\n",
       "</div>"
      ],
      "text/plain": [
       "   COD_BASE              NOMBRE_MAT  COD_PRECO NOMBRE_PRECORREQUISITO  \\\n",
       "0     11304    PLANEACIÓN Y CONTROL      11313  ADMINISTRACIÓN BÁSICA   \n",
       "1     11308     CÁLCULO DIFERENCIAL      11301      MATEMÁTICA BÁSICA   \n",
       "2     11309  CONTABILIDAD COMERCIAL      11311    CONTABILIDAD BÁSICA   \n",
       "\n",
       "  TIPO_REQUISITO  \n",
       "0  PRERREQUISITO  \n",
       "1  PRERREQUISITO  \n",
       "2  PRERREQUISITO  "
      ]
     },
     "metadata": {},
     "output_type": "display_data"
    },
    {
     "name": "stdout",
     "output_type": "stream",
     "text": [
      "\n",
      "                                     mat_cursadas_v2                                      \n"
     ]
    },
    {
     "data": {
      "text/html": [
       "<div>\n",
       "<style scoped>\n",
       "    .dataframe tbody tr th:only-of-type {\n",
       "        vertical-align: middle;\n",
       "    }\n",
       "\n",
       "    .dataframe tbody tr th {\n",
       "        vertical-align: top;\n",
       "    }\n",
       "\n",
       "    .dataframe thead th {\n",
       "        text-align: right;\n",
       "    }\n",
       "</style>\n",
       "<table border=\"1\" class=\"dataframe\">\n",
       "  <thead>\n",
       "    <tr style=\"text-align: right;\">\n",
       "      <th></th>\n",
       "      <th>PERIODO_COHORTE</th>\n",
       "      <th>PERIODO_ACADEMICO</th>\n",
       "      <th>CODIGO</th>\n",
       "      <th>TOT_MAT_INSCRITAS</th>\n",
       "      <th>CRED_INSCRITOS</th>\n",
       "      <th>MAT_APROBADAS</th>\n",
       "      <th>CRED_APROBADOS</th>\n",
       "    </tr>\n",
       "  </thead>\n",
       "  <tbody>\n",
       "    <tr>\n",
       "      <th>0</th>\n",
       "      <td>201210</td>\n",
       "      <td>201210</td>\n",
       "      <td>11312001</td>\n",
       "      <td>8</td>\n",
       "      <td>17.0</td>\n",
       "      <td>7</td>\n",
       "      <td>15.0</td>\n",
       "    </tr>\n",
       "    <tr>\n",
       "      <th>1</th>\n",
       "      <td>201210</td>\n",
       "      <td>201210</td>\n",
       "      <td>11312002</td>\n",
       "      <td>8</td>\n",
       "      <td>16.0</td>\n",
       "      <td>7</td>\n",
       "      <td>14.0</td>\n",
       "    </tr>\n",
       "    <tr>\n",
       "      <th>2</th>\n",
       "      <td>201210</td>\n",
       "      <td>201210</td>\n",
       "      <td>11312003</td>\n",
       "      <td>8</td>\n",
       "      <td>17.0</td>\n",
       "      <td>7</td>\n",
       "      <td>15.0</td>\n",
       "    </tr>\n",
       "  </tbody>\n",
       "</table>\n",
       "</div>"
      ],
      "text/plain": [
       "   PERIODO_COHORTE  PERIODO_ACADEMICO    CODIGO  TOT_MAT_INSCRITAS  \\\n",
       "0           201210             201210  11312001                  8   \n",
       "1           201210             201210  11312002                  8   \n",
       "2           201210             201210  11312003                  8   \n",
       "\n",
       "   CRED_INSCRITOS  MAT_APROBADAS  CRED_APROBADOS  \n",
       "0            17.0              7            15.0  \n",
       "1            16.0              7            14.0  \n",
       "2            17.0              7            15.0  "
      ]
     },
     "metadata": {},
     "output_type": "display_data"
    },
    {
     "name": "stdout",
     "output_type": "stream",
     "text": [
      "\n",
      "                                  reingreso_aplazamiento                                  \n"
     ]
    },
    {
     "data": {
      "text/html": [
       "<div>\n",
       "<style scoped>\n",
       "    .dataframe tbody tr th:only-of-type {\n",
       "        vertical-align: middle;\n",
       "    }\n",
       "\n",
       "    .dataframe tbody tr th {\n",
       "        vertical-align: top;\n",
       "    }\n",
       "\n",
       "    .dataframe thead th {\n",
       "        text-align: right;\n",
       "    }\n",
       "</style>\n",
       "<table border=\"1\" class=\"dataframe\">\n",
       "  <thead>\n",
       "    <tr style=\"text-align: right;\">\n",
       "      <th></th>\n",
       "      <th>CODIGO</th>\n",
       "      <th>FECHA_SOLICITUD</th>\n",
       "      <th>TIPO</th>\n",
       "    </tr>\n",
       "  </thead>\n",
       "  <tbody>\n",
       "    <tr>\n",
       "      <th>0</th>\n",
       "      <td>55110503</td>\n",
       "      <td>2012-01-10</td>\n",
       "      <td>REINGRESO</td>\n",
       "    </tr>\n",
       "    <tr>\n",
       "      <th>1</th>\n",
       "      <td>55510048</td>\n",
       "      <td>2012-01-10</td>\n",
       "      <td>REINGRESO</td>\n",
       "    </tr>\n",
       "    <tr>\n",
       "      <th>2</th>\n",
       "      <td>55510535</td>\n",
       "      <td>2012-01-10</td>\n",
       "      <td>REINGRESO</td>\n",
       "    </tr>\n",
       "  </tbody>\n",
       "</table>\n",
       "</div>"
      ],
      "text/plain": [
       "     CODIGO FECHA_SOLICITUD       TIPO\n",
       "0  55110503      2012-01-10  REINGRESO\n",
       "1  55510048      2012-01-10  REINGRESO\n",
       "2  55510535      2012-01-10  REINGRESO"
      ]
     },
     "metadata": {},
     "output_type": "display_data"
    }
   ],
   "source": [
    "# vistazo de las tablas\n",
    "print(\"\\n\"+\"docentes_periodo\".center(90))\n",
    "display(docentes_periodo_df.head(3))\n",
    "print(\"\\n\"+\"eval_docentes_periodo\".center(90))\n",
    "display(eval_docentes_periodo_df.head(3))\n",
    "print(\"\\n\"+\"mat_cursadas\".center(90))\n",
    "display(mat_cursadas_df.head(3))\n",
    "print(\"\\n\"+\"perfil_ingreso_df\".center(90))\n",
    "display(perfil_ingreso_df.head(3))\n",
    "print(\"\\n\"+\"rendimiento_academico\".center(90))\n",
    "display(rendimiento_academico_df.head(3))\n",
    "\n",
    "print(\"\\n\"+\"area_icfes\".center(90))\n",
    "display(area_icfes_df.head(3))\n",
    "print(\"\\n\"+\"creditos_periodo\".center(90))\n",
    "display(creditos_periodo_df.head(3))\n",
    "print(\"\\n\"+\"perfil_ingreso_v2\".center(90))\n",
    "display(perfil_ingreso_v2_df.head(3))\n",
    "print(\"\\n\"+\"materias_por_programa\".center(90))\n",
    "display(materias_por_programa_df.head(3))\n",
    "print(\"\\n\"+\"pre_correquisito\".center(90))\n",
    "display(pre_correquisito_df.head(3))\n",
    "print(\"\\n\"+\"mat_cursadas_v2\".center(90))\n",
    "display(mat_cursadas_v2_df.head(3))\n",
    "print(\"\\n\"+\"reingreso_aplazamiento\".center(90))\n",
    "display(reingreso_aplazamiento_df.head(3))"
   ]
  },
  {
   "cell_type": "markdown",
   "id": "6ea2414a",
   "metadata": {},
   "source": [
    "# 2. Tabla \"docentes_periodo\""
   ]
  },
  {
   "cell_type": "code",
   "execution_count": 4,
   "id": "b877b278",
   "metadata": {
    "collapsed": true
   },
   "outputs": [
    {
     "data": {
      "text/html": [
       "<div>\n",
       "<style scoped>\n",
       "    .dataframe tbody tr th:only-of-type {\n",
       "        vertical-align: middle;\n",
       "    }\n",
       "\n",
       "    .dataframe tbody tr th {\n",
       "        vertical-align: top;\n",
       "    }\n",
       "\n",
       "    .dataframe thead th {\n",
       "        text-align: right;\n",
       "    }\n",
       "</style>\n",
       "<table border=\"1\" class=\"dataframe\">\n",
       "  <thead>\n",
       "    <tr style=\"text-align: right;\">\n",
       "      <th></th>\n",
       "      <th>PERIODO</th>\n",
       "      <th>COD_MAT</th>\n",
       "      <th>COD_DOCENTE</th>\n",
       "    </tr>\n",
       "  </thead>\n",
       "  <tbody>\n",
       "    <tr>\n",
       "      <th>0</th>\n",
       "      <td>201210</td>\n",
       "      <td>11303</td>\n",
       "      <td>1329</td>\n",
       "    </tr>\n",
       "    <tr>\n",
       "      <th>1</th>\n",
       "      <td>201210</td>\n",
       "      <td>11304</td>\n",
       "      <td>3111</td>\n",
       "    </tr>\n",
       "    <tr>\n",
       "      <th>2</th>\n",
       "      <td>201210</td>\n",
       "      <td>11305</td>\n",
       "      <td>622</td>\n",
       "    </tr>\n",
       "    <tr>\n",
       "      <th>3</th>\n",
       "      <td>201210</td>\n",
       "      <td>11312</td>\n",
       "      <td>1329</td>\n",
       "    </tr>\n",
       "    <tr>\n",
       "      <th>4</th>\n",
       "      <td>201210</td>\n",
       "      <td>11313</td>\n",
       "      <td>1329</td>\n",
       "    </tr>\n",
       "  </tbody>\n",
       "</table>\n",
       "</div>"
      ],
      "text/plain": [
       "   PERIODO  COD_MAT  COD_DOCENTE\n",
       "0   201210    11303         1329\n",
       "1   201210    11304         3111\n",
       "2   201210    11305          622\n",
       "3   201210    11312         1329\n",
       "4   201210    11313         1329"
      ]
     },
     "execution_count": 4,
     "metadata": {},
     "output_type": "execute_result"
    }
   ],
   "source": [
    "docentes_periodo_df.head()"
   ]
  },
  {
   "cell_type": "code",
   "execution_count": 5,
   "id": "115eed22",
   "metadata": {
    "collapsed": true,
    "tags": []
   },
   "outputs": [
    {
     "name": "stdout",
     "output_type": "stream",
     "text": [
      "<class 'pandas.core.frame.DataFrame'>\n",
      "RangeIndex: 32537 entries, 0 to 32536\n",
      "Data columns (total 3 columns):\n",
      " #   Column       Non-Null Count  Dtype\n",
      "---  ------       --------------  -----\n",
      " 0   PERIODO      32537 non-null  int64\n",
      " 1   COD_MAT      32537 non-null  int64\n",
      " 2   COD_DOCENTE  32537 non-null  int64\n",
      "dtypes: int64(3)\n",
      "memory usage: 762.7 KB\n"
     ]
    }
   ],
   "source": [
    "docentes_periodo_df.info()"
   ]
  },
  {
   "cell_type": "code",
   "execution_count": 6,
   "id": "d4144c70",
   "metadata": {
    "collapsed": true
   },
   "outputs": [
    {
     "data": {
      "text/plain": [
       "PERIODO          37\n",
       "COD_MAT        2275\n",
       "COD_DOCENTE    2220\n",
       "dtype: int64"
      ]
     },
     "execution_count": 6,
     "metadata": {},
     "output_type": "execute_result"
    }
   ],
   "source": [
    "docentes_periodo_df.nunique()"
   ]
  },
  {
   "cell_type": "markdown",
   "id": "6dc34731",
   "metadata": {},
   "source": [
    "> * las 3 columnas deben ser variables categoricas no numericas, asi que debemos convertirlos a strings\n",
    "> * NO hay valores faltantes\n"
   ]
  },
  {
   "cell_type": "markdown",
   "id": "e4673c08",
   "metadata": {},
   "source": [
    "## 2.1 Llenar valores faltantes"
   ]
  },
  {
   "cell_type": "markdown",
   "id": "0a9b7114",
   "metadata": {},
   "source": [
    "> NO hay valores faltantes"
   ]
  },
  {
   "cell_type": "markdown",
   "id": "627d1a89",
   "metadata": {},
   "source": [
    "## 2.2 Corregir Tipos de datos:"
   ]
  },
  {
   "cell_type": "markdown",
   "id": "c1aa5019",
   "metadata": {},
   "source": [
    "Convertimos las variables numericas que son categoricas a string"
   ]
  },
  {
   "cell_type": "code",
   "execution_count": 7,
   "id": "4daa3daa",
   "metadata": {
    "collapsed": true
   },
   "outputs": [],
   "source": [
    "docentes_periodo_df = docentes_periodo_df.astype({'PERIODO':str, 'COD_MAT':str, 'COD_DOCENTE':str})"
   ]
  },
  {
   "cell_type": "markdown",
   "id": "71c930a1",
   "metadata": {},
   "source": [
    "## 2.3 Normalizar Texto"
   ]
  },
  {
   "cell_type": "markdown",
   "id": "ee7085f0",
   "metadata": {},
   "source": [
    "> No hay campos de texto"
   ]
  },
  {
   "cell_type": "markdown",
   "id": "df774d2b",
   "metadata": {},
   "source": [
    "## 2.4 Revisar Llaves primarias de Categorias"
   ]
  },
  {
   "cell_type": "markdown",
   "id": "c1f6f0e7",
   "metadata": {},
   "source": [
    "> No hay categorias a relacionar con las llaves"
   ]
  },
  {
   "cell_type": "markdown",
   "id": "0036f46c",
   "metadata": {},
   "source": [
    "## 2.5 Expandir datos"
   ]
  },
  {
   "cell_type": "markdown",
   "id": "dfd5ba12",
   "metadata": {},
   "source": [
    "* ### Agregar columna año y semestre:\n",
    "\n",
    "    A partir de la columna \"PERIODO\" creamos las columnas \"AÑO\" y \"SEMESTRE"
   ]
  },
  {
   "cell_type": "code",
   "execution_count": 8,
   "id": "e465df67",
   "metadata": {
    "collapsed": true
   },
   "outputs": [],
   "source": [
    "def expandir_periodo(serie):\n",
    "    año = serie.str.slice(0,4)\n",
    "    semestre = serie.str.slice(4).map({'10':'semestre 1',\n",
    "                                        '20':'semestre 2',\n",
    "                                        '11':'intersemestral 1',\n",
    "                                        '21':'intersemestral 2'})\n",
    "        \n",
    "    return año, semestre"
   ]
  },
  {
   "cell_type": "code",
   "execution_count": 9,
   "id": "c1b3500b",
   "metadata": {
    "collapsed": true
   },
   "outputs": [],
   "source": [
    "docentes_periodo_df['AÑO'], docentes_periodo_df['SEMESTRE'] = expandir_periodo(docentes_periodo_df.PERIODO)"
   ]
  },
  {
   "cell_type": "markdown",
   "id": "7440c9e6",
   "metadata": {},
   "source": [
    "* ### Agregar columna fecha (en caso de que debamos graficar la data comom una serie temporal):"
   ]
  },
  {
   "cell_type": "code",
   "execution_count": 10,
   "id": "747bc53f",
   "metadata": {
    "collapsed": true
   },
   "outputs": [],
   "source": [
    "def fecha_de_semestre(años, semestres):\n",
    "    fecha = años + '-' + semestres.map({  'semestre 1':'02',\n",
    "                                                'intersemestral 1':'06',\n",
    "                                                'semestre 2':'08',\n",
    "                                                'intersemestral 2':'12'})\n",
    "    fecha = pd.to_datetime(fecha)\n",
    "    return fecha"
   ]
  },
  {
   "cell_type": "code",
   "execution_count": 11,
   "id": "16087e62",
   "metadata": {
    "collapsed": true
   },
   "outputs": [],
   "source": [
    "# docentes_periodo_df['FECHA'] = fecha_de_semestre(docentes_periodo_df['AÑO'], docentes_periodo_df['SEMESTRE'])"
   ]
  },
  {
   "cell_type": "markdown",
   "id": "55b6d46b",
   "metadata": {},
   "source": [
    "## 2.6 Consistencia en los datos"
   ]
  },
  {
   "cell_type": "markdown",
   "id": "45e38944",
   "metadata": {},
   "source": [
    "Parece que:\n",
    "\n",
    "* los valores de \"COD_DOCENTE\" deben ser de 4 digitos\n",
    "* los valores de \"PERIODO\" deben ser de 6 digitos\n",
    "* los valores de \n",
    "\n",
    "Verificamos:"
   ]
  },
  {
   "cell_type": "code",
   "execution_count": 12,
   "id": "902ff994",
   "metadata": {
    "collapsed": true
   },
   "outputs": [
    {
     "data": {
      "text/plain": [
       "6    32537\n",
       "Name: PERIODO, dtype: int64"
      ]
     },
     "execution_count": 12,
     "metadata": {},
     "output_type": "execute_result"
    }
   ],
   "source": [
    "docentes_periodo_df.PERIODO.str.len().value_counts()"
   ]
  },
  {
   "cell_type": "markdown",
   "id": "1cb802ca",
   "metadata": {},
   "source": [
    "> * Todos tienen exactamente 6 digitos"
   ]
  },
  {
   "cell_type": "code",
   "execution_count": 13,
   "id": "2278970e",
   "metadata": {
    "collapsed": true
   },
   "outputs": [
    {
     "data": {
      "text/plain": [
       "4    29133\n",
       "3     2841\n",
       "2      448\n",
       "1      115\n",
       "Name: COD_DOCENTE, dtype: int64"
      ]
     },
     "execution_count": 13,
     "metadata": {},
     "output_type": "execute_result"
    }
   ],
   "source": [
    "docentes_periodo_df.COD_DOCENTE.str.len().value_counts()"
   ]
  },
  {
   "cell_type": "markdown",
   "id": "390c488f",
   "metadata": {},
   "source": [
    "> La mayoria tienen 4 digitos, algunos tienen menos"
   ]
  },
  {
   "cell_type": "code",
   "execution_count": 14,
   "id": "374a2a11",
   "metadata": {
    "collapsed": true
   },
   "outputs": [
    {
     "data": {
      "text/plain": [
       "5    32371\n",
       "6      166\n",
       "Name: COD_MAT, dtype: int64"
      ]
     },
     "execution_count": 14,
     "metadata": {},
     "output_type": "execute_result"
    }
   ],
   "source": [
    "docentes_periodo_df.COD_MAT.str.len().value_counts()"
   ]
  },
  {
   "cell_type": "markdown",
   "id": "b21a7d2e",
   "metadata": {},
   "source": [
    "> La mayoria tienen 5 digitos, unos pocos tienen mas (exactamente 6 digitos)"
   ]
  },
  {
   "cell_type": "markdown",
   "id": "25116ee7",
   "metadata": {},
   "source": [
    "Rellenamos con ceros a la izquierda para tener consistencia en cuanto a el numero de digitos. Pero, solo lo hacemos si no modificamos la cantidad de valores unicos."
   ]
  },
  {
   "cell_type": "code",
   "execution_count": 15,
   "id": "bfc97719",
   "metadata": {
    "collapsed": true
   },
   "outputs": [],
   "source": [
    "def fill_digits(serie):\n",
    "    ndigits = serie.str.len().max()\n",
    "    filled = serie.str.zfill(ndigits)\n",
    "    if serie.nunique() == filled.nunique():\n",
    "        return filled\n",
    "    else:\n",
    "        return serie"
   ]
  },
  {
   "cell_type": "code",
   "execution_count": 16,
   "id": "f2c1af5c",
   "metadata": {
    "collapsed": true
   },
   "outputs": [],
   "source": [
    "#docentes_periodo_df.COD_DOCENTE = fill_digits(docentes_periodo_df.COD_DOCENTE)\n",
    "#docentes_periodo_df.COD_MAT = fill_digits(docentes_periodo_df.COD_MAT)"
   ]
  },
  {
   "cell_type": "markdown",
   "id": "fc6b4bf8",
   "metadata": {},
   "source": [
    "## 2.7 Resultado"
   ]
  },
  {
   "cell_type": "code",
   "execution_count": 17,
   "id": "bc16bfb5",
   "metadata": {
    "collapsed": true
   },
   "outputs": [
    {
     "data": {
      "text/html": [
       "<div>\n",
       "<style scoped>\n",
       "    .dataframe tbody tr th:only-of-type {\n",
       "        vertical-align: middle;\n",
       "    }\n",
       "\n",
       "    .dataframe tbody tr th {\n",
       "        vertical-align: top;\n",
       "    }\n",
       "\n",
       "    .dataframe thead th {\n",
       "        text-align: right;\n",
       "    }\n",
       "</style>\n",
       "<table border=\"1\" class=\"dataframe\">\n",
       "  <thead>\n",
       "    <tr style=\"text-align: right;\">\n",
       "      <th></th>\n",
       "      <th>PERIODO</th>\n",
       "      <th>COD_MAT</th>\n",
       "      <th>COD_DOCENTE</th>\n",
       "      <th>AÑO</th>\n",
       "      <th>SEMESTRE</th>\n",
       "    </tr>\n",
       "  </thead>\n",
       "  <tbody>\n",
       "    <tr>\n",
       "      <th>0</th>\n",
       "      <td>201210</td>\n",
       "      <td>11303</td>\n",
       "      <td>1329</td>\n",
       "      <td>2012</td>\n",
       "      <td>semestre 1</td>\n",
       "    </tr>\n",
       "    <tr>\n",
       "      <th>1</th>\n",
       "      <td>201210</td>\n",
       "      <td>11304</td>\n",
       "      <td>3111</td>\n",
       "      <td>2012</td>\n",
       "      <td>semestre 1</td>\n",
       "    </tr>\n",
       "    <tr>\n",
       "      <th>2</th>\n",
       "      <td>201210</td>\n",
       "      <td>11305</td>\n",
       "      <td>622</td>\n",
       "      <td>2012</td>\n",
       "      <td>semestre 1</td>\n",
       "    </tr>\n",
       "    <tr>\n",
       "      <th>3</th>\n",
       "      <td>201210</td>\n",
       "      <td>11312</td>\n",
       "      <td>1329</td>\n",
       "      <td>2012</td>\n",
       "      <td>semestre 1</td>\n",
       "    </tr>\n",
       "    <tr>\n",
       "      <th>4</th>\n",
       "      <td>201210</td>\n",
       "      <td>11313</td>\n",
       "      <td>1329</td>\n",
       "      <td>2012</td>\n",
       "      <td>semestre 1</td>\n",
       "    </tr>\n",
       "  </tbody>\n",
       "</table>\n",
       "</div>"
      ],
      "text/plain": [
       "  PERIODO COD_MAT COD_DOCENTE   AÑO    SEMESTRE\n",
       "0  201210   11303        1329  2012  semestre 1\n",
       "1  201210   11304        3111  2012  semestre 1\n",
       "2  201210   11305         622  2012  semestre 1\n",
       "3  201210   11312        1329  2012  semestre 1\n",
       "4  201210   11313        1329  2012  semestre 1"
      ]
     },
     "execution_count": 17,
     "metadata": {},
     "output_type": "execute_result"
    }
   ],
   "source": [
    "docentes_periodo_df.head()"
   ]
  },
  {
   "cell_type": "code",
   "execution_count": 18,
   "id": "7aff137d",
   "metadata": {
    "collapsed": true
   },
   "outputs": [
    {
     "name": "stdout",
     "output_type": "stream",
     "text": [
      "<class 'pandas.core.frame.DataFrame'>\n",
      "RangeIndex: 32537 entries, 0 to 32536\n",
      "Data columns (total 5 columns):\n",
      " #   Column       Non-Null Count  Dtype \n",
      "---  ------       --------------  ----- \n",
      " 0   PERIODO      32537 non-null  object\n",
      " 1   COD_MAT      32537 non-null  object\n",
      " 2   COD_DOCENTE  32537 non-null  object\n",
      " 3   AÑO          32537 non-null  object\n",
      " 4   SEMESTRE     32537 non-null  object\n",
      "dtypes: object(5)\n",
      "memory usage: 1.2+ MB\n"
     ]
    }
   ],
   "source": [
    "docentes_periodo_df.info()"
   ]
  },
  {
   "cell_type": "code",
   "execution_count": 19,
   "id": "27699392",
   "metadata": {
    "collapsed": true
   },
   "outputs": [
    {
     "data": {
      "text/plain": [
       "PERIODO          37\n",
       "COD_MAT        2275\n",
       "COD_DOCENTE    2220\n",
       "AÑO              10\n",
       "SEMESTRE          4\n",
       "dtype: int64"
      ]
     },
     "execution_count": 19,
     "metadata": {},
     "output_type": "execute_result"
    }
   ],
   "source": [
    "docentes_periodo_df.nunique()"
   ]
  },
  {
   "cell_type": "code",
   "execution_count": 20,
   "id": "fcf5d1a8",
   "metadata": {
    "collapsed": true
   },
   "outputs": [
    {
     "data": {
      "text/plain": [
       "6    32537\n",
       "Name: PERIODO, dtype: int64"
      ]
     },
     "execution_count": 20,
     "metadata": {},
     "output_type": "execute_result"
    }
   ],
   "source": [
    "docentes_periodo_df.PERIODO.str.len().value_counts()"
   ]
  },
  {
   "cell_type": "code",
   "execution_count": 21,
   "id": "1a6b25db",
   "metadata": {
    "collapsed": true
   },
   "outputs": [
    {
     "data": {
      "text/plain": [
       "4    29133\n",
       "3     2841\n",
       "2      448\n",
       "1      115\n",
       "Name: COD_DOCENTE, dtype: int64"
      ]
     },
     "execution_count": 21,
     "metadata": {},
     "output_type": "execute_result"
    }
   ],
   "source": [
    "docentes_periodo_df.COD_DOCENTE.str.len().value_counts()"
   ]
  },
  {
   "cell_type": "code",
   "execution_count": 22,
   "id": "11fded82",
   "metadata": {
    "collapsed": true
   },
   "outputs": [
    {
     "data": {
      "text/plain": [
       "5    32371\n",
       "6      166\n",
       "Name: COD_MAT, dtype: int64"
      ]
     },
     "execution_count": 22,
     "metadata": {},
     "output_type": "execute_result"
    }
   ],
   "source": [
    "docentes_periodo_df.COD_MAT.str.len().value_counts()"
   ]
  },
  {
   "cell_type": "markdown",
   "id": "e1f52cc1",
   "metadata": {},
   "source": [
    "## 3. Tabla \"eval_docentes_periodo\""
   ]
  },
  {
   "cell_type": "code",
   "execution_count": 23,
   "id": "9ce60616",
   "metadata": {
    "collapsed": true
   },
   "outputs": [
    {
     "data": {
      "text/html": [
       "<div>\n",
       "<style scoped>\n",
       "    .dataframe tbody tr th:only-of-type {\n",
       "        vertical-align: middle;\n",
       "    }\n",
       "\n",
       "    .dataframe tbody tr th {\n",
       "        vertical-align: top;\n",
       "    }\n",
       "\n",
       "    .dataframe thead th {\n",
       "        text-align: right;\n",
       "    }\n",
       "</style>\n",
       "<table border=\"1\" class=\"dataframe\">\n",
       "  <thead>\n",
       "    <tr style=\"text-align: right;\">\n",
       "      <th></th>\n",
       "      <th>PERIODO</th>\n",
       "      <th>COD_DOCENTE</th>\n",
       "      <th>COD_MAT</th>\n",
       "      <th>COD_FACTOR</th>\n",
       "      <th>NOM_FACTOR</th>\n",
       "      <th>CALIFICACION</th>\n",
       "    </tr>\n",
       "  </thead>\n",
       "  <tbody>\n",
       "    <tr>\n",
       "      <th>0</th>\n",
       "      <td>201210</td>\n",
       "      <td>1008</td>\n",
       "      <td>66410</td>\n",
       "      <td>1</td>\n",
       "      <td>Asistencia y Puntualidad</td>\n",
       "      <td>4,63</td>\n",
       "    </tr>\n",
       "    <tr>\n",
       "      <th>1</th>\n",
       "      <td>201210</td>\n",
       "      <td>1008</td>\n",
       "      <td>66410</td>\n",
       "      <td>2</td>\n",
       "      <td>Relación profesor alumno</td>\n",
       "      <td>4,65</td>\n",
       "    </tr>\n",
       "    <tr>\n",
       "      <th>2</th>\n",
       "      <td>201210</td>\n",
       "      <td>1008</td>\n",
       "      <td>66410</td>\n",
       "      <td>3</td>\n",
       "      <td>Orientación del proceso de formación</td>\n",
       "      <td>4,58</td>\n",
       "    </tr>\n",
       "    <tr>\n",
       "      <th>3</th>\n",
       "      <td>201210</td>\n",
       "      <td>1008</td>\n",
       "      <td>66410</td>\n",
       "      <td>4</td>\n",
       "      <td>Conocimientos</td>\n",
       "      <td>4,71</td>\n",
       "    </tr>\n",
       "    <tr>\n",
       "      <th>4</th>\n",
       "      <td>201210</td>\n",
       "      <td>1008</td>\n",
       "      <td>66410</td>\n",
       "      <td>5</td>\n",
       "      <td>Planeación del proceso de formación</td>\n",
       "      <td>4,72</td>\n",
       "    </tr>\n",
       "  </tbody>\n",
       "</table>\n",
       "</div>"
      ],
      "text/plain": [
       "   PERIODO  COD_DOCENTE  COD_MAT  COD_FACTOR  \\\n",
       "0   201210         1008    66410           1   \n",
       "1   201210         1008    66410           2   \n",
       "2   201210         1008    66410           3   \n",
       "3   201210         1008    66410           4   \n",
       "4   201210         1008    66410           5   \n",
       "\n",
       "                             NOM_FACTOR CALIFICACION  \n",
       "0              Asistencia y Puntualidad         4,63  \n",
       "1              Relación profesor alumno         4,65  \n",
       "2  Orientación del proceso de formación         4,58  \n",
       "3                         Conocimientos         4,71  \n",
       "4   Planeación del proceso de formación         4,72  "
      ]
     },
     "execution_count": 23,
     "metadata": {},
     "output_type": "execute_result"
    }
   ],
   "source": [
    "eval_docentes_periodo_df.head()"
   ]
  },
  {
   "cell_type": "code",
   "execution_count": 24,
   "id": "769719ee",
   "metadata": {
    "collapsed": true
   },
   "outputs": [
    {
     "name": "stdout",
     "output_type": "stream",
     "text": [
      "<class 'pandas.core.frame.DataFrame'>\n",
      "RangeIndex: 253035 entries, 0 to 253034\n",
      "Data columns (total 6 columns):\n",
      " #   Column        Non-Null Count   Dtype \n",
      "---  ------        --------------   ----- \n",
      " 0   PERIODO       253035 non-null  int64 \n",
      " 1   COD_DOCENTE   253035 non-null  int64 \n",
      " 2   COD_MAT       253035 non-null  int64 \n",
      " 3   COD_FACTOR    253035 non-null  int64 \n",
      " 4   NOM_FACTOR    253035 non-null  object\n",
      " 5   CALIFICACION  253035 non-null  object\n",
      "dtypes: int64(4), object(2)\n",
      "memory usage: 11.6+ MB\n"
     ]
    }
   ],
   "source": [
    "eval_docentes_periodo_df.info()"
   ]
  },
  {
   "cell_type": "code",
   "execution_count": 25,
   "id": "f64fec62",
   "metadata": {
    "collapsed": true
   },
   "outputs": [
    {
     "data": {
      "text/plain": [
       "PERIODO           18\n",
       "COD_DOCENTE     2163\n",
       "COD_MAT         2097\n",
       "COD_FACTOR        18\n",
       "NOM_FACTOR        12\n",
       "CALIFICACION     322\n",
       "dtype: int64"
      ]
     },
     "execution_count": 25,
     "metadata": {},
     "output_type": "execute_result"
    }
   ],
   "source": [
    "eval_docentes_periodo_df.nunique()"
   ]
  },
  {
   "cell_type": "markdown",
   "id": "f5280767",
   "metadata": {},
   "source": [
    "> * 6 columnas\n",
    "> * 253035 filas\n",
    "> * Para esta tabla no hay valores faltantes (nulos)\n",
    "> * \"CALIFICACION\" debe ser de tipo float\n",
    "> * Las demas son varaibles categoricas, las preferimos como strings\n",
    "> * Hay una inconsistencia en la cantidad de \"COD_FACTOR\" y \"NOM_FACTOR\", los cuales deberian ser iguales"
   ]
  },
  {
   "cell_type": "markdown",
   "id": "ea1657fc",
   "metadata": {},
   "source": [
    "## 3.1 Llenar valores Faltantes"
   ]
  },
  {
   "cell_type": "markdown",
   "id": "09f89f2c",
   "metadata": {},
   "source": [
    "> No hay valores faltantes"
   ]
  },
  {
   "cell_type": "markdown",
   "id": "0dd3e2ad",
   "metadata": {},
   "source": [
    "## 3.2 Corregir tipo de datos"
   ]
  },
  {
   "cell_type": "code",
   "execution_count": 26,
   "id": "550633c1",
   "metadata": {
    "collapsed": true
   },
   "outputs": [],
   "source": [
    "eval_docentes_periodo_df = eval_docentes_periodo_df.astype({'PERIODO':str, 'COD_DOCENTE':str, 'COD_MAT':str, 'COD_FACTOR':str, 'NOM_FACTOR':str})\n",
    "eval_docentes_periodo_df.CALIFICACION = eval_docentes_periodo_df.CALIFICACION.str.replace(',', '.').astype(float)"
   ]
  },
  {
   "cell_type": "markdown",
   "id": "ede1797b",
   "metadata": {},
   "source": [
    "## 3.3 Normalizar Texto"
   ]
  },
  {
   "cell_type": "code",
   "execution_count": 27,
   "id": "2879883a",
   "metadata": {
    "collapsed": true
   },
   "outputs": [],
   "source": [
    "def normalize_text(serie):\n",
    "    # to ascii:\n",
    "    serie = serie.str.normalize('NFKD')\n",
    "    serie = serie.str.encode(\"ascii\",\"ignore\")\n",
    "    serie = serie.str.decode('ascii')\n",
    "    # to lowercase:\n",
    "    serie = serie.str.lower()\n",
    "    return serie"
   ]
  },
  {
   "cell_type": "code",
   "execution_count": 28,
   "id": "8d137976",
   "metadata": {
    "collapsed": true
   },
   "outputs": [],
   "source": [
    "eval_docentes_periodo_df.NOM_FACTOR = normalize_text(eval_docentes_periodo_df.NOM_FACTOR)"
   ]
  },
  {
   "cell_type": "markdown",
   "id": "934c802c",
   "metadata": {},
   "source": [
    "## 3.4 Revisar Llaves primarias de Categorias"
   ]
  },
  {
   "cell_type": "markdown",
   "id": "0cb06f09",
   "metadata": {},
   "source": [
    "* ### Corregir \"COD_FACTOR\" y \"NOM_FACTOR\" "
   ]
  },
  {
   "cell_type": "code",
   "execution_count": 29,
   "id": "059733be",
   "metadata": {
    "collapsed": true
   },
   "outputs": [
    {
     "data": {
      "text/html": [
       "<div>\n",
       "<style scoped>\n",
       "    .dataframe tbody tr th:only-of-type {\n",
       "        vertical-align: middle;\n",
       "    }\n",
       "\n",
       "    .dataframe tbody tr th {\n",
       "        vertical-align: top;\n",
       "    }\n",
       "\n",
       "    .dataframe thead th {\n",
       "        text-align: right;\n",
       "    }\n",
       "</style>\n",
       "<table border=\"1\" class=\"dataframe\">\n",
       "  <thead>\n",
       "    <tr style=\"text-align: right;\">\n",
       "      <th></th>\n",
       "      <th></th>\n",
       "      <th>COD_DOCENTE</th>\n",
       "    </tr>\n",
       "    <tr>\n",
       "      <th>COD_FACTOR</th>\n",
       "      <th>NOM_FACTOR</th>\n",
       "      <th></th>\n",
       "    </tr>\n",
       "  </thead>\n",
       "  <tbody>\n",
       "    <tr>\n",
       "      <th>1</th>\n",
       "      <th>asistencia y puntualidad</th>\n",
       "      <td>26947</td>\n",
       "    </tr>\n",
       "    <tr>\n",
       "      <th>10</th>\n",
       "      <th>material didactico</th>\n",
       "      <td>1173</td>\n",
       "    </tr>\n",
       "    <tr>\n",
       "      <th>11</th>\n",
       "      <th>tutoria virtual</th>\n",
       "      <td>1173</td>\n",
       "    </tr>\n",
       "    <tr>\n",
       "      <th>12</th>\n",
       "      <th>relacion profesor alumno</th>\n",
       "      <td>1173</td>\n",
       "    </tr>\n",
       "    <tr>\n",
       "      <th>13</th>\n",
       "      <th>orientacion del proceso de formacion</th>\n",
       "      <td>1173</td>\n",
       "    </tr>\n",
       "    <tr>\n",
       "      <th>14</th>\n",
       "      <th>conocimientos</th>\n",
       "      <td>1173</td>\n",
       "    </tr>\n",
       "    <tr>\n",
       "      <th>15</th>\n",
       "      <th>planeacion del proceso de formacion</th>\n",
       "      <td>1173</td>\n",
       "    </tr>\n",
       "    <tr>\n",
       "      <th>16</th>\n",
       "      <th>evaluacion del aprendizaje</th>\n",
       "      <td>1173</td>\n",
       "    </tr>\n",
       "    <tr>\n",
       "      <th>17</th>\n",
       "      <th>investigacion y extension</th>\n",
       "      <td>1173</td>\n",
       "    </tr>\n",
       "    <tr>\n",
       "      <th>18</th>\n",
       "      <th>compromiso institucional</th>\n",
       "      <td>1173</td>\n",
       "    </tr>\n",
       "    <tr>\n",
       "      <th>2</th>\n",
       "      <th>relacion profesor alumno</th>\n",
       "      <td>26945</td>\n",
       "    </tr>\n",
       "    <tr>\n",
       "      <th>3</th>\n",
       "      <th>orientacion del proceso de formacion</th>\n",
       "      <td>26945</td>\n",
       "    </tr>\n",
       "    <tr>\n",
       "      <th>4</th>\n",
       "      <th>conocimientos</th>\n",
       "      <td>26944</td>\n",
       "    </tr>\n",
       "    <tr>\n",
       "      <th>5</th>\n",
       "      <th>planeacion del proceso de formacion</th>\n",
       "      <td>26941</td>\n",
       "    </tr>\n",
       "    <tr>\n",
       "      <th>6</th>\n",
       "      <th>evaluacion del aprendizaje</th>\n",
       "      <td>26939</td>\n",
       "    </tr>\n",
       "    <tr>\n",
       "      <th>7</th>\n",
       "      <th>imagen y orden</th>\n",
       "      <td>26941</td>\n",
       "    </tr>\n",
       "    <tr>\n",
       "      <th>8</th>\n",
       "      <th>compromiso institucional</th>\n",
       "      <td>26937</td>\n",
       "    </tr>\n",
       "    <tr>\n",
       "      <th>9</th>\n",
       "      <th>investigacion y extension</th>\n",
       "      <td>26939</td>\n",
       "    </tr>\n",
       "  </tbody>\n",
       "</table>\n",
       "</div>"
      ],
      "text/plain": [
       "                                                 COD_DOCENTE\n",
       "COD_FACTOR NOM_FACTOR                                       \n",
       "1          asistencia y puntualidad                    26947\n",
       "10         material didactico                           1173\n",
       "11         tutoria virtual                              1173\n",
       "12         relacion profesor alumno                     1173\n",
       "13         orientacion del proceso de formacion         1173\n",
       "14         conocimientos                                1173\n",
       "15         planeacion del proceso de formacion          1173\n",
       "16         evaluacion del aprendizaje                   1173\n",
       "17         investigacion y extension                    1173\n",
       "18         compromiso institucional                     1173\n",
       "2          relacion profesor alumno                    26945\n",
       "3          orientacion del proceso de formacion        26945\n",
       "4          conocimientos                               26944\n",
       "5          planeacion del proceso de formacion         26941\n",
       "6          evaluacion del aprendizaje                  26939\n",
       "7          imagen y orden                              26941\n",
       "8          compromiso institucional                    26937\n",
       "9          investigacion y extension                   26939"
      ]
     },
     "execution_count": 29,
     "metadata": {},
     "output_type": "execute_result"
    }
   ],
   "source": [
    "eval_docentes_periodo_df.groupby(['COD_FACTOR', 'NOM_FACTOR'])[['COD_DOCENTE']].count()"
   ]
  },
  {
   "cell_type": "markdown",
   "id": "6bce6eaf",
   "metadata": {},
   "source": [
    "> El problema es que existe mas de un codigo para el mismo factor."
   ]
  },
  {
   "cell_type": "code",
   "execution_count": 30,
   "id": "076c1b34",
   "metadata": {
    "collapsed": true
   },
   "outputs": [
    {
     "data": {
      "text/plain": [
       "{'asistencia y puntualidad': '1',\n",
       " 'relacion profesor alumno': '2',\n",
       " 'orientacion del proceso de formacion': '3',\n",
       " 'conocimientos': '4',\n",
       " 'planeacion del proceso de formacion': '5',\n",
       " 'evaluacion del aprendizaje': '6',\n",
       " 'imagen y orden': '7',\n",
       " 'compromiso institucional': '8',\n",
       " 'investigacion y extension': '9',\n",
       " 'material didactico': '10',\n",
       " 'tutoria virtual': '11'}"
      ]
     },
     "execution_count": 30,
     "metadata": {},
     "output_type": "execute_result"
    }
   ],
   "source": [
    "factores = eval_docentes_periodo_df.NOM_FACTOR.unique()\n",
    "cod_factores = {factor:str(i+1) for i, factor in enumerate(factores)}\n",
    "cod_factores"
   ]
  },
  {
   "cell_type": "code",
   "execution_count": 31,
   "id": "ccf51b75",
   "metadata": {
    "collapsed": true
   },
   "outputs": [],
   "source": [
    "def fix_factor_codes(col):\n",
    "    factores = col.unique()\n",
    "    cod_factores = {factor:str(i+1) for i, factor in enumerate(factores)}\n",
    "    return col.map(cod_factores)"
   ]
  },
  {
   "cell_type": "code",
   "execution_count": 32,
   "id": "8abc4ea3",
   "metadata": {
    "collapsed": true
   },
   "outputs": [],
   "source": [
    "eval_docentes_periodo_df['COD_FACTOR'] = fix_factor_codes(eval_docentes_periodo_df.NOM_FACTOR)"
   ]
  },
  {
   "cell_type": "markdown",
   "id": "a9b15514",
   "metadata": {},
   "source": [
    "## 3.5 Expandir datos"
   ]
  },
  {
   "cell_type": "markdown",
   "id": "2f8575b5",
   "metadata": {},
   "source": [
    "Añadir año y semestre:"
   ]
  },
  {
   "cell_type": "code",
   "execution_count": 33,
   "id": "0df1c96d",
   "metadata": {
    "collapsed": true
   },
   "outputs": [],
   "source": [
    "eval_docentes_periodo_df['AÑO'], eval_docentes_periodo_df['SEMESTRE'] = expandir_periodo(eval_docentes_periodo_df.PERIODO)\n",
    "\n",
    "#eval_docentes_periodo_df['FECHA'] = fecha_de_semestre(eval_docentes_periodo_df['AÑO'], eval_docentes_periodo_df['SEMESTRE'])"
   ]
  },
  {
   "cell_type": "markdown",
   "id": "e9b54cbc-5214-45b1-9d57-20c6eeaf7b1f",
   "metadata": {},
   "source": [
    "## 3.6 Consistencia en los datos"
   ]
  },
  {
   "cell_type": "markdown",
   "id": "73200b0b",
   "metadata": {},
   "source": [
    "Aplica el mismo analisis de la tabla \"docentes_periodo\" en el numeral 2.6"
   ]
  },
  {
   "cell_type": "code",
   "execution_count": 34,
   "id": "12bbca7d",
   "metadata": {
    "collapsed": true
   },
   "outputs": [],
   "source": [
    "# filled = eval_docentes_periodo_df[['PERIODO', 'COD_DOCENTE', 'COD_MAT']].apply(fill_digits, axis=0)\n",
    "# eval_docentes_periodo_df[['PERIODO', 'COD_DOCENTE', 'COD_MAT']] = filled"
   ]
  },
  {
   "cell_type": "markdown",
   "id": "428f3989",
   "metadata": {},
   "source": [
    "## 3.7 Resultado"
   ]
  },
  {
   "cell_type": "code",
   "execution_count": 35,
   "id": "0f223fa7",
   "metadata": {
    "collapsed": true
   },
   "outputs": [
    {
     "data": {
      "text/html": [
       "<div>\n",
       "<style scoped>\n",
       "    .dataframe tbody tr th:only-of-type {\n",
       "        vertical-align: middle;\n",
       "    }\n",
       "\n",
       "    .dataframe tbody tr th {\n",
       "        vertical-align: top;\n",
       "    }\n",
       "\n",
       "    .dataframe thead th {\n",
       "        text-align: right;\n",
       "    }\n",
       "</style>\n",
       "<table border=\"1\" class=\"dataframe\">\n",
       "  <thead>\n",
       "    <tr style=\"text-align: right;\">\n",
       "      <th></th>\n",
       "      <th>PERIODO</th>\n",
       "      <th>COD_DOCENTE</th>\n",
       "      <th>COD_MAT</th>\n",
       "      <th>COD_FACTOR</th>\n",
       "      <th>NOM_FACTOR</th>\n",
       "      <th>CALIFICACION</th>\n",
       "      <th>AÑO</th>\n",
       "      <th>SEMESTRE</th>\n",
       "    </tr>\n",
       "  </thead>\n",
       "  <tbody>\n",
       "    <tr>\n",
       "      <th>0</th>\n",
       "      <td>201210</td>\n",
       "      <td>1008</td>\n",
       "      <td>66410</td>\n",
       "      <td>1</td>\n",
       "      <td>asistencia y puntualidad</td>\n",
       "      <td>4.63</td>\n",
       "      <td>2012</td>\n",
       "      <td>semestre 1</td>\n",
       "    </tr>\n",
       "    <tr>\n",
       "      <th>1</th>\n",
       "      <td>201210</td>\n",
       "      <td>1008</td>\n",
       "      <td>66410</td>\n",
       "      <td>2</td>\n",
       "      <td>relacion profesor alumno</td>\n",
       "      <td>4.65</td>\n",
       "      <td>2012</td>\n",
       "      <td>semestre 1</td>\n",
       "    </tr>\n",
       "    <tr>\n",
       "      <th>2</th>\n",
       "      <td>201210</td>\n",
       "      <td>1008</td>\n",
       "      <td>66410</td>\n",
       "      <td>3</td>\n",
       "      <td>orientacion del proceso de formacion</td>\n",
       "      <td>4.58</td>\n",
       "      <td>2012</td>\n",
       "      <td>semestre 1</td>\n",
       "    </tr>\n",
       "    <tr>\n",
       "      <th>3</th>\n",
       "      <td>201210</td>\n",
       "      <td>1008</td>\n",
       "      <td>66410</td>\n",
       "      <td>4</td>\n",
       "      <td>conocimientos</td>\n",
       "      <td>4.71</td>\n",
       "      <td>2012</td>\n",
       "      <td>semestre 1</td>\n",
       "    </tr>\n",
       "    <tr>\n",
       "      <th>4</th>\n",
       "      <td>201210</td>\n",
       "      <td>1008</td>\n",
       "      <td>66410</td>\n",
       "      <td>5</td>\n",
       "      <td>planeacion del proceso de formacion</td>\n",
       "      <td>4.72</td>\n",
       "      <td>2012</td>\n",
       "      <td>semestre 1</td>\n",
       "    </tr>\n",
       "  </tbody>\n",
       "</table>\n",
       "</div>"
      ],
      "text/plain": [
       "  PERIODO COD_DOCENTE COD_MAT COD_FACTOR  \\\n",
       "0  201210        1008   66410          1   \n",
       "1  201210        1008   66410          2   \n",
       "2  201210        1008   66410          3   \n",
       "3  201210        1008   66410          4   \n",
       "4  201210        1008   66410          5   \n",
       "\n",
       "                             NOM_FACTOR  CALIFICACION   AÑO    SEMESTRE  \n",
       "0              asistencia y puntualidad          4.63  2012  semestre 1  \n",
       "1              relacion profesor alumno          4.65  2012  semestre 1  \n",
       "2  orientacion del proceso de formacion          4.58  2012  semestre 1  \n",
       "3                         conocimientos          4.71  2012  semestre 1  \n",
       "4   planeacion del proceso de formacion          4.72  2012  semestre 1  "
      ]
     },
     "execution_count": 35,
     "metadata": {},
     "output_type": "execute_result"
    }
   ],
   "source": [
    "eval_docentes_periodo_df.head()"
   ]
  },
  {
   "cell_type": "code",
   "execution_count": 36,
   "id": "1e6f09da",
   "metadata": {
    "collapsed": true
   },
   "outputs": [
    {
     "name": "stdout",
     "output_type": "stream",
     "text": [
      "<class 'pandas.core.frame.DataFrame'>\n",
      "RangeIndex: 253035 entries, 0 to 253034\n",
      "Data columns (total 8 columns):\n",
      " #   Column        Non-Null Count   Dtype  \n",
      "---  ------        --------------   -----  \n",
      " 0   PERIODO       253035 non-null  object \n",
      " 1   COD_DOCENTE   253035 non-null  object \n",
      " 2   COD_MAT       253035 non-null  object \n",
      " 3   COD_FACTOR    253035 non-null  object \n",
      " 4   NOM_FACTOR    253035 non-null  object \n",
      " 5   CALIFICACION  253035 non-null  float64\n",
      " 6   AÑO           253035 non-null  object \n",
      " 7   SEMESTRE      253035 non-null  object \n",
      "dtypes: float64(1), object(7)\n",
      "memory usage: 15.4+ MB\n"
     ]
    }
   ],
   "source": [
    "eval_docentes_periodo_df.info()"
   ]
  },
  {
   "cell_type": "code",
   "execution_count": 37,
   "id": "a2259011",
   "metadata": {
    "collapsed": true
   },
   "outputs": [
    {
     "data": {
      "text/plain": [
       "PERIODO           18\n",
       "COD_DOCENTE     2163\n",
       "COD_MAT         2097\n",
       "COD_FACTOR        11\n",
       "NOM_FACTOR        11\n",
       "CALIFICACION     322\n",
       "AÑO                9\n",
       "SEMESTRE           2\n",
       "dtype: int64"
      ]
     },
     "execution_count": 37,
     "metadata": {},
     "output_type": "execute_result"
    }
   ],
   "source": [
    "eval_docentes_periodo_df.nunique()"
   ]
  },
  {
   "cell_type": "code",
   "execution_count": 38,
   "id": "f4f32206",
   "metadata": {
    "collapsed": true
   },
   "outputs": [
    {
     "data": {
      "text/html": [
       "<div>\n",
       "<style scoped>\n",
       "    .dataframe tbody tr th:only-of-type {\n",
       "        vertical-align: middle;\n",
       "    }\n",
       "\n",
       "    .dataframe tbody tr th {\n",
       "        vertical-align: top;\n",
       "    }\n",
       "\n",
       "    .dataframe thead th {\n",
       "        text-align: right;\n",
       "    }\n",
       "</style>\n",
       "<table border=\"1\" class=\"dataframe\">\n",
       "  <thead>\n",
       "    <tr style=\"text-align: right;\">\n",
       "      <th></th>\n",
       "      <th></th>\n",
       "      <th>COD_DOCENTE</th>\n",
       "    </tr>\n",
       "    <tr>\n",
       "      <th>COD_FACTOR</th>\n",
       "      <th>NOM_FACTOR</th>\n",
       "      <th></th>\n",
       "    </tr>\n",
       "  </thead>\n",
       "  <tbody>\n",
       "    <tr>\n",
       "      <th>1</th>\n",
       "      <th>asistencia y puntualidad</th>\n",
       "      <td>26947</td>\n",
       "    </tr>\n",
       "    <tr>\n",
       "      <th>10</th>\n",
       "      <th>material didactico</th>\n",
       "      <td>1173</td>\n",
       "    </tr>\n",
       "    <tr>\n",
       "      <th>11</th>\n",
       "      <th>tutoria virtual</th>\n",
       "      <td>1173</td>\n",
       "    </tr>\n",
       "    <tr>\n",
       "      <th>2</th>\n",
       "      <th>relacion profesor alumno</th>\n",
       "      <td>28118</td>\n",
       "    </tr>\n",
       "    <tr>\n",
       "      <th>3</th>\n",
       "      <th>orientacion del proceso de formacion</th>\n",
       "      <td>28118</td>\n",
       "    </tr>\n",
       "    <tr>\n",
       "      <th>4</th>\n",
       "      <th>conocimientos</th>\n",
       "      <td>28117</td>\n",
       "    </tr>\n",
       "    <tr>\n",
       "      <th>5</th>\n",
       "      <th>planeacion del proceso de formacion</th>\n",
       "      <td>28114</td>\n",
       "    </tr>\n",
       "    <tr>\n",
       "      <th>6</th>\n",
       "      <th>evaluacion del aprendizaje</th>\n",
       "      <td>28112</td>\n",
       "    </tr>\n",
       "    <tr>\n",
       "      <th>7</th>\n",
       "      <th>imagen y orden</th>\n",
       "      <td>26941</td>\n",
       "    </tr>\n",
       "    <tr>\n",
       "      <th>8</th>\n",
       "      <th>compromiso institucional</th>\n",
       "      <td>28110</td>\n",
       "    </tr>\n",
       "    <tr>\n",
       "      <th>9</th>\n",
       "      <th>investigacion y extension</th>\n",
       "      <td>28112</td>\n",
       "    </tr>\n",
       "  </tbody>\n",
       "</table>\n",
       "</div>"
      ],
      "text/plain": [
       "                                                 COD_DOCENTE\n",
       "COD_FACTOR NOM_FACTOR                                       \n",
       "1          asistencia y puntualidad                    26947\n",
       "10         material didactico                           1173\n",
       "11         tutoria virtual                              1173\n",
       "2          relacion profesor alumno                    28118\n",
       "3          orientacion del proceso de formacion        28118\n",
       "4          conocimientos                               28117\n",
       "5          planeacion del proceso de formacion         28114\n",
       "6          evaluacion del aprendizaje                  28112\n",
       "7          imagen y orden                              26941\n",
       "8          compromiso institucional                    28110\n",
       "9          investigacion y extension                   28112"
      ]
     },
     "execution_count": 38,
     "metadata": {},
     "output_type": "execute_result"
    }
   ],
   "source": [
    "eval_docentes_periodo_df.groupby(['COD_FACTOR', 'NOM_FACTOR'])[['COD_DOCENTE']].count()"
   ]
  },
  {
   "cell_type": "markdown",
   "id": "191c4a39",
   "metadata": {},
   "source": [
    "## 4. Tabla \"mat_cursadas_v2\""
   ]
  },
  {
   "cell_type": "code",
   "execution_count": 39,
   "id": "4606479f",
   "metadata": {
    "collapsed": true
   },
   "outputs": [
    {
     "data": {
      "text/html": [
       "<div>\n",
       "<style scoped>\n",
       "    .dataframe tbody tr th:only-of-type {\n",
       "        vertical-align: middle;\n",
       "    }\n",
       "\n",
       "    .dataframe tbody tr th {\n",
       "        vertical-align: top;\n",
       "    }\n",
       "\n",
       "    .dataframe thead th {\n",
       "        text-align: right;\n",
       "    }\n",
       "</style>\n",
       "<table border=\"1\" class=\"dataframe\">\n",
       "  <thead>\n",
       "    <tr style=\"text-align: right;\">\n",
       "      <th></th>\n",
       "      <th>PERIODO_COHORTE</th>\n",
       "      <th>PERIODO_ACADEMICO</th>\n",
       "      <th>CODIGO</th>\n",
       "      <th>TOT_MAT_INSCRITAS</th>\n",
       "      <th>CRED_INSCRITOS</th>\n",
       "      <th>MAT_APROBADAS</th>\n",
       "      <th>CRED_APROBADOS</th>\n",
       "    </tr>\n",
       "  </thead>\n",
       "  <tbody>\n",
       "    <tr>\n",
       "      <th>0</th>\n",
       "      <td>201210</td>\n",
       "      <td>201210</td>\n",
       "      <td>11312001</td>\n",
       "      <td>8</td>\n",
       "      <td>17.0</td>\n",
       "      <td>7</td>\n",
       "      <td>15.0</td>\n",
       "    </tr>\n",
       "    <tr>\n",
       "      <th>1</th>\n",
       "      <td>201210</td>\n",
       "      <td>201210</td>\n",
       "      <td>11312002</td>\n",
       "      <td>8</td>\n",
       "      <td>16.0</td>\n",
       "      <td>7</td>\n",
       "      <td>14.0</td>\n",
       "    </tr>\n",
       "    <tr>\n",
       "      <th>2</th>\n",
       "      <td>201210</td>\n",
       "      <td>201210</td>\n",
       "      <td>11312003</td>\n",
       "      <td>8</td>\n",
       "      <td>17.0</td>\n",
       "      <td>7</td>\n",
       "      <td>15.0</td>\n",
       "    </tr>\n",
       "    <tr>\n",
       "      <th>3</th>\n",
       "      <td>201210</td>\n",
       "      <td>201210</td>\n",
       "      <td>11312004</td>\n",
       "      <td>8</td>\n",
       "      <td>17.0</td>\n",
       "      <td>7</td>\n",
       "      <td>15.0</td>\n",
       "    </tr>\n",
       "    <tr>\n",
       "      <th>4</th>\n",
       "      <td>201210</td>\n",
       "      <td>201210</td>\n",
       "      <td>11312005</td>\n",
       "      <td>8</td>\n",
       "      <td>17.0</td>\n",
       "      <td>7</td>\n",
       "      <td>15.0</td>\n",
       "    </tr>\n",
       "  </tbody>\n",
       "</table>\n",
       "</div>"
      ],
      "text/plain": [
       "   PERIODO_COHORTE  PERIODO_ACADEMICO    CODIGO  TOT_MAT_INSCRITAS  \\\n",
       "0           201210             201210  11312001                  8   \n",
       "1           201210             201210  11312002                  8   \n",
       "2           201210             201210  11312003                  8   \n",
       "3           201210             201210  11312004                  8   \n",
       "4           201210             201210  11312005                  8   \n",
       "\n",
       "   CRED_INSCRITOS  MAT_APROBADAS  CRED_APROBADOS  \n",
       "0            17.0              7            15.0  \n",
       "1            16.0              7            14.0  \n",
       "2            17.0              7            15.0  \n",
       "3            17.0              7            15.0  \n",
       "4            17.0              7            15.0  "
      ]
     },
     "execution_count": 39,
     "metadata": {},
     "output_type": "execute_result"
    }
   ],
   "source": [
    "mat_cursadas_v2_df.head()"
   ]
  },
  {
   "cell_type": "code",
   "execution_count": 40,
   "id": "4af091df",
   "metadata": {},
   "outputs": [
    {
     "name": "stdout",
     "output_type": "stream",
     "text": [
      "<class 'pandas.core.frame.DataFrame'>\n",
      "RangeIndex: 61074 entries, 0 to 61073\n",
      "Data columns (total 7 columns):\n",
      " #   Column             Non-Null Count  Dtype  \n",
      "---  ------             --------------  -----  \n",
      " 0   PERIODO_COHORTE    61074 non-null  int64  \n",
      " 1   PERIODO_ACADEMICO  61074 non-null  int64  \n",
      " 2   CODIGO             61074 non-null  int64  \n",
      " 3   TOT_MAT_INSCRITAS  61074 non-null  int64  \n",
      " 4   CRED_INSCRITOS     60052 non-null  float64\n",
      " 5   MAT_APROBADAS      61074 non-null  int64  \n",
      " 6   CRED_APROBADOS     57591 non-null  float64\n",
      "dtypes: float64(2), int64(5)\n",
      "memory usage: 3.3 MB\n"
     ]
    }
   ],
   "source": [
    "mat_cursadas_v2_df.info()"
   ]
  },
  {
   "cell_type": "code",
   "execution_count": 41,
   "id": "da4b25f7",
   "metadata": {
    "collapsed": true
   },
   "outputs": [
    {
     "data": {
      "text/plain": [
       "PERIODO_COHORTE         19\n",
       "PERIODO_ACADEMICO       36\n",
       "CODIGO               10399\n",
       "TOT_MAT_INSCRITAS       13\n",
       "CRED_INSCRITOS          31\n",
       "MAT_APROBADAS           13\n",
       "CRED_APROBADOS          30\n",
       "dtype: int64"
      ]
     },
     "execution_count": 41,
     "metadata": {},
     "output_type": "execute_result"
    }
   ],
   "source": [
    "mat_cursadas_v2_df.nunique()"
   ]
  },
  {
   "cell_type": "markdown",
   "id": "93b6580d",
   "metadata": {},
   "source": [
    "> * columnas \"CRED_\" deben ser enteros\n",
    "> * hay valores faltantes en \"CRED_INSCRITOS\" y \"CRED_APROBADOS\"\n",
    "> * cual es la diferencia de \"PERIODO_COHORTE\" vs \"PERIODO_ACADEMICO\""
   ]
  },
  {
   "cell_type": "markdown",
   "id": "c365f291",
   "metadata": {},
   "source": [
    "* ### \"PERIODO_COHORTE\" vs \"PERIODO_ACADEMICO\""
   ]
  },
  {
   "cell_type": "code",
   "execution_count": 42,
   "id": "ae3b9c04",
   "metadata": {
    "collapsed": true
   },
   "outputs": [
    {
     "data": {
      "text/plain": [
       "10    30624\n",
       "20    20051\n",
       "Name: PERIODO_COHORTE, dtype: int64"
      ]
     },
     "execution_count": 42,
     "metadata": {},
     "output_type": "execute_result"
    }
   ],
   "source": [
    "periodo_dif = mat_cursadas_v2_df[mat_cursadas_v2_df.PERIODO_ACADEMICO != mat_cursadas_v2_df.PERIODO_COHORTE]\n",
    "#(periodo_dif.PERIODO_ACADEMICO + ' - ' + periodo_dif.PERIODO_COHORTE).value_counts()\n",
    "periodo_dif.PERIODO_COHORTE.astype(str).str.slice(4).value_counts()"
   ]
  },
  {
   "cell_type": "code",
   "execution_count": 43,
   "id": "962989dc",
   "metadata": {
    "collapsed": true
   },
   "outputs": [
    {
     "data": {
      "text/plain": [
       "10    25498\n",
       "20    24449\n",
       "11      487\n",
       "21      241\n",
       "Name: PERIODO_ACADEMICO, dtype: int64"
      ]
     },
     "execution_count": 43,
     "metadata": {},
     "output_type": "execute_result"
    }
   ],
   "source": [
    "periodo_dif.PERIODO_ACADEMICO.astype(str).str.slice(4).value_counts()"
   ]
  },
  {
   "cell_type": "markdown",
   "id": "43ccf19b",
   "metadata": {},
   "source": [
    "> * \"PERIODO_COHORTE\" solo incluye primer semestre y segundo semestre\n",
    "> * \"PERIODO_ACADEMICO\" incluyes semestres e intersemestrales\n",
    "\n",
    "> Se podria manejar PERIODO_COHORTE como \"mitad_del año\" con valores 1 o 2"
   ]
  },
  {
   "cell_type": "markdown",
   "id": "42e33061",
   "metadata": {},
   "source": [
    "## 4.1 Llenar valores faltantes"
   ]
  },
  {
   "cell_type": "code",
   "execution_count": 44,
   "id": "268d3aee",
   "metadata": {
    "collapsed": true
   },
   "outputs": [
    {
     "data": {
      "text/html": [
       "<div>\n",
       "<style scoped>\n",
       "    .dataframe tbody tr th:only-of-type {\n",
       "        vertical-align: middle;\n",
       "    }\n",
       "\n",
       "    .dataframe tbody tr th {\n",
       "        vertical-align: top;\n",
       "    }\n",
       "\n",
       "    .dataframe thead th {\n",
       "        text-align: right;\n",
       "    }\n",
       "</style>\n",
       "<table border=\"1\" class=\"dataframe\">\n",
       "  <thead>\n",
       "    <tr style=\"text-align: right;\">\n",
       "      <th></th>\n",
       "      <th>PERIODO_COHORTE</th>\n",
       "      <th>PERIODO_ACADEMICO</th>\n",
       "      <th>CODIGO</th>\n",
       "      <th>TOT_MAT_INSCRITAS</th>\n",
       "      <th>CRED_INSCRITOS</th>\n",
       "      <th>MAT_APROBADAS</th>\n",
       "      <th>CRED_APROBADOS</th>\n",
       "    </tr>\n",
       "  </thead>\n",
       "  <tbody>\n",
       "    <tr>\n",
       "      <th>20</th>\n",
       "      <td>201210</td>\n",
       "      <td>201210</td>\n",
       "      <td>11412007</td>\n",
       "      <td>0</td>\n",
       "      <td>NaN</td>\n",
       "      <td>0</td>\n",
       "      <td>NaN</td>\n",
       "    </tr>\n",
       "    <tr>\n",
       "      <th>28</th>\n",
       "      <td>201210</td>\n",
       "      <td>201210</td>\n",
       "      <td>11412018</td>\n",
       "      <td>0</td>\n",
       "      <td>NaN</td>\n",
       "      <td>0</td>\n",
       "      <td>NaN</td>\n",
       "    </tr>\n",
       "    <tr>\n",
       "      <th>34</th>\n",
       "      <td>201210</td>\n",
       "      <td>201210</td>\n",
       "      <td>11412026</td>\n",
       "      <td>0</td>\n",
       "      <td>NaN</td>\n",
       "      <td>0</td>\n",
       "      <td>NaN</td>\n",
       "    </tr>\n",
       "    <tr>\n",
       "      <th>48</th>\n",
       "      <td>201210</td>\n",
       "      <td>201210</td>\n",
       "      <td>11712017</td>\n",
       "      <td>0</td>\n",
       "      <td>NaN</td>\n",
       "      <td>0</td>\n",
       "      <td>NaN</td>\n",
       "    </tr>\n",
       "    <tr>\n",
       "      <th>100</th>\n",
       "      <td>201210</td>\n",
       "      <td>201210</td>\n",
       "      <td>33212008</td>\n",
       "      <td>0</td>\n",
       "      <td>NaN</td>\n",
       "      <td>0</td>\n",
       "      <td>NaN</td>\n",
       "    </tr>\n",
       "  </tbody>\n",
       "</table>\n",
       "</div>"
      ],
      "text/plain": [
       "     PERIODO_COHORTE  PERIODO_ACADEMICO    CODIGO  TOT_MAT_INSCRITAS  \\\n",
       "20            201210             201210  11412007                  0   \n",
       "28            201210             201210  11412018                  0   \n",
       "34            201210             201210  11412026                  0   \n",
       "48            201210             201210  11712017                  0   \n",
       "100           201210             201210  33212008                  0   \n",
       "\n",
       "     CRED_INSCRITOS  MAT_APROBADAS  CRED_APROBADOS  \n",
       "20              NaN              0             NaN  \n",
       "28              NaN              0             NaN  \n",
       "34              NaN              0             NaN  \n",
       "48              NaN              0             NaN  \n",
       "100             NaN              0             NaN  "
      ]
     },
     "execution_count": 44,
     "metadata": {},
     "output_type": "execute_result"
    }
   ],
   "source": [
    "nan_mask_CRED_INSCRITOS = mat_cursadas_v2_df.CRED_INSCRITOS.isna()\n",
    "mat_cursadas_v2_df[nan_mask_CRED_INSCRITOS].head()"
   ]
  },
  {
   "cell_type": "markdown",
   "id": "8a5f804e",
   "metadata": {},
   "source": [
    "> * parece que los valores nulos para \"CRED_INSCRITOS\" corresponden a semestres en el que el estudiante no inscribio materias (\"TOT_MATINSCRITAS\" == 0)"
   ]
  },
  {
   "cell_type": "code",
   "execution_count": 45,
   "id": "e0b0bc53",
   "metadata": {
    "collapsed": true
   },
   "outputs": [
    {
     "data": {
      "text/plain": [
       "PERIODO_COHORTE       19\n",
       "PERIODO_ACADEMICO     31\n",
       "CODIGO               971\n",
       "TOT_MAT_INSCRITAS      1\n",
       "CRED_INSCRITOS         0\n",
       "MAT_APROBADAS          1\n",
       "CRED_APROBADOS         0\n",
       "dtype: int64"
      ]
     },
     "execution_count": 45,
     "metadata": {},
     "output_type": "execute_result"
    }
   ],
   "source": [
    "mat_cursadas_v2_df[nan_mask_CRED_INSCRITOS].nunique()"
   ]
  },
  {
   "cell_type": "markdown",
   "id": "cde7b069",
   "metadata": {},
   "source": [
    "> * Confirmado, en las filas con \"CRED_INSCRITOS\" == NaN la columna \"TOT_MAT_INSCRITAS\" solo toma 1 valor (cero)\n",
    "> * Podemos entoces reemplazar los valores faltante por ceros\n",
    "> * podemos hacer lo mismo para \"CRED_APROBADOS\" (al menos para estas filas)"
   ]
  },
  {
   "cell_type": "code",
   "execution_count": 46,
   "id": "1e32eb3d",
   "metadata": {
    "collapsed": true
   },
   "outputs": [],
   "source": [
    "mat_cursadas_v2_df[nan_mask_CRED_INSCRITOS] = mat_cursadas_v2_df[nan_mask_CRED_INSCRITOS].fillna(0)"
   ]
  },
  {
   "cell_type": "markdown",
   "id": "e3004530",
   "metadata": {},
   "source": [
    "> * Aun hay valores faltantes para la columna \"CRED_APROBADOS\""
   ]
  },
  {
   "cell_type": "code",
   "execution_count": 47,
   "id": "eceeab9a",
   "metadata": {
    "collapsed": true
   },
   "outputs": [
    {
     "data": {
      "text/html": [
       "<div>\n",
       "<style scoped>\n",
       "    .dataframe tbody tr th:only-of-type {\n",
       "        vertical-align: middle;\n",
       "    }\n",
       "\n",
       "    .dataframe tbody tr th {\n",
       "        vertical-align: top;\n",
       "    }\n",
       "\n",
       "    .dataframe thead th {\n",
       "        text-align: right;\n",
       "    }\n",
       "</style>\n",
       "<table border=\"1\" class=\"dataframe\">\n",
       "  <thead>\n",
       "    <tr style=\"text-align: right;\">\n",
       "      <th></th>\n",
       "      <th>PERIODO_COHORTE</th>\n",
       "      <th>PERIODO_ACADEMICO</th>\n",
       "      <th>CODIGO</th>\n",
       "      <th>TOT_MAT_INSCRITAS</th>\n",
       "      <th>CRED_INSCRITOS</th>\n",
       "      <th>MAT_APROBADAS</th>\n",
       "      <th>CRED_APROBADOS</th>\n",
       "    </tr>\n",
       "  </thead>\n",
       "  <tbody>\n",
       "    <tr>\n",
       "      <th>41</th>\n",
       "      <td>201210</td>\n",
       "      <td>201210</td>\n",
       "      <td>11712009</td>\n",
       "      <td>7</td>\n",
       "      <td>14.0</td>\n",
       "      <td>0</td>\n",
       "      <td>NaN</td>\n",
       "    </tr>\n",
       "    <tr>\n",
       "      <th>50</th>\n",
       "      <td>201210</td>\n",
       "      <td>201210</td>\n",
       "      <td>11712021</td>\n",
       "      <td>8</td>\n",
       "      <td>16.0</td>\n",
       "      <td>0</td>\n",
       "      <td>NaN</td>\n",
       "    </tr>\n",
       "    <tr>\n",
       "      <th>114</th>\n",
       "      <td>201210</td>\n",
       "      <td>201210</td>\n",
       "      <td>33312029</td>\n",
       "      <td>7</td>\n",
       "      <td>15.0</td>\n",
       "      <td>0</td>\n",
       "      <td>NaN</td>\n",
       "    </tr>\n",
       "    <tr>\n",
       "      <th>157</th>\n",
       "      <td>201210</td>\n",
       "      <td>201210</td>\n",
       "      <td>55212009</td>\n",
       "      <td>8</td>\n",
       "      <td>16.0</td>\n",
       "      <td>0</td>\n",
       "      <td>NaN</td>\n",
       "    </tr>\n",
       "    <tr>\n",
       "      <th>177</th>\n",
       "      <td>201210</td>\n",
       "      <td>201210</td>\n",
       "      <td>55312022</td>\n",
       "      <td>8</td>\n",
       "      <td>16.0</td>\n",
       "      <td>0</td>\n",
       "      <td>NaN</td>\n",
       "    </tr>\n",
       "  </tbody>\n",
       "</table>\n",
       "</div>"
      ],
      "text/plain": [
       "     PERIODO_COHORTE  PERIODO_ACADEMICO    CODIGO  TOT_MAT_INSCRITAS  \\\n",
       "41            201210             201210  11712009                  7   \n",
       "50            201210             201210  11712021                  8   \n",
       "114           201210             201210  33312029                  7   \n",
       "157           201210             201210  55212009                  8   \n",
       "177           201210             201210  55312022                  8   \n",
       "\n",
       "     CRED_INSCRITOS  MAT_APROBADAS  CRED_APROBADOS  \n",
       "41             14.0              0             NaN  \n",
       "50             16.0              0             NaN  \n",
       "114            15.0              0             NaN  \n",
       "157            16.0              0             NaN  \n",
       "177            16.0              0             NaN  "
      ]
     },
     "execution_count": 47,
     "metadata": {},
     "output_type": "execute_result"
    }
   ],
   "source": [
    "nan_mask_CRED_APROBADOS = mat_cursadas_v2_df.CRED_APROBADOS.isna()\n",
    "mat_cursadas_v2_df[nan_mask_CRED_APROBADOS].head()"
   ]
  },
  {
   "cell_type": "markdown",
   "id": "04503a78",
   "metadata": {},
   "source": [
    "> * Parece ser que el estudiante no aprobo ninguna materia en ese semestre"
   ]
  },
  {
   "cell_type": "code",
   "execution_count": 48,
   "id": "4ad17a2b",
   "metadata": {
    "collapsed": true
   },
   "outputs": [
    {
     "data": {
      "text/plain": [
       "PERIODO_COHORTE        19\n",
       "PERIODO_ACADEMICO      32\n",
       "CODIGO               2212\n",
       "TOT_MAT_INSCRITAS      11\n",
       "CRED_INSCRITOS         25\n",
       "MAT_APROBADAS           1\n",
       "CRED_APROBADOS          0\n",
       "dtype: int64"
      ]
     },
     "execution_count": 48,
     "metadata": {},
     "output_type": "execute_result"
    }
   ],
   "source": [
    "mat_cursadas_v2_df[nan_mask_CRED_APROBADOS].nunique()"
   ]
  },
  {
   "cell_type": "markdown",
   "id": "22550861",
   "metadata": {},
   "source": [
    "> * Confirmado, en las filas con valores flatantes para \"CRED_APROBADOS\", \"MAT_APROBADAS\" solo toma un valor (cero)"
   ]
  },
  {
   "cell_type": "code",
   "execution_count": 49,
   "id": "19dca063",
   "metadata": {
    "collapsed": true
   },
   "outputs": [],
   "source": [
    "mat_cursadas_v2_df[nan_mask_CRED_APROBADOS] = mat_cursadas_v2_df[nan_mask_CRED_APROBADOS].fillna(0)"
   ]
  },
  {
   "cell_type": "markdown",
   "id": "1a9781dd",
   "metadata": {},
   "source": [
    "## 4.2 Corregir tipo de datos"
   ]
  },
  {
   "cell_type": "code",
   "execution_count": 50,
   "id": "0344502e",
   "metadata": {
    "collapsed": true
   },
   "outputs": [],
   "source": [
    "mat_cursadas_types = {'PERIODO_COHORTE':str,'PERIODO_ACADEMICO':str,'CODIGO':str,'TOT_MAT_INSCRITAS':int,'CRED_INSCRITOS':int,'MAT_APROBADAS':int,'CRED_APROBADOS':int}\n",
    "\n",
    "mat_cursadas_v2_df = mat_cursadas_v2_df.astype(dtype=mat_cursadas_types)"
   ]
  },
  {
   "cell_type": "markdown",
   "id": "6232b5aa-846b-479b-bae8-37d556a79a88",
   "metadata": {},
   "source": [
    "## 4.3 Normalizar Texto"
   ]
  },
  {
   "cell_type": "markdown",
   "id": "f711f168",
   "metadata": {},
   "source": [
    "> No hay variables de texto"
   ]
  },
  {
   "cell_type": "markdown",
   "id": "b0083665-4e47-4ce9-bcc1-ec6778ac91ba",
   "metadata": {},
   "source": [
    "## 4.4 Revisar llaves primarias de categorias"
   ]
  },
  {
   "cell_type": "markdown",
   "id": "453089bb",
   "metadata": {},
   "source": [
    "> No tenemos categorias relacionadas a llaves"
   ]
  },
  {
   "cell_type": "markdown",
   "id": "3931036f-ef19-46a3-bc22-04669290ad9d",
   "metadata": {},
   "source": [
    "## 4.5 Expandir datos"
   ]
  },
  {
   "cell_type": "code",
   "execution_count": 51,
   "id": "ce6c0b47",
   "metadata": {
    "collapsed": true
   },
   "outputs": [],
   "source": [
    "# mat_cursadas_v2_df['AÑO'], mat_cursadas_v2_df['SEMESTRE'] = expandir_periodo(mat_cursadas_v2_df.PERIODO_ACADEMICO)\n",
    "# mat_cursadas_v2_df['FECHA'] = fecha_de_semestre(mat_cursadas_v2_df['AÑO'], mat_cursadas_v2_df['SEMESTRE'])"
   ]
  },
  {
   "cell_type": "markdown",
   "id": "3aa87ed8-89f8-49cf-a38f-4ad7bea47508",
   "metadata": {},
   "source": [
    "## 4.6 Consistencia en los datos"
   ]
  },
  {
   "cell_type": "code",
   "execution_count": 52,
   "id": "5e2417ea",
   "metadata": {
    "collapsed": true
   },
   "outputs": [],
   "source": [
    "# cols_to_fill = ['PERIODO_COHORTE', 'PERIODO_ACADEMICO', 'CODIGO']\n",
    "# filled = mat_cursadas_v2_df[cols_to_fill].apply(fill_digits, axis=0)\n",
    "# mat_cursadas_v2_df[cols_to_fill] = filled"
   ]
  },
  {
   "cell_type": "markdown",
   "id": "4c98258f",
   "metadata": {},
   "source": [
    "## 4.7 Resultado"
   ]
  },
  {
   "cell_type": "code",
   "execution_count": 53,
   "id": "25635726",
   "metadata": {
    "collapsed": true
   },
   "outputs": [
    {
     "data": {
      "text/html": [
       "<div>\n",
       "<style scoped>\n",
       "    .dataframe tbody tr th:only-of-type {\n",
       "        vertical-align: middle;\n",
       "    }\n",
       "\n",
       "    .dataframe tbody tr th {\n",
       "        vertical-align: top;\n",
       "    }\n",
       "\n",
       "    .dataframe thead th {\n",
       "        text-align: right;\n",
       "    }\n",
       "</style>\n",
       "<table border=\"1\" class=\"dataframe\">\n",
       "  <thead>\n",
       "    <tr style=\"text-align: right;\">\n",
       "      <th></th>\n",
       "      <th>PERIODO_COHORTE</th>\n",
       "      <th>PERIODO_ACADEMICO</th>\n",
       "      <th>CODIGO</th>\n",
       "      <th>TOT_MAT_INSCRITAS</th>\n",
       "      <th>CRED_INSCRITOS</th>\n",
       "      <th>MAT_APROBADAS</th>\n",
       "      <th>CRED_APROBADOS</th>\n",
       "    </tr>\n",
       "  </thead>\n",
       "  <tbody>\n",
       "    <tr>\n",
       "      <th>0</th>\n",
       "      <td>201210</td>\n",
       "      <td>201210</td>\n",
       "      <td>11312001</td>\n",
       "      <td>8</td>\n",
       "      <td>17</td>\n",
       "      <td>7</td>\n",
       "      <td>15</td>\n",
       "    </tr>\n",
       "    <tr>\n",
       "      <th>1</th>\n",
       "      <td>201210</td>\n",
       "      <td>201210</td>\n",
       "      <td>11312002</td>\n",
       "      <td>8</td>\n",
       "      <td>16</td>\n",
       "      <td>7</td>\n",
       "      <td>14</td>\n",
       "    </tr>\n",
       "    <tr>\n",
       "      <th>2</th>\n",
       "      <td>201210</td>\n",
       "      <td>201210</td>\n",
       "      <td>11312003</td>\n",
       "      <td>8</td>\n",
       "      <td>17</td>\n",
       "      <td>7</td>\n",
       "      <td>15</td>\n",
       "    </tr>\n",
       "    <tr>\n",
       "      <th>3</th>\n",
       "      <td>201210</td>\n",
       "      <td>201210</td>\n",
       "      <td>11312004</td>\n",
       "      <td>8</td>\n",
       "      <td>17</td>\n",
       "      <td>7</td>\n",
       "      <td>15</td>\n",
       "    </tr>\n",
       "    <tr>\n",
       "      <th>4</th>\n",
       "      <td>201210</td>\n",
       "      <td>201210</td>\n",
       "      <td>11312005</td>\n",
       "      <td>8</td>\n",
       "      <td>17</td>\n",
       "      <td>7</td>\n",
       "      <td>15</td>\n",
       "    </tr>\n",
       "  </tbody>\n",
       "</table>\n",
       "</div>"
      ],
      "text/plain": [
       "  PERIODO_COHORTE PERIODO_ACADEMICO    CODIGO  TOT_MAT_INSCRITAS  \\\n",
       "0          201210            201210  11312001                  8   \n",
       "1          201210            201210  11312002                  8   \n",
       "2          201210            201210  11312003                  8   \n",
       "3          201210            201210  11312004                  8   \n",
       "4          201210            201210  11312005                  8   \n",
       "\n",
       "   CRED_INSCRITOS  MAT_APROBADAS  CRED_APROBADOS  \n",
       "0              17              7              15  \n",
       "1              16              7              14  \n",
       "2              17              7              15  \n",
       "3              17              7              15  \n",
       "4              17              7              15  "
      ]
     },
     "execution_count": 53,
     "metadata": {},
     "output_type": "execute_result"
    }
   ],
   "source": [
    "mat_cursadas_v2_df.head()"
   ]
  },
  {
   "cell_type": "code",
   "execution_count": 54,
   "id": "29583917",
   "metadata": {
    "collapsed": true
   },
   "outputs": [
    {
     "name": "stdout",
     "output_type": "stream",
     "text": [
      "<class 'pandas.core.frame.DataFrame'>\n",
      "RangeIndex: 61074 entries, 0 to 61073\n",
      "Data columns (total 7 columns):\n",
      " #   Column             Non-Null Count  Dtype \n",
      "---  ------             --------------  ----- \n",
      " 0   PERIODO_COHORTE    61074 non-null  object\n",
      " 1   PERIODO_ACADEMICO  61074 non-null  object\n",
      " 2   CODIGO             61074 non-null  object\n",
      " 3   TOT_MAT_INSCRITAS  61074 non-null  int32 \n",
      " 4   CRED_INSCRITOS     61074 non-null  int32 \n",
      " 5   MAT_APROBADAS      61074 non-null  int32 \n",
      " 6   CRED_APROBADOS     61074 non-null  int32 \n",
      "dtypes: int32(4), object(3)\n",
      "memory usage: 2.3+ MB\n"
     ]
    }
   ],
   "source": [
    "mat_cursadas_v2_df.info()"
   ]
  },
  {
   "cell_type": "markdown",
   "id": "c8b69528",
   "metadata": {},
   "source": [
    "## 5. Tabla \"perfil_ingreso_v2\""
   ]
  },
  {
   "cell_type": "code",
   "execution_count": 55,
   "id": "0bac215a",
   "metadata": {
    "collapsed": true
   },
   "outputs": [
    {
     "data": {
      "text/html": [
       "<div>\n",
       "<style scoped>\n",
       "    .dataframe tbody tr th:only-of-type {\n",
       "        vertical-align: middle;\n",
       "    }\n",
       "\n",
       "    .dataframe tbody tr th {\n",
       "        vertical-align: top;\n",
       "    }\n",
       "\n",
       "    .dataframe thead th {\n",
       "        text-align: right;\n",
       "    }\n",
       "</style>\n",
       "<table border=\"1\" class=\"dataframe\">\n",
       "  <thead>\n",
       "    <tr style=\"text-align: right;\">\n",
       "      <th></th>\n",
       "      <th>PERIODO_COHORTE</th>\n",
       "      <th>CODIGO</th>\n",
       "      <th>GENERO</th>\n",
       "      <th>EDAD</th>\n",
       "      <th>COLEGIO_PROCEDENCIA</th>\n",
       "      <th>PUNT_TOTAL</th>\n",
       "      <th>PUNT_AREA</th>\n",
       "      <th>ES_DESERTOR</th>\n",
       "      <th>ULTIMA_MATRICULA</th>\n",
       "      <th>COD_MEN</th>\n",
       "    </tr>\n",
       "  </thead>\n",
       "  <tbody>\n",
       "    <tr>\n",
       "      <th>0</th>\n",
       "      <td>201210</td>\n",
       "      <td>11312001</td>\n",
       "      <td>M</td>\n",
       "      <td>22.0</td>\n",
       "      <td>COL COOP COOSERVICIOS</td>\n",
       "      <td>438</td>\n",
       "      <td>49</td>\n",
       "      <td>NO</td>\n",
       "      <td>201710</td>\n",
       "      <td>20708</td>\n",
       "    </tr>\n",
       "    <tr>\n",
       "      <th>1</th>\n",
       "      <td>201210</td>\n",
       "      <td>11312002</td>\n",
       "      <td>M</td>\n",
       "      <td>23.0</td>\n",
       "      <td>INSTITUTO DE EDUCACION MEDIA DIVERSIFICADA INE...</td>\n",
       "      <td>386</td>\n",
       "      <td>48</td>\n",
       "      <td>NO</td>\n",
       "      <td>201420</td>\n",
       "      <td>20708</td>\n",
       "    </tr>\n",
       "    <tr>\n",
       "      <th>2</th>\n",
       "      <td>201210</td>\n",
       "      <td>11312003</td>\n",
       "      <td>F</td>\n",
       "      <td>22.0</td>\n",
       "      <td>I.E. ANTONIO NARIÑO</td>\n",
       "      <td>460</td>\n",
       "      <td>51</td>\n",
       "      <td>NO</td>\n",
       "      <td>201620</td>\n",
       "      <td>20708</td>\n",
       "    </tr>\n",
       "    <tr>\n",
       "      <th>3</th>\n",
       "      <td>201210</td>\n",
       "      <td>11312004</td>\n",
       "      <td>F</td>\n",
       "      <td>25.0</td>\n",
       "      <td>I.E. LUIS HERNANDEZ VARGAS</td>\n",
       "      <td>41</td>\n",
       "      <td>42</td>\n",
       "      <td>NO</td>\n",
       "      <td>201620</td>\n",
       "      <td>20708</td>\n",
       "    </tr>\n",
       "    <tr>\n",
       "      <th>4</th>\n",
       "      <td>201210</td>\n",
       "      <td>11312005</td>\n",
       "      <td>M</td>\n",
       "      <td>25.0</td>\n",
       "      <td>IE TEC JOSE IGNACIO DE MARQUEZ</td>\n",
       "      <td>50</td>\n",
       "      <td>49</td>\n",
       "      <td>NO</td>\n",
       "      <td>201610</td>\n",
       "      <td>20708</td>\n",
       "    </tr>\n",
       "  </tbody>\n",
       "</table>\n",
       "</div>"
      ],
      "text/plain": [
       "   PERIODO_COHORTE    CODIGO GENERO  EDAD  \\\n",
       "0           201210  11312001      M  22.0   \n",
       "1           201210  11312002      M  23.0   \n",
       "2           201210  11312003      F  22.0   \n",
       "3           201210  11312004      F  25.0   \n",
       "4           201210  11312005      M  25.0   \n",
       "\n",
       "                                 COLEGIO_PROCEDENCIA  PUNT_TOTAL  PUNT_AREA  \\\n",
       "0                              COL COOP COOSERVICIOS         438         49   \n",
       "1  INSTITUTO DE EDUCACION MEDIA DIVERSIFICADA INE...         386         48   \n",
       "2                                I.E. ANTONIO NARIÑO         460         51   \n",
       "3                         I.E. LUIS HERNANDEZ VARGAS          41         42   \n",
       "4                     IE TEC JOSE IGNACIO DE MARQUEZ          50         49   \n",
       "\n",
       "  ES_DESERTOR  ULTIMA_MATRICULA  COD_MEN  \n",
       "0          NO            201710    20708  \n",
       "1          NO            201420    20708  \n",
       "2          NO            201620    20708  \n",
       "3          NO            201620    20708  \n",
       "4          NO            201610    20708  "
      ]
     },
     "execution_count": 55,
     "metadata": {},
     "output_type": "execute_result"
    }
   ],
   "source": [
    "perfil_ingreso_v2_df.head()"
   ]
  },
  {
   "cell_type": "code",
   "execution_count": 56,
   "id": "cc16c5dc",
   "metadata": {
    "collapsed": true
   },
   "outputs": [
    {
     "name": "stdout",
     "output_type": "stream",
     "text": [
      "<class 'pandas.core.frame.DataFrame'>\n",
      "RangeIndex: 10400 entries, 0 to 10399\n",
      "Data columns (total 10 columns):\n",
      " #   Column               Non-Null Count  Dtype  \n",
      "---  ------               --------------  -----  \n",
      " 0   PERIODO_COHORTE      10400 non-null  int64  \n",
      " 1   CODIGO               10400 non-null  int64  \n",
      " 2   GENERO               10400 non-null  object \n",
      " 3   EDAD                 10398 non-null  float64\n",
      " 4   COLEGIO_PROCEDENCIA  10400 non-null  object \n",
      " 5   PUNT_TOTAL           10400 non-null  int64  \n",
      " 6   PUNT_AREA            10400 non-null  int64  \n",
      " 7   ES_DESERTOR          10400 non-null  object \n",
      " 8   ULTIMA_MATRICULA     10400 non-null  int64  \n",
      " 9   COD_MEN              10400 non-null  int64  \n",
      "dtypes: float64(1), int64(6), object(3)\n",
      "memory usage: 812.6+ KB\n"
     ]
    }
   ],
   "source": [
    "perfil_ingreso_v2_df.info()"
   ]
  },
  {
   "cell_type": "code",
   "execution_count": 57,
   "id": "ca111e8a",
   "metadata": {
    "collapsed": true
   },
   "outputs": [
    {
     "data": {
      "text/plain": [
       "PERIODO_COHORTE           19\n",
       "CODIGO                 10400\n",
       "GENERO                     2\n",
       "EDAD                      47\n",
       "COLEGIO_PROCEDENCIA     1898\n",
       "PUNT_TOTAL               390\n",
       "PUNT_AREA                249\n",
       "ES_DESERTOR                2\n",
       "ULTIMA_MATRICULA          31\n",
       "COD_MEN                   23\n",
       "dtype: int64"
      ]
     },
     "execution_count": 57,
     "metadata": {},
     "output_type": "execute_result"
    }
   ],
   "source": [
    "perfil_ingreso_v2_df.nunique()"
   ]
  },
  {
   "cell_type": "markdown",
   "id": "7c311c27",
   "metadata": {},
   "source": [
    "> * En la columna \"EDAD\" hay 2 valores faltantes\n",
    "> * la columna edad deberia ser un entero\n",
    "> * las columnas de codigo o perido son categoricas, las preferimos como strings"
   ]
  },
  {
   "cell_type": "markdown",
   "id": "48fc55c1",
   "metadata": {},
   "source": [
    "## 5.1 Llenar Valores faltantes"
   ]
  },
  {
   "cell_type": "code",
   "execution_count": 58,
   "id": "81262cbf",
   "metadata": {
    "collapsed": true
   },
   "outputs": [
    {
     "data": {
      "text/html": [
       "<div>\n",
       "<style scoped>\n",
       "    .dataframe tbody tr th:only-of-type {\n",
       "        vertical-align: middle;\n",
       "    }\n",
       "\n",
       "    .dataframe tbody tr th {\n",
       "        vertical-align: top;\n",
       "    }\n",
       "\n",
       "    .dataframe thead th {\n",
       "        text-align: right;\n",
       "    }\n",
       "</style>\n",
       "<table border=\"1\" class=\"dataframe\">\n",
       "  <thead>\n",
       "    <tr style=\"text-align: right;\">\n",
       "      <th></th>\n",
       "      <th>PERIODO_COHORTE</th>\n",
       "      <th>CODIGO</th>\n",
       "      <th>GENERO</th>\n",
       "      <th>EDAD</th>\n",
       "      <th>COLEGIO_PROCEDENCIA</th>\n",
       "      <th>PUNT_TOTAL</th>\n",
       "      <th>PUNT_AREA</th>\n",
       "      <th>ES_DESERTOR</th>\n",
       "      <th>ULTIMA_MATRICULA</th>\n",
       "      <th>COD_MEN</th>\n",
       "    </tr>\n",
       "  </thead>\n",
       "  <tbody>\n",
       "    <tr>\n",
       "      <th>1577</th>\n",
       "      <td>201310</td>\n",
       "      <td>55713038</td>\n",
       "      <td>F</td>\n",
       "      <td>NaN</td>\n",
       "      <td>INSTITUCIÓN EDUCATIVA TÉCNICO INDUSTRIAL GUSTA...</td>\n",
       "      <td>51</td>\n",
       "      <td>54</td>\n",
       "      <td>NO</td>\n",
       "      <td>201920</td>\n",
       "      <td>53841</td>\n",
       "    </tr>\n",
       "    <tr>\n",
       "      <th>1912</th>\n",
       "      <td>201310</td>\n",
       "      <td>77313007</td>\n",
       "      <td>F</td>\n",
       "      <td>NaN</td>\n",
       "      <td>COLEGIO NUESTRA SEÑORA DEL ROSARIO - TUNJA</td>\n",
       "      <td>65</td>\n",
       "      <td>68</td>\n",
       "      <td>NO</td>\n",
       "      <td>201310</td>\n",
       "      <td>90577</td>\n",
       "    </tr>\n",
       "  </tbody>\n",
       "</table>\n",
       "</div>"
      ],
      "text/plain": [
       "      PERIODO_COHORTE    CODIGO GENERO  EDAD  \\\n",
       "1577           201310  55713038      F   NaN   \n",
       "1912           201310  77313007      F   NaN   \n",
       "\n",
       "                                    COLEGIO_PROCEDENCIA  PUNT_TOTAL  \\\n",
       "1577  INSTITUCIÓN EDUCATIVA TÉCNICO INDUSTRIAL GUSTA...          51   \n",
       "1912         COLEGIO NUESTRA SEÑORA DEL ROSARIO - TUNJA          65   \n",
       "\n",
       "      PUNT_AREA ES_DESERTOR  ULTIMA_MATRICULA  COD_MEN  \n",
       "1577         54          NO            201920    53841  \n",
       "1912         68          NO            201310    90577  "
      ]
     },
     "execution_count": 58,
     "metadata": {},
     "output_type": "execute_result"
    }
   ],
   "source": [
    "perfil_ingreso_v2_df[perfil_ingreso_v2_df.EDAD.isna()]"
   ]
  },
  {
   "cell_type": "code",
   "execution_count": 59,
   "id": "bef60aba",
   "metadata": {
    "collapsed": true
   },
   "outputs": [
    {
     "name": "stdout",
     "output_type": "stream",
     "text": [
      "mediana de edad: 23\n",
      "media de edad: 24\n",
      "moda de edad: 22\n"
     ]
    }
   ],
   "source": [
    "print(f'mediana de edad: {round(perfil_ingreso_v2_df.EDAD.median())}')\n",
    "print(f'media de edad: {round(perfil_ingreso_v2_df.EDAD.mean())}')\n",
    "print(f'moda de edad: {round(perfil_ingreso_v2_df.EDAD.mode()[0])}')"
   ]
  },
  {
   "cell_type": "markdown",
   "id": "7deac9a2",
   "metadata": {},
   "source": [
    "> * Como son solo dos valores y no afectara el analisis de manera relevante, podemos rellenar con la moda"
   ]
  },
  {
   "cell_type": "code",
   "execution_count": 60,
   "id": "22943987",
   "metadata": {
    "collapsed": true
   },
   "outputs": [],
   "source": [
    "perfil_ingreso_v2_df.EDAD = perfil_ingreso_v2_df.EDAD.fillna(22)"
   ]
  },
  {
   "cell_type": "markdown",
   "id": "b0c1d84a",
   "metadata": {},
   "source": [
    "## 5.2 Corregir tipo de datos"
   ]
  },
  {
   "cell_type": "code",
   "execution_count": 61,
   "id": "f81aa03c",
   "metadata": {
    "collapsed": true
   },
   "outputs": [],
   "source": [
    "to_str_cols = ['PERIODO_COHORTE', 'CODIGO', 'ULTIMA_MATRICULA', 'COD_MEN']\n",
    "perfil_ingreso_v2_df[to_str_cols] = perfil_ingreso_v2_df[to_str_cols].astype(str)\n",
    "\n",
    "to_int_cols = ['EDAD', 'PUNT_TOTAL', 'PUNT_AREA']\n",
    "perfil_ingreso_v2_df[to_int_cols] = perfil_ingreso_v2_df[to_int_cols].astype(int)"
   ]
  },
  {
   "cell_type": "markdown",
   "id": "de9970a5",
   "metadata": {},
   "source": [
    "## 5.3 Normalizar Texto"
   ]
  },
  {
   "cell_type": "code",
   "execution_count": 62,
   "id": "e501c057",
   "metadata": {
    "collapsed": true
   },
   "outputs": [],
   "source": [
    "perfil_ingreso_v2_df.COLEGIO_PROCEDENCIA = normalize_text(perfil_ingreso_v2_df.COLEGIO_PROCEDENCIA)\n",
    "perfil_ingreso_v2_df.ES_DESERTOR = normalize_text(perfil_ingreso_v2_df.ES_DESERTOR)"
   ]
  },
  {
   "cell_type": "markdown",
   "id": "a0a3a100",
   "metadata": {},
   "source": [
    "## 5.4 Revisar Llaves primarias de categorias"
   ]
  },
  {
   "cell_type": "markdown",
   "id": "d94b1964",
   "metadata": {},
   "source": [
    "> No hay ninguna relacion de este tipo en la tabla"
   ]
  },
  {
   "cell_type": "markdown",
   "id": "a29e81cf",
   "metadata": {},
   "source": [
    "## 5.5 Expandir datos"
   ]
  },
  {
   "cell_type": "code",
   "execution_count": 63,
   "id": "671acfd1",
   "metadata": {
    "collapsed": true
   },
   "outputs": [],
   "source": [
    "# perfil_ingreso_v2_df['AÑO'], perfil_ingreso_v2_df['SEMESTRE'] = expandir_periodo(perfil_ingreso_v2_df.PERIODO_COHORTE)\n",
    "# perfil_ingreso_v2_df['FECHA'] = fecha_de_semestre(perfil_ingreso_v2_df['AÑO'], perfil_ingreso_v2_df['SEMESTRE'])"
   ]
  },
  {
   "cell_type": "markdown",
   "id": "0cd9cdcf",
   "metadata": {},
   "source": [
    "## 5.6 Consistencia en los datos"
   ]
  },
  {
   "cell_type": "code",
   "execution_count": 64,
   "id": "f3718126",
   "metadata": {
    "collapsed": true
   },
   "outputs": [
    {
     "data": {
      "text/plain": [
       "5    9474\n",
       "6     926\n",
       "Name: COD_MEN, dtype: int64"
      ]
     },
     "execution_count": 64,
     "metadata": {},
     "output_type": "execute_result"
    }
   ],
   "source": [
    "perfil_ingreso_v2_df.COD_MEN.str.len().value_counts()"
   ]
  },
  {
   "cell_type": "markdown",
   "id": "ef7d8dfe",
   "metadata": {},
   "source": [
    "> tambiens se puede normalizar el numero de digitos"
   ]
  },
  {
   "cell_type": "code",
   "execution_count": 65,
   "id": "92c0a17c",
   "metadata": {
    "collapsed": true
   },
   "outputs": [],
   "source": [
    "# cols_to_fill = ['PERIODO_COHORTE', 'CODIGO', 'ULTIMA_MATRICULA', 'COD_MEN']\n",
    "# filled = perfil_ingreso_v2_df[cols_to_fill].apply(fill_digits, index=0)\n",
    "# perfil_ingreso_v2_df[cols_to_fill] = filled"
   ]
  },
  {
   "cell_type": "markdown",
   "id": "a0a794db",
   "metadata": {},
   "source": [
    "## 5.7 Resultado"
   ]
  },
  {
   "cell_type": "code",
   "execution_count": 66,
   "id": "dbb3b3b2",
   "metadata": {
    "collapsed": true
   },
   "outputs": [
    {
     "data": {
      "text/html": [
       "<div>\n",
       "<style scoped>\n",
       "    .dataframe tbody tr th:only-of-type {\n",
       "        vertical-align: middle;\n",
       "    }\n",
       "\n",
       "    .dataframe tbody tr th {\n",
       "        vertical-align: top;\n",
       "    }\n",
       "\n",
       "    .dataframe thead th {\n",
       "        text-align: right;\n",
       "    }\n",
       "</style>\n",
       "<table border=\"1\" class=\"dataframe\">\n",
       "  <thead>\n",
       "    <tr style=\"text-align: right;\">\n",
       "      <th></th>\n",
       "      <th>PERIODO_COHORTE</th>\n",
       "      <th>CODIGO</th>\n",
       "      <th>GENERO</th>\n",
       "      <th>EDAD</th>\n",
       "      <th>COLEGIO_PROCEDENCIA</th>\n",
       "      <th>PUNT_TOTAL</th>\n",
       "      <th>PUNT_AREA</th>\n",
       "      <th>ES_DESERTOR</th>\n",
       "      <th>ULTIMA_MATRICULA</th>\n",
       "      <th>COD_MEN</th>\n",
       "    </tr>\n",
       "  </thead>\n",
       "  <tbody>\n",
       "    <tr>\n",
       "      <th>0</th>\n",
       "      <td>201210</td>\n",
       "      <td>11312001</td>\n",
       "      <td>M</td>\n",
       "      <td>22</td>\n",
       "      <td>col coop cooservicios</td>\n",
       "      <td>438</td>\n",
       "      <td>49</td>\n",
       "      <td>no</td>\n",
       "      <td>201710</td>\n",
       "      <td>20708</td>\n",
       "    </tr>\n",
       "    <tr>\n",
       "      <th>1</th>\n",
       "      <td>201210</td>\n",
       "      <td>11312002</td>\n",
       "      <td>M</td>\n",
       "      <td>23</td>\n",
       "      <td>instituto de educacion media diversificada ine...</td>\n",
       "      <td>386</td>\n",
       "      <td>48</td>\n",
       "      <td>no</td>\n",
       "      <td>201420</td>\n",
       "      <td>20708</td>\n",
       "    </tr>\n",
       "    <tr>\n",
       "      <th>2</th>\n",
       "      <td>201210</td>\n",
       "      <td>11312003</td>\n",
       "      <td>F</td>\n",
       "      <td>22</td>\n",
       "      <td>i.e. antonio narino</td>\n",
       "      <td>460</td>\n",
       "      <td>51</td>\n",
       "      <td>no</td>\n",
       "      <td>201620</td>\n",
       "      <td>20708</td>\n",
       "    </tr>\n",
       "    <tr>\n",
       "      <th>3</th>\n",
       "      <td>201210</td>\n",
       "      <td>11312004</td>\n",
       "      <td>F</td>\n",
       "      <td>25</td>\n",
       "      <td>i.e. luis hernandez vargas</td>\n",
       "      <td>41</td>\n",
       "      <td>42</td>\n",
       "      <td>no</td>\n",
       "      <td>201620</td>\n",
       "      <td>20708</td>\n",
       "    </tr>\n",
       "    <tr>\n",
       "      <th>4</th>\n",
       "      <td>201210</td>\n",
       "      <td>11312005</td>\n",
       "      <td>M</td>\n",
       "      <td>25</td>\n",
       "      <td>ie tec jose ignacio de marquez</td>\n",
       "      <td>50</td>\n",
       "      <td>49</td>\n",
       "      <td>no</td>\n",
       "      <td>201610</td>\n",
       "      <td>20708</td>\n",
       "    </tr>\n",
       "  </tbody>\n",
       "</table>\n",
       "</div>"
      ],
      "text/plain": [
       "  PERIODO_COHORTE    CODIGO GENERO  EDAD  \\\n",
       "0          201210  11312001      M    22   \n",
       "1          201210  11312002      M    23   \n",
       "2          201210  11312003      F    22   \n",
       "3          201210  11312004      F    25   \n",
       "4          201210  11312005      M    25   \n",
       "\n",
       "                                 COLEGIO_PROCEDENCIA  PUNT_TOTAL  PUNT_AREA  \\\n",
       "0                              col coop cooservicios         438         49   \n",
       "1  instituto de educacion media diversificada ine...         386         48   \n",
       "2                                i.e. antonio narino         460         51   \n",
       "3                         i.e. luis hernandez vargas          41         42   \n",
       "4                     ie tec jose ignacio de marquez          50         49   \n",
       "\n",
       "  ES_DESERTOR ULTIMA_MATRICULA COD_MEN  \n",
       "0          no           201710   20708  \n",
       "1          no           201420   20708  \n",
       "2          no           201620   20708  \n",
       "3          no           201620   20708  \n",
       "4          no           201610   20708  "
      ]
     },
     "execution_count": 66,
     "metadata": {},
     "output_type": "execute_result"
    }
   ],
   "source": [
    "perfil_ingreso_v2_df.head()"
   ]
  },
  {
   "cell_type": "code",
   "execution_count": 67,
   "id": "4d2d97b8",
   "metadata": {
    "collapsed": true
   },
   "outputs": [
    {
     "name": "stdout",
     "output_type": "stream",
     "text": [
      "<class 'pandas.core.frame.DataFrame'>\n",
      "RangeIndex: 10400 entries, 0 to 10399\n",
      "Data columns (total 10 columns):\n",
      " #   Column               Non-Null Count  Dtype \n",
      "---  ------               --------------  ----- \n",
      " 0   PERIODO_COHORTE      10400 non-null  object\n",
      " 1   CODIGO               10400 non-null  object\n",
      " 2   GENERO               10400 non-null  object\n",
      " 3   EDAD                 10400 non-null  int32 \n",
      " 4   COLEGIO_PROCEDENCIA  10400 non-null  object\n",
      " 5   PUNT_TOTAL           10400 non-null  int32 \n",
      " 6   PUNT_AREA            10400 non-null  int32 \n",
      " 7   ES_DESERTOR          10400 non-null  object\n",
      " 8   ULTIMA_MATRICULA     10400 non-null  object\n",
      " 9   COD_MEN              10400 non-null  object\n",
      "dtypes: int32(3), object(7)\n",
      "memory usage: 690.8+ KB\n"
     ]
    }
   ],
   "source": [
    "perfil_ingreso_v2_df.info()"
   ]
  },
  {
   "cell_type": "markdown",
   "id": "af5ca856",
   "metadata": {},
   "source": [
    "## 6. Tabla \"rendimiento_academico\""
   ]
  },
  {
   "cell_type": "code",
   "execution_count": 68,
   "id": "81afd580",
   "metadata": {
    "collapsed": true
   },
   "outputs": [
    {
     "data": {
      "text/html": [
       "<div>\n",
       "<style scoped>\n",
       "    .dataframe tbody tr th:only-of-type {\n",
       "        vertical-align: middle;\n",
       "    }\n",
       "\n",
       "    .dataframe tbody tr th {\n",
       "        vertical-align: top;\n",
       "    }\n",
       "\n",
       "    .dataframe thead th {\n",
       "        text-align: right;\n",
       "    }\n",
       "</style>\n",
       "<table border=\"1\" class=\"dataframe\">\n",
       "  <thead>\n",
       "    <tr style=\"text-align: right;\">\n",
       "      <th></th>\n",
       "      <th>PERIODO_COHORTE</th>\n",
       "      <th>PERIODO_ACADEMICO</th>\n",
       "      <th>CODIGO</th>\n",
       "      <th>COD_MAT</th>\n",
       "      <th>NOMBRE_MAT</th>\n",
       "      <th>NOTA_DEF</th>\n",
       "      <th>ESTADO</th>\n",
       "    </tr>\n",
       "  </thead>\n",
       "  <tbody>\n",
       "    <tr>\n",
       "      <th>0</th>\n",
       "      <td>201210</td>\n",
       "      <td>201210</td>\n",
       "      <td>11312001</td>\n",
       "      <td>11305</td>\n",
       "      <td>EXP. ORAL ESCRITA</td>\n",
       "      <td>3,50</td>\n",
       "      <td>APROBADA</td>\n",
       "    </tr>\n",
       "    <tr>\n",
       "      <th>1</th>\n",
       "      <td>201210</td>\n",
       "      <td>201210</td>\n",
       "      <td>11312001</td>\n",
       "      <td>11312</td>\n",
       "      <td>INICIATIVA EMPRES</td>\n",
       "      <td>4,00</td>\n",
       "      <td>APROBADA</td>\n",
       "    </tr>\n",
       "    <tr>\n",
       "      <th>2</th>\n",
       "      <td>201210</td>\n",
       "      <td>201210</td>\n",
       "      <td>11312001</td>\n",
       "      <td>11310</td>\n",
       "      <td>MICROECONOMÍA</td>\n",
       "      <td>3,60</td>\n",
       "      <td>APROBADA</td>\n",
       "    </tr>\n",
       "    <tr>\n",
       "      <th>3</th>\n",
       "      <td>201210</td>\n",
       "      <td>201210</td>\n",
       "      <td>11312001</td>\n",
       "      <td>11315</td>\n",
       "      <td>INFORMÁTICA BÁSICA</td>\n",
       "      <td>3,30</td>\n",
       "      <td>APROBADA</td>\n",
       "    </tr>\n",
       "    <tr>\n",
       "      <th>4</th>\n",
       "      <td>201210</td>\n",
       "      <td>201210</td>\n",
       "      <td>11312001</td>\n",
       "      <td>11303</td>\n",
       "      <td>INTROD. AL PROGRAMA</td>\n",
       "      <td>3,80</td>\n",
       "      <td>APROBADA</td>\n",
       "    </tr>\n",
       "  </tbody>\n",
       "</table>\n",
       "</div>"
      ],
      "text/plain": [
       "   PERIODO_COHORTE  PERIODO_ACADEMICO    CODIGO  COD_MAT           NOMBRE_MAT  \\\n",
       "0           201210             201210  11312001    11305    EXP. ORAL ESCRITA   \n",
       "1           201210             201210  11312001    11312    INICIATIVA EMPRES   \n",
       "2           201210             201210  11312001    11310        MICROECONOMÍA   \n",
       "3           201210             201210  11312001    11315   INFORMÁTICA BÁSICA   \n",
       "4           201210             201210  11312001    11303  INTROD. AL PROGRAMA   \n",
       "\n",
       "  NOTA_DEF    ESTADO  \n",
       "0     3,50  APROBADA  \n",
       "1     4,00  APROBADA  \n",
       "2     3,60  APROBADA  \n",
       "3     3,30  APROBADA  \n",
       "4     3,80  APROBADA  "
      ]
     },
     "execution_count": 68,
     "metadata": {},
     "output_type": "execute_result"
    }
   ],
   "source": [
    "rendimiento_academico_df.head()"
   ]
  },
  {
   "cell_type": "code",
   "execution_count": 69,
   "id": "7d8d162b",
   "metadata": {
    "collapsed": true
   },
   "outputs": [
    {
     "name": "stdout",
     "output_type": "stream",
     "text": [
      "<class 'pandas.core.frame.DataFrame'>\n",
      "RangeIndex: 364492 entries, 0 to 364491\n",
      "Data columns (total 7 columns):\n",
      " #   Column             Non-Null Count   Dtype \n",
      "---  ------             --------------   ----- \n",
      " 0   PERIODO_COHORTE    364492 non-null  int64 \n",
      " 1   PERIODO_ACADEMICO  364492 non-null  int64 \n",
      " 2   CODIGO             364492 non-null  int64 \n",
      " 3   COD_MAT            364492 non-null  int64 \n",
      " 4   NOMBRE_MAT         364492 non-null  object\n",
      " 5   NOTA_DEF           364492 non-null  object\n",
      " 6   ESTADO             364492 non-null  object\n",
      "dtypes: int64(4), object(3)\n",
      "memory usage: 19.5+ MB\n"
     ]
    }
   ],
   "source": [
    "rendimiento_academico_df.info()"
   ]
  },
  {
   "cell_type": "code",
   "execution_count": 70,
   "id": "8e3768d1",
   "metadata": {
    "collapsed": true
   },
   "outputs": [
    {
     "data": {
      "text/plain": [
       "PERIODO_COHORTE         19\n",
       "PERIODO_ACADEMICO       35\n",
       "CODIGO               10211\n",
       "COD_MAT               1839\n",
       "NOMBRE_MAT             913\n",
       "NOTA_DEF                51\n",
       "ESTADO                   2\n",
       "dtype: int64"
      ]
     },
     "execution_count": 70,
     "metadata": {},
     "output_type": "execute_result"
    }
   ],
   "source": [
    "rendimiento_academico_df.nunique()"
   ]
  },
  {
   "cell_type": "markdown",
   "id": "05e60fb3",
   "metadata": {},
   "source": [
    "> * No hay valores nulos\n",
    "> * \"NOMBRE_MAT\" Texto a normalizar\n",
    "> * Convertir variables categoricas de periodo y codigos a string\n",
    "> * \"NOTA\" debe ser float\n",
    "> * \"COD_MAT\" y \"NOMBRE_MAT\" no coinciden en cantidad"
   ]
  },
  {
   "cell_type": "markdown",
   "id": "f92c58ed",
   "metadata": {},
   "source": [
    "## 6.1 Llenar valores faltantes"
   ]
  },
  {
   "cell_type": "markdown",
   "id": "65530026",
   "metadata": {},
   "source": [
    "> No hay valores faltantes"
   ]
  },
  {
   "cell_type": "markdown",
   "id": "5908320d",
   "metadata": {},
   "source": [
    "## 6.2 Corregir tipo de datos"
   ]
  },
  {
   "cell_type": "code",
   "execution_count": 71,
   "id": "1762fbe3",
   "metadata": {
    "collapsed": true
   },
   "outputs": [],
   "source": [
    "to_str_cols = ['PERIODO_COHORTE', 'PERIODO_ACADEMICO', 'CODIGO', 'COD_MAT']\n",
    "rendimiento_academico_df[to_str_cols] = rendimiento_academico_df[to_str_cols].astype(str)\n",
    "\n",
    "rendimiento_academico_df['NOTA_DEF'] = rendimiento_academico_df['NOTA_DEF'].str.replace(',','.').astype(float)"
   ]
  },
  {
   "cell_type": "markdown",
   "id": "33b83b08",
   "metadata": {},
   "source": [
    "## 6.3 Normalizar Texto"
   ]
  },
  {
   "cell_type": "code",
   "execution_count": 72,
   "id": "712cd566",
   "metadata": {
    "collapsed": true
   },
   "outputs": [],
   "source": [
    "rendimiento_academico_df.NOMBRE_MAT = normalize_text(rendimiento_academico_df.NOMBRE_MAT)\n",
    "rendimiento_academico_df.ESTADO = normalize_text(rendimiento_academico_df.ESTADO)"
   ]
  },
  {
   "cell_type": "markdown",
   "id": "8b0bdda7",
   "metadata": {},
   "source": [
    "## 6.4 Revisar llaves primarias de categorias"
   ]
  },
  {
   "cell_type": "markdown",
   "id": "f01c4a61",
   "metadata": {},
   "source": [
    "Esta la relacion \"COD_MAT\" - \"NOMBRE_MAT\""
   ]
  },
  {
   "cell_type": "markdown",
   "id": "b8fb6c11",
   "metadata": {},
   "source": [
    "> * Hay mas codigos que nombres\n",
    "> * Existen multiples variaciones de nombre para el mismo codigo: se deberian unificar\n",
    "> * para el mismo nombre pueden existir multiples codigos: puede ser debido a que es la misma materia o similar, pero de otro porgrama, facultad o año. NO se deberia unificar.\n",
    "> * se puede dejar que"
   ]
  },
  {
   "cell_type": "markdown",
   "id": "d1c89392",
   "metadata": {},
   "source": [
    "Puedo empezar tomando para un mismo codigo un solo nombre (primero, max, min, string comun o la suma de los strings).\n",
    "\n",
    "luego para mismos nombres tomar el menor codigo"
   ]
  },
  {
   "cell_type": "code",
   "execution_count": 73,
   "id": "f94d10f1",
   "metadata": {
    "collapsed": true
   },
   "outputs": [
    {
     "data": {
      "text/plain": [
       "{'11317': {'idioma extranj. i', 'idioma extranjero i', 'ingles i'},\n",
       " '11330': {'idioma extranjero ii', 'ingles ii'},\n",
       " '11401': {'matemat basica', 'matematica basica'},\n",
       " '11403': {'introd al  program', 'introd. al programa'},\n",
       " '11405': {'exp. oral escrita', 'expre oral escrita'},\n",
       " '11406': {'deport formativo', 'deporte formativo'},\n",
       " '11407': {'formac integ  i', 'formacion integ i'},\n",
       " '11410': {'contabil. basica', 'contabilidad'},\n",
       " '11411': {'estadistica', 'estadistica descrip.'},\n",
       " '11412': {'legilac c/cial', 'legislac.comercia'},\n",
       " '11413': {'admon basica', 'teorias de la admon'},\n",
       " '11414': {'calculo', 'calculo diferenc.'},\n",
       " '11416': {'cont financ i', 'contabil. activos'},\n",
       " '11417': {'idioma extranj.i', 'idioma extranjero i', 'ingles i'},\n",
       " '11418': {'idioma extranj.ii', 'idioma extranjero ii', 'ingles ii'},\n",
       " '11420': {'formac integ  ii', 'formacion integ ii'},\n",
       " '11422': {'elect libre', 'electiva libre i'},\n",
       " '11424': {'cont.costos.prod', 'contabil costos'},\n",
       " '11429': {'const form ciudadana', 'const.form.ciudad.'},\n",
       " '11430': {'planeac.presupues', 'presupuestos'},\n",
       " '11432': {'matema.financiera', 'matematica fra'},\n",
       " '11434': {'metod prac invest', 'metod.pract.inves.'},\n",
       " '11435': {'econo internacional', 'economia internal'},\n",
       " '11436': {'legislac laboral', 'legislac.laboral'},\n",
       " '11440': {'legislac tributar i', 'renta.complement'},\n",
       " '11441': {'sist inform contable', 'sw.contabl.financ'},\n",
       " '11443': {'elect.compleme. ii', 'electi complm interd'},\n",
       " '11445': {'finanz.corporati.', 'finanzas corporatvas'},\n",
       " '11446': {'formul proyectos', 'prep.de.proyectos'},\n",
       " '11447': {'sem.de investigac', 'seminar de invest'},\n",
       " '11449': {'aduan.impues.vent', 'legislac tributar ii'},\n",
       " '11450': {'elect prof i', 'elect.profundi. i'},\n",
       " '11453': {'eval.de proyectos', 'evaluac de proyect'},\n",
       " '11456': {'elect prof ii', 'elect.profundi. ii'},\n",
       " '11703': {'introd. al programa', 'introduccion progr'},\n",
       " '11704': {'matematica financier', 'matematica fra'},\n",
       " '11705': {'exp. oral escrita', 'expres oral escrit'},\n",
       " '11707': {'form integral i', 'formacion integ i'},\n",
       " '11708': {'cons formacion ciud', 'const.form.ciudad.'},\n",
       " '11709': {'epist neg intenales', 'epistem. neg. int'},\n",
       " '11710': {'microecon macroecon', 'microeconomia'},\n",
       " '11711': {'contabilid.basica', 'contabilidad basica'},\n",
       " '11712': {'electiva libre', 'electiva libre i'},\n",
       " '11717': {'idioma extran.i', 'idioma extranjero i', 'ingles i'},\n",
       " '11718': {'contabilid.comerc', 'contabilidad ccial'},\n",
       " '11719': {'estadistica', 'estadistica descrip.'},\n",
       " '11720': {'economia colombi.', 'economia colombiana'},\n",
       " '11721': {'idioma extran.ii', 'idioma extranjero ii', 'ingles ii'},\n",
       " '11724': {'legislac.comerci.', 'legislacion ccial'},\n",
       " '11725': {'ges. talento hum.', 'gest recurso human'},\n",
       " '11726': {'metod prac invest', 'metod.pract.inves.'},\n",
       " '11730': {'leg tributaria', 'legislac.tributa.'},\n",
       " '11733': {'gestion ambiental', 'resp social empres'},\n",
       " '11736': {'proc mercad internal', 'procesos mercadeo'},\n",
       " '11743': {'idioma extran.v', 'ingles v'},\n",
       " '11747': {'idioma extran.iv', 'ingles iv'},\n",
       " '11750': {'ger mercad internal', 'ger.mercad.intern'},\n",
       " '11751': {'log y dist internal', 'logis.distri.inte'},\n",
       " '11752': {'idioma.extran.vi', 'ingles vi'},\n",
       " '11760': {'contra.internacio', 'estr negoc internal'},\n",
       " '11766': {'form integral ii', 'formacion integ ii'},\n",
       " '11767': {'idioma extran.iii', 'ingles iii'},\n",
       " '11772': {'gestion empresarial', 'iniciativa empresari'},\n",
       " '11803': {'introd. al programa', 'introduc programa'},\n",
       " '11805': {'exp. oral escrita', 'expres oral escrita'},\n",
       " '11807': {'form integral i', 'formacion integ i'},\n",
       " '11811': {'contabil. basica', 'contabilidad'},\n",
       " '11817': {'idioma extranj. i', 'idioma extranjero i', 'ingles i'},\n",
       " '11818': {'form integral ii', 'formacion integ ii'},\n",
       " '11821': {'const form ciudadana', 'const.form.ciudad.'},\n",
       " '11830': {'idioma extranjero ii', 'ingles ii'},\n",
       " '11917': {'idioma extran.i', 'idioma extranjero i'},\n",
       " '11921': {'idioma extran.ii', 'idioma extranjero ii'},\n",
       " '11943': {'idioma extran.v', 'ingles v'},\n",
       " '11947': {'idioma extran.iv', 'ingles iv'},\n",
       " '11952': {'idioma.extran.vi', 'ingles vi'},\n",
       " '11967': {'idioma extran.iii', 'ingles.iii'},\n",
       " '33121': {'idioma extranj i', 'idioma extranjero i', 'ingles i'},\n",
       " '33127': {'idi.extranjero ii', 'idioma extranjero ii', 'ingles ii'},\n",
       " '33217': {'idioma extranj. i', 'idioma extranjero i', 'ingles i'},\n",
       " '33221': {'idioma extranj ii', 'idioma extranjero ii', 'ingles ii'},\n",
       " '33321': {'idioma extranj i', 'idioma extranjero i', 'ingles i'},\n",
       " '33327': {'idi.extranjero ii', 'idioma extranjero ii', 'ingles ii'},\n",
       " '33421': {'idioma extranj i', 'idioma extranjero i'},\n",
       " '33427': {'idi.extranjero ii', 'idioma extranjero ii', 'ingles ii'},\n",
       " '55117': {'idioma extranj. i', 'idioma extranjero i', 'ingles i'},\n",
       " '55121': {'idioma extran. ii', 'idioma extranjero ii', 'ingles ii'},\n",
       " '55204': {'calcu integral', 'calculo integral'},\n",
       " '55207': {'formacion integ i', 'formacion integral i'},\n",
       " '55210': {'logic programacion', 'logica programacion'},\n",
       " '55211': {'calcu diferencial', 'calculo diferenc.'},\n",
       " '55212': {'algeb lineal', 'algebra lineal'},\n",
       " '55213': {'pens sist aplicado', 'teor gen sist'},\n",
       " '55214': {'progr basica', 'programac. basica'},\n",
       " '55216': {'estad inferencial', 'estadistica inferen.'},\n",
       " '55217': {'idioma extranj. i', 'idioma extranjero i', 'ingles i'},\n",
       " '55218': {'estru datos', 'estruct. de datos'},\n",
       " '55219': {'estad descriptiva', 'estadistica descrip.'},\n",
       " '55220': {'form. integral ii', 'formacion integ ii'},\n",
       " '55221': {'prog. avanzada', 'progr avanzada'},\n",
       " '55222': {'idioma extran. ii', 'idioma extranjero ii', 'ingles ii'},\n",
       " '55224': {'ec. diferenciales', 'ecuac. diferen.'},\n",
       " '55226': {'met. investigacion', 'metod.pract.inves.'},\n",
       " '55227': {'redes comp i', 'redes comput. i'},\n",
       " '55229': {'bases datos', 'bases de datos'},\n",
       " '55231': {'electromag', 'electromagnetismo'},\n",
       " '55232': {'redes comp ii', 'redes comput. ii'},\n",
       " '55233': {'siste operativos', 'sistem.operativos'},\n",
       " '55234': {'ing soft i', 'ingeni.software i'},\n",
       " '55238': {'inform teorica', 'teoria comput'},\n",
       " '55239': {'ing soft ii', 'ingen.software ii'},\n",
       " '55240': {'contabili.general', 'contabilidad y presu'},\n",
       " '55242': {'matem discretas', 'matemat.discretas'},\n",
       " '55248': {'elec.complemet. i', 'electiv  complem i'},\n",
       " '55255': {'problem. context.', 'problemas contexto'},\n",
       " '55303': {'introd programa', 'introd. al programa'},\n",
       " '55305': {'exp. oral escrita', 'expr oral y escrit'},\n",
       " '55315': {'herramientas tic', 'informatica basica'},\n",
       " '55317': {'idioma extranj. i', 'idioma extranjero i', 'ingles i'},\n",
       " '55321': {'electiva libre', 'electiva libre i'},\n",
       " '55322': {'idioma extran. ii', 'idioma extranjero ii', 'ingles ii'},\n",
       " '55325': {'ciencia materiales', 'materiales ing.'},\n",
       " '55330': {'proc industriales', 'proc.industriales'},\n",
       " '55333': {'mat. financiera', 'matematica financ'},\n",
       " '55339': {'invest.operac. i', 'investi operac i'},\n",
       " '55342': {'elec compl interd', 'elec.complemet. i'},\n",
       " '55347': {'elect prof i', 'elect.profundi. i'},\n",
       " '55353': {'seminar invest', 'seminari.investig'},\n",
       " '55414': {'expresion grafic', 'expresion grafica'},\n",
       " '55415': {'herramie tic', 'informatica basica'},\n",
       " '55425': {'ciencia materiales', 'materiales de ing.'},\n",
       " '55521': {'idioma extranj. i', 'idioma extranjero i', 'ingles i'},\n",
       " '55528': {'idioma extran. ii', 'idioma extranjero ii', 'ingles ii'},\n",
       " '55552': {'modelac.sist.ambient', 'modelac.sist.medioam'},\n",
       " '55614': {'idioma extranjero i', 'ingles i'},\n",
       " '55622': {'idioma extranjero ii', 'ingles ii'},\n",
       " '55721': {'idioma extranj. i', 'idioma extranjero i', 'ingles i'},\n",
       " '55728': {'idioma extran. ii', 'idioma extranjero ii', 'ingles ii'},\n",
       " '55752': {'modelac.sist.ambient', 'modelac.sist.medioam'},\n",
       " '66111': {'bioquimica', 'bioquimica general'},\n",
       " '66117': {'idioma extranj. i', 'idioma extranjero i', 'ingles i'},\n",
       " '66119': {'idioma extran. ii', 'idioma extranjero ii', 'ingles ii'},\n",
       " '66208': {'idioma extranj. i', 'idioma extranjero i', 'ingles i'},\n",
       " '66228': {'idi. extranj. ii', 'idioma extranjero ii', 'inglesii'},\n",
       " '66317': {'idioma extranj. i', 'idioma extranjero i', 'ingles i'},\n",
       " '66319': {'idioma extranj ii', 'idioma extranjero ii', 'ingles ii'},\n",
       " '66408': {'idioma extranj ii', 'idioma extranjero ii', 'ingles ii'},\n",
       " '66414': {'idioma extranj. i', 'idioma extranjero i', 'ingles i'},\n",
       " '66517': {'idioma extranj.i', 'idioma extranjero i', 'ingles i'},\n",
       " '66523': {'idioma extranj.ii', 'idioma extranjero ii', 'ingles ii'},\n",
       " '66621': {'idioma extranjero i', 'ingles i'},\n",
       " '66629': {'idioma extranjero ii', 'ingles ii'},\n",
       " '77103': {'introd a la arquit', 'introd. al programa'},\n",
       " '77104': {'ta.di.uni.habitac', 'taller comp esp'},\n",
       " '77105': {'erg arq y ciudad', 'erg.arq.y ciudad'},\n",
       " '77108': {'hist arq ciu antig', 'hist. arq.ciu antigu'},\n",
       " '77109': {'cons est baj comp', 'const y est. casa'},\n",
       " '77110': {'taller dis basic', 'taller dis. basic'},\n",
       " '77111': {'ppios construcc', 'ppios construcc.'},\n",
       " '77112': {'expre.graf.basica', 'percep prep graf'},\n",
       " '77113': {'geom desc bas', 'geometria desc. b'},\n",
       " '77114': {'taller di. com.fo', 'taller form fun sig'},\n",
       " '77116': {'expre.graf.avanz.', 'planimet arquit'},\n",
       " '77117': {'idioma extranj. i', 'idioma extranjero i', 'ingles i'},\n",
       " '77121': {'exp oral escrita', 'exp. oral escrita'},\n",
       " '77122': {'idioma extran. ii', 'idioma extranjero ii', 'ingles ii'},\n",
       " '77126': {'hist arq ciu med', 'hist.arq.ciu.renacim'},\n",
       " '77127': {'cons est med comp', 'cons.est edificio'},\n",
       " '77133': {'ppto progra obra', 'presupu.prog.obra'},\n",
       " '77138': {'metod pract inves', 'metod.pract.inves.'},\n",
       " '77142': {'perspecti sombras', 'perspecti.sombras'},\n",
       " '77143': {'expre.digi.i-autocad', 'represent 2d'},\n",
       " '77201': {'dis. tipografico', 'taller comp tipograf'},\n",
       " '77203': {'introd. al programa', 'introducc al diseno'},\n",
       " '77205': {'exp. oral escrita', 'expres oral y escrta'},\n",
       " '77207': {'formac.integral i', 'formacion integ i'},\n",
       " '77208': {'sem. com. visual', 'semiot comunc visual'},\n",
       " '77209': {'his. art: moderno', 'historia.arte ii'},\n",
       " '77210': {'diseno bas. bidimen.', 'taller.diseno i'},\n",
       " '77212': {'dibujo tec. desc.', 'dibujo.dibuj tecnico'},\n",
       " '77213': {'dibujo art.basico', 'dibujo i'},\n",
       " '77214': {'diseno bas. tridime.', 'taller.diseno ii'},\n",
       " '77217': {'idioma extranj. i', 'idioma extranjero i', 'ingles i'},\n",
       " '77220': {'formac. integral ii', 'formacion integ ii'},\n",
       " '77221': {'idioma extran. ii', 'idioma extranjero ii', 'ingles ii'},\n",
       " '77222': {'elec comp interdis', 'elect.compleme. i'},\n",
       " '77224': {'electiva libre', 'electiva libre i'},\n",
       " '77226': {'cult.com. visual', 'territorio y cultura'},\n",
       " '77236': {'graf.dig.diagrama', 'grafic.digtl diagram'},\n",
       " '77237': {'fotog.dig.analoga', 'fotografia i'},\n",
       " '77238': {'senalizacion', 'taller dis sist ornt'},\n",
       " '77239': {'metod prac invest', 'metod.pract.inves.'},\n",
       " '77241': {'semin.investigaci', 'seminario de investg'},\n",
       " '77242': {'hist.dis.graf.colomb', 'historia del diseno'},\n",
       " '77243': {'administ.mercadeo', 'administracion'},\n",
       " '77244': {'graf.dig.tridimen', 'grafica.digtal tridm'},\n",
       " '77247': {'elec profundizacin i', 'elect.profundi. i'},\n",
       " '77253': {'elec profundizaci ii', 'elect.profundi. ii'},\n",
       " '77257': {'const form ciudadana', 'const.form.ciudad.'},\n",
       " '77262': {'diseno portafolios', 'portafolio profesion'},\n",
       " '77265': {'his.  arte prehis', 'historia.arte i'},\n",
       " '77266': {'dib.art.persp.sombra', 'dibujo ii'},\n",
       " '77267': {'dibujo vectorial', 'graf vec retoque'},\n",
       " '77321': {'idioma extranjero i', 'ingles i'},\n",
       " '77329': {'idioma extranjero ii', 'ingles ii'},\n",
       " '77403': {'introd a la arquit', 'introd. al programa'},\n",
       " '77404': {'ta.di.uni.habitac', 'taller comp esp'},\n",
       " '77405': {'erg arq y ciudad', 'erg.arq.y ciudad'},\n",
       " '77408': {'hist arq ciu antig', 'hist. arq.ciu antigu'},\n",
       " '77409': {'cons est baj comp', 'const y est. casa'},\n",
       " '77410': {'taller dis basic', 'taller dis. basic'},\n",
       " '77411': {'ppios construcc', 'ppios construcc.'},\n",
       " '77412': {'expre.graf.basica', 'percep prep graf'},\n",
       " '77413': {'geom desc bas', 'geometria desc. b'},\n",
       " '77414': {'taller di. com.fo', 'taller form fun sig'},\n",
       " '77416': {'expre.graf.avanz.', 'planimet arquit'},\n",
       " '77417': {'idioma extranj. i', 'idioma extranjero i', 'ingles i'},\n",
       " '77421': {'exp oral escrita', 'exp. oral escrita'},\n",
       " '77422': {'idioma extran. ii', 'idioma extranjero ii', 'ingles ii'},\n",
       " '77426': {'hist arq ciu med', 'hist.arq.ciu.renacim'},\n",
       " '77427': {'cons est med comp', 'cons.est edificio'},\n",
       " '77428': {'expr.digi.avan.3d', 'rep dig mod diag'},\n",
       " '77438': {'metod pract inves', 'metod.pract.inves.'},\n",
       " '77442': {'perspecti sombras', 'perspecti.sombras'},\n",
       " '77447': {'elect compleme i', 'elect.compleme. i'},\n",
       " '77449': {'seminar investiga', 'seminar.investiga'},\n",
       " '77452': {'admon proy constr', 'admon proy.constr'},\n",
       " '77454': {'elect compleme ii', 'elect.compleme. ii'},\n",
       " '77465': {'const form ciudad', 'const.form.ciudad.'},\n",
       " '88115': {'idioma extranj.i', 'idioma extranjero i', 'ingles i'},\n",
       " '88122': {'idioma extran. ii', 'idioma extranjero ii', 'ingles ii'},\n",
       " '88145': {'proyecto invest. i', 'seminario invest. i'},\n",
       " '88149': {'proyecto invest. ii', 'seminario invest. ii'},\n",
       " '88153': {'proyecto invest. iii', 'seminario invest.iii'},\n",
       " '88215': {'idioma extranj.i', 'idioma extranjero i', 'ingles i'},\n",
       " '88222': {'idioma extran, ii', 'idioma extranjero ii', 'ingles ii'},\n",
       " '88245': {'proyecto invest. i', 'semin invest. i'},\n",
       " '88249': {'proyecto invest. ii', 'seminario invest. ii'},\n",
       " '88253': {'proyecto invest. iii', 'seminari invest. iii'}}"
      ]
     },
     "execution_count": 73,
     "metadata": {},
     "output_type": "execute_result"
    }
   ],
   "source": [
    "# multiples nombres para el mismo codigo:\n",
    "codigos = rendimiento_academico_df.groupby(['COD_MAT', 'NOMBRE_MAT'])[['ESTADO']].count().reset_index() # count # filas para cada combiancion cod-nombre\n",
    "agg_func_text = {'NOMBRE_MAT': {'nunique', set, 'count'}} # count # veces codigo aparece (# de combinaciones)\n",
    "codigos2 = codigos.groupby('COD_MAT').agg(agg_func_text)\n",
    "dict(codigos2[codigos2['NOMBRE_MAT']['count'] > 1]['NOMBRE_MAT']['set']) # > 1, mas de una combinacion (codigos que poseen mas de un nombre)"
   ]
  },
  {
   "cell_type": "code",
   "execution_count": null,
   "id": "d6d1dbe1",
   "metadata": {
    "collapsed": true
   },
   "outputs": [],
   "source": []
  },
  {
   "cell_type": "code",
   "execution_count": 74,
   "id": "bb3b328c",
   "metadata": {},
   "outputs": [
    {
     "data": {
      "text/plain": [
       "logica                  31\n",
       "humanidades             30\n",
       "electiva libre ii       29\n",
       "ingles ii               29\n",
       "ingles i                29\n",
       "deporte formativo       28\n",
       "formacion integ i       28\n",
       "informatica basica      28\n",
       "elect.compleme. ii      27\n",
       "electiva libre i        27\n",
       "formacion integ ii      27\n",
       "introd. al programa     27\n",
       "idioma extranjero ii    27\n",
       "etica general           27\n",
       "elect.profundi. ii      27\n",
       "Name: NOMBRE_MAT, dtype: int64"
      ]
     },
     "execution_count": 74,
     "metadata": {},
     "output_type": "execute_result"
    }
   ],
   "source": [
    "# multiples codigos para mismo nombre\n",
    "codigos = rendimiento_academico_df.groupby(['COD_MAT', 'NOMBRE_MAT'])[['ESTADO']].count().reset_index()\n",
    "codigos.NOMBRE_MAT.value_counts().head(15)"
   ]
  },
  {
   "cell_type": "code",
   "execution_count": 75,
   "id": "6f264146",
   "metadata": {
    "collapsed": true
   },
   "outputs": [
    {
     "data": {
      "text/html": [
       "<div>\n",
       "<style scoped>\n",
       "    .dataframe tbody tr th:only-of-type {\n",
       "        vertical-align: middle;\n",
       "    }\n",
       "\n",
       "    .dataframe tbody tr th {\n",
       "        vertical-align: top;\n",
       "    }\n",
       "\n",
       "    .dataframe thead th {\n",
       "        text-align: right;\n",
       "    }\n",
       "</style>\n",
       "<table border=\"1\" class=\"dataframe\">\n",
       "  <thead>\n",
       "    <tr style=\"text-align: right;\">\n",
       "      <th></th>\n",
       "      <th>COD_MAT</th>\n",
       "      <th>NOMBRE_MAT</th>\n",
       "      <th>ESTADO</th>\n",
       "    </tr>\n",
       "  </thead>\n",
       "  <tbody>\n",
       "    <tr>\n",
       "      <th>1</th>\n",
       "      <td>11302</td>\n",
       "      <td>logica</td>\n",
       "      <td>144</td>\n",
       "    </tr>\n",
       "    <tr>\n",
       "      <th>65</th>\n",
       "      <td>11402</td>\n",
       "      <td>logica</td>\n",
       "      <td>129</td>\n",
       "    </tr>\n",
       "    <tr>\n",
       "      <th>166</th>\n",
       "      <td>11702</td>\n",
       "      <td>logica</td>\n",
       "      <td>428</td>\n",
       "    </tr>\n",
       "    <tr>\n",
       "      <th>269</th>\n",
       "      <td>11802</td>\n",
       "      <td>logica</td>\n",
       "      <td>243</td>\n",
       "    </tr>\n",
       "    <tr>\n",
       "      <th>338</th>\n",
       "      <td>11902</td>\n",
       "      <td>logica</td>\n",
       "      <td>97</td>\n",
       "    </tr>\n",
       "    <tr>\n",
       "      <th>416</th>\n",
       "      <td>33102</td>\n",
       "      <td>logica</td>\n",
       "      <td>309</td>\n",
       "    </tr>\n",
       "    <tr>\n",
       "      <th>481</th>\n",
       "      <td>33202</td>\n",
       "      <td>logica</td>\n",
       "      <td>331</td>\n",
       "    </tr>\n",
       "    <tr>\n",
       "      <th>544</th>\n",
       "      <td>33302</td>\n",
       "      <td>logica</td>\n",
       "      <td>700</td>\n",
       "    </tr>\n",
       "    <tr>\n",
       "      <th>609</th>\n",
       "      <td>33402</td>\n",
       "      <td>logica</td>\n",
       "      <td>32</td>\n",
       "    </tr>\n",
       "    <tr>\n",
       "      <th>673</th>\n",
       "      <td>55102</td>\n",
       "      <td>logica</td>\n",
       "      <td>256</td>\n",
       "    </tr>\n",
       "    <tr>\n",
       "      <th>737</th>\n",
       "      <td>55202</td>\n",
       "      <td>logica</td>\n",
       "      <td>219</td>\n",
       "    </tr>\n",
       "    <tr>\n",
       "      <th>825</th>\n",
       "      <td>55302</td>\n",
       "      <td>logica</td>\n",
       "      <td>486</td>\n",
       "    </tr>\n",
       "    <tr>\n",
       "      <th>902</th>\n",
       "      <td>55402</td>\n",
       "      <td>logica</td>\n",
       "      <td>156</td>\n",
       "    </tr>\n",
       "    <tr>\n",
       "      <th>965</th>\n",
       "      <td>55502</td>\n",
       "      <td>logica</td>\n",
       "      <td>747</td>\n",
       "    </tr>\n",
       "    <tr>\n",
       "      <th>1032</th>\n",
       "      <td>55602</td>\n",
       "      <td>logica</td>\n",
       "      <td>333</td>\n",
       "    </tr>\n",
       "    <tr>\n",
       "      <th>1105</th>\n",
       "      <td>55702</td>\n",
       "      <td>logica</td>\n",
       "      <td>703</td>\n",
       "    </tr>\n",
       "    <tr>\n",
       "      <th>1176</th>\n",
       "      <td>55806</td>\n",
       "      <td>logica</td>\n",
       "      <td>10</td>\n",
       "    </tr>\n",
       "    <tr>\n",
       "      <th>1201</th>\n",
       "      <td>55906</td>\n",
       "      <td>logica</td>\n",
       "      <td>1</td>\n",
       "    </tr>\n",
       "    <tr>\n",
       "      <th>1217</th>\n",
       "      <td>66102</td>\n",
       "      <td>logica</td>\n",
       "      <td>616</td>\n",
       "    </tr>\n",
       "    <tr>\n",
       "      <th>1280</th>\n",
       "      <td>66202</td>\n",
       "      <td>logica</td>\n",
       "      <td>257</td>\n",
       "    </tr>\n",
       "    <tr>\n",
       "      <th>1347</th>\n",
       "      <td>66302</td>\n",
       "      <td>logica</td>\n",
       "      <td>243</td>\n",
       "    </tr>\n",
       "    <tr>\n",
       "      <th>1417</th>\n",
       "      <td>66402</td>\n",
       "      <td>logica</td>\n",
       "      <td>1795</td>\n",
       "    </tr>\n",
       "    <tr>\n",
       "      <th>1478</th>\n",
       "      <td>66502</td>\n",
       "      <td>logica</td>\n",
       "      <td>420</td>\n",
       "    </tr>\n",
       "    <tr>\n",
       "      <th>1547</th>\n",
       "      <td>66606</td>\n",
       "      <td>logica</td>\n",
       "      <td>928</td>\n",
       "    </tr>\n",
       "    <tr>\n",
       "      <th>1594</th>\n",
       "      <td>77102</td>\n",
       "      <td>logica</td>\n",
       "      <td>397</td>\n",
       "    </tr>\n",
       "    <tr>\n",
       "      <th>1684</th>\n",
       "      <td>77202</td>\n",
       "      <td>logica</td>\n",
       "      <td>366</td>\n",
       "    </tr>\n",
       "    <tr>\n",
       "      <th>1791</th>\n",
       "      <td>77308</td>\n",
       "      <td>logica</td>\n",
       "      <td>107</td>\n",
       "    </tr>\n",
       "    <tr>\n",
       "      <th>1847</th>\n",
       "      <td>77402</td>\n",
       "      <td>logica</td>\n",
       "      <td>288</td>\n",
       "    </tr>\n",
       "    <tr>\n",
       "      <th>1940</th>\n",
       "      <td>88102</td>\n",
       "      <td>logica</td>\n",
       "      <td>435</td>\n",
       "    </tr>\n",
       "    <tr>\n",
       "      <th>2002</th>\n",
       "      <td>88202</td>\n",
       "      <td>logica</td>\n",
       "      <td>359</td>\n",
       "    </tr>\n",
       "    <tr>\n",
       "      <th>2075</th>\n",
       "      <td>88313</td>\n",
       "      <td>logica</td>\n",
       "      <td>67</td>\n",
       "    </tr>\n",
       "  </tbody>\n",
       "</table>\n",
       "</div>"
      ],
      "text/plain": [
       "     COD_MAT NOMBRE_MAT  ESTADO\n",
       "1      11302     logica     144\n",
       "65     11402     logica     129\n",
       "166    11702     logica     428\n",
       "269    11802     logica     243\n",
       "338    11902     logica      97\n",
       "416    33102     logica     309\n",
       "481    33202     logica     331\n",
       "544    33302     logica     700\n",
       "609    33402     logica      32\n",
       "673    55102     logica     256\n",
       "737    55202     logica     219\n",
       "825    55302     logica     486\n",
       "902    55402     logica     156\n",
       "965    55502     logica     747\n",
       "1032   55602     logica     333\n",
       "1105   55702     logica     703\n",
       "1176   55806     logica      10\n",
       "1201   55906     logica       1\n",
       "1217   66102     logica     616\n",
       "1280   66202     logica     257\n",
       "1347   66302     logica     243\n",
       "1417   66402     logica    1795\n",
       "1478   66502     logica     420\n",
       "1547   66606     logica     928\n",
       "1594   77102     logica     397\n",
       "1684   77202     logica     366\n",
       "1791   77308     logica     107\n",
       "1847   77402     logica     288\n",
       "1940   88102     logica     435\n",
       "2002   88202     logica     359\n",
       "2075   88313     logica      67"
      ]
     },
     "execution_count": 75,
     "metadata": {},
     "output_type": "execute_result"
    }
   ],
   "source": [
    "codigos[codigos.NOMBRE_MAT=='logica']"
   ]
  },
  {
   "cell_type": "markdown",
   "id": "0551a5ce",
   "metadata": {},
   "source": [
    "> NO SE A SOLUCIONADO"
   ]
  },
  {
   "cell_type": "markdown",
   "id": "102d9a2d",
   "metadata": {},
   "source": [
    "## 6.5 Expandir datos"
   ]
  },
  {
   "cell_type": "code",
   "execution_count": 76,
   "id": "4522bd1d",
   "metadata": {
    "collapsed": true
   },
   "outputs": [],
   "source": [
    "# rendimiento_academico_df['AÑO'], rendimiento_academico_df['SEMESTRE'] = expandir_periodo(rendimiento_academico_df.PERIODO_ACADEMICO)\n",
    "# rendimiento_academico_df['FECHA'] = fecha_de_semestre(rendimiento_academico_df['AÑO'], rendimiento_academico_df['SEMESTRE'])"
   ]
  },
  {
   "cell_type": "markdown",
   "id": "622dfa5f",
   "metadata": {},
   "source": [
    "## 6.6 Consistencia en los datos"
   ]
  },
  {
   "cell_type": "code",
   "execution_count": 77,
   "id": "65067544",
   "metadata": {
    "collapsed": true
   },
   "outputs": [],
   "source": [
    "# cols_to_fill = ['PERIODO_COHORTE', 'PERIODO_ACADEMICO', 'CODIGO', 'COD_MAT']\n",
    "# filled = rendimiento_academico_df[cols_to_fill].apply(fill_digits, index=0)\n",
    "# rendimiento_academico_df[cols_to_fill] = filled"
   ]
  },
  {
   "cell_type": "markdown",
   "id": "d04fd10b",
   "metadata": {},
   "source": [
    "## 6.7 Resultado"
   ]
  },
  {
   "cell_type": "code",
   "execution_count": 78,
   "id": "9af9957d-c2b9-43ab-ad9c-3a278081e0cc",
   "metadata": {
    "collapsed": true
   },
   "outputs": [
    {
     "data": {
      "text/html": [
       "<div>\n",
       "<style scoped>\n",
       "    .dataframe tbody tr th:only-of-type {\n",
       "        vertical-align: middle;\n",
       "    }\n",
       "\n",
       "    .dataframe tbody tr th {\n",
       "        vertical-align: top;\n",
       "    }\n",
       "\n",
       "    .dataframe thead th {\n",
       "        text-align: right;\n",
       "    }\n",
       "</style>\n",
       "<table border=\"1\" class=\"dataframe\">\n",
       "  <thead>\n",
       "    <tr style=\"text-align: right;\">\n",
       "      <th></th>\n",
       "      <th>PERIODO_COHORTE</th>\n",
       "      <th>PERIODO_ACADEMICO</th>\n",
       "      <th>CODIGO</th>\n",
       "      <th>COD_MAT</th>\n",
       "      <th>NOMBRE_MAT</th>\n",
       "      <th>NOTA_DEF</th>\n",
       "      <th>ESTADO</th>\n",
       "    </tr>\n",
       "  </thead>\n",
       "  <tbody>\n",
       "    <tr>\n",
       "      <th>0</th>\n",
       "      <td>201210</td>\n",
       "      <td>201210</td>\n",
       "      <td>11312001</td>\n",
       "      <td>11305</td>\n",
       "      <td>exp. oral escrita</td>\n",
       "      <td>3.5</td>\n",
       "      <td>aprobada</td>\n",
       "    </tr>\n",
       "    <tr>\n",
       "      <th>1</th>\n",
       "      <td>201210</td>\n",
       "      <td>201210</td>\n",
       "      <td>11312001</td>\n",
       "      <td>11312</td>\n",
       "      <td>iniciativa empres</td>\n",
       "      <td>4.0</td>\n",
       "      <td>aprobada</td>\n",
       "    </tr>\n",
       "    <tr>\n",
       "      <th>2</th>\n",
       "      <td>201210</td>\n",
       "      <td>201210</td>\n",
       "      <td>11312001</td>\n",
       "      <td>11310</td>\n",
       "      <td>microeconomia</td>\n",
       "      <td>3.6</td>\n",
       "      <td>aprobada</td>\n",
       "    </tr>\n",
       "    <tr>\n",
       "      <th>3</th>\n",
       "      <td>201210</td>\n",
       "      <td>201210</td>\n",
       "      <td>11312001</td>\n",
       "      <td>11315</td>\n",
       "      <td>informatica basica</td>\n",
       "      <td>3.3</td>\n",
       "      <td>aprobada</td>\n",
       "    </tr>\n",
       "    <tr>\n",
       "      <th>4</th>\n",
       "      <td>201210</td>\n",
       "      <td>201210</td>\n",
       "      <td>11312001</td>\n",
       "      <td>11303</td>\n",
       "      <td>introd. al programa</td>\n",
       "      <td>3.8</td>\n",
       "      <td>aprobada</td>\n",
       "    </tr>\n",
       "  </tbody>\n",
       "</table>\n",
       "</div>"
      ],
      "text/plain": [
       "  PERIODO_COHORTE PERIODO_ACADEMICO    CODIGO COD_MAT           NOMBRE_MAT  \\\n",
       "0          201210            201210  11312001   11305    exp. oral escrita   \n",
       "1          201210            201210  11312001   11312    iniciativa empres   \n",
       "2          201210            201210  11312001   11310        microeconomia   \n",
       "3          201210            201210  11312001   11315   informatica basica   \n",
       "4          201210            201210  11312001   11303  introd. al programa   \n",
       "\n",
       "   NOTA_DEF    ESTADO  \n",
       "0       3.5  aprobada  \n",
       "1       4.0  aprobada  \n",
       "2       3.6  aprobada  \n",
       "3       3.3  aprobada  \n",
       "4       3.8  aprobada  "
      ]
     },
     "execution_count": 78,
     "metadata": {},
     "output_type": "execute_result"
    }
   ],
   "source": [
    "rendimiento_academico_df.head()"
   ]
  },
  {
   "cell_type": "code",
   "execution_count": 79,
   "id": "5ceaec90-f56d-40cf-a294-7d901c8099ad",
   "metadata": {
    "collapsed": true
   },
   "outputs": [
    {
     "name": "stdout",
     "output_type": "stream",
     "text": [
      "<class 'pandas.core.frame.DataFrame'>\n",
      "RangeIndex: 364492 entries, 0 to 364491\n",
      "Data columns (total 7 columns):\n",
      " #   Column             Non-Null Count   Dtype  \n",
      "---  ------             --------------   -----  \n",
      " 0   PERIODO_COHORTE    364492 non-null  object \n",
      " 1   PERIODO_ACADEMICO  364492 non-null  object \n",
      " 2   CODIGO             364492 non-null  object \n",
      " 3   COD_MAT            364492 non-null  object \n",
      " 4   NOMBRE_MAT         364492 non-null  object \n",
      " 5   NOTA_DEF           364492 non-null  float64\n",
      " 6   ESTADO             364492 non-null  object \n",
      "dtypes: float64(1), object(6)\n",
      "memory usage: 19.5+ MB\n"
     ]
    }
   ],
   "source": [
    "rendimiento_academico_df.info()"
   ]
  },
  {
   "cell_type": "code",
   "execution_count": 80,
   "id": "55a45f47-7cbe-4bf2-8d56-1b137ed5f5a1",
   "metadata": {
    "collapsed": true
   },
   "outputs": [
    {
     "data": {
      "text/plain": [
       "PERIODO_COHORTE         19\n",
       "PERIODO_ACADEMICO       35\n",
       "CODIGO               10211\n",
       "COD_MAT               1839\n",
       "NOMBRE_MAT             906\n",
       "NOTA_DEF                51\n",
       "ESTADO                   2\n",
       "dtype: int64"
      ]
     },
     "execution_count": 80,
     "metadata": {},
     "output_type": "execute_result"
    }
   ],
   "source": [
    "rendimiento_academico_df.nunique()"
   ]
  },
  {
   "cell_type": "markdown",
   "id": "c158bfe9-8321-41d9-83c5-5263e703c0c7",
   "metadata": {},
   "source": [
    "## 7. Tabla \"area_icfes\""
   ]
  },
  {
   "cell_type": "code",
   "execution_count": 81,
   "id": "9c32e973-6bd2-4e16-96c1-339b8f510ddb",
   "metadata": {
    "collapsed": true
   },
   "outputs": [
    {
     "data": {
      "text/html": [
       "<div>\n",
       "<style scoped>\n",
       "    .dataframe tbody tr th:only-of-type {\n",
       "        vertical-align: middle;\n",
       "    }\n",
       "\n",
       "    .dataframe tbody tr th {\n",
       "        vertical-align: top;\n",
       "    }\n",
       "\n",
       "    .dataframe thead th {\n",
       "        text-align: right;\n",
       "    }\n",
       "</style>\n",
       "<table border=\"1\" class=\"dataframe\">\n",
       "  <thead>\n",
       "    <tr style=\"text-align: right;\">\n",
       "      <th></th>\n",
       "      <th>FECHA_INI_EX</th>\n",
       "      <th>FECHA_FIN_EX</th>\n",
       "      <th>COD_MEN</th>\n",
       "      <th>AREA_ICFES</th>\n",
       "    </tr>\n",
       "  </thead>\n",
       "  <tbody>\n",
       "    <tr>\n",
       "      <th>0</th>\n",
       "      <td>1980-05-01</td>\n",
       "      <td>1999-12-31</td>\n",
       "      <td>20697</td>\n",
       "      <td>CIENCIAS NATURALES</td>\n",
       "    </tr>\n",
       "    <tr>\n",
       "      <th>1</th>\n",
       "      <td>1980-05-01</td>\n",
       "      <td>1999-12-31</td>\n",
       "      <td>20697</td>\n",
       "      <td>LENGUAJE</td>\n",
       "    </tr>\n",
       "    <tr>\n",
       "      <th>2</th>\n",
       "      <td>1980-05-01</td>\n",
       "      <td>1999-12-31</td>\n",
       "      <td>20697</td>\n",
       "      <td>MATEMÁTICA</td>\n",
       "    </tr>\n",
       "    <tr>\n",
       "      <th>3</th>\n",
       "      <td>2000-01-01</td>\n",
       "      <td>2004-12-24</td>\n",
       "      <td>20697</td>\n",
       "      <td>BIOLOGÍA</td>\n",
       "    </tr>\n",
       "    <tr>\n",
       "      <th>4</th>\n",
       "      <td>2000-01-01</td>\n",
       "      <td>2004-12-24</td>\n",
       "      <td>20697</td>\n",
       "      <td>FÍSICA</td>\n",
       "    </tr>\n",
       "  </tbody>\n",
       "</table>\n",
       "</div>"
      ],
      "text/plain": [
       "  FECHA_INI_EX FECHA_FIN_EX  COD_MEN          AREA_ICFES\n",
       "0   1980-05-01   1999-12-31    20697  CIENCIAS NATURALES\n",
       "1   1980-05-01   1999-12-31    20697            LENGUAJE\n",
       "2   1980-05-01   1999-12-31    20697          MATEMÁTICA\n",
       "3   2000-01-01   2004-12-24    20697            BIOLOGÍA\n",
       "4   2000-01-01   2004-12-24    20697              FÍSICA"
      ]
     },
     "execution_count": 81,
     "metadata": {},
     "output_type": "execute_result"
    }
   ],
   "source": [
    "area_icfes_df.head()"
   ]
  },
  {
   "cell_type": "code",
   "execution_count": 82,
   "id": "2aa9cfe2-bc82-42bd-902a-a7b2eae4d604",
   "metadata": {
    "collapsed": true
   },
   "outputs": [
    {
     "name": "stdout",
     "output_type": "stream",
     "text": [
      "<class 'pandas.core.frame.DataFrame'>\n",
      "RangeIndex: 674 entries, 0 to 673\n",
      "Data columns (total 4 columns):\n",
      " #   Column        Non-Null Count  Dtype         \n",
      "---  ------        --------------  -----         \n",
      " 0   FECHA_INI_EX  674 non-null    datetime64[ns]\n",
      " 1   FECHA_FIN_EX  674 non-null    datetime64[ns]\n",
      " 2   COD_MEN       674 non-null    int64         \n",
      " 3   AREA_ICFES    674 non-null    object        \n",
      "dtypes: datetime64[ns](2), int64(1), object(1)\n",
      "memory usage: 21.2+ KB\n"
     ]
    }
   ],
   "source": [
    "area_icfes_df.info()"
   ]
  },
  {
   "cell_type": "code",
   "execution_count": 83,
   "id": "2c67422b-cadb-462a-b879-8ba1ff949ecd",
   "metadata": {
    "collapsed": true
   },
   "outputs": [
    {
     "data": {
      "text/plain": [
       "FECHA_INI_EX     8\n",
       "FECHA_FIN_EX     8\n",
       "COD_MEN         23\n",
       "AREA_ICFES      16\n",
       "dtype: int64"
      ]
     },
     "execution_count": 83,
     "metadata": {},
     "output_type": "execute_result"
    }
   ],
   "source": [
    "area_icfes_df.nunique()"
   ]
  },
  {
   "cell_type": "markdown",
   "id": "26423b59-5710-4428-8e81-72221e294e0f",
   "metadata": {},
   "source": [
    "> * normalizar texto de las areas\n",
    "> * \"COD_MEN\" categorico, convertir a string\n",
    "> * las fechas no son relevantes para nuestro analisis\n",
    "> * hay mas valores unicos de \"COD_MEN\" que de \"AREA_ICFES\""
   ]
  },
  {
   "cell_type": "markdown",
   "id": "59e2d80f-3aba-45da-a30c-dcef4d412956",
   "metadata": {},
   "source": [
    "## 7.1 Llenar valores faltantes"
   ]
  },
  {
   "cell_type": "markdown",
   "id": "ca510494",
   "metadata": {},
   "source": [
    "> * NO hay valores faltantes"
   ]
  },
  {
   "cell_type": "markdown",
   "id": "8dec47ab-9d3e-4f10-93b9-b37800626e83",
   "metadata": {},
   "source": [
    "## 7.2 Corregir tipo de datos"
   ]
  },
  {
   "cell_type": "code",
   "execution_count": 84,
   "id": "0a9d76b6-ee8a-4745-a43d-e3116b44a8d7",
   "metadata": {
    "collapsed": true
   },
   "outputs": [],
   "source": [
    "area_icfes_df[\"COD_MEN\"] = area_icfes_df[\"COD_MEN\"].astype(str)"
   ]
  },
  {
   "cell_type": "markdown",
   "id": "c812b347-d235-4d37-9063-261ce1a8f618",
   "metadata": {},
   "source": [
    "## 7.3 Normalizar Texto"
   ]
  },
  {
   "cell_type": "code",
   "execution_count": 85,
   "id": "c72c6443-c425-4006-ba5f-eb940b662a82",
   "metadata": {
    "collapsed": true
   },
   "outputs": [],
   "source": [
    "area_icfes_df.AREA_ICFES = normalize_text(area_icfes_df.AREA_ICFES)"
   ]
  },
  {
   "cell_type": "markdown",
   "id": "eb4fd98d-a68c-4bac-93a4-23cc18dd42e2",
   "metadata": {},
   "source": [
    "## 7.4 Revisar llaves primarias de categorias"
   ]
  },
  {
   "cell_type": "code",
   "execution_count": 86,
   "id": "d5abc09d-9f00-4eec-b444-667a5165a916",
   "metadata": {
    "collapsed": true
   },
   "outputs": [
    {
     "data": {
      "text/plain": [
       "COD_MEN\n",
       "101677    {fisica, cienc.soc.y ciudadan, sociales, quimi...\n",
       "105810    {historia, cienc.soc.y ciudadan, sociales, fil...\n",
       "108452    {fisica, ciencias naturales, lectura critica, ...\n",
       "108951    {fisica, cienc.soc.y ciudadan, soc. y ciudadan...\n",
       "20697     {fisica, cienc.soc.y ciudadan, quimica, cienci...\n",
       "Name: set, dtype: object"
      ]
     },
     "execution_count": 86,
     "metadata": {},
     "output_type": "execute_result"
    }
   ],
   "source": [
    "\n",
    "agg_func_text = {'AREA_ICFES': {'nunique', set, 'count'}}\n",
    "area_icfes_df.groupby(['COD_MEN', 'AREA_ICFES']).count().reset_index().groupby('COD_MEN').agg(agg_func_text)['AREA_ICFES']['set'].head()"
   ]
  },
  {
   "cell_type": "markdown",
   "id": "2e15d46e",
   "metadata": {},
   "source": [
    "> Contrario a lo ques se \"COD_MEN\" no es una llave para \"AREA_ICFES\", entonces no se hacen cambios"
   ]
  },
  {
   "cell_type": "markdown",
   "id": "7dddd227-1a6a-41e2-ad00-584b9c645946",
   "metadata": {},
   "source": [
    "## 7.5 Expandir datos"
   ]
  },
  {
   "cell_type": "markdown",
   "id": "9a9c1de3",
   "metadata": {},
   "source": [
    "> * no hay que expandir"
   ]
  },
  {
   "cell_type": "markdown",
   "id": "1abe6e72-d5ed-4fe9-9be8-c0befde7f3c8",
   "metadata": {},
   "source": [
    "## 7.6 Consistencia en los datos"
   ]
  },
  {
   "cell_type": "code",
   "execution_count": 87,
   "id": "70729e93-3565-457e-849d-7482412ed2d3",
   "metadata": {
    "collapsed": true
   },
   "outputs": [],
   "source": [
    "# df['COD_MEN'] = fill_digits(df['COD_MEN'])"
   ]
  },
  {
   "cell_type": "markdown",
   "id": "f00e6e58-7dab-4f43-83cd-9df38cffb953",
   "metadata": {},
   "source": [
    "## 7.7 Resultado"
   ]
  },
  {
   "cell_type": "code",
   "execution_count": 88,
   "id": "8128ea46-ef5b-4e30-b110-43434578986a",
   "metadata": {
    "collapsed": true
   },
   "outputs": [
    {
     "data": {
      "text/html": [
       "<div>\n",
       "<style scoped>\n",
       "    .dataframe tbody tr th:only-of-type {\n",
       "        vertical-align: middle;\n",
       "    }\n",
       "\n",
       "    .dataframe tbody tr th {\n",
       "        vertical-align: top;\n",
       "    }\n",
       "\n",
       "    .dataframe thead th {\n",
       "        text-align: right;\n",
       "    }\n",
       "</style>\n",
       "<table border=\"1\" class=\"dataframe\">\n",
       "  <thead>\n",
       "    <tr style=\"text-align: right;\">\n",
       "      <th></th>\n",
       "      <th>FECHA_INI_EX</th>\n",
       "      <th>FECHA_FIN_EX</th>\n",
       "      <th>COD_MEN</th>\n",
       "      <th>AREA_ICFES</th>\n",
       "    </tr>\n",
       "  </thead>\n",
       "  <tbody>\n",
       "    <tr>\n",
       "      <th>0</th>\n",
       "      <td>1980-05-01</td>\n",
       "      <td>1999-12-31</td>\n",
       "      <td>20697</td>\n",
       "      <td>ciencias naturales</td>\n",
       "    </tr>\n",
       "    <tr>\n",
       "      <th>1</th>\n",
       "      <td>1980-05-01</td>\n",
       "      <td>1999-12-31</td>\n",
       "      <td>20697</td>\n",
       "      <td>lenguaje</td>\n",
       "    </tr>\n",
       "    <tr>\n",
       "      <th>2</th>\n",
       "      <td>1980-05-01</td>\n",
       "      <td>1999-12-31</td>\n",
       "      <td>20697</td>\n",
       "      <td>matematica</td>\n",
       "    </tr>\n",
       "    <tr>\n",
       "      <th>3</th>\n",
       "      <td>2000-01-01</td>\n",
       "      <td>2004-12-24</td>\n",
       "      <td>20697</td>\n",
       "      <td>biologia</td>\n",
       "    </tr>\n",
       "    <tr>\n",
       "      <th>4</th>\n",
       "      <td>2000-01-01</td>\n",
       "      <td>2004-12-24</td>\n",
       "      <td>20697</td>\n",
       "      <td>fisica</td>\n",
       "    </tr>\n",
       "  </tbody>\n",
       "</table>\n",
       "</div>"
      ],
      "text/plain": [
       "  FECHA_INI_EX FECHA_FIN_EX COD_MEN          AREA_ICFES\n",
       "0   1980-05-01   1999-12-31   20697  ciencias naturales\n",
       "1   1980-05-01   1999-12-31   20697            lenguaje\n",
       "2   1980-05-01   1999-12-31   20697          matematica\n",
       "3   2000-01-01   2004-12-24   20697            biologia\n",
       "4   2000-01-01   2004-12-24   20697              fisica"
      ]
     },
     "execution_count": 88,
     "metadata": {},
     "output_type": "execute_result"
    }
   ],
   "source": [
    "area_icfes_df.head()"
   ]
  },
  {
   "cell_type": "code",
   "execution_count": 89,
   "id": "c0110102-31ad-450c-8b64-a8bb4bea70de",
   "metadata": {
    "collapsed": true
   },
   "outputs": [
    {
     "name": "stdout",
     "output_type": "stream",
     "text": [
      "<class 'pandas.core.frame.DataFrame'>\n",
      "RangeIndex: 674 entries, 0 to 673\n",
      "Data columns (total 4 columns):\n",
      " #   Column        Non-Null Count  Dtype         \n",
      "---  ------        --------------  -----         \n",
      " 0   FECHA_INI_EX  674 non-null    datetime64[ns]\n",
      " 1   FECHA_FIN_EX  674 non-null    datetime64[ns]\n",
      " 2   COD_MEN       674 non-null    object        \n",
      " 3   AREA_ICFES    674 non-null    object        \n",
      "dtypes: datetime64[ns](2), object(2)\n",
      "memory usage: 21.2+ KB\n"
     ]
    }
   ],
   "source": [
    "area_icfes_df.info()"
   ]
  },
  {
   "cell_type": "code",
   "execution_count": 90,
   "id": "b24d0370-0c34-4633-9629-1b330b46b0b7",
   "metadata": {
    "collapsed": true
   },
   "outputs": [
    {
     "data": {
      "text/plain": [
       "FECHA_INI_EX     8\n",
       "FECHA_FIN_EX     8\n",
       "COD_MEN         23\n",
       "AREA_ICFES      16\n",
       "dtype: int64"
      ]
     },
     "execution_count": 90,
     "metadata": {},
     "output_type": "execute_result"
    }
   ],
   "source": [
    "area_icfes_df.nunique()"
   ]
  },
  {
   "cell_type": "markdown",
   "id": "01e268e4-71dd-4b4a-98fa-73053725ccd2",
   "metadata": {},
   "source": [
    "## 8. Tabla \"creditos_periodo\""
   ]
  },
  {
   "cell_type": "code",
   "execution_count": 91,
   "id": "bdc1c1db-ae49-4396-ac1f-c551c1c8f3a9",
   "metadata": {
    "collapsed": true
   },
   "outputs": [
    {
     "data": {
      "text/html": [
       "<div>\n",
       "<style scoped>\n",
       "    .dataframe tbody tr th:only-of-type {\n",
       "        vertical-align: middle;\n",
       "    }\n",
       "\n",
       "    .dataframe tbody tr th {\n",
       "        vertical-align: top;\n",
       "    }\n",
       "\n",
       "    .dataframe thead th {\n",
       "        text-align: right;\n",
       "    }\n",
       "</style>\n",
       "<table border=\"1\" class=\"dataframe\">\n",
       "  <thead>\n",
       "    <tr style=\"text-align: right;\">\n",
       "      <th></th>\n",
       "      <th>CODIGO</th>\n",
       "      <th>PERIODO</th>\n",
       "    </tr>\n",
       "  </thead>\n",
       "  <tbody>\n",
       "    <tr>\n",
       "      <th>0</th>\n",
       "      <td>33111541</td>\n",
       "      <td>201210</td>\n",
       "    </tr>\n",
       "    <tr>\n",
       "      <th>1</th>\n",
       "      <td>66411591</td>\n",
       "      <td>201210</td>\n",
       "    </tr>\n",
       "    <tr>\n",
       "      <th>2</th>\n",
       "      <td>33103565</td>\n",
       "      <td>201210</td>\n",
       "    </tr>\n",
       "    <tr>\n",
       "      <th>3</th>\n",
       "      <td>66411104</td>\n",
       "      <td>201210</td>\n",
       "    </tr>\n",
       "    <tr>\n",
       "      <th>4</th>\n",
       "      <td>66409105</td>\n",
       "      <td>201210</td>\n",
       "    </tr>\n",
       "  </tbody>\n",
       "</table>\n",
       "</div>"
      ],
      "text/plain": [
       "     CODIGO  PERIODO\n",
       "0  33111541   201210\n",
       "1  66411591   201210\n",
       "2  33103565   201210\n",
       "3  66411104   201210\n",
       "4  66409105   201210"
      ]
     },
     "execution_count": 91,
     "metadata": {},
     "output_type": "execute_result"
    }
   ],
   "source": [
    "creditos_periodo_df.head()"
   ]
  },
  {
   "cell_type": "code",
   "execution_count": 92,
   "id": "477758ad-8205-45d4-b845-3c609cbc7094",
   "metadata": {
    "collapsed": true
   },
   "outputs": [
    {
     "name": "stdout",
     "output_type": "stream",
     "text": [
      "<class 'pandas.core.frame.DataFrame'>\n",
      "RangeIndex: 7998 entries, 0 to 7997\n",
      "Data columns (total 2 columns):\n",
      " #   Column   Non-Null Count  Dtype\n",
      "---  ------   --------------  -----\n",
      " 0   CODIGO   7998 non-null   int64\n",
      " 1   PERIODO  7998 non-null   int64\n",
      "dtypes: int64(2)\n",
      "memory usage: 125.1 KB\n"
     ]
    }
   ],
   "source": [
    "creditos_periodo_df.info()"
   ]
  },
  {
   "cell_type": "code",
   "execution_count": 93,
   "id": "bd8c53cb-22e8-4c17-b0f8-a0da36c7adc7",
   "metadata": {
    "collapsed": true
   },
   "outputs": [
    {
     "data": {
      "text/plain": [
       "CODIGO     2707\n",
       "PERIODO      20\n",
       "dtype: int64"
      ]
     },
     "execution_count": 93,
     "metadata": {},
     "output_type": "execute_result"
    }
   ],
   "source": [
    "creditos_periodo_df.nunique()"
   ]
  },
  {
   "cell_type": "markdown",
   "id": "1444d8bd-73d4-47d2-9134-dafc63576196",
   "metadata": {},
   "source": [
    "> * Tabla parece incompleta\n",
    "> * No hay valores faltantes\n",
    "> * convertir datos a strings"
   ]
  },
  {
   "cell_type": "markdown",
   "id": "184c9a06-4216-429f-bad1-2f15d065f90c",
   "metadata": {},
   "source": [
    "## 8.1 Llenar valores faltantes"
   ]
  },
  {
   "cell_type": "markdown",
   "id": "e395ebe3",
   "metadata": {},
   "source": [
    "> No hay valores faltantes"
   ]
  },
  {
   "cell_type": "markdown",
   "id": "23a770e5-64d6-4691-9ff1-85a368fcb6d6",
   "metadata": {},
   "source": [
    "## 8.2 Corregir tipo de datos"
   ]
  },
  {
   "cell_type": "code",
   "execution_count": 94,
   "id": "1937a383-f232-44bc-9cd3-e5975c0710bd",
   "metadata": {
    "collapsed": true
   },
   "outputs": [],
   "source": [
    "to_str_cols = ['CODIGO', 'PERIODO']\n",
    "creditos_periodo_df[to_str_cols] = creditos_periodo_df[to_str_cols].astype(str)\n",
    "\n",
    "# to_int_cols = []\n",
    "# creditos_periodo_df[to_int_cols] = creditos_periodo_df[to_int_cols].astype(int)\n",
    "\n",
    "# to_float_cols = []\n",
    "# creditos_periodo_df[to_float_cols] = creditos_periodo_df[to_float_cols].astype(float)"
   ]
  },
  {
   "cell_type": "markdown",
   "id": "b70200d6-996b-46c8-950d-76fed86ee368",
   "metadata": {},
   "source": [
    "## 8.3 Normalizar Texto"
   ]
  },
  {
   "cell_type": "markdown",
   "id": "3bab5953",
   "metadata": {},
   "source": [
    "> No hay columnas de textom"
   ]
  },
  {
   "cell_type": "markdown",
   "id": "d2662aa2-7d2e-411c-a289-ae4d36d737d4",
   "metadata": {},
   "source": [
    "## 8.4 Revisar llaves primarias de categorias"
   ]
  },
  {
   "cell_type": "markdown",
   "id": "96f9cbed",
   "metadata": {},
   "source": [
    "No hay ninguna relacion de este tipo"
   ]
  },
  {
   "cell_type": "markdown",
   "id": "e9981fb3-1583-4ed6-aea4-ec52f7e2b94b",
   "metadata": {},
   "source": [
    "## 8.5 Expandir datos"
   ]
  },
  {
   "cell_type": "code",
   "execution_count": 95,
   "id": "bebff58d-4450-4b27-b106-8e02f75c2817",
   "metadata": {
    "collapsed": true
   },
   "outputs": [],
   "source": [
    "# creditos_periodo_df['AÑO'], creditos_periodo_df['SEMESTRE'] = expandir_periodo(creditos_periodo_df.PERIODO)\n",
    "# creditos_periodo_df['FECHA'] = fecha_de_semestre(creditos_periodo_df['AÑO'], creditos_periodo_df['SEMESTRE'])"
   ]
  },
  {
   "cell_type": "markdown",
   "id": "0d821fd4-1532-4d0a-8a40-9e9dfb9e6db2",
   "metadata": {},
   "source": [
    "## 8.6 Consistencia en los datos"
   ]
  },
  {
   "cell_type": "code",
   "execution_count": 96,
   "id": "67ec51c0-5707-480b-a668-0c76ef7b5923",
   "metadata": {
    "collapsed": true
   },
   "outputs": [],
   "source": [
    "# cols_to_fill = ['CODIGO', 'PERIODO']\n",
    "# filled = creditos_periodo_df[cols_to_fill].apply(fill_digits, index=0)\n",
    "# creditos_periodo_df[cols_to_fill] = filled"
   ]
  },
  {
   "cell_type": "markdown",
   "id": "4fc3f819-be92-4fed-99f8-869888087d0c",
   "metadata": {},
   "source": [
    "## 8.7 Resultado"
   ]
  },
  {
   "cell_type": "code",
   "execution_count": 97,
   "id": "6841ea3e-e29a-4b5c-b4b0-f5961a40387d",
   "metadata": {
    "collapsed": true
   },
   "outputs": [
    {
     "data": {
      "text/html": [
       "<div>\n",
       "<style scoped>\n",
       "    .dataframe tbody tr th:only-of-type {\n",
       "        vertical-align: middle;\n",
       "    }\n",
       "\n",
       "    .dataframe tbody tr th {\n",
       "        vertical-align: top;\n",
       "    }\n",
       "\n",
       "    .dataframe thead th {\n",
       "        text-align: right;\n",
       "    }\n",
       "</style>\n",
       "<table border=\"1\" class=\"dataframe\">\n",
       "  <thead>\n",
       "    <tr style=\"text-align: right;\">\n",
       "      <th></th>\n",
       "      <th>CODIGO</th>\n",
       "      <th>PERIODO</th>\n",
       "    </tr>\n",
       "  </thead>\n",
       "  <tbody>\n",
       "    <tr>\n",
       "      <th>0</th>\n",
       "      <td>33111541</td>\n",
       "      <td>201210</td>\n",
       "    </tr>\n",
       "    <tr>\n",
       "      <th>1</th>\n",
       "      <td>66411591</td>\n",
       "      <td>201210</td>\n",
       "    </tr>\n",
       "    <tr>\n",
       "      <th>2</th>\n",
       "      <td>33103565</td>\n",
       "      <td>201210</td>\n",
       "    </tr>\n",
       "    <tr>\n",
       "      <th>3</th>\n",
       "      <td>66411104</td>\n",
       "      <td>201210</td>\n",
       "    </tr>\n",
       "    <tr>\n",
       "      <th>4</th>\n",
       "      <td>66409105</td>\n",
       "      <td>201210</td>\n",
       "    </tr>\n",
       "  </tbody>\n",
       "</table>\n",
       "</div>"
      ],
      "text/plain": [
       "     CODIGO PERIODO\n",
       "0  33111541  201210\n",
       "1  66411591  201210\n",
       "2  33103565  201210\n",
       "3  66411104  201210\n",
       "4  66409105  201210"
      ]
     },
     "execution_count": 97,
     "metadata": {},
     "output_type": "execute_result"
    }
   ],
   "source": [
    "creditos_periodo_df.head()"
   ]
  },
  {
   "cell_type": "code",
   "execution_count": 98,
   "id": "d2bc34f9-ceb1-4b83-96b8-81b1ca4f4202",
   "metadata": {
    "collapsed": true
   },
   "outputs": [
    {
     "name": "stdout",
     "output_type": "stream",
     "text": [
      "<class 'pandas.core.frame.DataFrame'>\n",
      "RangeIndex: 7998 entries, 0 to 7997\n",
      "Data columns (total 2 columns):\n",
      " #   Column   Non-Null Count  Dtype \n",
      "---  ------   --------------  ----- \n",
      " 0   CODIGO   7998 non-null   object\n",
      " 1   PERIODO  7998 non-null   object\n",
      "dtypes: object(2)\n",
      "memory usage: 125.1+ KB\n"
     ]
    }
   ],
   "source": [
    "creditos_periodo_df.info()"
   ]
  },
  {
   "cell_type": "code",
   "execution_count": 99,
   "id": "de09b359-47b0-44bf-8ac5-9e7230460b7a",
   "metadata": {
    "collapsed": true
   },
   "outputs": [
    {
     "data": {
      "text/plain": [
       "CODIGO     2707\n",
       "PERIODO      20\n",
       "dtype: int64"
      ]
     },
     "execution_count": 99,
     "metadata": {},
     "output_type": "execute_result"
    }
   ],
   "source": [
    "creditos_periodo_df.nunique()"
   ]
  },
  {
   "cell_type": "markdown",
   "id": "e4e11e5d-8033-4f0d-9838-1a840f7669cf",
   "metadata": {},
   "source": [
    "## 9. Tabla \"materias_por_programa\""
   ]
  },
  {
   "cell_type": "code",
   "execution_count": 100,
   "id": "aef804a6-2b73-4f5c-ab28-5400615e88f2",
   "metadata": {
    "collapsed": true
   },
   "outputs": [
    {
     "data": {
      "text/html": [
       "<div>\n",
       "<style scoped>\n",
       "    .dataframe tbody tr th:only-of-type {\n",
       "        vertical-align: middle;\n",
       "    }\n",
       "\n",
       "    .dataframe tbody tr th {\n",
       "        vertical-align: top;\n",
       "    }\n",
       "\n",
       "    .dataframe thead th {\n",
       "        text-align: right;\n",
       "    }\n",
       "</style>\n",
       "<table border=\"1\" class=\"dataframe\">\n",
       "  <thead>\n",
       "    <tr style=\"text-align: right;\">\n",
       "      <th></th>\n",
       "      <th>COD_MEN</th>\n",
       "      <th>FACULTAD</th>\n",
       "      <th>NOMBRE_PROGRAMA</th>\n",
       "      <th>ACREDITADO</th>\n",
       "      <th>SEDE</th>\n",
       "      <th>COD_MAT</th>\n",
       "      <th>NUM_CREDITOS</th>\n",
       "      <th>INTRODUCCION</th>\n",
       "    </tr>\n",
       "  </thead>\n",
       "  <tbody>\n",
       "    <tr>\n",
       "      <th>0</th>\n",
       "      <td>20708</td>\n",
       "      <td>FACULTAD DE CIENCIAS ADMINISTRATIVAS Y CONTABLES</td>\n",
       "      <td>ADMINISTRACIÓN DE EMPRESAS</td>\n",
       "      <td>N.A.</td>\n",
       "      <td>SEDE TUNJA</td>\n",
       "      <td>11330</td>\n",
       "      <td>2</td>\n",
       "      <td>NO</td>\n",
       "    </tr>\n",
       "    <tr>\n",
       "      <th>1</th>\n",
       "      <td>20708</td>\n",
       "      <td>FACULTAD DE CIENCIAS ADMINISTRATIVAS Y CONTABLES</td>\n",
       "      <td>ADMINISTRACIÓN DE EMPRESAS</td>\n",
       "      <td>N.A.</td>\n",
       "      <td>SEDE TUNJA</td>\n",
       "      <td>11329</td>\n",
       "      <td>2</td>\n",
       "      <td>NO</td>\n",
       "    </tr>\n",
       "    <tr>\n",
       "      <th>2</th>\n",
       "      <td>20708</td>\n",
       "      <td>FACULTAD DE CIENCIAS ADMINISTRATIVAS Y CONTABLES</td>\n",
       "      <td>ADMINISTRACIÓN DE EMPRESAS</td>\n",
       "      <td>N.A.</td>\n",
       "      <td>SEDE TUNJA</td>\n",
       "      <td>11334</td>\n",
       "      <td>2</td>\n",
       "      <td>NO</td>\n",
       "    </tr>\n",
       "    <tr>\n",
       "      <th>3</th>\n",
       "      <td>20708</td>\n",
       "      <td>FACULTAD DE CIENCIAS ADMINISTRATIVAS Y CONTABLES</td>\n",
       "      <td>ADMINISTRACIÓN DE EMPRESAS</td>\n",
       "      <td>N.A.</td>\n",
       "      <td>SEDE TUNJA</td>\n",
       "      <td>11335</td>\n",
       "      <td>3</td>\n",
       "      <td>NO</td>\n",
       "    </tr>\n",
       "    <tr>\n",
       "      <th>4</th>\n",
       "      <td>20708</td>\n",
       "      <td>FACULTAD DE CIENCIAS ADMINISTRATIVAS Y CONTABLES</td>\n",
       "      <td>ADMINISTRACIÓN DE EMPRESAS</td>\n",
       "      <td>N.A.</td>\n",
       "      <td>SEDE TUNJA</td>\n",
       "      <td>11336</td>\n",
       "      <td>2</td>\n",
       "      <td>NO</td>\n",
       "    </tr>\n",
       "  </tbody>\n",
       "</table>\n",
       "</div>"
      ],
      "text/plain": [
       "   COD_MEN                                          FACULTAD  \\\n",
       "0    20708  FACULTAD DE CIENCIAS ADMINISTRATIVAS Y CONTABLES   \n",
       "1    20708  FACULTAD DE CIENCIAS ADMINISTRATIVAS Y CONTABLES   \n",
       "2    20708  FACULTAD DE CIENCIAS ADMINISTRATIVAS Y CONTABLES   \n",
       "3    20708  FACULTAD DE CIENCIAS ADMINISTRATIVAS Y CONTABLES   \n",
       "4    20708  FACULTAD DE CIENCIAS ADMINISTRATIVAS Y CONTABLES   \n",
       "\n",
       "              NOMBRE_PROGRAMA ACREDITADO        SEDE  COD_MAT  NUM_CREDITOS  \\\n",
       "0  ADMINISTRACIÓN DE EMPRESAS       N.A.  SEDE TUNJA    11330             2   \n",
       "1  ADMINISTRACIÓN DE EMPRESAS       N.A.  SEDE TUNJA    11329             2   \n",
       "2  ADMINISTRACIÓN DE EMPRESAS       N.A.  SEDE TUNJA    11334             2   \n",
       "3  ADMINISTRACIÓN DE EMPRESAS       N.A.  SEDE TUNJA    11335             3   \n",
       "4  ADMINISTRACIÓN DE EMPRESAS       N.A.  SEDE TUNJA    11336             2   \n",
       "\n",
       "  INTRODUCCION  \n",
       "0           NO  \n",
       "1           NO  \n",
       "2           NO  \n",
       "3           NO  \n",
       "4           NO  "
      ]
     },
     "execution_count": 100,
     "metadata": {},
     "output_type": "execute_result"
    }
   ],
   "source": [
    "materias_por_programa_df.head()"
   ]
  },
  {
   "cell_type": "code",
   "execution_count": 101,
   "id": "8b54d6fa-91fd-4ac9-9249-de3aeaa2490a",
   "metadata": {
    "collapsed": true
   },
   "outputs": [
    {
     "name": "stdout",
     "output_type": "stream",
     "text": [
      "<class 'pandas.core.frame.DataFrame'>\n",
      "RangeIndex: 1996 entries, 0 to 1995\n",
      "Data columns (total 8 columns):\n",
      " #   Column           Non-Null Count  Dtype \n",
      "---  ------           --------------  ----- \n",
      " 0   COD_MEN          1996 non-null   int64 \n",
      " 1   FACULTAD         1996 non-null   object\n",
      " 2   NOMBRE_PROGRAMA  1996 non-null   object\n",
      " 3   ACREDITADO       1996 non-null   object\n",
      " 4   SEDE             1996 non-null   object\n",
      " 5   COD_MAT          1996 non-null   int64 \n",
      " 6   NUM_CREDITOS     1996 non-null   int64 \n",
      " 7   INTRODUCCION     1996 non-null   object\n",
      "dtypes: int64(3), object(5)\n",
      "memory usage: 124.9+ KB\n"
     ]
    }
   ],
   "source": [
    "materias_por_programa_df.info()"
   ]
  },
  {
   "cell_type": "code",
   "execution_count": 102,
   "id": "0517201a-0fc9-4281-8d0a-6fb8b26fdba2",
   "metadata": {
    "collapsed": true
   },
   "outputs": [
    {
     "data": {
      "text/plain": [
       "COD_MEN              25\n",
       "FACULTAD              6\n",
       "NOMBRE_PROGRAMA      31\n",
       "ACREDITADO            3\n",
       "SEDE                  2\n",
       "COD_MAT            1875\n",
       "NUM_CREDITOS         16\n",
       "INTRODUCCION          2\n",
       "dtype: int64"
      ]
     },
     "execution_count": 102,
     "metadata": {},
     "output_type": "execute_result"
    }
   ],
   "source": [
    "materias_por_programa_df.nunique()"
   ]
  },
  {
   "cell_type": "markdown",
   "id": "b38d34a0-41dc-4eae-952f-f9035ea4a8df",
   "metadata": {},
   "source": [
    "> * Normalizar Stirngs\n",
    "> * No hay valores nulos"
   ]
  },
  {
   "cell_type": "markdown",
   "id": "9d6ff849-907c-48a8-a913-dbbf5f8fd8b4",
   "metadata": {},
   "source": [
    "## 9.1 Llenar valores faltantes"
   ]
  },
  {
   "cell_type": "markdown",
   "id": "a8978dc1",
   "metadata": {},
   "source": [
    "> No hay valores faltantes"
   ]
  },
  {
   "cell_type": "markdown",
   "id": "0e5dc532-6823-460f-8cbe-5f8da7b94077",
   "metadata": {},
   "source": [
    "## 9.2 Corregir tipo de datos"
   ]
  },
  {
   "cell_type": "code",
   "execution_count": 103,
   "id": "4280458d-dd05-43a5-bd68-090580da0e9f",
   "metadata": {
    "collapsed": true
   },
   "outputs": [],
   "source": [
    "to_str_cols = ['COD_MEN', 'COD_MAT']\n",
    "materias_por_programa_df[to_str_cols] = materias_por_programa_df[to_str_cols].astype(str)\n",
    "\n",
    "to_int_cols = []\n",
    "materias_por_programa_df[to_int_cols] = materias_por_programa_df[to_int_cols].astype(int)\n",
    "\n",
    "to_float_cols = []\n",
    "materias_por_programa_df[to_float_cols] = materias_por_programa_df[to_float_cols].astype(float)"
   ]
  },
  {
   "cell_type": "markdown",
   "id": "7c71db6b-46cf-4357-bcee-ac35873a048b",
   "metadata": {},
   "source": [
    "## 9.3 Normalizar Texto"
   ]
  },
  {
   "cell_type": "code",
   "execution_count": 104,
   "id": "b06410bd-8685-45ed-a4a2-df94c533b5c4",
   "metadata": {
    "collapsed": true
   },
   "outputs": [],
   "source": [
    "cols = ['FACULTAD', 'NOMBRE_PROGRAMA', 'ACREDITADO', 'SEDE', 'INTRODUCCION']\n",
    "materias_por_programa_df[cols] = materias_por_programa_df[cols].apply(normalize_text, axis=0)\n",
    "\n",
    "materias_por_programa_df.SEDE = materias_por_programa_df.SEDE.str.replace('sede ', '')"
   ]
  },
  {
   "cell_type": "markdown",
   "id": "b06fccc7-aff3-4be6-912b-9adcf53367e2",
   "metadata": {},
   "source": [
    "## 9.4 Revisar llaves primarias de categorias"
   ]
  },
  {
   "cell_type": "markdown",
   "id": "9052082b",
   "metadata": {},
   "source": [
    "> * No hay relaciones de este tipo\n",
    "> * sigo sin saber que es \"COD_MEN\""
   ]
  },
  {
   "cell_type": "markdown",
   "id": "92c74417-0cf4-4858-9bed-d80db7fcfcd2",
   "metadata": {},
   "source": [
    "## 9.5 Expandir datos"
   ]
  },
  {
   "cell_type": "markdown",
   "id": "4698d647",
   "metadata": {},
   "source": [
    "> Podemos expandir acreditados en: \n",
    "> * acrediatdo nacional (SI, NO)\n",
    "> * acreditado internacional (SI, NO)"
   ]
  },
  {
   "cell_type": "code",
   "execution_count": 105,
   "id": "b2a4523a",
   "metadata": {
    "collapsed": true
   },
   "outputs": [
    {
     "data": {
      "text/plain": [
       "n.a.        886\n",
       "cna-riev    874\n",
       "riev        236\n",
       "Name: ACREDITADO, dtype: int64"
      ]
     },
     "execution_count": 105,
     "metadata": {},
     "output_type": "execute_result"
    }
   ],
   "source": [
    "materias_por_programa_df.ACREDITADO.value_counts()"
   ]
  },
  {
   "cell_type": "markdown",
   "id": "bb2e61f5",
   "metadata": {},
   "source": [
    "> * cna: consejo naconal de acreditacion\n",
    "> * riev: red internacional de evaluadores"
   ]
  },
  {
   "cell_type": "code",
   "execution_count": 106,
   "id": "e3daf2bc",
   "metadata": {
    "collapsed": true
   },
   "outputs": [],
   "source": [
    "materias_por_programa_df['ES_ACREDITADO'] = materias_por_programa_df.ACREDITADO.str.contains('n.a').astype(int).map({1:'no', 0:'si'})\n",
    "materias_por_programa_df['ACRED_NACIONAL'] = materias_por_programa_df.ACREDITADO.str.contains('cna').astype(int).map({1:'si', 0:'no'})\n",
    "materias_por_programa_df['ACRED_INTERNACIONAL'] = materias_por_programa_df.ACREDITADO.str.contains('riev').astype(int).map({1:'si', 0:'no'})"
   ]
  },
  {
   "cell_type": "markdown",
   "id": "c5ddeda9-7348-4f93-8cbe-d4da1418fdb9",
   "metadata": {},
   "source": [
    "## 9.6 Consistencia en los datos"
   ]
  },
  {
   "cell_type": "code",
   "execution_count": 107,
   "id": "a3f69ffd-ece0-40e5-9821-1992261dc36f",
   "metadata": {
    "collapsed": true
   },
   "outputs": [],
   "source": [
    "# cols_to_fill = ['COD_MEN', 'COD_MAT']\n",
    "# filled = materias_por_programa_df[cols_to_fill].apply(fill_digits, index=0)\n",
    "# materias_por_programa_df[cols_to_fill] = filled"
   ]
  },
  {
   "cell_type": "markdown",
   "id": "d76fe8e5-b95c-415c-9d2e-08ef9a660548",
   "metadata": {},
   "source": [
    "## 9.7 Resultado"
   ]
  },
  {
   "cell_type": "code",
   "execution_count": 108,
   "id": "8f181aa1-ad65-43b3-8284-69629b18bcdc",
   "metadata": {
    "collapsed": true
   },
   "outputs": [
    {
     "data": {
      "text/html": [
       "<div>\n",
       "<style scoped>\n",
       "    .dataframe tbody tr th:only-of-type {\n",
       "        vertical-align: middle;\n",
       "    }\n",
       "\n",
       "    .dataframe tbody tr th {\n",
       "        vertical-align: top;\n",
       "    }\n",
       "\n",
       "    .dataframe thead th {\n",
       "        text-align: right;\n",
       "    }\n",
       "</style>\n",
       "<table border=\"1\" class=\"dataframe\">\n",
       "  <thead>\n",
       "    <tr style=\"text-align: right;\">\n",
       "      <th></th>\n",
       "      <th>COD_MEN</th>\n",
       "      <th>FACULTAD</th>\n",
       "      <th>NOMBRE_PROGRAMA</th>\n",
       "      <th>ACREDITADO</th>\n",
       "      <th>SEDE</th>\n",
       "      <th>COD_MAT</th>\n",
       "      <th>NUM_CREDITOS</th>\n",
       "      <th>INTRODUCCION</th>\n",
       "      <th>ES_ACREDITADO</th>\n",
       "      <th>ACRED_NACIONAL</th>\n",
       "      <th>ACRED_INTERNACIONAL</th>\n",
       "    </tr>\n",
       "  </thead>\n",
       "  <tbody>\n",
       "    <tr>\n",
       "      <th>0</th>\n",
       "      <td>20708</td>\n",
       "      <td>facultad de ciencias administrativas y contables</td>\n",
       "      <td>administracion de empresas</td>\n",
       "      <td>n.a.</td>\n",
       "      <td>tunja</td>\n",
       "      <td>11330</td>\n",
       "      <td>2</td>\n",
       "      <td>no</td>\n",
       "      <td>no</td>\n",
       "      <td>no</td>\n",
       "      <td>no</td>\n",
       "    </tr>\n",
       "    <tr>\n",
       "      <th>1</th>\n",
       "      <td>20708</td>\n",
       "      <td>facultad de ciencias administrativas y contables</td>\n",
       "      <td>administracion de empresas</td>\n",
       "      <td>n.a.</td>\n",
       "      <td>tunja</td>\n",
       "      <td>11329</td>\n",
       "      <td>2</td>\n",
       "      <td>no</td>\n",
       "      <td>no</td>\n",
       "      <td>no</td>\n",
       "      <td>no</td>\n",
       "    </tr>\n",
       "    <tr>\n",
       "      <th>2</th>\n",
       "      <td>20708</td>\n",
       "      <td>facultad de ciencias administrativas y contables</td>\n",
       "      <td>administracion de empresas</td>\n",
       "      <td>n.a.</td>\n",
       "      <td>tunja</td>\n",
       "      <td>11334</td>\n",
       "      <td>2</td>\n",
       "      <td>no</td>\n",
       "      <td>no</td>\n",
       "      <td>no</td>\n",
       "      <td>no</td>\n",
       "    </tr>\n",
       "    <tr>\n",
       "      <th>3</th>\n",
       "      <td>20708</td>\n",
       "      <td>facultad de ciencias administrativas y contables</td>\n",
       "      <td>administracion de empresas</td>\n",
       "      <td>n.a.</td>\n",
       "      <td>tunja</td>\n",
       "      <td>11335</td>\n",
       "      <td>3</td>\n",
       "      <td>no</td>\n",
       "      <td>no</td>\n",
       "      <td>no</td>\n",
       "      <td>no</td>\n",
       "    </tr>\n",
       "    <tr>\n",
       "      <th>4</th>\n",
       "      <td>20708</td>\n",
       "      <td>facultad de ciencias administrativas y contables</td>\n",
       "      <td>administracion de empresas</td>\n",
       "      <td>n.a.</td>\n",
       "      <td>tunja</td>\n",
       "      <td>11336</td>\n",
       "      <td>2</td>\n",
       "      <td>no</td>\n",
       "      <td>no</td>\n",
       "      <td>no</td>\n",
       "      <td>no</td>\n",
       "    </tr>\n",
       "  </tbody>\n",
       "</table>\n",
       "</div>"
      ],
      "text/plain": [
       "  COD_MEN                                          FACULTAD  \\\n",
       "0   20708  facultad de ciencias administrativas y contables   \n",
       "1   20708  facultad de ciencias administrativas y contables   \n",
       "2   20708  facultad de ciencias administrativas y contables   \n",
       "3   20708  facultad de ciencias administrativas y contables   \n",
       "4   20708  facultad de ciencias administrativas y contables   \n",
       "\n",
       "              NOMBRE_PROGRAMA ACREDITADO   SEDE COD_MAT  NUM_CREDITOS  \\\n",
       "0  administracion de empresas       n.a.  tunja   11330             2   \n",
       "1  administracion de empresas       n.a.  tunja   11329             2   \n",
       "2  administracion de empresas       n.a.  tunja   11334             2   \n",
       "3  administracion de empresas       n.a.  tunja   11335             3   \n",
       "4  administracion de empresas       n.a.  tunja   11336             2   \n",
       "\n",
       "  INTRODUCCION ES_ACREDITADO ACRED_NACIONAL ACRED_INTERNACIONAL  \n",
       "0           no            no             no                  no  \n",
       "1           no            no             no                  no  \n",
       "2           no            no             no                  no  \n",
       "3           no            no             no                  no  \n",
       "4           no            no             no                  no  "
      ]
     },
     "execution_count": 108,
     "metadata": {},
     "output_type": "execute_result"
    }
   ],
   "source": [
    "materias_por_programa_df.head()"
   ]
  },
  {
   "cell_type": "code",
   "execution_count": 109,
   "id": "84768c4d-8368-4dc5-8757-c638362b0da2",
   "metadata": {
    "collapsed": true
   },
   "outputs": [
    {
     "name": "stdout",
     "output_type": "stream",
     "text": [
      "<class 'pandas.core.frame.DataFrame'>\n",
      "RangeIndex: 1996 entries, 0 to 1995\n",
      "Data columns (total 11 columns):\n",
      " #   Column               Non-Null Count  Dtype \n",
      "---  ------               --------------  ----- \n",
      " 0   COD_MEN              1996 non-null   object\n",
      " 1   FACULTAD             1996 non-null   object\n",
      " 2   NOMBRE_PROGRAMA      1996 non-null   object\n",
      " 3   ACREDITADO           1996 non-null   object\n",
      " 4   SEDE                 1996 non-null   object\n",
      " 5   COD_MAT              1996 non-null   object\n",
      " 6   NUM_CREDITOS         1996 non-null   int64 \n",
      " 7   INTRODUCCION         1996 non-null   object\n",
      " 8   ES_ACREDITADO        1996 non-null   object\n",
      " 9   ACRED_NACIONAL       1996 non-null   object\n",
      " 10  ACRED_INTERNACIONAL  1996 non-null   object\n",
      "dtypes: int64(1), object(10)\n",
      "memory usage: 171.7+ KB\n"
     ]
    }
   ],
   "source": [
    "materias_por_programa_df.info()"
   ]
  },
  {
   "cell_type": "code",
   "execution_count": 110,
   "id": "01cf16f9-c9d9-4168-94c0-3066b2d91063",
   "metadata": {
    "collapsed": true
   },
   "outputs": [
    {
     "data": {
      "text/plain": [
       "COD_MEN                  25\n",
       "FACULTAD                  6\n",
       "NOMBRE_PROGRAMA          31\n",
       "ACREDITADO                3\n",
       "SEDE                      2\n",
       "COD_MAT                1875\n",
       "NUM_CREDITOS             16\n",
       "INTRODUCCION              2\n",
       "ES_ACREDITADO             2\n",
       "ACRED_NACIONAL            2\n",
       "ACRED_INTERNACIONAL       2\n",
       "dtype: int64"
      ]
     },
     "execution_count": 110,
     "metadata": {},
     "output_type": "execute_result"
    }
   ],
   "source": [
    "materias_por_programa_df.nunique()"
   ]
  },
  {
   "cell_type": "markdown",
   "id": "7c854465-5513-4f1c-bdd1-2b97abca1ffe",
   "metadata": {},
   "source": [
    "## 10. Tabla \"pre_correquisito\""
   ]
  },
  {
   "cell_type": "code",
   "execution_count": 111,
   "id": "1c1302e2-d4c0-4676-94ba-aff5243edbe8",
   "metadata": {
    "collapsed": true
   },
   "outputs": [
    {
     "data": {
      "text/html": [
       "<div>\n",
       "<style scoped>\n",
       "    .dataframe tbody tr th:only-of-type {\n",
       "        vertical-align: middle;\n",
       "    }\n",
       "\n",
       "    .dataframe tbody tr th {\n",
       "        vertical-align: top;\n",
       "    }\n",
       "\n",
       "    .dataframe thead th {\n",
       "        text-align: right;\n",
       "    }\n",
       "</style>\n",
       "<table border=\"1\" class=\"dataframe\">\n",
       "  <thead>\n",
       "    <tr style=\"text-align: right;\">\n",
       "      <th></th>\n",
       "      <th>COD_BASE</th>\n",
       "      <th>NOMBRE_MAT</th>\n",
       "      <th>COD_PRECO</th>\n",
       "      <th>NOMBRE_PRECORREQUISITO</th>\n",
       "      <th>TIPO_REQUISITO</th>\n",
       "    </tr>\n",
       "  </thead>\n",
       "  <tbody>\n",
       "    <tr>\n",
       "      <th>0</th>\n",
       "      <td>11304</td>\n",
       "      <td>PLANEACIÓN Y CONTROL</td>\n",
       "      <td>11313</td>\n",
       "      <td>ADMINISTRACIÓN BÁSICA</td>\n",
       "      <td>PRERREQUISITO</td>\n",
       "    </tr>\n",
       "    <tr>\n",
       "      <th>1</th>\n",
       "      <td>11308</td>\n",
       "      <td>CÁLCULO DIFERENCIAL</td>\n",
       "      <td>11301</td>\n",
       "      <td>MATEMÁTICA BÁSICA</td>\n",
       "      <td>PRERREQUISITO</td>\n",
       "    </tr>\n",
       "    <tr>\n",
       "      <th>2</th>\n",
       "      <td>11309</td>\n",
       "      <td>CONTABILIDAD COMERCIAL</td>\n",
       "      <td>11311</td>\n",
       "      <td>CONTABILIDAD BÁSICA</td>\n",
       "      <td>PRERREQUISITO</td>\n",
       "    </tr>\n",
       "    <tr>\n",
       "      <th>3</th>\n",
       "      <td>11314</td>\n",
       "      <td>CREACIÓN DE EMPRESAS</td>\n",
       "      <td>11313</td>\n",
       "      <td>ADMINISTRACIÓN BÁSICA</td>\n",
       "      <td>PRERREQUISITO</td>\n",
       "    </tr>\n",
       "    <tr>\n",
       "      <th>4</th>\n",
       "      <td>11316</td>\n",
       "      <td>MACROECONOMÍA</td>\n",
       "      <td>11310</td>\n",
       "      <td>MICROECONOMÍA</td>\n",
       "      <td>PRERREQUISITO</td>\n",
       "    </tr>\n",
       "  </tbody>\n",
       "</table>\n",
       "</div>"
      ],
      "text/plain": [
       "   COD_BASE              NOMBRE_MAT  COD_PRECO NOMBRE_PRECORREQUISITO  \\\n",
       "0     11304    PLANEACIÓN Y CONTROL      11313  ADMINISTRACIÓN BÁSICA   \n",
       "1     11308     CÁLCULO DIFERENCIAL      11301      MATEMÁTICA BÁSICA   \n",
       "2     11309  CONTABILIDAD COMERCIAL      11311    CONTABILIDAD BÁSICA   \n",
       "3     11314    CREACIÓN DE EMPRESAS      11313  ADMINISTRACIÓN BÁSICA   \n",
       "4     11316           MACROECONOMÍA      11310          MICROECONOMÍA   \n",
       "\n",
       "  TIPO_REQUISITO  \n",
       "0  PRERREQUISITO  \n",
       "1  PRERREQUISITO  \n",
       "2  PRERREQUISITO  \n",
       "3  PRERREQUISITO  \n",
       "4  PRERREQUISITO  "
      ]
     },
     "execution_count": 111,
     "metadata": {},
     "output_type": "execute_result"
    }
   ],
   "source": [
    "pre_correquisito_df.head()"
   ]
  },
  {
   "cell_type": "code",
   "execution_count": 112,
   "id": "31eb8706-2488-417e-8167-4f7d5de6b70d",
   "metadata": {
    "collapsed": true
   },
   "outputs": [
    {
     "name": "stdout",
     "output_type": "stream",
     "text": [
      "<class 'pandas.core.frame.DataFrame'>\n",
      "RangeIndex: 2709 entries, 0 to 2708\n",
      "Data columns (total 5 columns):\n",
      " #   Column                  Non-Null Count  Dtype \n",
      "---  ------                  --------------  ----- \n",
      " 0   COD_BASE                2709 non-null   int64 \n",
      " 1   NOMBRE_MAT              2709 non-null   object\n",
      " 2   COD_PRECO               2709 non-null   int64 \n",
      " 3   NOMBRE_PRECORREQUISITO  2709 non-null   object\n",
      " 4   TIPO_REQUISITO          2709 non-null   object\n",
      "dtypes: int64(2), object(3)\n",
      "memory usage: 105.9+ KB\n"
     ]
    }
   ],
   "source": [
    "pre_correquisito_df.info()"
   ]
  },
  {
   "cell_type": "code",
   "execution_count": 113,
   "id": "29bc1ddf-d3cb-4e4c-80d3-ceaf79278f72",
   "metadata": {
    "collapsed": true
   },
   "outputs": [
    {
     "data": {
      "text/plain": [
       "COD_BASE                   819\n",
       "NOMBRE_MAT                 433\n",
       "COD_PRECO                 1526\n",
       "NOMBRE_PRECORREQUISITO     703\n",
       "TIPO_REQUISITO               2\n",
       "dtype: int64"
      ]
     },
     "execution_count": 113,
     "metadata": {},
     "output_type": "execute_result"
    }
   ],
   "source": [
    "pre_correquisito_df.nunique()"
   ]
  },
  {
   "cell_type": "markdown",
   "id": "e70ec5f4-c8fd-4a1a-9963-5a7da0f7e01f",
   "metadata": {},
   "source": [
    "> * No hay valores faltantes\n",
    "> * convertir variables \"COD\" categoricas a strings\n",
    "> * Normalizar texto"
   ]
  },
  {
   "cell_type": "markdown",
   "id": "63248549-0503-4b34-bfae-3db8ca311415",
   "metadata": {},
   "source": [
    "## 10.1 Llenar valores faltantes"
   ]
  },
  {
   "cell_type": "markdown",
   "id": "63e544aa",
   "metadata": {},
   "source": [
    "> No hay valores faltantes"
   ]
  },
  {
   "cell_type": "markdown",
   "id": "e9f43821-2e7f-42dc-bdaf-79c2a7ba7dad",
   "metadata": {},
   "source": [
    "## 10.2 Corregir tipo de datos"
   ]
  },
  {
   "cell_type": "code",
   "execution_count": 114,
   "id": "a4ed1cf3-ab22-4fd0-9d5a-ec0bc139650f",
   "metadata": {
    "collapsed": true
   },
   "outputs": [],
   "source": [
    "to_str_cols = ['COD_BASE', 'COD_PRECO']\n",
    "pre_correquisito_df[to_str_cols] = pre_correquisito_df[to_str_cols].astype(str)\n",
    "\n",
    "# to_int_cols = []\n",
    "# pre_correquisito_df[to_int_cols] = pre_correquisito_df[to_int_cols].astype(int)\n",
    "\n",
    "# to_float_cols = []\n",
    "# pre_correquisito_df[to_float_cols] = pre_correquisito_df[to_float_cols].astype(float)"
   ]
  },
  {
   "cell_type": "markdown",
   "id": "1aa64132-1b06-4d69-8a57-5ba13842d75b",
   "metadata": {},
   "source": [
    "## 10.3 Normalizar Texto"
   ]
  },
  {
   "cell_type": "code",
   "execution_count": 115,
   "id": "82a8aa5d-7f0d-4396-9bec-4e88173d0308",
   "metadata": {
    "collapsed": true
   },
   "outputs": [],
   "source": [
    "cols = ['NOMBRE_MAT',\t'NOMBRE_PRECORREQUISITO', 'TIPO_REQUISITO']\n",
    "pre_correquisito_df[cols] = pre_correquisito_df[cols].apply(normalize_text, axis=0)"
   ]
  },
  {
   "cell_type": "markdown",
   "id": "b95c0cc5-57a0-4450-842a-eeb1353e534b",
   "metadata": {},
   "source": [
    "## 10.4 Revisar llaves primarias de categorias"
   ]
  },
  {
   "cell_type": "markdown",
   "id": "32c70fe3",
   "metadata": {},
   "source": [
    "> Revisar \"COD_BASE\""
   ]
  },
  {
   "cell_type": "markdown",
   "id": "1924f7fe-f90b-42a3-816e-4a6e12179184",
   "metadata": {},
   "source": [
    "## 10.5 Expandir datos"
   ]
  },
  {
   "cell_type": "markdown",
   "id": "04978723",
   "metadata": {},
   "source": [
    "> No hay datos a expandir"
   ]
  },
  {
   "cell_type": "markdown",
   "id": "e2966f5d-33e5-4024-b220-049a74a403a4",
   "metadata": {},
   "source": [
    "## 10.6 Consistencia en los datos"
   ]
  },
  {
   "cell_type": "code",
   "execution_count": 116,
   "id": "9928e8c4-9c18-4b43-a7e5-7ee187a5c5d3",
   "metadata": {
    "collapsed": true
   },
   "outputs": [],
   "source": [
    "# cols_to_fill = ['COD_BASE', 'COD_PRECO']\n",
    "# filled = pre_correquisito_df[cols_to_fill].apply(fill_digits, index=0)\n",
    "# pre_correquisito_df[cols_to_fill] = filled"
   ]
  },
  {
   "cell_type": "markdown",
   "id": "2405212b-db49-4739-b686-12c29ffe6aee",
   "metadata": {},
   "source": [
    "## 10.7 Resultado"
   ]
  },
  {
   "cell_type": "code",
   "execution_count": 117,
   "id": "4be846a5-65df-42b8-ab3b-089de8676c39",
   "metadata": {
    "collapsed": true
   },
   "outputs": [
    {
     "data": {
      "text/html": [
       "<div>\n",
       "<style scoped>\n",
       "    .dataframe tbody tr th:only-of-type {\n",
       "        vertical-align: middle;\n",
       "    }\n",
       "\n",
       "    .dataframe tbody tr th {\n",
       "        vertical-align: top;\n",
       "    }\n",
       "\n",
       "    .dataframe thead th {\n",
       "        text-align: right;\n",
       "    }\n",
       "</style>\n",
       "<table border=\"1\" class=\"dataframe\">\n",
       "  <thead>\n",
       "    <tr style=\"text-align: right;\">\n",
       "      <th></th>\n",
       "      <th>COD_BASE</th>\n",
       "      <th>NOMBRE_MAT</th>\n",
       "      <th>COD_PRECO</th>\n",
       "      <th>NOMBRE_PRECORREQUISITO</th>\n",
       "      <th>TIPO_REQUISITO</th>\n",
       "    </tr>\n",
       "  </thead>\n",
       "  <tbody>\n",
       "    <tr>\n",
       "      <th>0</th>\n",
       "      <td>11304</td>\n",
       "      <td>planeacion y control</td>\n",
       "      <td>11313</td>\n",
       "      <td>administracion basica</td>\n",
       "      <td>prerrequisito</td>\n",
       "    </tr>\n",
       "    <tr>\n",
       "      <th>1</th>\n",
       "      <td>11308</td>\n",
       "      <td>calculo diferencial</td>\n",
       "      <td>11301</td>\n",
       "      <td>matematica basica</td>\n",
       "      <td>prerrequisito</td>\n",
       "    </tr>\n",
       "    <tr>\n",
       "      <th>2</th>\n",
       "      <td>11309</td>\n",
       "      <td>contabilidad comercial</td>\n",
       "      <td>11311</td>\n",
       "      <td>contabilidad basica</td>\n",
       "      <td>prerrequisito</td>\n",
       "    </tr>\n",
       "    <tr>\n",
       "      <th>3</th>\n",
       "      <td>11314</td>\n",
       "      <td>creacion de empresas</td>\n",
       "      <td>11313</td>\n",
       "      <td>administracion basica</td>\n",
       "      <td>prerrequisito</td>\n",
       "    </tr>\n",
       "    <tr>\n",
       "      <th>4</th>\n",
       "      <td>11316</td>\n",
       "      <td>macroeconomia</td>\n",
       "      <td>11310</td>\n",
       "      <td>microeconomia</td>\n",
       "      <td>prerrequisito</td>\n",
       "    </tr>\n",
       "  </tbody>\n",
       "</table>\n",
       "</div>"
      ],
      "text/plain": [
       "  COD_BASE              NOMBRE_MAT COD_PRECO NOMBRE_PRECORREQUISITO  \\\n",
       "0    11304    planeacion y control     11313  administracion basica   \n",
       "1    11308     calculo diferencial     11301      matematica basica   \n",
       "2    11309  contabilidad comercial     11311    contabilidad basica   \n",
       "3    11314    creacion de empresas     11313  administracion basica   \n",
       "4    11316           macroeconomia     11310          microeconomia   \n",
       "\n",
       "  TIPO_REQUISITO  \n",
       "0  prerrequisito  \n",
       "1  prerrequisito  \n",
       "2  prerrequisito  \n",
       "3  prerrequisito  \n",
       "4  prerrequisito  "
      ]
     },
     "execution_count": 117,
     "metadata": {},
     "output_type": "execute_result"
    }
   ],
   "source": [
    "pre_correquisito_df.head()"
   ]
  },
  {
   "cell_type": "code",
   "execution_count": 118,
   "id": "951d82e7-5863-4723-afd0-126c2ba46f37",
   "metadata": {
    "collapsed": true
   },
   "outputs": [
    {
     "name": "stdout",
     "output_type": "stream",
     "text": [
      "<class 'pandas.core.frame.DataFrame'>\n",
      "RangeIndex: 2709 entries, 0 to 2708\n",
      "Data columns (total 5 columns):\n",
      " #   Column                  Non-Null Count  Dtype \n",
      "---  ------                  --------------  ----- \n",
      " 0   COD_BASE                2709 non-null   object\n",
      " 1   NOMBRE_MAT              2709 non-null   object\n",
      " 2   COD_PRECO               2709 non-null   object\n",
      " 3   NOMBRE_PRECORREQUISITO  2709 non-null   object\n",
      " 4   TIPO_REQUISITO          2709 non-null   object\n",
      "dtypes: object(5)\n",
      "memory usage: 105.9+ KB\n"
     ]
    }
   ],
   "source": [
    "pre_correquisito_df.info()"
   ]
  },
  {
   "cell_type": "code",
   "execution_count": 119,
   "id": "b9a3d14f-61f6-4a56-9b80-991b5b1034c8",
   "metadata": {
    "collapsed": true
   },
   "outputs": [
    {
     "data": {
      "text/plain": [
       "COD_BASE                   819\n",
       "NOMBRE_MAT                 432\n",
       "COD_PRECO                 1526\n",
       "NOMBRE_PRECORREQUISITO     699\n",
       "TIPO_REQUISITO               2\n",
       "dtype: int64"
      ]
     },
     "execution_count": 119,
     "metadata": {},
     "output_type": "execute_result"
    }
   ],
   "source": [
    "pre_correquisito_df.nunique()"
   ]
  },
  {
   "cell_type": "markdown",
   "id": "10cf6e0f-2997-4da6-a1a1-c0c5bcda89e7",
   "metadata": {},
   "source": [
    "## 11. Tabla \"reingreso_aplazamiento\""
   ]
  },
  {
   "cell_type": "code",
   "execution_count": 120,
   "id": "a19c6af8-6648-4bd9-a34c-6f5f783c167e",
   "metadata": {
    "collapsed": true
   },
   "outputs": [
    {
     "data": {
      "text/html": [
       "<div>\n",
       "<style scoped>\n",
       "    .dataframe tbody tr th:only-of-type {\n",
       "        vertical-align: middle;\n",
       "    }\n",
       "\n",
       "    .dataframe tbody tr th {\n",
       "        vertical-align: top;\n",
       "    }\n",
       "\n",
       "    .dataframe thead th {\n",
       "        text-align: right;\n",
       "    }\n",
       "</style>\n",
       "<table border=\"1\" class=\"dataframe\">\n",
       "  <thead>\n",
       "    <tr style=\"text-align: right;\">\n",
       "      <th></th>\n",
       "      <th>CODIGO</th>\n",
       "      <th>FECHA_SOLICITUD</th>\n",
       "      <th>TIPO</th>\n",
       "    </tr>\n",
       "  </thead>\n",
       "  <tbody>\n",
       "    <tr>\n",
       "      <th>0</th>\n",
       "      <td>55110503</td>\n",
       "      <td>2012-01-10</td>\n",
       "      <td>REINGRESO</td>\n",
       "    </tr>\n",
       "    <tr>\n",
       "      <th>1</th>\n",
       "      <td>55510048</td>\n",
       "      <td>2012-01-10</td>\n",
       "      <td>REINGRESO</td>\n",
       "    </tr>\n",
       "    <tr>\n",
       "      <th>2</th>\n",
       "      <td>55510535</td>\n",
       "      <td>2012-01-10</td>\n",
       "      <td>REINGRESO</td>\n",
       "    </tr>\n",
       "    <tr>\n",
       "      <th>3</th>\n",
       "      <td>55511017</td>\n",
       "      <td>2012-01-10</td>\n",
       "      <td>REINGRESO</td>\n",
       "    </tr>\n",
       "    <tr>\n",
       "      <th>4</th>\n",
       "      <td>55511018</td>\n",
       "      <td>2012-01-10</td>\n",
       "      <td>REINGRESO</td>\n",
       "    </tr>\n",
       "  </tbody>\n",
       "</table>\n",
       "</div>"
      ],
      "text/plain": [
       "     CODIGO FECHA_SOLICITUD       TIPO\n",
       "0  55110503      2012-01-10  REINGRESO\n",
       "1  55510048      2012-01-10  REINGRESO\n",
       "2  55510535      2012-01-10  REINGRESO\n",
       "3  55511017      2012-01-10  REINGRESO\n",
       "4  55511018      2012-01-10  REINGRESO"
      ]
     },
     "execution_count": 120,
     "metadata": {},
     "output_type": "execute_result"
    }
   ],
   "source": [
    "reingreso_aplazamiento_df.head()"
   ]
  },
  {
   "cell_type": "code",
   "execution_count": 121,
   "id": "9f83ca4c-2fbb-4208-b3c2-56cff025ad0e",
   "metadata": {
    "collapsed": true
   },
   "outputs": [
    {
     "name": "stdout",
     "output_type": "stream",
     "text": [
      "<class 'pandas.core.frame.DataFrame'>\n",
      "RangeIndex: 6701 entries, 0 to 6700\n",
      "Data columns (total 3 columns):\n",
      " #   Column           Non-Null Count  Dtype         \n",
      "---  ------           --------------  -----         \n",
      " 0   CODIGO           6701 non-null   int64         \n",
      " 1   FECHA_SOLICITUD  6701 non-null   datetime64[ns]\n",
      " 2   TIPO             6701 non-null   object        \n",
      "dtypes: datetime64[ns](1), int64(1), object(1)\n",
      "memory usage: 157.2+ KB\n"
     ]
    }
   ],
   "source": [
    "reingreso_aplazamiento_df.info()"
   ]
  },
  {
   "cell_type": "code",
   "execution_count": 122,
   "id": "c6195afc-37dc-45a6-8f85-afffd57b37d5",
   "metadata": {
    "collapsed": true
   },
   "outputs": [
    {
     "data": {
      "text/plain": [
       "CODIGO             3891\n",
       "FECHA_SOLICITUD    1606\n",
       "TIPO                  2\n",
       "dtype: int64"
      ]
     },
     "execution_count": 122,
     "metadata": {},
     "output_type": "execute_result"
    }
   ],
   "source": [
    "reingreso_aplazamiento_df.nunique()"
   ]
  },
  {
   "cell_type": "markdown",
   "id": "733a0de5-0830-4ef1-b349-4aa0e35dfbb6",
   "metadata": {},
   "source": [
    "> * "
   ]
  },
  {
   "cell_type": "markdown",
   "id": "ffc179a2-fbc4-40cb-89c0-8043ff6e4075",
   "metadata": {},
   "source": [
    "## 11.1 Llenar valores faltantes"
   ]
  },
  {
   "cell_type": "markdown",
   "id": "4edfd0e9",
   "metadata": {},
   "source": [
    "> No hay valores Faltantes"
   ]
  },
  {
   "cell_type": "markdown",
   "id": "4ffbcc73-18c8-49be-a8cb-e6ab36c3b672",
   "metadata": {},
   "source": [
    "## 11.2 Corregir tipo de datos"
   ]
  },
  {
   "cell_type": "code",
   "execution_count": 123,
   "id": "85570d3d-e9dc-4d71-8652-b9a4a4383a3e",
   "metadata": {
    "collapsed": true
   },
   "outputs": [],
   "source": [
    "reingreso_aplazamiento_df['CODIGO'] = reingreso_aplazamiento_df['CODIGO'].astype(str)\n",
    "\n",
    "# to_int_cols = []\n",
    "# reingreso_aplazamiento_df[to_int_cols] = reingreso_aplazamiento_df[to_int_cols].astype(int)\n",
    "\n",
    "# to_float_cols = []\n",
    "# reingreso_aplazamiento_df[to_float_cols] = reingreso_aplazamiento_df[to_float_cols].astype(float)"
   ]
  },
  {
   "cell_type": "markdown",
   "id": "b4e78a9d-4497-4ab4-aa73-b9ad4d3ddd21",
   "metadata": {},
   "source": [
    "## 11.3 Normalizar Texto"
   ]
  },
  {
   "cell_type": "code",
   "execution_count": 124,
   "id": "fe04deb0-30ff-4650-bbc9-aa9e036e0fd1",
   "metadata": {
    "collapsed": true
   },
   "outputs": [],
   "source": [
    "reingreso_aplazamiento_df.TIPO = normalize_text(reingreso_aplazamiento_df.TIPO)"
   ]
  },
  {
   "cell_type": "markdown",
   "id": "36cf5119-9d76-46f5-9b3c-36dd7f034c4f",
   "metadata": {},
   "source": [
    "### 11.4 Revisar llaves primarias de categorias"
   ]
  },
  {
   "cell_type": "markdown",
   "id": "0800d349",
   "metadata": {},
   "source": [
    "> No hay relaciones de este tipo"
   ]
  },
  {
   "cell_type": "markdown",
   "id": "1c72da0d-20ff-47dd-9785-a35bec565564",
   "metadata": {},
   "source": [
    "## 11.5 Expandir datos"
   ]
  },
  {
   "cell_type": "markdown",
   "id": "9864cb74",
   "metadata": {},
   "source": [
    "> NO hay que expandir"
   ]
  },
  {
   "cell_type": "markdown",
   "id": "22022335-a20c-44ec-9c9e-e9e741c85a79",
   "metadata": {},
   "source": [
    "## 11.6 Consistencia en los datos"
   ]
  },
  {
   "cell_type": "code",
   "execution_count": 125,
   "id": "6ef7cba0-c16b-4f3e-81e7-a5cebb6cae60",
   "metadata": {
    "collapsed": true
   },
   "outputs": [],
   "source": [
    "# reingreso_aplazamiento_df['CODIGO'] = fill_digits(reingreso_aplazamiento_df['CODIGO'] )"
   ]
  },
  {
   "cell_type": "markdown",
   "id": "350f42b7-307e-4b5f-84a6-1f77c1c691cc",
   "metadata": {},
   "source": [
    "## 11.7 Resultado"
   ]
  },
  {
   "cell_type": "code",
   "execution_count": 126,
   "id": "7e53263c-ed94-4856-853b-4fc00b5d2139",
   "metadata": {
    "collapsed": true
   },
   "outputs": [
    {
     "data": {
      "text/html": [
       "<div>\n",
       "<style scoped>\n",
       "    .dataframe tbody tr th:only-of-type {\n",
       "        vertical-align: middle;\n",
       "    }\n",
       "\n",
       "    .dataframe tbody tr th {\n",
       "        vertical-align: top;\n",
       "    }\n",
       "\n",
       "    .dataframe thead th {\n",
       "        text-align: right;\n",
       "    }\n",
       "</style>\n",
       "<table border=\"1\" class=\"dataframe\">\n",
       "  <thead>\n",
       "    <tr style=\"text-align: right;\">\n",
       "      <th></th>\n",
       "      <th>CODIGO</th>\n",
       "      <th>FECHA_SOLICITUD</th>\n",
       "      <th>TIPO</th>\n",
       "    </tr>\n",
       "  </thead>\n",
       "  <tbody>\n",
       "    <tr>\n",
       "      <th>0</th>\n",
       "      <td>55110503</td>\n",
       "      <td>2012-01-10</td>\n",
       "      <td>reingreso</td>\n",
       "    </tr>\n",
       "    <tr>\n",
       "      <th>1</th>\n",
       "      <td>55510048</td>\n",
       "      <td>2012-01-10</td>\n",
       "      <td>reingreso</td>\n",
       "    </tr>\n",
       "    <tr>\n",
       "      <th>2</th>\n",
       "      <td>55510535</td>\n",
       "      <td>2012-01-10</td>\n",
       "      <td>reingreso</td>\n",
       "    </tr>\n",
       "    <tr>\n",
       "      <th>3</th>\n",
       "      <td>55511017</td>\n",
       "      <td>2012-01-10</td>\n",
       "      <td>reingreso</td>\n",
       "    </tr>\n",
       "    <tr>\n",
       "      <th>4</th>\n",
       "      <td>55511018</td>\n",
       "      <td>2012-01-10</td>\n",
       "      <td>reingreso</td>\n",
       "    </tr>\n",
       "  </tbody>\n",
       "</table>\n",
       "</div>"
      ],
      "text/plain": [
       "     CODIGO FECHA_SOLICITUD       TIPO\n",
       "0  55110503      2012-01-10  reingreso\n",
       "1  55510048      2012-01-10  reingreso\n",
       "2  55510535      2012-01-10  reingreso\n",
       "3  55511017      2012-01-10  reingreso\n",
       "4  55511018      2012-01-10  reingreso"
      ]
     },
     "execution_count": 126,
     "metadata": {},
     "output_type": "execute_result"
    }
   ],
   "source": [
    "reingreso_aplazamiento_df.head()"
   ]
  },
  {
   "cell_type": "code",
   "execution_count": 127,
   "id": "e410f262-3546-446c-b260-024edac5d135",
   "metadata": {
    "collapsed": true
   },
   "outputs": [
    {
     "name": "stdout",
     "output_type": "stream",
     "text": [
      "<class 'pandas.core.frame.DataFrame'>\n",
      "RangeIndex: 6701 entries, 0 to 6700\n",
      "Data columns (total 3 columns):\n",
      " #   Column           Non-Null Count  Dtype         \n",
      "---  ------           --------------  -----         \n",
      " 0   CODIGO           6701 non-null   object        \n",
      " 1   FECHA_SOLICITUD  6701 non-null   datetime64[ns]\n",
      " 2   TIPO             6701 non-null   object        \n",
      "dtypes: datetime64[ns](1), object(2)\n",
      "memory usage: 157.2+ KB\n"
     ]
    }
   ],
   "source": [
    "reingreso_aplazamiento_df.info()"
   ]
  },
  {
   "cell_type": "code",
   "execution_count": 128,
   "id": "ebfae4e3-f0a5-4dad-b07d-5feadc860408",
   "metadata": {
    "collapsed": true
   },
   "outputs": [
    {
     "data": {
      "text/plain": [
       "CODIGO             3891\n",
       "FECHA_SOLICITUD    1606\n",
       "TIPO                  2\n",
       "dtype: int64"
      ]
     },
     "execution_count": 128,
     "metadata": {},
     "output_type": "execute_result"
    }
   ],
   "source": [
    "reingreso_aplazamiento_df.nunique()"
   ]
  },
  {
   "cell_type": "markdown",
   "id": "b8ac97ea",
   "metadata": {},
   "source": [
    "# Conclusiones"
   ]
  },
  {
   "cell_type": "markdown",
   "id": "c7eca808",
   "metadata": {},
   "source": [
    "1. A las tablas originales no les faltan muchos datos y fueron facilmente reemplazados.\n",
    "> * la mayoria de datos faltantes correspondian a ceros en creditos de materias inscirtas o aprobadas, para los casos que un estudiante no tenia materias inscritas en un semestre.\n",
    "> * El unico caso que se tuvo que llenar arbitrariamente fue con la edad de estudiantes. Como solo faltaban dos datos (no es importante), se reemplazaron estos dos calores con la moda.\n",
    "2. Se convieritio el tipo de dato a string, para todas las variables categoricas representadas por numeros. (CODIGOS de maestro, materia, estudiante, etc)\n",
    "4. Se corrigieron los codigos que funcionaban como llaves primarias para variables categoricas.\n",
    "> * Por ejemplo se hizo para el caso de Factores de evaluacion docente, los cuales en algunos casos tenian dos codigos para el mismo factor.\n",
    "3. Se expandio las columnas de periodo en año, semestre y fecha (en caso de que pueda facilitar analisis futuros)\n",
    "4. El proceso de limpieza extraido de este analisis se consolida de manera automatizad en el script **\"src/data/clean_data.py\"**\n",
    "\n",
    "5. **Pendiente: unificar una nueva columna de materias (por nombre unico y no por codigo)**"
   ]
  },
  {
   "cell_type": "code",
   "execution_count": null,
   "id": "b20a9331",
   "metadata": {},
   "outputs": [],
   "source": []
  }
 ],
 "metadata": {
  "interpreter": {
   "hash": "d8b8044b3f60dbc589767deccfec2ff1ed5225ebd8bc91aed3a6ab549515ddca"
  },
  "kernelspec": {
   "display_name": "Python 3 (ipykernel)",
   "language": "python",
   "name": "python3"
  },
  "language_info": {
   "codemirror_mode": {
    "name": "ipython",
    "version": 3
   },
   "file_extension": ".py",
   "mimetype": "text/x-python",
   "name": "python",
   "nbconvert_exporter": "python",
   "pygments_lexer": "ipython3",
   "version": "3.9.1"
  }
 },
 "nbformat": 4,
 "nbformat_minor": 5
}
