{
 "cells": [
  {
   "cell_type": "markdown",
   "id": "9feb9801",
   "metadata": {},
   "source": [
    "# Defining a final DataSet\n",
    "\n",
    "## Goal:\n",
    "Recreate the final_dataset.ipynb\n",
    "\n",
    "## Context:\n",
    "Recreate the final_dataset, but each student will be considered as n-students where n is the number of semesters coursed. As an example, consider the student with ID 42. This student has been in the university for six semesters.\n",
    "We will consider student 42 as six students: Student 42 from 1st semester, student 42 from 2nd semester, student 42 from 3rd semester, ... and student 42 from 6th semester.\n",
    "\n",
    "This will allow the model to capture the behaviour of both dropout and non-dropout students in the early stages of their academic lives.\n",
    " "
   ]
  },
  {
   "cell_type": "markdown",
   "id": "033e0019",
   "metadata": {},
   "source": [
    "### Academic background\n",
    "- **colegio**\n",
    "- **puntaje icfes**\n",
    "- **edad ingreso**\n",
    "- **icfes puntaje especifico**\n",
    "- **especialidad colegio icfes**\n",
    "- **carrera matriculada**\n",
    "- **Facultad**\n",
    "- **genero**\n",
    "\n",
    "### Academic performance\n",
    "- **semestres cursados a la fecha** DONE\n",
    "- **promedio academico a la fecha** DONE\n",
    "- **promedio ultimo semestre**\n",
    "- **Materias perdidas** DONE\n",
    "- **Creditos cursados** DONE\n",
    "\n",
    "All the features regarding academic performance will be affected by this approach!"
   ]
  },
  {
   "cell_type": "code",
   "execution_count": 1,
   "id": "ac634ce6",
   "metadata": {},
   "outputs": [],
   "source": [
    "#Import libraries\n",
    "import pandas as pd\n",
    "import numpy as np\n",
    "import matplotlib.pyplot as plt\n",
    "import seaborn as sns\n",
    "import matplotlib.ticker as mtick\n",
    "from datetime import datetime\n",
    "import math\n",
    "pd.set_option(\"display.max_columns\", None)"
   ]
  },
  {
   "cell_type": "markdown",
   "id": "ef938bdc",
   "metadata": {},
   "source": [
    "We will start from two known files:\n",
    "1. complete_student_performance\n",
    "2. gpas_raw\n",
    "\n",
    "These two files were originated from the final_dataset notebook. The first one has info for every subject that each student has coursed. The second one contains the GPAs for all students for each semester in a tidy format."
   ]
  },
  {
   "cell_type": "code",
   "execution_count": 2,
   "id": "79cb9e7c",
   "metadata": {},
   "outputs": [],
   "source": [
    "# Select the files\n",
    "complete_student_performance_file = '../../data/processed/complete_student_performance.csv'\n",
    "gpas_raw = '../../data/processed/gpas_raw.csv'\n",
    "\n",
    "gpas_raw_df = pd.read_csv(gpas_raw, index_col=0).reset_index()\n",
    "student_performance = pd.read_csv(complete_student_performance_file, index_col=0)"
   ]
  },
  {
   "cell_type": "markdown",
   "id": "daa629fb",
   "metadata": {},
   "source": [
    "The following function is already known from other notebooks and helps convert columns data types.\n",
    "\n",
    "We will use this function to adjust the columns data types for the student_performance DataFrame:"
   ]
  },
  {
   "cell_type": "code",
   "execution_count": 3,
   "id": "5bf6f2e0",
   "metadata": {},
   "outputs": [],
   "source": [
    "def change_type(df, cols, as_type):\n",
    "    ''' \n",
    "    Takes a DataFrame and a list of columns and transform those columns to the selected format.\n",
    "              \n",
    "        Parameters\n",
    "        ----------\n",
    "        df: pandas.core.frame.DataFrame\n",
    "            A pandas DataFrame where the columns will be converted into the desired format.\n",
    "            \n",
    "        cols: list\n",
    "            A list with the name of the columns that will be converted into the desired format.\n",
    "            \n",
    "        as_type: {'str', 'float', 'int'}\n",
    "            A list with the name of the columns that will be converted into the desired format.\n",
    "            \n",
    "        Returns\n",
    "        -------\n",
    "        dataframe: pandas.core.frame.DataFrame\n",
    "            A DataFrame with the selected columsn converted into the desired format.\n",
    "    ''' \n",
    "    if (as_type == 'str') or (as_type == 'int'):\n",
    "        for col in cols:\n",
    "            try:\n",
    "                df[col] = df[col].astype(as_type)\n",
    "            except: pass\n",
    "        return df\n",
    "    else:\n",
    "        for col in cols:\n",
    "            try:\n",
    "                df[col] = df[col].str.replace(',','.')\n",
    "                df[col] = df[col].astype('float64')\n",
    "            except: pass\n",
    "        return df"
   ]
  },
  {
   "cell_type": "code",
   "execution_count": 4,
   "id": "3c8db18f",
   "metadata": {},
   "outputs": [],
   "source": [
    "cat_cols = ['PERIODO_COHORTE', 'PERIODO_ACADEMICO', 'CODIGO', 'COD_MAT']\n",
    "num_cols = ['NOTA_DEF']\n",
    "\n",
    "student_performance = change_type(student_performance, cat_cols, 'str')\n",
    "student_performance = change_type(student_performance, num_cols, 'float')\n"
   ]
  },
  {
   "cell_type": "markdown",
   "id": "ab5d8cd7",
   "metadata": {},
   "source": [
    "Let's create a new column boolean for the student_performance DataFrame that indicates whether a subject was or was not failed. Then, we can group that DataFrame by student's ID and period, adding the values of the new column:"
   ]
  },
  {
   "cell_type": "code",
   "execution_count": 39,
   "id": "146a0c44",
   "metadata": {},
   "outputs": [],
   "source": [
    "student_performance['failed_flag'] = [True if i < 3 else False for i in student_performance['NOTA_DEF']]\n",
    "failed_subjects_df = student_performance.groupby(['CODIGO','PERIODO_ACADEMICO'])[['failed_flag']].sum().reset_index()"
   ]
  },
  {
   "cell_type": "markdown",
   "id": "418bab3c",
   "metadata": {},
   "source": [
    "Let's now create a copy of the same dataset but now the failed_flag column will be cumulative for each student:"
   ]
  },
  {
   "cell_type": "code",
   "execution_count": 40,
   "id": "cd253dc1",
   "metadata": {},
   "outputs": [
    {
     "data": {
      "text/html": [
       "<div>\n",
       "<style scoped>\n",
       "    .dataframe tbody tr th:only-of-type {\n",
       "        vertical-align: middle;\n",
       "    }\n",
       "\n",
       "    .dataframe tbody tr th {\n",
       "        vertical-align: top;\n",
       "    }\n",
       "\n",
       "    .dataframe thead th {\n",
       "        text-align: right;\n",
       "    }\n",
       "</style>\n",
       "<table border=\"1\" class=\"dataframe\">\n",
       "  <thead>\n",
       "    <tr style=\"text-align: right;\">\n",
       "      <th></th>\n",
       "      <th>CODIGO</th>\n",
       "      <th>PERIODO_ACADEMICO</th>\n",
       "      <th>failed_flag</th>\n",
       "      <th>cumulative_failed</th>\n",
       "    </tr>\n",
       "  </thead>\n",
       "  <tbody>\n",
       "    <tr>\n",
       "      <th>0</th>\n",
       "      <td>11312001</td>\n",
       "      <td>201210</td>\n",
       "      <td>0.0</td>\n",
       "      <td>0.0</td>\n",
       "    </tr>\n",
       "    <tr>\n",
       "      <th>1</th>\n",
       "      <td>11312001</td>\n",
       "      <td>201220</td>\n",
       "      <td>0.0</td>\n",
       "      <td>0.0</td>\n",
       "    </tr>\n",
       "    <tr>\n",
       "      <th>2</th>\n",
       "      <td>11312001</td>\n",
       "      <td>201310</td>\n",
       "      <td>0.0</td>\n",
       "      <td>0.0</td>\n",
       "    </tr>\n",
       "    <tr>\n",
       "      <th>3</th>\n",
       "      <td>11312001</td>\n",
       "      <td>201320</td>\n",
       "      <td>0.0</td>\n",
       "      <td>0.0</td>\n",
       "    </tr>\n",
       "    <tr>\n",
       "      <th>4</th>\n",
       "      <td>11312001</td>\n",
       "      <td>201410</td>\n",
       "      <td>1.0</td>\n",
       "      <td>1.0</td>\n",
       "    </tr>\n",
       "  </tbody>\n",
       "</table>\n",
       "</div>"
      ],
      "text/plain": [
       "     CODIGO PERIODO_ACADEMICO  failed_flag  cumulative_failed\n",
       "0  11312001            201210          0.0                0.0\n",
       "1  11312001            201220          0.0                0.0\n",
       "2  11312001            201310          0.0                0.0\n",
       "3  11312001            201320          0.0                0.0\n",
       "4  11312001            201410          1.0                1.0"
      ]
     },
     "execution_count": 40,
     "metadata": {},
     "output_type": "execute_result"
    }
   ],
   "source": [
    "def get_cumulative_failed(df):\n",
    "    df['cumulative_failed'] = 0\n",
    "    \n",
    "    init_cumulative = 0\n",
    "    codigo = 'sw'\n",
    "    for index, row in df.iterrows():\n",
    "        if codigo != df.loc[index, 'CODIGO']:\n",
    "            codigo = df.loc[index, 'CODIGO']\n",
    "            init_cumulative = 0\n",
    "            \n",
    "            df.loc[index, 'cumulative_failed'] = init_cumulative + df.loc[index, 'failed_flag']\n",
    "            init_cumulative = df.loc[index, 'cumulative_failed']\n",
    "        else:\n",
    "            df.loc[index, 'cumulative_failed'] = init_cumulative + row['failed_flag'] \n",
    "            init_cumulative = df.loc[index, 'cumulative_failed']\n",
    "            \n",
    "    return df\n",
    "\n",
    "failed_subjects_df = get_cumulative_failed(failed_subjects_df)\n",
    "failed_subjects_df.head()"
   ]
  },
  {
   "cell_type": "markdown",
   "id": "76b13711",
   "metadata": {},
   "source": [
    "Let's do a similar process with a dataset stored in **'../../data/processed/gpas_grouped_by_student.csv'**. It's like the previous one but this one contains data about number of credits and GPAs per semester. Here we will try to get the cumulative number of credits coursed and the cumulative GPA over the semesters:"
   ]
  },
  {
   "cell_type": "code",
   "execution_count": 44,
   "id": "7f2252de",
   "metadata": {},
   "outputs": [],
   "source": [
    "grouped_df = pd.read_csv('../../data/processed/gpas_grouped_by_student.csv', index_col=0)\n",
    "\n",
    "def get_cumulative_credits(df):\n",
    "    df['cumulative_credits'] = 0\n",
    "    df['cumulative_gpa'] = 0\n",
    "    \n",
    "    init_cumulative = 0\n",
    "    init_gpa = 0\n",
    "    codigo = 'sw'\n",
    "    \n",
    "    for index, row in df.iterrows():\n",
    "        if codigo != df.loc[index, 'CODIGO']:\n",
    "            codigo = df.loc[index, 'CODIGO']\n",
    "            init_cumulative = 0\n",
    "            init_gpa = 0\n",
    "            \n",
    "            df.loc[index, 'cumulative_credits'] = init_cumulative + df.loc[index, 'NUM_CREDITOS']\n",
    "            df.loc[index, 'cumulative_gpa'] = init_gpa + df.loc[index, 'GPA']\n",
    "            \n",
    "            init_cumulative = df.loc[index, 'cumulative_credits']\n",
    "            init_gpa = df.loc[index, 'cumulative_gpa']\n",
    "            \n",
    "        else:\n",
    "            df.loc[index, 'cumulative_credits'] = init_cumulative + row['NUM_CREDITOS']\n",
    "            df.loc[index, 'cumulative_gpa'] = init_gpa + row['GPA']\n",
    "            \n",
    "            \n",
    "            init_cumulative = df.loc[index, 'cumulative_credits']\n",
    "            init_gpa = df.loc[index, 'cumulative_gpa']\n",
    "            \n",
    "    df['real_cumulative_gpa'] = df['cumulative_gpa']/df['cumulative_credits']\n",
    "            \n",
    "    return df\n",
    "\n",
    "num_credits_df = get_cumulative_credits(grouped_df)"
   ]
  },
  {
   "cell_type": "code",
   "execution_count": 47,
   "id": "8559325e",
   "metadata": {},
   "outputs": [
    {
     "data": {
      "text/html": [
       "<div>\n",
       "<style scoped>\n",
       "    .dataframe tbody tr th:only-of-type {\n",
       "        vertical-align: middle;\n",
       "    }\n",
       "\n",
       "    .dataframe tbody tr th {\n",
       "        vertical-align: top;\n",
       "    }\n",
       "\n",
       "    .dataframe thead th {\n",
       "        text-align: right;\n",
       "    }\n",
       "</style>\n",
       "<table border=\"1\" class=\"dataframe\">\n",
       "  <thead>\n",
       "    <tr style=\"text-align: right;\">\n",
       "      <th></th>\n",
       "      <th>CODIGO</th>\n",
       "      <th>PERIODO_ACADEMICO</th>\n",
       "      <th>NUM_CREDITOS</th>\n",
       "      <th>GPA</th>\n",
       "      <th>real_GPA</th>\n",
       "      <th>cumulative_credits</th>\n",
       "      <th>cumulative_gpa</th>\n",
       "      <th>real_cumulative_gpa</th>\n",
       "    </tr>\n",
       "  </thead>\n",
       "  <tbody>\n",
       "    <tr>\n",
       "      <th>0</th>\n",
       "      <td>11312001</td>\n",
       "      <td>201210</td>\n",
       "      <td>15.0</td>\n",
       "      <td>53.7</td>\n",
       "      <td>3.58</td>\n",
       "      <td>15.0</td>\n",
       "      <td>53.7</td>\n",
       "      <td>3.580000</td>\n",
       "    </tr>\n",
       "    <tr>\n",
       "      <th>1</th>\n",
       "      <td>11312001</td>\n",
       "      <td>201220</td>\n",
       "      <td>12.0</td>\n",
       "      <td>47.7</td>\n",
       "      <td>3.98</td>\n",
       "      <td>27.0</td>\n",
       "      <td>101.4</td>\n",
       "      <td>3.755556</td>\n",
       "    </tr>\n",
       "    <tr>\n",
       "      <th>2</th>\n",
       "      <td>11312001</td>\n",
       "      <td>201310</td>\n",
       "      <td>10.0</td>\n",
       "      <td>34.8</td>\n",
       "      <td>3.48</td>\n",
       "      <td>37.0</td>\n",
       "      <td>136.2</td>\n",
       "      <td>3.681081</td>\n",
       "    </tr>\n",
       "    <tr>\n",
       "      <th>3</th>\n",
       "      <td>11312001</td>\n",
       "      <td>201320</td>\n",
       "      <td>16.0</td>\n",
       "      <td>56.4</td>\n",
       "      <td>3.53</td>\n",
       "      <td>53.0</td>\n",
       "      <td>192.6</td>\n",
       "      <td>3.633962</td>\n",
       "    </tr>\n",
       "    <tr>\n",
       "      <th>4</th>\n",
       "      <td>11312001</td>\n",
       "      <td>201410</td>\n",
       "      <td>14.0</td>\n",
       "      <td>46.1</td>\n",
       "      <td>3.29</td>\n",
       "      <td>67.0</td>\n",
       "      <td>238.7</td>\n",
       "      <td>3.562687</td>\n",
       "    </tr>\n",
       "  </tbody>\n",
       "</table>\n",
       "</div>"
      ],
      "text/plain": [
       "     CODIGO  PERIODO_ACADEMICO  NUM_CREDITOS   GPA  real_GPA  \\\n",
       "0  11312001             201210          15.0  53.7      3.58   \n",
       "1  11312001             201220          12.0  47.7      3.98   \n",
       "2  11312001             201310          10.0  34.8      3.48   \n",
       "3  11312001             201320          16.0  56.4      3.53   \n",
       "4  11312001             201410          14.0  46.1      3.29   \n",
       "\n",
       "   cumulative_credits  cumulative_gpa  real_cumulative_gpa  \n",
       "0                15.0            53.7             3.580000  \n",
       "1                27.0           101.4             3.755556  \n",
       "2                37.0           136.2             3.681081  \n",
       "3                53.0           192.6             3.633962  \n",
       "4                67.0           238.7             3.562687  "
      ]
     },
     "execution_count": 47,
     "metadata": {},
     "output_type": "execute_result"
    }
   ],
   "source": [
    "num_credits_df.head(5)"
   ]
  },
  {
   "cell_type": "markdown",
   "id": "5d7fc721",
   "metadata": {},
   "source": [
    "These dataframes will serve us for a later merge on our tidy dataset. So let's leave them here for now.\n",
    "We can now focus on a new dataset called extended_gpas_raw."
   ]
  },
  {
   "cell_type": "markdown",
   "id": "c28bd014",
   "metadata": {},
   "source": [
    "This extended_gpas_raw dataset was generated by the **expand_gpas** notebook and represented each student as n different students where n is the number of semesters coursed as stated in the context.\n",
    "\n",
    "**IMPORTANT**\n",
    "1. The details of how this dataset was constructed are in the same notebook.\n",
    "2. Most of the commented markdowns are the same as the final_dataset notebook since the processes are the same."
   ]
  },
  {
   "cell_type": "code",
   "execution_count": 110,
   "id": "e9e3211d",
   "metadata": {
    "scrolled": true
   },
   "outputs": [],
   "source": [
    "extended_gpas_raw = pd.read_csv('../../data/processed/extended_gpas_raw.xlsx', index_col = 0)\n",
    "extended_gpas_raw = extended_gpas_raw.dropna(subset = ['currrent_semester'])"
   ]
  },
  {
   "cell_type": "markdown",
   "id": "e1f0ab98",
   "metadata": {},
   "source": [
    "**It is not ideal to have one column for each period, but we can still get useful info from this table like the number of semesters and global GPA (we could have gotten this from the table before pivoting but let's do it from here).**\n",
    "\n",
    "**The steps for achieving this are the following:**\n",
    "\n",
    "**- Get the number of semesters coursed as the count of semesters where the GPA > 0.0**\n",
    "- Calculate the credits coursed with a table called \"num_creds\"\n",
    "- Calculate the raw GPA with a table called \"gpas_raw\"\n",
    "- Get the real GPA dividing the raw GPA by the gpas_raw\n",
    "- Get the number of failed subjects**"
   ]
  },
  {
   "cell_type": "code",
   "execution_count": 132,
   "id": "dfc551a4",
   "metadata": {},
   "outputs": [],
   "source": [
    "def get_number_semesters(df):\n",
    "    df['n_semesters']= 0\n",
    "    \n",
    "    for index, row in df.iterrows():\n",
    "        for column in df.columns[0:-1]:\n",
    "            if row[column] > 0:\n",
    "                df.loc[index,'n_semesters'] = df.loc[index,'n_semesters'] + 1\n",
    "                \n",
    "    df['n_semesters'] = [i-2 for i in df['n_semesters']]\n",
    "    try:\n",
    "        df = df.drop('index', axis = 1)\n",
    "    except:\n",
    "        pass\n",
    "    \n",
    "    return df\n",
    "\n",
    "gpas = extended_gpas_raw.reset_index().copy()\n",
    "gpas_n_semester = get_number_semesters(gpas)"
   ]
  },
  {
   "cell_type": "markdown",
   "id": "177412e1",
   "metadata": {},
   "source": [
    "All columns must have the correct data type. let's use our previously defined function again for this: "
   ]
  },
  {
   "cell_type": "code",
   "execution_count": 157,
   "id": "948a0706",
   "metadata": {},
   "outputs": [],
   "source": [
    "gpas_n_semester['currrent_semester'] = gpas_n_semester['currrent_semester'].astype('int')\n",
    "new_cat_cols = ['currrent_semester', 'CODIGO']\n",
    "\n",
    "gpas_n_semester = change_type(gpas_n_semester, cat_cols, 'int64')"
   ]
  },
  {
   "cell_type": "code",
   "execution_count": null,
   "id": "6dee55c1",
   "metadata": {},
   "outputs": [],
   "source": []
  },
  {
   "cell_type": "code",
   "execution_count": null,
   "id": "94bd7980",
   "metadata": {},
   "outputs": [],
   "source": []
  },
  {
   "cell_type": "code",
   "execution_count": null,
   "id": "0cb6aeac",
   "metadata": {},
   "outputs": [],
   "source": []
  },
  {
   "cell_type": "code",
   "execution_count": null,
   "id": "fcce5061",
   "metadata": {},
   "outputs": [],
   "source": []
  },
  {
   "cell_type": "code",
   "execution_count": 158,
   "id": "ed4a3215",
   "metadata": {},
   "outputs": [],
   "source": [
    "gpas_n_semester_lite = gpas_n_semester.iloc[:, 35:]"
   ]
  },
  {
   "cell_type": "code",
   "execution_count": 167,
   "id": "50a6e9e7",
   "metadata": {},
   "outputs": [],
   "source": [
    "left_table = num_credits_df[[\"CODIGO\", 'PERIODO_ACADEMICO', 'cumulative_credits', 'real_cumulative_gpa']]\n",
    "\n",
    "gpas_merge_1 = pd.merge(gpas_n_semester_lite, left_table,\\\n",
    "                how=\"left\", left_on = [\"CODIGO\", 'currrent_semester'], right_on = [\"CODIGO\", 'PERIODO_ACADEMICO']) \n",
    "\n",
    "gpas_merge_1 = gpas_merge_1.drop('currrent_semester', axis = 1)"
   ]
  },
  {
   "cell_type": "code",
   "execution_count": 180,
   "id": "f99511cd",
   "metadata": {},
   "outputs": [],
   "source": [
    "left_table_2 = failed_subjects_df[[\"CODIGO\", 'PERIODO_ACADEMICO', 'cumulative_failed']]\n",
    "left_table_2 = change_type(left_table, list(left_table.columns), 'int64')\n",
    "\n",
    "gpas_merge_2 = pd.merge(gpas_merge_1, left_table_2,\\\n",
    "                how=\"left\", left_on = [\"CODIGO\", 'PERIODO_ACADEMICO'], right_on = [\"CODIGO\", 'PERIODO_ACADEMICO'])"
   ]
  },
  {
   "cell_type": "code",
   "execution_count": 182,
   "id": "5d971716",
   "metadata": {},
   "outputs": [],
   "source": [
    "left_table_3 = num_credits_df.copy()\n",
    "left_table_3 = left_table_3[['CODIGO', 'PERIODO_ACADEMICO', 'real_GPA']]\n",
    "left_table_3.columns = ['CODIGO', 'PERIODO_ACADEMICO', 'gpa_last_semester']\n",
    "\n",
    "gpas_merge_3 = pd.merge(gpas_merge_2, left_table_3,\\\n",
    "                how=\"left\", left_on = ['CODIGO', 'PERIODO_ACADEMICO'], right_on = [\"CODIGO\", 'PERIODO_ACADEMICO'])"
   ]
  },
  {
   "cell_type": "code",
   "execution_count": 185,
   "id": "236c8950",
   "metadata": {},
   "outputs": [
    {
     "data": {
      "text/html": [
       "<div>\n",
       "<style scoped>\n",
       "    .dataframe tbody tr th:only-of-type {\n",
       "        vertical-align: middle;\n",
       "    }\n",
       "\n",
       "    .dataframe tbody tr th {\n",
       "        vertical-align: top;\n",
       "    }\n",
       "\n",
       "    .dataframe thead th {\n",
       "        text-align: right;\n",
       "    }\n",
       "</style>\n",
       "<table border=\"1\" class=\"dataframe\">\n",
       "  <thead>\n",
       "    <tr style=\"text-align: right;\">\n",
       "      <th></th>\n",
       "      <th>CODIGO</th>\n",
       "      <th>n_semesters</th>\n",
       "      <th>PERIODO_ACADEMICO</th>\n",
       "      <th>cumulative_credits</th>\n",
       "      <th>real_cumulative_gpa</th>\n",
       "      <th>cumulative_failed</th>\n",
       "      <th>gpa_last_semester</th>\n",
       "    </tr>\n",
       "  </thead>\n",
       "  <tbody>\n",
       "    <tr>\n",
       "      <th>0</th>\n",
       "      <td>11312001</td>\n",
       "      <td>11</td>\n",
       "      <td>201710</td>\n",
       "      <td>150.0</td>\n",
       "      <td>3.504000</td>\n",
       "      <td>5.0</td>\n",
       "      <td>4.56</td>\n",
       "    </tr>\n",
       "    <tr>\n",
       "      <th>1</th>\n",
       "      <td>11312001</td>\n",
       "      <td>10</td>\n",
       "      <td>201620</td>\n",
       "      <td>136.0</td>\n",
       "      <td>3.395588</td>\n",
       "      <td>5.0</td>\n",
       "      <td>2.58</td>\n",
       "    </tr>\n",
       "    <tr>\n",
       "      <th>2</th>\n",
       "      <td>11312001</td>\n",
       "      <td>9</td>\n",
       "      <td>201610</td>\n",
       "      <td>123.0</td>\n",
       "      <td>3.481301</td>\n",
       "      <td>4.0</td>\n",
       "      <td>3.63</td>\n",
       "    </tr>\n",
       "    <tr>\n",
       "      <th>3</th>\n",
       "      <td>11312001</td>\n",
       "      <td>8</td>\n",
       "      <td>201520</td>\n",
       "      <td>112.0</td>\n",
       "      <td>3.466964</td>\n",
       "      <td>4.0</td>\n",
       "      <td>3.46</td>\n",
       "    </tr>\n",
       "    <tr>\n",
       "      <th>4</th>\n",
       "      <td>11312001</td>\n",
       "      <td>7</td>\n",
       "      <td>201510</td>\n",
       "      <td>98.0</td>\n",
       "      <td>3.467347</td>\n",
       "      <td>4.0</td>\n",
       "      <td>2.87</td>\n",
       "    </tr>\n",
       "  </tbody>\n",
       "</table>\n",
       "</div>"
      ],
      "text/plain": [
       "     CODIGO  n_semesters  PERIODO_ACADEMICO  cumulative_credits  \\\n",
       "0  11312001           11             201710               150.0   \n",
       "1  11312001           10             201620               136.0   \n",
       "2  11312001            9             201610               123.0   \n",
       "3  11312001            8             201520               112.0   \n",
       "4  11312001            7             201510                98.0   \n",
       "\n",
       "   real_cumulative_gpa  cumulative_failed  gpa_last_semester  \n",
       "0             3.504000                5.0               4.56  \n",
       "1             3.395588                5.0               2.58  \n",
       "2             3.481301                4.0               3.63  \n",
       "3             3.466964                4.0               3.46  \n",
       "4             3.467347                4.0               2.87  "
      ]
     },
     "execution_count": 185,
     "metadata": {},
     "output_type": "execute_result"
    }
   ],
   "source": [
    "gpas_merge_3.head(5)"
   ]
  },
  {
   "cell_type": "code",
   "execution_count": null,
   "id": "9fa1e458",
   "metadata": {},
   "outputs": [],
   "source": []
  },
  {
   "cell_type": "code",
   "execution_count": null,
   "id": "fd11d18d",
   "metadata": {},
   "outputs": [],
   "source": []
  },
  {
   "cell_type": "code",
   "execution_count": null,
   "id": "f4df7df6",
   "metadata": {},
   "outputs": [],
   "source": []
  },
  {
   "cell_type": "code",
   "execution_count": null,
   "id": "ce9e2fd0",
   "metadata": {},
   "outputs": [],
   "source": []
  },
  {
   "cell_type": "code",
   "execution_count": 189,
   "id": "c49c1967",
   "metadata": {},
   "outputs": [],
   "source": [
    "perfil_file = '../../data/raw/perfil_ingreso.csv'\n",
    "student_profile = pd.read_csv(perfil_file, delimiter=';', encoding='latin-1')\n",
    "student_profile = change_type(student_profile, ['CODIGO'], 'int')\n",
    "student_profile = student_profile.drop('PERIODO_COHORTE', axis = 1)"
   ]
  },
  {
   "cell_type": "code",
   "execution_count": 190,
   "id": "d6f11acc",
   "metadata": {},
   "outputs": [],
   "source": [
    "extended_with_profile = pd.merge(gpas_merge_3, student_profile, how=\"left\", left_on = \"CODIGO\", right_on = \"CODIGO\")"
   ]
  },
  {
   "cell_type": "code",
   "execution_count": 195,
   "id": "57206527",
   "metadata": {},
   "outputs": [],
   "source": [
    "mean_Age = np.mean(extended_with_profile['EDAD'])\n",
    "extended_with_profile['EDAD'] = extended_with_profile['EDAD'].fillna(mean_Age)"
   ]
  },
  {
   "cell_type": "code",
   "execution_count": null,
   "id": "51cf58b4",
   "metadata": {},
   "outputs": [],
   "source": []
  },
  {
   "cell_type": "code",
   "execution_count": null,
   "id": "948b8ce4",
   "metadata": {},
   "outputs": [],
   "source": []
  },
  {
   "cell_type": "code",
   "execution_count": null,
   "id": "6d1474ba",
   "metadata": {},
   "outputs": [],
   "source": []
  },
  {
   "cell_type": "code",
   "execution_count": null,
   "id": "517136fa",
   "metadata": {},
   "outputs": [],
   "source": []
  },
  {
   "cell_type": "code",
   "execution_count": 207,
   "id": "f23b84b4",
   "metadata": {},
   "outputs": [],
   "source": [
    "complete_student_performance_file = '../../data/processed/complete_student_performance.csv'\n",
    "complete_student_performance = pd.read_csv(complete_student_performance_file, index_col=0 )\n",
    "\n",
    "\n",
    "cat_cols = ['PERIODO_COHORTE', 'PERIODO_ACADEMICO', 'CODIGO', 'COD_MAT']\n",
    "num_cols = ['NOTA_DEF']\n",
    "\n",
    "complete_student_performance = change_type(complete_student_performance, cat_cols, 'str')\n",
    "complete_student_performance = change_type(complete_student_performance, num_cols, 'float')\n",
    "\n",
    "complete_student_performance[['FACULTAD','NOMBRE_PROGRAMA']] = \\\n",
    "                    complete_student_performance[['FACULTAD','NOMBRE_PROGRAMA']].fillna('GENERAL')\n",
    "complete_student_performance[['INTRODUCCION']] = complete_student_performance[['INTRODUCCION']].fillna('NO')\n",
    "complete_student_performance[['NUM_CREDITOS']] = complete_student_performance[['NUM_CREDITOS']].fillna(2)\n",
    "complete_student_performance[['COD_DOCENTE']] = complete_student_performance[['COD_DOCENTE']].fillna(-1)\n",
    "\n",
    "\n",
    "\n",
    "\n",
    "program = complete_student_performance.copy()\n",
    "program = program[program['INTRODUCCION']=='SI']\n",
    "program = program.groupby(['CODIGO'])['FACULTAD','NOMBRE_PROGRAMA'].agg(lambda x:x.value_counts().index[0]).reset_index()\n",
    "program['CODIGO'] = program['CODIGO'].astype('int64')\n",
    "\n",
    "extended_with_program = pd.merge(extended_with_profile, program, how=\"left\", left_on = \"CODIGO\", right_on = \"CODIGO\")\n",
    "extended_with_program = extended_with_program.dropna()"
   ]
  },
  {
   "cell_type": "code",
   "execution_count": 210,
   "id": "c23a97af",
   "metadata": {},
   "outputs": [
    {
     "data": {
      "text/plain": [
       "<matplotlib.axes._subplots.AxesSubplot at 0x2563aeba860>"
      ]
     },
     "execution_count": 210,
     "metadata": {},
     "output_type": "execute_result"
    },
    {
     "data": {
      "image/png": "[encoded data removed]",
      "text/plain": [
       "<Figure size 792x648 with 2 Axes>"
      ]
     },
     "metadata": {
      "needs_background": "light"
     },
     "output_type": "display_data"
    }
   ],
   "source": [
    "to_drop = ['FACULTAD', 'NOMBRE_PROGRAMA', 'GENERO', 'COLEGIO_PROCEDENCIA', 'ES_DESERTOR', 'CODIGO']\n",
    "df_correlation = extended_with_program.drop(to_drop, axis = 1).corr()\n",
    "\n",
    "mask = np.triu(np.ones_like(df_correlation, dtype=bool))\n",
    "f, ax = plt.subplots(figsize=(11, 9))\n",
    "\n",
    "cmap = sns.diverging_palette(230, 20, as_cmap=True)\n",
    "\n",
    "sns.heatmap(df_correlation, mask=mask, cmap=cmap, vmax=1, center=0,\n",
    "            square=True, linewidths=.5, cbar_kws={\"shrink\": .5}, annot=True)"
   ]
  },
  {
   "cell_type": "code",
   "execution_count": null,
   "id": "12b9adb7",
   "metadata": {},
   "outputs": [],
   "source": []
  },
  {
   "cell_type": "code",
   "execution_count": null,
   "id": "e0d07a21",
   "metadata": {},
   "outputs": [],
   "source": []
  },
  {
   "cell_type": "code",
   "execution_count": null,
   "id": "3ac9ab5a",
   "metadata": {},
   "outputs": [],
   "source": []
  },
  {
   "cell_type": "code",
   "execution_count": null,
   "id": "502f1e08",
   "metadata": {},
   "outputs": [],
   "source": []
  },
  {
   "cell_type": "code",
   "execution_count": null,
   "id": "3e011694",
   "metadata": {},
   "outputs": [],
   "source": []
  },
  {
   "cell_type": "code",
   "execution_count": null,
   "id": "dbba12fb",
   "metadata": {},
   "outputs": [],
   "source": []
  },
  {
   "cell_type": "code",
   "execution_count": 211,
   "id": "80f163cc",
   "metadata": {},
   "outputs": [],
   "source": [
    "# Import LabelEncoder\n",
    "from sklearn.preprocessing import LabelEncoder\n",
    "\n",
    "to_dummies = ['FACULTAD', 'NOMBRE_PROGRAMA', 'GENERO', 'COLEGIO_PROCEDENCIA', 'ES_DESERTOR']\n",
    "\n",
    "gpas_dummy = pd.get_dummies(extended_with_program.drop(['CODIGO'], axis = 1), drop_first = True)"
   ]
  },
  {
   "cell_type": "code",
   "execution_count": 212,
   "id": "50aeeb01",
   "metadata": {},
   "outputs": [],
   "source": [
    "from sklearn.metrics import accuracy_score\n",
    "from sklearn.model_selection import train_test_split\n",
    "from sklearn.linear_model import LogisticRegression\n",
    "from sklearn.tree import DecisionTreeClassifier\n",
    "from sklearn.neighbors import KNeighborsClassifier as KNN\n",
    "from sklearn.ensemble import VotingClassifier\n",
    "from sklearn.ensemble import RandomForestClassifier\n",
    "from sklearn.ensemble import AdaBoostClassifier\n",
    "from sklearn import svm\n",
    "#Import ROC AUC score\n",
    "from sklearn.metrics import roc_auc_score\n",
    "from sklearn.metrics import plot_roc_curve\n",
    "\n",
    "SEED = 1111\n",
    "lr = LogisticRegression(random_state = SEED)\n",
    "knn = KNN(n_neighbors = 6)\n",
    "dt = DecisionTreeClassifier(criterion = 'gini', random_state = SEED, max_depth = round(len(gpas_dummy)**(1/2)))\n",
    "rfc = RandomForestClassifier(n_estimators = 500 , min_samples_leaf = 0.12, random_state =SEED)\n",
    "ada = AdaBoostClassifier(base_estimator=dt, n_estimators=100, random_state=1)\n",
    "supvm = svm.SVC()"
   ]
  },
  {
   "cell_type": "code",
   "execution_count": 213,
   "id": "91e9d86d",
   "metadata": {},
   "outputs": [],
   "source": [
    "df_desertor = gpas_dummy[gpas_dummy['ES_DESERTOR_SI'] == 1]\n",
    "df_no_desertor = gpas_dummy[gpas_dummy['ES_DESERTOR_SI'] == 0]\n",
    "\n",
    "df_no_desertor = df_no_desertor.sample(n=len(df_desertor))\n",
    "\n",
    "df_new = pd.concat([df_desertor, df_no_desertor])\n",
    "df_new = df_new.sample(frac=1)"
   ]
  },
  {
   "cell_type": "code",
   "execution_count": 214,
   "id": "5fbc91ef",
   "metadata": {},
   "outputs": [],
   "source": [
    "y1 = df_new['ES_DESERTOR_SI'].values\n",
    "X1 = df_new.drop('ES_DESERTOR_SI', axis = 1).values\n",
    "X1_train, X1_test, y1_train, y1_test = train_test_split(X1, y1, test_size = 0.26, random_state = SEED, stratify = y1)\n",
    "\n",
    "classifiers =[('Logistic Regression', lr), ('K Nearest Neighbors', knn),\\\n",
    "              ('Classification Tree', dt), ('Random Forest', rfc), ('Ada Boost', ada)]\n",
    "\n",
    "vc = VotingClassifier(estimators = classifiers)"
   ]
  },
  {
   "cell_type": "code",
   "execution_count": null,
   "id": "7c6357c8",
   "metadata": {},
   "outputs": [],
   "source": [
    "for clf_name, clf in classifiers:\n",
    "    clf.fit(X1_train, y1_train)\n",
    "    y1_pred = clf.predict(X1_test)\n",
    "    \n",
    "    y_pred_proba = clf.predict_proba(X1_test)[:,1]\n",
    "    roc_score = roc_auc_score(y1_test, y_pred_proba)\n",
    "    \n",
    "    print('{:s} accuracy: {:.3f}'.format(clf_name, accuracy_score(y1_test, y1_pred)))\n",
    "    print('{:s} ROC score: {:.3f}'.format(clf_name, roc_score))\n",
    "    print('')\n",
    "    \n",
    "#vc.fit(X1_train, y1_train)\n",
    "#supvm.fit(X1_train, y1_train)\n",
    "#y1_predVC = vc.predict(X1_test)\n",
    "#y1_predSVM = supvm.predict(X1_test)\n",
    "#print('Voting Classifier accuracy: {:.3f}'.format(accuracy_score(y1_test, y1_predVC)))\n",
    "#print('Support Vector Machine accuracy: {:.3f}'.format(accuracy_score(y1_test, y1_predSVM)))"
   ]
  },
  {
   "cell_type": "code",
   "execution_count": null,
   "id": "45ea7b3b",
   "metadata": {},
   "outputs": [],
   "source": []
  },
  {
   "cell_type": "code",
   "execution_count": null,
   "id": "3498c074",
   "metadata": {},
   "outputs": [],
   "source": [
    "sns.set()\n",
    "fig, axes = plt.subplots(2, 3, figsize = (20,12))\n",
    "idxs = [axes[0,0], axes[0,1], axes[0,2], axes[1,0], axes[1,1]]\n",
    "\n",
    "for (clf_name, clf), idx in zip(classifiers, idxs):\n",
    "    #clf.fit(X1_train, y1_train)\n",
    "    plot_roc_curve(clf, X1_test, y1_test, ax = idx)"
   ]
  }
 ],
 "metadata": {
  "kernelspec": {
   "display_name": "Python 3",
   "language": "python",
   "name": "python3"
  },
  "language_info": {
   "codemirror_mode": {
    "name": "ipython",
    "version": 3
   },
   "file_extension": ".py",
   "mimetype": "text/x-python",
   "name": "python",
   "nbconvert_exporter": "python",
   "pygments_lexer": "ipython3",
   "version": "3.7.3"
  }
 },
 "nbformat": 4,
 "nbformat_minor": 5
}
