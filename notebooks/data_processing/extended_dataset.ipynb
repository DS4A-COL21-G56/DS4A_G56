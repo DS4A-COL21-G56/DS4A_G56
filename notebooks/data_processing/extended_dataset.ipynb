{
 "cells": [
  {
   "cell_type": "markdown",
   "id": "9feb9801",
   "metadata": {},
   "source": [
    "# Defining a final DataSet\n",
    "\n",
    "## Goal:\n",
    "Recreate the final_dataset.ipynb\n",
    "\n",
    "## Context:\n",
    "Recreate the final_dataset, but each student will be considered as n-students where n is the number of semesters coursed. As an example, consider the student with ID 42. This student has been in the university for six semesters.\n",
    "We will consider student 42 as six students: Student 42 from 1st semester, student 42 from 2nd semester, student 42 from 3rd semester, ... and student 42 from 6th semester.\n",
    "\n",
    "This will allow the model to capture the behaviour of both dropout and non-dropout students in the early stages of their academic lives.\n",
    " "
   ]
  },
  {
   "cell_type": "markdown",
   "id": "033e0019",
   "metadata": {},
   "source": [
    "### Academic background\n",
    "- **colegio**\n",
    "- **puntaje icfes**\n",
    "- **edad ingreso**\n",
    "- **icfes puntaje especifico**\n",
    "- **especialidad colegio icfes**\n",
    "- **carrera matriculada**\n",
    "- **Facultad**\n",
    "- **genero**\n",
    "\n",
    "### Academic performance\n",
    "- **semestres cursados a la fecha** DONE\n",
    "- **promedio academico a la fecha**\n",
    "- **promedio ultimo semestre** DONE\n",
    "- **Materias perdidas** DONE\n",
    "- ~~**Materias cursadas**~~\n",
    "- **Creditos cursados** DONE\n",
    "\n",
    "All the features regarding academic performance will be affected by this approach!"
   ]
  },
  {
   "cell_type": "code",
   "execution_count": 1,
   "id": "ac634ce6",
   "metadata": {},
   "outputs": [],
   "source": [
    "#Import libraries\n",
    "import pandas as pd\n",
    "import numpy as np\n",
    "import matplotlib.pyplot as plt\n",
    "import seaborn as sns\n",
    "import matplotlib.ticker as mtick\n",
    "from datetime import datetime\n",
    "import math\n",
    "pd.set_option(\"display.max_columns\", None)"
   ]
  },
  {
   "cell_type": "markdown",
   "id": "ef938bdc",
   "metadata": {},
   "source": [
    "We will start from two known files:\n",
    "1. complete_student_performance\n",
    "2. gpas_raw\n",
    "\n",
    "These two files were originated from the final_dataset notebook. The first one has info for every subject that each student has coursed. The second one contains the GPAs for all students for each semester in a tidy format."
   ]
  },
  {
   "cell_type": "code",
   "execution_count": 2,
   "id": "79cb9e7c",
   "metadata": {},
   "outputs": [],
   "source": [
    "# Select the files\n",
    "complete_student_performance_file = '../../data/processed/complete_student_performance.csv'\n",
    "gpas_raw = '../../data/processed/gpas_raw.csv'\n",
    "\n",
    "gpas_raw_df = pd.read_csv(gpas_raw, index_col=0).reset_index()\n",
    "student_performance = pd.read_csv(complete_student_performance_file, index_col=0)"
   ]
  },
  {
   "cell_type": "markdown",
   "id": "daa629fb",
   "metadata": {},
   "source": [
    "The following function is already known from other notebooks and helps convert columns data types.\n",
    "\n",
    "We will use this function to adjust the columns data types for the student_performance DataFrame:"
   ]
  },
  {
   "cell_type": "code",
   "execution_count": 3,
   "id": "5bf6f2e0",
   "metadata": {},
   "outputs": [],
   "source": [
    "def change_type(df, cols, as_type):\n",
    "    ''' \n",
    "    Takes a DataFrame and a list of columns and transform those columns to the selected format.\n",
    "              \n",
    "        Parameters\n",
    "        ----------\n",
    "        df: pandas.core.frame.DataFrame\n",
    "            A pandas DataFrame where the columns will be converted into the desired format.\n",
    "            \n",
    "        cols: list\n",
    "            A list with the name of the columns that will be converted into the desired format.\n",
    "            \n",
    "        as_type: {'str', 'float', 'int'}\n",
    "            A list with the name of the columns that will be converted into the desired format.\n",
    "            \n",
    "        Returns\n",
    "        -------\n",
    "        dataframe: pandas.core.frame.DataFrame\n",
    "            A DataFrame with the selected columsn converted into the desired format.\n",
    "    ''' \n",
    "    if (as_type == 'str') or (as_type == 'int'):\n",
    "        for col in cols:\n",
    "            try:\n",
    "                df[col] = df[col].astype(as_type)\n",
    "            except: pass\n",
    "        return df\n",
    "    else:\n",
    "        for col in cols:\n",
    "            try:\n",
    "                df[col] = df[col].str.replace(',','.')\n",
    "                df[col] = df[col].astype('float64')\n",
    "            except: pass\n",
    "        return df"
   ]
  },
  {
   "cell_type": "code",
   "execution_count": 4,
   "id": "3c8db18f",
   "metadata": {},
   "outputs": [],
   "source": [
    "cat_cols = ['PERIODO_COHORTE', 'PERIODO_ACADEMICO', 'CODIGO', 'COD_MAT']\n",
    "num_cols = ['NOTA_DEF']\n",
    "\n",
    "student_performance = change_type(student_performance, cat_cols, 'str')\n",
    "student_performance = change_type(student_performance, num_cols, 'float')\n"
   ]
  },
  {
   "cell_type": "markdown",
   "id": "ab5d8cd7",
   "metadata": {},
   "source": [
    "Let's create a new column boolean for the student_performance DataFrame that indicates whether a subject was or was not failed. Then, we can group that DataFrame by student's ID and period, adding the values of the new column:"
   ]
  },
  {
   "cell_type": "code",
   "execution_count": 39,
   "id": "146a0c44",
   "metadata": {},
   "outputs": [],
   "source": [
    "student_performance['failed_flag'] = [True if i < 3 else False for i in student_performance['NOTA_DEF']]\n",
    "failed_subjects_df = student_performance.groupby(['CODIGO','PERIODO_ACADEMICO'])[['failed_flag']].sum().reset_index()"
   ]
  },
  {
   "cell_type": "markdown",
   "id": "135aa9a7",
   "metadata": {},
   "source": [
    "Let's now create a copy of the same dataset but now the failed_flag column will be cumulative for each student:"
   ]
  },
  {
   "cell_type": "code",
   "execution_count": 40,
   "id": "c341bf63",
   "metadata": {},
   "outputs": [
    {
     "data": {
      "text/html": [
       "<div>\n",
       "<style scoped>\n",
       "    .dataframe tbody tr th:only-of-type {\n",
       "        vertical-align: middle;\n",
       "    }\n",
       "\n",
       "    .dataframe tbody tr th {\n",
       "        vertical-align: top;\n",
       "    }\n",
       "\n",
       "    .dataframe thead th {\n",
       "        text-align: right;\n",
       "    }\n",
       "</style>\n",
       "<table border=\"1\" class=\"dataframe\">\n",
       "  <thead>\n",
       "    <tr style=\"text-align: right;\">\n",
       "      <th></th>\n",
       "      <th>CODIGO</th>\n",
       "      <th>PERIODO_ACADEMICO</th>\n",
       "      <th>failed_flag</th>\n",
       "      <th>cumulative_failed</th>\n",
       "    </tr>\n",
       "  </thead>\n",
       "  <tbody>\n",
       "    <tr>\n",
       "      <th>0</th>\n",
       "      <td>11312001</td>\n",
       "      <td>201210</td>\n",
       "      <td>0.0</td>\n",
       "      <td>0.0</td>\n",
       "    </tr>\n",
       "    <tr>\n",
       "      <th>1</th>\n",
       "      <td>11312001</td>\n",
       "      <td>201220</td>\n",
       "      <td>0.0</td>\n",
       "      <td>0.0</td>\n",
       "    </tr>\n",
       "    <tr>\n",
       "      <th>2</th>\n",
       "      <td>11312001</td>\n",
       "      <td>201310</td>\n",
       "      <td>0.0</td>\n",
       "      <td>0.0</td>\n",
       "    </tr>\n",
       "    <tr>\n",
       "      <th>3</th>\n",
       "      <td>11312001</td>\n",
       "      <td>201320</td>\n",
       "      <td>0.0</td>\n",
       "      <td>0.0</td>\n",
       "    </tr>\n",
       "    <tr>\n",
       "      <th>4</th>\n",
       "      <td>11312001</td>\n",
       "      <td>201410</td>\n",
       "      <td>1.0</td>\n",
       "      <td>1.0</td>\n",
       "    </tr>\n",
       "  </tbody>\n",
       "</table>\n",
       "</div>"
      ],
      "text/plain": [
       "     CODIGO PERIODO_ACADEMICO  failed_flag  cumulative_failed\n",
       "0  11312001            201210          0.0                0.0\n",
       "1  11312001            201220          0.0                0.0\n",
       "2  11312001            201310          0.0                0.0\n",
       "3  11312001            201320          0.0                0.0\n",
       "4  11312001            201410          1.0                1.0"
      ]
     },
     "execution_count": 40,
     "metadata": {},
     "output_type": "execute_result"
    }
   ],
   "source": [
    "def get_cumulative_failed(df):\n",
    "    df['cumulative_failed'] = 0\n",
    "    \n",
    "    init_cumulative = 0\n",
    "    codigo = 'sw'\n",
    "    for index, row in df.iterrows():\n",
    "        if codigo != df.loc[index, 'CODIGO']:\n",
    "            codigo = df.loc[index, 'CODIGO']\n",
    "            init_cumulative = 0\n",
    "            \n",
    "            df.loc[index, 'cumulative_failed'] = init_cumulative + df.loc[index, 'failed_flag']\n",
    "            init_cumulative = df.loc[index, 'cumulative_failed']\n",
    "        else:\n",
    "            df.loc[index, 'cumulative_failed'] = init_cumulative + row['failed_flag'] \n",
    "            init_cumulative = df.loc[index, 'cumulative_failed']\n",
    "            \n",
    "    return df\n",
    "\n",
    "failed_subjects_df = get_cumulative_failed(failed_subjects_df)\n",
    "failed_subjects_df.head()"
   ]
  },
  {
   "cell_type": "markdown",
   "id": "ec4cebc9",
   "metadata": {},
   "source": [
    "Let's do a similar process with a dataset stored in **'../../data/processed/gpas_grouped_by_student.csv'**. It's like the previous one but this one contains data about number of credits and GPAs per semester. Here we will try to get the cumulative number of credits coursed and the cumulative GPA over the semesters:"
   ]
  },
  {
   "cell_type": "code",
   "execution_count": 44,
   "id": "64d78ae0",
   "metadata": {},
   "outputs": [],
   "source": [
    "grouped_df = pd.read_csv('../../data/processed/gpas_grouped_by_student.csv', index_col=0)\n",
    "\n",
    "def get_cumulative_credits(df):\n",
    "    df['cumulative_credits'] = 0\n",
    "    df['cumulative_gpa'] = 0\n",
    "    \n",
    "    init_cumulative = 0\n",
    "    init_gpa = 0\n",
    "    codigo = 'sw'\n",
    "    \n",
    "    for index, row in df.iterrows():\n",
    "        if codigo != df.loc[index, 'CODIGO']:\n",
    "            codigo = df.loc[index, 'CODIGO']\n",
    "            init_cumulative = 0\n",
    "            init_gpa = 0\n",
    "            \n",
    "            df.loc[index, 'cumulative_credits'] = init_cumulative + df.loc[index, 'NUM_CREDITOS']\n",
    "            df.loc[index, 'cumulative_gpa'] = init_gpa + df.loc[index, 'GPA']\n",
    "            \n",
    "            init_cumulative = df.loc[index, 'cumulative_credits']\n",
    "            init_gpa = df.loc[index, 'cumulative_gpa']\n",
    "            \n",
    "        else:\n",
    "            df.loc[index, 'cumulative_credits'] = init_cumulative + row['NUM_CREDITOS']\n",
    "            df.loc[index, 'cumulative_gpa'] = init_gpa + row['GPA']\n",
    "            \n",
    "            \n",
    "            init_cumulative = df.loc[index, 'cumulative_credits']\n",
    "            init_gpa = df.loc[index, 'cumulative_gpa']\n",
    "            \n",
    "    df['real_cumulative_gpa'] = df['cumulative_gpa']/df['cumulative_credits']\n",
    "            \n",
    "    return df\n",
    "\n",
    "num_credits_df = get_cumulative_credits(grouped_df)"
   ]
  },
  {
   "cell_type": "code",
   "execution_count": 47,
   "id": "bf3e2633",
   "metadata": {},
   "outputs": [
    {
     "data": {
      "text/html": [
       "<div>\n",
       "<style scoped>\n",
       "    .dataframe tbody tr th:only-of-type {\n",
       "        vertical-align: middle;\n",
       "    }\n",
       "\n",
       "    .dataframe tbody tr th {\n",
       "        vertical-align: top;\n",
       "    }\n",
       "\n",
       "    .dataframe thead th {\n",
       "        text-align: right;\n",
       "    }\n",
       "</style>\n",
       "<table border=\"1\" class=\"dataframe\">\n",
       "  <thead>\n",
       "    <tr style=\"text-align: right;\">\n",
       "      <th></th>\n",
       "      <th>CODIGO</th>\n",
       "      <th>PERIODO_ACADEMICO</th>\n",
       "      <th>NUM_CREDITOS</th>\n",
       "      <th>GPA</th>\n",
       "      <th>real_GPA</th>\n",
       "      <th>cumulative_credits</th>\n",
       "      <th>cumulative_gpa</th>\n",
       "      <th>real_cumulative_gpa</th>\n",
       "    </tr>\n",
       "  </thead>\n",
       "  <tbody>\n",
       "    <tr>\n",
       "      <th>0</th>\n",
       "      <td>11312001</td>\n",
       "      <td>201210</td>\n",
       "      <td>15.0</td>\n",
       "      <td>53.7</td>\n",
       "      <td>3.58</td>\n",
       "      <td>15.0</td>\n",
       "      <td>53.7</td>\n",
       "      <td>3.580000</td>\n",
       "    </tr>\n",
       "    <tr>\n",
       "      <th>1</th>\n",
       "      <td>11312001</td>\n",
       "      <td>201220</td>\n",
       "      <td>12.0</td>\n",
       "      <td>47.7</td>\n",
       "      <td>3.98</td>\n",
       "      <td>27.0</td>\n",
       "      <td>101.4</td>\n",
       "      <td>3.755556</td>\n",
       "    </tr>\n",
       "    <tr>\n",
       "      <th>2</th>\n",
       "      <td>11312001</td>\n",
       "      <td>201310</td>\n",
       "      <td>10.0</td>\n",
       "      <td>34.8</td>\n",
       "      <td>3.48</td>\n",
       "      <td>37.0</td>\n",
       "      <td>136.2</td>\n",
       "      <td>3.681081</td>\n",
       "    </tr>\n",
       "    <tr>\n",
       "      <th>3</th>\n",
       "      <td>11312001</td>\n",
       "      <td>201320</td>\n",
       "      <td>16.0</td>\n",
       "      <td>56.4</td>\n",
       "      <td>3.53</td>\n",
       "      <td>53.0</td>\n",
       "      <td>192.6</td>\n",
       "      <td>3.633962</td>\n",
       "    </tr>\n",
       "    <tr>\n",
       "      <th>4</th>\n",
       "      <td>11312001</td>\n",
       "      <td>201410</td>\n",
       "      <td>14.0</td>\n",
       "      <td>46.1</td>\n",
       "      <td>3.29</td>\n",
       "      <td>67.0</td>\n",
       "      <td>238.7</td>\n",
       "      <td>3.562687</td>\n",
       "    </tr>\n",
       "  </tbody>\n",
       "</table>\n",
       "</div>"
      ],
      "text/plain": [
       "     CODIGO  PERIODO_ACADEMICO  NUM_CREDITOS   GPA  real_GPA  \\\n",
       "0  11312001             201210          15.0  53.7      3.58   \n",
       "1  11312001             201220          12.0  47.7      3.98   \n",
       "2  11312001             201310          10.0  34.8      3.48   \n",
       "3  11312001             201320          16.0  56.4      3.53   \n",
       "4  11312001             201410          14.0  46.1      3.29   \n",
       "\n",
       "   cumulative_credits  cumulative_gpa  real_cumulative_gpa  \n",
       "0                15.0            53.7             3.580000  \n",
       "1                27.0           101.4             3.755556  \n",
       "2                37.0           136.2             3.681081  \n",
       "3                53.0           192.6             3.633962  \n",
       "4                67.0           238.7             3.562687  "
      ]
     },
     "execution_count": 47,
     "metadata": {},
     "output_type": "execute_result"
    }
   ],
   "source": [
    "num_credits_df.head(5)"
   ]
  },
  {
   "cell_type": "markdown",
   "id": "92552f6f",
   "metadata": {},
   "source": [
    "These dataframes will serve us for a later merge on our tidy dataset. So let's leave them here for now.\n",
    "We can now focus on a new dataset called extended_gpas_raw."
   ]
  },
  {
   "cell_type": "markdown",
   "id": "c28bd014",
   "metadata": {},
   "source": [
    "This extended_gpas_raw dataset was generated by the **expand_gpas** notebook and represented each student as n different students where n is the number of semesters coursed as stated in the context.\n",
    "\n",
    "**IMPORTANT**\n",
    "1. The details of how this dataset was constructed are in the same notebook.\n",
    "2. Most of the commented markdowns are the same as the final_dataset notebook since the processes are the same."
   ]
  },
  {
   "cell_type": "code",
   "execution_count": 49,
   "id": "a2317c9b",
   "metadata": {},
   "outputs": [],
   "source": [
    "#extended_gpas_raw = pd.read_csv('extended_gpas_raw.xlsx')"
   ]
  },
  {
   "cell_type": "markdown",
   "id": "e1f0ab98",
   "metadata": {},
   "source": [
    "It is not ideal to have one column for each period, but we can still get useful info from this table like the number of semesters and global GPA (we could have gotten this from the table before pivoting but let's do it from here).\n",
    "\n",
    "The steps for achieving this are the following:\n",
    "\n",
    "- Get the number of semesters coursed as the count of semesters where the GPA > 0.0\n",
    "- Calculate the credits coursed with a table called \"num_creds\"\n",
    "- Calculate the raw GPA with a table called \"gpas_raw\"\n",
    "- Get the real GPA dividing the raw GPA by the gpas_raw\n",
    "- Get the number of failed subjects"
   ]
  },
  {
   "cell_type": "code",
   "execution_count": null,
   "id": "102f9b53",
   "metadata": {},
   "outputs": [],
   "source": [
    "# Getting the number of semesters:\n",
    "gpas = extended_gpas_raw.copy()\n",
    "gpas['n_semesters']= 0\n",
    "for index, row in gpas.iterrows():\n",
    "    for column in gpas.columns[0:-1]:\n",
    "        if row[column] > 0:\n",
    "            gpas.loc[index,'n_semesters'] = gpas.loc[index,'n_semesters'] + 1"
   ]
  },
  {
   "cell_type": "code",
   "execution_count": null,
   "id": "2f47cff9",
   "metadata": {},
   "outputs": [],
   "source": [
    "# Getting the number of credits per semesters as a new table called num_creds\n",
    "num_creds = pd.pivot_table(grouped_df,values='NUM_CREDITOS',index=['CODIGO'],columns=['PERIODO_ACADEMICO'],aggfunc=np.sum)\n",
    "num_creds['sum_credits']= 0\n",
    "for index, row in num_creds.iterrows():\n",
    "    for column in num_creds.columns[0:-1]:\n",
    "        if row[column] > 0:\n",
    "            num_creds.loc[index,'sum_credits'] = num_creds.loc[index,'sum_credits'] + row[column]\n",
    "\n",
    "# Getting the raw GPA per semester as a new table called gpas_raw\n",
    "gpas_raw = pd.pivot_table(grouped_df, values='GPA', index=['CODIGO'], columns=['PERIODO_ACADEMICO'], aggfunc=np.sum)\n",
    "gpas_raw['sum_gpa']= 0\n",
    "for index, row in gpas_raw.iterrows():\n",
    "    for column in gpas_raw.columns[0:-1]:\n",
    "        if row[column] > 0:\n",
    "            gpas_raw.loc[index,'sum_gpa'] = gpas_raw.loc[index,'sum_gpa'] + row[column]\n",
    "            \n",
    "gpas = pd.merge(gpas, num_creds[['sum_credits']], how=\"left\", left_on = \"CODIGO\", right_on = \"CODIGO\") \n",
    "gpas['GPA'] = np.array(gpas_raw['sum_gpa'])/np.array(num_creds['sum_credits'])"
   ]
  }
 ],
 "metadata": {
  "kernelspec": {
   "display_name": "Python 3",
   "language": "python",
   "name": "python3"
  },
  "language_info": {
   "codemirror_mode": {
    "name": "ipython",
    "version": 3
   },
   "file_extension": ".py",
   "mimetype": "text/x-python",
   "name": "python",
   "nbconvert_exporter": "python",
   "pygments_lexer": "ipython3",
   "version": "3.7.3"
  }
 },
 "nbformat": 4,
 "nbformat_minor": 5
}
